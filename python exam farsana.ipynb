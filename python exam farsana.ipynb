{
 "cells": [
  {
   "cell_type": "code",
   "execution_count": 64,
   "id": "168c5636-28cf-4a9b-b2c0-2d0e6476e2ab",
   "metadata": {},
   "outputs": [
    {
     "name": "stdin",
     "output_type": "stream",
     "text": [
      "firstname farsana\n"
     ]
    }
   ],
   "source": [
    "#1\n",
    "first=input('firstname')"
   ]
  },
  {
   "cell_type": "code",
   "execution_count": 65,
   "id": "70885828-e09b-4411-bc14-3becaa9334c6",
   "metadata": {},
   "outputs": [
    {
     "name": "stdin",
     "output_type": "stream",
     "text": [
      "last name ashiq\n"
     ]
    }
   ],
   "source": [
    "last=input('last name')"
   ]
  },
  {
   "cell_type": "code",
   "execution_count": 67,
   "id": "84c4bfae-d2bf-4444-b891-3f114578eabe",
   "metadata": {},
   "outputs": [
    {
     "name": "stdout",
     "output_type": "stream",
     "text": [
      "ashiq farsana\n"
     ]
    }
   ],
   "source": [
    "print(last,first)"
   ]
  },
  {
   "cell_type": "code",
   "execution_count": null,
   "id": "77720db0-6bec-46ee-967b-d48da3a26309",
   "metadata": {},
   "outputs": [],
   "source": []
  },
  {
   "cell_type": "code",
   "execution_count": 222,
   "id": "00a80201-a8e5-471a-9e5e-5c0926e4e6fc",
   "metadata": {},
   "outputs": [
    {
     "name": "stdin",
     "output_type": "stream",
     "text": [
      "data 5\n"
     ]
    }
   ],
   "source": [
    "#3\n",
    "n=input('data')"
   ]
  },
  {
   "cell_type": "code",
   "execution_count": 228,
   "id": "f4a221d0-0fc0-4437-8995-352d89ec00fd",
   "metadata": {},
   "outputs": [],
   "source": [
    "sum=int(n)+int(n+n)+int(n+n+n)"
   ]
  },
  {
   "cell_type": "code",
   "execution_count": 229,
   "id": "0bc88973-96a0-4695-9e23-45f864c9419a",
   "metadata": {},
   "outputs": [
    {
     "name": "stdout",
     "output_type": "stream",
     "text": [
      "result: 615\n"
     ]
    }
   ],
   "source": [
    "print('result:',sum)"
   ]
  },
  {
   "cell_type": "code",
   "execution_count": 99,
   "id": "3f449289-01d1-4952-b614-ee3769fd7cb8",
   "metadata": {},
   "outputs": [],
   "source": [
    "#4"
   ]
  },
  {
   "cell_type": "code",
   "execution_count": 118,
   "id": "de5ec5ce-ec83-4680-9446-1b5ae89fdce3",
   "metadata": {},
   "outputs": [],
   "source": [
    "def farsana(a,b,c):\n",
    "    sum=a+b+c\n",
    "    if a==b==c:\n",
    "        sum=a*3\n",
    "    return sum"
   ]
  },
  {
   "cell_type": "code",
   "execution_count": 119,
   "id": "cb21a8f2-c981-446c-8b22-ee24f4b691ac",
   "metadata": {},
   "outputs": [
    {
     "name": "stdout",
     "output_type": "stream",
     "text": [
      "6\n"
     ]
    }
   ],
   "source": [
    "print(farsana(1,2,3))"
   ]
  },
  {
   "cell_type": "code",
   "execution_count": 89,
   "id": "1549e792-80c6-4d3f-905a-de2ea02671b8",
   "metadata": {},
   "outputs": [],
   "source": [
    "#6\n",
    "num=[386,462,47,418,907,344,236,375,823,566,597,978,328,615,953,345,399,162,758,219,918,237,412,566,826]"
   ]
  },
  {
   "cell_type": "code",
   "execution_count": 59,
   "id": "1d516785-7d92-4802-aa48-4129b7a9c06e",
   "metadata": {},
   "outputs": [],
   "source": [
    "num2=[]"
   ]
  },
  {
   "cell_type": "code",
   "execution_count": 60,
   "id": "9ac7feaf-6c1b-49ae-b6e9-39f6bb89c1d2",
   "metadata": {},
   "outputs": [
    {
     "name": "stdout",
     "output_type": "stream",
     "text": [
      "[386, 462, 418, 344, 236, 566, 978, 328, 162, 758, 918]\n"
     ]
    }
   ],
   "source": [
    "for value in num:\n",
    "    if value==237:\n",
    "         break\n",
    "    elif value%2==0:\n",
    "        num2.append(value)\n",
    "print(num2)\n",
    "        "
   ]
  },
  {
   "cell_type": "code",
   "execution_count": 146,
   "id": "048d4226-ac1c-4aa1-881e-f2fd42a5cef7",
   "metadata": {},
   "outputs": [
    {
     "name": "stdin",
     "output_type": "stream",
     "text": [
      "data ASSAssdsd\n"
     ]
    }
   ],
   "source": [
    "#14\n",
    "i=input('data')"
   ]
  },
  {
   "cell_type": "code",
   "execution_count": 113,
   "id": "2ec2d675-a1c5-4e31-8a6b-84bbaaf7dab4",
   "metadata": {},
   "outputs": [],
   "source": [
    "def farsana(a):\n",
    "    upper=0\n",
    "    lower=0\n",
    "    for value in i:\n",
    "        if value.isupper():\n",
    "            upper=upper+1\n",
    "        else:\n",
    "            lower=lower+1\n",
    "    return upper,lower\n",
    "    "
   ]
  },
  {
   "cell_type": "code",
   "execution_count": 114,
   "id": "c4c10f3f-a35b-4993-b70d-c2a5037964c1",
   "metadata": {},
   "outputs": [
    {
     "data": {
      "text/plain": [
       "(4, 5)"
      ]
     },
     "execution_count": 114,
     "metadata": {},
     "output_type": "execute_result"
    }
   ],
   "source": [
    "farsana(i)"
   ]
  },
  {
   "cell_type": "code",
   "execution_count": 124,
   "id": "bf65c4f7-8aa5-4832-834a-e2669ef4f0dd",
   "metadata": {},
   "outputs": [],
   "source": [
    "#15\n",
    "x=30"
   ]
  },
  {
   "cell_type": "code",
   "execution_count": 125,
   "id": "72c89aee-5b2b-469e-b3cd-e8951f2ef505",
   "metadata": {},
   "outputs": [],
   "source": [
    "y=20"
   ]
  },
  {
   "cell_type": "code",
   "execution_count": 136,
   "id": "5a3b2249-1c11-4b88-9831-4b1f4c4a9f94",
   "metadata": {},
   "outputs": [],
   "source": [
    "list3=[30,20]"
   ]
  },
  {
   "cell_type": "code",
   "execution_count": 137,
   "id": "08307437-5414-44a4-8edd-454fea1b6151",
   "metadata": {},
   "outputs": [],
   "source": [
    "def anu(x,y):\n",
    "    return x+y"
   ]
  },
  {
   "cell_type": "code",
   "execution_count": 138,
   "id": "df1b370e-75b8-464b-a70e-e1b75229ffa7",
   "metadata": {},
   "outputs": [],
   "source": [
    "import functools"
   ]
  },
  {
   "cell_type": "code",
   "execution_count": 140,
   "id": "2b1c686f-2e66-4ea3-8880-5326f2f99eff",
   "metadata": {},
   "outputs": [
    {
     "name": "stdout",
     "output_type": "stream",
     "text": [
      "50\n"
     ]
    }
   ],
   "source": [
    "print(functools.reduce(lambda x,y:x+y,list3))"
   ]
  },
  {
   "cell_type": "code",
   "execution_count": 176,
   "id": "56abef04-a5d8-4f89-92f8-1561bde142e2",
   "metadata": {},
   "outputs": [
    {
     "name": "stdout",
     "output_type": "stream",
     "text": [
      "      \n",
      "     * \n",
      "    * * \n",
      "   * * * \n",
      "  * * * * \n",
      " * * * * * \n"
     ]
    }
   ],
   "source": [
    "#22\n",
    "for row in range(0,6):\n",
    "    for col in range(6,row,-1):\n",
    "        print(' ',end='')\n",
    "    for col in range(0,row):\n",
    "        print('* ',end='')\n",
    "    print('')\n",
    "    "
   ]
  },
  {
   "cell_type": "code",
   "execution_count": 177,
   "id": "386dd3dd-0552-4126-a1bc-b85b16691402",
   "metadata": {},
   "outputs": [],
   "source": [
    "#21\n",
    "list1=[1,2,3,4,5,6]"
   ]
  },
  {
   "cell_type": "code",
   "execution_count": 178,
   "id": "6f13d204-b4e9-43be-bd90-5059f8f7bee5",
   "metadata": {},
   "outputs": [],
   "source": [
    "import functools"
   ]
  },
  {
   "cell_type": "code",
   "execution_count": 179,
   "id": "d35c3e32-ae7f-4eb1-abd3-041a9a4a0b7e",
   "metadata": {},
   "outputs": [],
   "source": [
    "def anu(a):\n",
    "    return a+b\n"
   ]
  },
  {
   "cell_type": "code",
   "execution_count": 180,
   "id": "d2d49d46-8bdb-4f28-8efc-74690934a1ec",
   "metadata": {},
   "outputs": [
    {
     "name": "stdout",
     "output_type": "stream",
     "text": [
      "6\n"
     ]
    }
   ],
   "source": [
    "print(functools.reduce(lambda a,b:a if a>b else b,list1))"
   ]
  },
  {
   "cell_type": "code",
   "execution_count": 183,
   "id": "68ac1582-868f-4a68-9c68-56c4259a6423",
   "metadata": {},
   "outputs": [
    {
     "name": "stdout",
     "output_type": "stream",
     "text": [
      "1\n"
     ]
    }
   ],
   "source": [
    "print(functools.reduce(lambda a,b: a if a<b else b,list1))"
   ]
  },
  {
   "cell_type": "code",
   "execution_count": 113,
   "id": "40061ae3-e842-47bd-be7e-c24ffa77f6cf",
   "metadata": {},
   "outputs": [
    {
     "name": "stdin",
     "output_type": "stream",
     "text": [
      "data 11\n"
     ]
    }
   ],
   "source": [
    "#13\n",
    "i=int(input('data'))"
   ]
  },
  {
   "cell_type": "code",
   "execution_count": 114,
   "id": "0f43ec03-7d28-4cd5-8e0f-0fbe9afa88c1",
   "metadata": {},
   "outputs": [],
   "source": [
    "sum=0"
   ]
  },
  {
   "cell_type": "code",
   "execution_count": 117,
   "id": "5edc09d6-5bec-4b14-99d9-53f1bb8cdf05",
   "metadata": {},
   "outputs": [
    {
     "name": "stdout",
     "output_type": "stream",
     "text": [
      "0\n",
      "1\n"
     ]
    }
   ],
   "source": [
    "for value in range( len(str(i))):\n",
    "    sum=sum+value\n",
    "    print(sum)"
   ]
  },
  {
   "cell_type": "code",
   "execution_count": 5,
   "id": "253e4477-3217-416f-bcbd-9d9a4183f000",
   "metadata": {},
   "outputs": [],
   "source": [
    "#5\n",
    "def farsana(a,b):\n",
    "    for value in a:\n",
    "        b==value\n",
    "        return True\n",
    "    return False"
   ]
  },
  {
   "cell_type": "code",
   "execution_count": 6,
   "id": "fa03636e-8834-44e4-a635-d165ab9c4487",
   "metadata": {},
   "outputs": [
    {
     "name": "stdout",
     "output_type": "stream",
     "text": [
      "True\n"
     ]
    }
   ],
   "source": [
    "print(farsana([1,5,8,3],3))"
   ]
  },
  {
   "cell_type": "code",
   "execution_count": 7,
   "id": "46ed8f27-237f-4988-b5a8-d320434d48bc",
   "metadata": {},
   "outputs": [
    {
     "name": "stdout",
     "output_type": "stream",
     "text": [
      "True\n"
     ]
    }
   ],
   "source": [
    "print(farsana([1,5,8,3],-1))"
   ]
  },
  {
   "cell_type": "code",
   "execution_count": 10,
   "id": "14671ec6-152b-47ee-bab5-081ffedbc321",
   "metadata": {},
   "outputs": [
    {
     "name": "stdin",
     "output_type": "stream",
     "text": [
      "data 12\n"
     ]
    }
   ],
   "source": [
    "#17\n",
    "a=int(input('data'))"
   ]
  },
  {
   "cell_type": "code",
   "execution_count": 11,
   "id": "ac7f4e49-aa06-443d-9eb8-0023d91a39dc",
   "metadata": {},
   "outputs": [
    {
     "name": "stdin",
     "output_type": "stream",
     "text": [
      "data 24\n"
     ]
    }
   ],
   "source": [
    "b=int(input('data'))"
   ]
  },
  {
   "cell_type": "code",
   "execution_count": 13,
   "id": "04814b95-b726-433f-974b-7733f75933bf",
   "metadata": {},
   "outputs": [
    {
     "name": "stdout",
     "output_type": "stream",
     "text": [
      "enter data before swapping: 12\n",
      "enter data before swapping: 24\n"
     ]
    }
   ],
   "source": [
    "print(\"enter data before swapping:\",a)\n",
    "print(\"enter data before swapping:\",b)"
   ]
  },
  {
   "cell_type": "code",
   "execution_count": 15,
   "id": "ecc8920d-a6a4-44ab-ac84-da7a2c2b48a7",
   "metadata": {},
   "outputs": [],
   "source": [
    "c=a\n",
    "a=b\n",
    "b=c"
   ]
  },
  {
   "cell_type": "code",
   "execution_count": 16,
   "id": "00b2fd2e-a937-402d-8bbb-f9e4968208e3",
   "metadata": {},
   "outputs": [
    {
     "name": "stdout",
     "output_type": "stream",
     "text": [
      "enter data after swapping: 24\n",
      "enter data after swapping: 12\n"
     ]
    }
   ],
   "source": [
    "print(\"enter data after swapping:\",a)\n",
    "print(\"enter data after swapping:\",b)"
   ]
  },
  {
   "cell_type": "code",
   "execution_count": 23,
   "id": "4875dc92-2123-4264-82f0-13513d321634",
   "metadata": {},
   "outputs": [],
   "source": [
    "#2\n",
    "import os"
   ]
  },
  {
   "cell_type": "code",
   "execution_count": 25,
   "id": "679e1f80-b5b8-4e54-bfce-7ddefbe51119",
   "metadata": {},
   "outputs": [
    {
     "data": {
      "text/plain": [
       "'C:\\\\Users\\\\USER'"
      ]
     },
     "execution_count": 25,
     "metadata": {},
     "output_type": "execute_result"
    }
   ],
   "source": [
    "os.getcwd()"
   ]
  },
  {
   "cell_type": "code",
   "execution_count": 130,
   "id": "940b09b2-5891-497b-a7b2-9a2a5bcecc81",
   "metadata": {},
   "outputs": [],
   "source": [
    "filename,fileextension=os.path.splitext(r\"C:\\Users\\USER.os\")"
   ]
  },
  {
   "cell_type": "code",
   "execution_count": 131,
   "id": "72ee0877-41f4-486a-94c9-46088c7e3ba2",
   "metadata": {},
   "outputs": [
    {
     "name": "stdout",
     "output_type": "stream",
     "text": [
      "C:\\Users\\USER\n"
     ]
    }
   ],
   "source": [
    "print(filename)"
   ]
  },
  {
   "cell_type": "code",
   "execution_count": 132,
   "id": "1f4c105d-8a44-434f-9a7e-573946afa765",
   "metadata": {},
   "outputs": [
    {
     "name": "stdout",
     "output_type": "stream",
     "text": [
      ".os\n"
     ]
    }
   ],
   "source": [
    "print(fileextension)"
   ]
  },
  {
   "cell_type": "code",
   "execution_count": 2,
   "id": "ed1453a4-7ff0-440c-9e09-bba751f06771",
   "metadata": {},
   "outputs": [
    {
     "name": "stdout",
     "output_type": "stream",
     "text": [
      "\"this is a string\"\n",
      "\"10\"\n"
     ]
    }
   ],
   "source": [
    "#20\n",
    "print('\"this is a string\"')\n",
    "a='\"10\"'\n",
    "print(a)"
   ]
  },
  {
   "cell_type": "code",
   "execution_count": 62,
   "id": "3f01a26c-bb3f-44f0-8f03-313bec282ef4",
   "metadata": {},
   "outputs": [
    {
     "name": "stdin",
     "output_type": "stream",
     "text": [
      "enter data 10\n"
     ]
    }
   ],
   "source": [
    "#16\n",
    "i=int(input(\"enter data\"))"
   ]
  },
  {
   "cell_type": "code",
   "execution_count": 63,
   "id": "956131a4-4565-46bb-9617-7141226d9c85",
   "metadata": {},
   "outputs": [
    {
     "name": "stdout",
     "output_type": "stream",
     "text": [
      "do nothing\n"
     ]
    }
   ],
   "source": [
    "if i==1:\n",
    "    print(\"first day of month\")\n",
    "else:\n",
    "    print(\"do nothing\")"
   ]
  },
  {
   "cell_type": "code",
   "execution_count": 168,
   "id": "3235fadf-2323-43f2-817a-ef8fd413fa40",
   "metadata": {},
   "outputs": [],
   "source": [
    "#18\n",
    "list1=[1,2,3,4]"
   ]
  },
  {
   "cell_type": "code",
   "execution_count": 176,
   "id": "955035b3-46a1-4e20-b9bf-0192b8e35740",
   "metadata": {},
   "outputs": [],
   "source": [
    "def farsana(a,b):\n",
    "    return a+b"
   ]
  },
  {
   "cell_type": "code",
   "execution_count": 177,
   "id": "650938c1-80fc-43b2-adbb-d0ada2dbc385",
   "metadata": {},
   "outputs": [],
   "source": [
    "import functools"
   ]
  },
  {
   "cell_type": "code",
   "execution_count": 178,
   "id": "1ec3ed81-8529-4da8-8c2f-2bac3ccd80bf",
   "metadata": {},
   "outputs": [
    {
     "name": "stdout",
     "output_type": "stream",
     "text": [
      "10\n"
     ]
    }
   ],
   "source": [
    "print(functools.reduce(lambda a,b:a+b,list1))"
   ]
  },
  {
   "cell_type": "code",
   "execution_count": 173,
   "id": "8e59f32f-f69c-4378-af2e-5dafb4449c37",
   "metadata": {},
   "outputs": [],
   "source": [
    "#19\n",
    "a=\"100\"\n",
    "b=\"100\""
   ]
  },
  {
   "cell_type": "code",
   "execution_count": 174,
   "id": "553a180d-0f9e-4b6a-b0ca-a38f419587a2",
   "metadata": {},
   "outputs": [
    {
     "data": {
      "text/plain": [
       "2345830029264"
      ]
     },
     "execution_count": 174,
     "metadata": {},
     "output_type": "execute_result"
    }
   ],
   "source": [
    "id(a)"
   ]
  },
  {
   "cell_type": "code",
   "execution_count": 175,
   "id": "9e7b4109-6e24-4e07-98d4-84f70ec8494b",
   "metadata": {},
   "outputs": [
    {
     "data": {
      "text/plain": [
       "2345830029264"
      ]
     },
     "execution_count": 175,
     "metadata": {},
     "output_type": "execute_result"
    }
   ],
   "source": [
    "id(b)"
   ]
  },
  {
   "cell_type": "code",
   "execution_count": 182,
   "id": "61829848-9fd7-4b6c-9bdd-1dcb15506b99",
   "metadata": {},
   "outputs": [
    {
     "name": "stdout",
     "output_type": "stream",
     "text": [
      "same\n"
     ]
    }
   ],
   "source": [
    "if a==b:\n",
    "    print('same')\n",
    "else:\n",
    "    print('different')"
   ]
  },
  {
   "cell_type": "code",
   "execution_count": null,
   "id": "5ee6fa2d-81a8-4162-a4c9-67c2513c93f1",
   "metadata": {},
   "outputs": [],
   "source": []
  }
 ],
 "metadata": {
  "kernelspec": {
   "display_name": "Python 3 (ipykernel)",
   "language": "python",
   "name": "python3"
  },
  "language_info": {
   "codemirror_mode": {
    "name": "ipython",
    "version": 3
   },
   "file_extension": ".py",
   "mimetype": "text/x-python",
   "name": "python",
   "nbconvert_exporter": "python",
   "pygments_lexer": "ipython3",
   "version": "3.12.4"
  }
 },
 "nbformat": 4,
 "nbformat_minor": 5
}
