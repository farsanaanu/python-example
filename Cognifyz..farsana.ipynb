{
 "cells": [
  {
   "cell_type": "markdown",
   "id": "ccebc700-96cf-4b9d-bf78-77cbc97c8657",
   "metadata": {},
   "source": [
    "# LEVEL1\n",
    "### TASK1:TOP CUISINES"
   ]
  },
  {
   "cell_type": "markdown",
   "id": "50adc4a0-79b2-4a94-856a-1b14d1502e6e",
   "metadata": {},
   "source": [
    "#### import all essential libraries"
   ]
  },
  {
   "cell_type": "code",
   "execution_count": 1,
   "id": "cb2d2fa0-23dd-4dfc-877a-b5f44139d526",
   "metadata": {},
   "outputs": [],
   "source": [
    "import pandas as pd\n",
    "import numpy as np\n",
    "import matplotlib.pyplot as plt\n",
    "import seaborn as sns"
   ]
  },
  {
   "cell_type": "markdown",
   "id": "6ad50fdb-660d-497f-8be0-5b312524c238",
   "metadata": {},
   "source": [
    "#### import the Dataset"
   ]
  },
  {
   "cell_type": "code",
   "execution_count": 2,
   "id": "ae893e45-638a-442e-a6f2-87a318d8ae59",
   "metadata": {},
   "outputs": [],
   "source": [
    "df=pd.read_csv(r'C:\\Users\\Lenovo\\Downloads\\Dataset .csv')"
   ]
  },
  {
   "cell_type": "code",
   "execution_count": 7,
   "id": "9730f555-66da-4db7-bfda-d914e8c200ec",
   "metadata": {},
   "outputs": [
    {
     "data": {
      "text/html": [
       "<div>\n",
       "<style scoped>\n",
       "    .dataframe tbody tr th:only-of-type {\n",
       "        vertical-align: middle;\n",
       "    }\n",
       "\n",
       "    .dataframe tbody tr th {\n",
       "        vertical-align: top;\n",
       "    }\n",
       "\n",
       "    .dataframe thead th {\n",
       "        text-align: right;\n",
       "    }\n",
       "</style>\n",
       "<table border=\"1\" class=\"dataframe\">\n",
       "  <thead>\n",
       "    <tr style=\"text-align: right;\">\n",
       "      <th></th>\n",
       "      <th>Restaurant ID</th>\n",
       "      <th>Restaurant Name</th>\n",
       "      <th>Country Code</th>\n",
       "      <th>City</th>\n",
       "      <th>Address</th>\n",
       "      <th>Locality</th>\n",
       "      <th>Locality Verbose</th>\n",
       "      <th>Longitude</th>\n",
       "      <th>Latitude</th>\n",
       "      <th>Cuisines</th>\n",
       "      <th>...</th>\n",
       "      <th>Currency</th>\n",
       "      <th>Has Table booking</th>\n",
       "      <th>Has Online delivery</th>\n",
       "      <th>Is delivering now</th>\n",
       "      <th>Switch to order menu</th>\n",
       "      <th>Price range</th>\n",
       "      <th>Aggregate rating</th>\n",
       "      <th>Rating color</th>\n",
       "      <th>Rating text</th>\n",
       "      <th>Votes</th>\n",
       "    </tr>\n",
       "  </thead>\n",
       "  <tbody>\n",
       "    <tr>\n",
       "      <th>0</th>\n",
       "      <td>6317637</td>\n",
       "      <td>Le Petit Souffle</td>\n",
       "      <td>162</td>\n",
       "      <td>Makati City</td>\n",
       "      <td>Third Floor, Century City Mall, Kalayaan Avenu...</td>\n",
       "      <td>Century City Mall, Poblacion, Makati City</td>\n",
       "      <td>Century City Mall, Poblacion, Makati City, Mak...</td>\n",
       "      <td>121.027535</td>\n",
       "      <td>14.565443</td>\n",
       "      <td>French, Japanese, Desserts</td>\n",
       "      <td>...</td>\n",
       "      <td>Botswana Pula(P)</td>\n",
       "      <td>Yes</td>\n",
       "      <td>No</td>\n",
       "      <td>No</td>\n",
       "      <td>No</td>\n",
       "      <td>3</td>\n",
       "      <td>4.8</td>\n",
       "      <td>Dark Green</td>\n",
       "      <td>Excellent</td>\n",
       "      <td>314</td>\n",
       "    </tr>\n",
       "    <tr>\n",
       "      <th>1</th>\n",
       "      <td>6304287</td>\n",
       "      <td>Izakaya Kikufuji</td>\n",
       "      <td>162</td>\n",
       "      <td>Makati City</td>\n",
       "      <td>Little Tokyo, 2277 Chino Roces Avenue, Legaspi...</td>\n",
       "      <td>Little Tokyo, Legaspi Village, Makati City</td>\n",
       "      <td>Little Tokyo, Legaspi Village, Makati City, Ma...</td>\n",
       "      <td>121.014101</td>\n",
       "      <td>14.553708</td>\n",
       "      <td>Japanese</td>\n",
       "      <td>...</td>\n",
       "      <td>Botswana Pula(P)</td>\n",
       "      <td>Yes</td>\n",
       "      <td>No</td>\n",
       "      <td>No</td>\n",
       "      <td>No</td>\n",
       "      <td>3</td>\n",
       "      <td>4.5</td>\n",
       "      <td>Dark Green</td>\n",
       "      <td>Excellent</td>\n",
       "      <td>591</td>\n",
       "    </tr>\n",
       "    <tr>\n",
       "      <th>2</th>\n",
       "      <td>6300002</td>\n",
       "      <td>Heat - Edsa Shangri-La</td>\n",
       "      <td>162</td>\n",
       "      <td>Mandaluyong City</td>\n",
       "      <td>Edsa Shangri-La, 1 Garden Way, Ortigas, Mandal...</td>\n",
       "      <td>Edsa Shangri-La, Ortigas, Mandaluyong City</td>\n",
       "      <td>Edsa Shangri-La, Ortigas, Mandaluyong City, Ma...</td>\n",
       "      <td>121.056831</td>\n",
       "      <td>14.581404</td>\n",
       "      <td>Seafood, Asian, Filipino, Indian</td>\n",
       "      <td>...</td>\n",
       "      <td>Botswana Pula(P)</td>\n",
       "      <td>Yes</td>\n",
       "      <td>No</td>\n",
       "      <td>No</td>\n",
       "      <td>No</td>\n",
       "      <td>4</td>\n",
       "      <td>4.4</td>\n",
       "      <td>Green</td>\n",
       "      <td>Very Good</td>\n",
       "      <td>270</td>\n",
       "    </tr>\n",
       "    <tr>\n",
       "      <th>3</th>\n",
       "      <td>6318506</td>\n",
       "      <td>Ooma</td>\n",
       "      <td>162</td>\n",
       "      <td>Mandaluyong City</td>\n",
       "      <td>Third Floor, Mega Fashion Hall, SM Megamall, O...</td>\n",
       "      <td>SM Megamall, Ortigas, Mandaluyong City</td>\n",
       "      <td>SM Megamall, Ortigas, Mandaluyong City, Mandal...</td>\n",
       "      <td>121.056475</td>\n",
       "      <td>14.585318</td>\n",
       "      <td>Japanese, Sushi</td>\n",
       "      <td>...</td>\n",
       "      <td>Botswana Pula(P)</td>\n",
       "      <td>No</td>\n",
       "      <td>No</td>\n",
       "      <td>No</td>\n",
       "      <td>No</td>\n",
       "      <td>4</td>\n",
       "      <td>4.9</td>\n",
       "      <td>Dark Green</td>\n",
       "      <td>Excellent</td>\n",
       "      <td>365</td>\n",
       "    </tr>\n",
       "    <tr>\n",
       "      <th>4</th>\n",
       "      <td>6314302</td>\n",
       "      <td>Sambo Kojin</td>\n",
       "      <td>162</td>\n",
       "      <td>Mandaluyong City</td>\n",
       "      <td>Third Floor, Mega Atrium, SM Megamall, Ortigas...</td>\n",
       "      <td>SM Megamall, Ortigas, Mandaluyong City</td>\n",
       "      <td>SM Megamall, Ortigas, Mandaluyong City, Mandal...</td>\n",
       "      <td>121.057508</td>\n",
       "      <td>14.584450</td>\n",
       "      <td>Japanese, Korean</td>\n",
       "      <td>...</td>\n",
       "      <td>Botswana Pula(P)</td>\n",
       "      <td>Yes</td>\n",
       "      <td>No</td>\n",
       "      <td>No</td>\n",
       "      <td>No</td>\n",
       "      <td>4</td>\n",
       "      <td>4.8</td>\n",
       "      <td>Dark Green</td>\n",
       "      <td>Excellent</td>\n",
       "      <td>229</td>\n",
       "    </tr>\n",
       "  </tbody>\n",
       "</table>\n",
       "<p>5 rows × 21 columns</p>\n",
       "</div>"
      ],
      "text/plain": [
       "   Restaurant ID         Restaurant Name  Country Code              City  \\\n",
       "0        6317637        Le Petit Souffle           162       Makati City   \n",
       "1        6304287        Izakaya Kikufuji           162       Makati City   \n",
       "2        6300002  Heat - Edsa Shangri-La           162  Mandaluyong City   \n",
       "3        6318506                    Ooma           162  Mandaluyong City   \n",
       "4        6314302             Sambo Kojin           162  Mandaluyong City   \n",
       "\n",
       "                                             Address  \\\n",
       "0  Third Floor, Century City Mall, Kalayaan Avenu...   \n",
       "1  Little Tokyo, 2277 Chino Roces Avenue, Legaspi...   \n",
       "2  Edsa Shangri-La, 1 Garden Way, Ortigas, Mandal...   \n",
       "3  Third Floor, Mega Fashion Hall, SM Megamall, O...   \n",
       "4  Third Floor, Mega Atrium, SM Megamall, Ortigas...   \n",
       "\n",
       "                                     Locality  \\\n",
       "0   Century City Mall, Poblacion, Makati City   \n",
       "1  Little Tokyo, Legaspi Village, Makati City   \n",
       "2  Edsa Shangri-La, Ortigas, Mandaluyong City   \n",
       "3      SM Megamall, Ortigas, Mandaluyong City   \n",
       "4      SM Megamall, Ortigas, Mandaluyong City   \n",
       "\n",
       "                                    Locality Verbose   Longitude   Latitude  \\\n",
       "0  Century City Mall, Poblacion, Makati City, Mak...  121.027535  14.565443   \n",
       "1  Little Tokyo, Legaspi Village, Makati City, Ma...  121.014101  14.553708   \n",
       "2  Edsa Shangri-La, Ortigas, Mandaluyong City, Ma...  121.056831  14.581404   \n",
       "3  SM Megamall, Ortigas, Mandaluyong City, Mandal...  121.056475  14.585318   \n",
       "4  SM Megamall, Ortigas, Mandaluyong City, Mandal...  121.057508  14.584450   \n",
       "\n",
       "                           Cuisines  ...          Currency Has Table booking  \\\n",
       "0        French, Japanese, Desserts  ...  Botswana Pula(P)               Yes   \n",
       "1                          Japanese  ...  Botswana Pula(P)               Yes   \n",
       "2  Seafood, Asian, Filipino, Indian  ...  Botswana Pula(P)               Yes   \n",
       "3                   Japanese, Sushi  ...  Botswana Pula(P)                No   \n",
       "4                  Japanese, Korean  ...  Botswana Pula(P)               Yes   \n",
       "\n",
       "  Has Online delivery Is delivering now Switch to order menu Price range  \\\n",
       "0                  No                No                   No           3   \n",
       "1                  No                No                   No           3   \n",
       "2                  No                No                   No           4   \n",
       "3                  No                No                   No           4   \n",
       "4                  No                No                   No           4   \n",
       "\n",
       "   Aggregate rating  Rating color Rating text Votes  \n",
       "0               4.8    Dark Green   Excellent   314  \n",
       "1               4.5    Dark Green   Excellent   591  \n",
       "2               4.4         Green   Very Good   270  \n",
       "3               4.9    Dark Green   Excellent   365  \n",
       "4               4.8    Dark Green   Excellent   229  \n",
       "\n",
       "[5 rows x 21 columns]"
      ]
     },
     "execution_count": 7,
     "metadata": {},
     "output_type": "execute_result"
    }
   ],
   "source": [
    "df.head()"
   ]
  },
  {
   "cell_type": "markdown",
   "id": "af3d5c9b-90d8-4570-a10d-7e2da9d957a1",
   "metadata": {},
   "source": [
    "#### view all cuisine counts"
   ]
  },
  {
   "cell_type": "code",
   "execution_count": 13,
   "id": "def9390c-0ac7-4892-bd1c-89ef0a216863",
   "metadata": {},
   "outputs": [],
   "source": [
    "cuisines_counts=df.value_counts('Cuisines')"
   ]
  },
  {
   "cell_type": "code",
   "execution_count": 15,
   "id": "5fc8657b-e970-48eb-9724-15fb480aa7e3",
   "metadata": {},
   "outputs": [
    {
     "data": {
      "text/plain": [
       "Cuisines\n",
       "North Indian                                             936\n",
       "North Indian, Chinese                                    511\n",
       "Chinese                                                  354\n",
       "Fast Food                                                354\n",
       "North Indian, Mughlai                                    334\n",
       "                                                        ... \n",
       "Continental, Italian, North Indian, Lebanese, Thai         1\n",
       "Continental, Italian, North Indian, Lebanese               1\n",
       "Continental, Italian, North Indian, Chinese, Lebanese      1\n",
       "Continental, Italian, North Indian, Chinese                1\n",
       "World Cuisine, Patisserie, Cafe                            1\n",
       "Name: count, Length: 1825, dtype: int64"
      ]
     },
     "execution_count": 15,
     "metadata": {},
     "output_type": "execute_result"
    }
   ],
   "source": [
    "cuisines_counts"
   ]
  },
  {
   "cell_type": "markdown",
   "id": "501b32b6-ff59-4784-8ff6-99452cab54e5",
   "metadata": {},
   "source": [
    "#### check top cuisines"
   ]
  },
  {
   "cell_type": "code",
   "execution_count": 17,
   "id": "410c3de1-7b50-4b13-add6-77e7979f1363",
   "metadata": {},
   "outputs": [],
   "source": [
    "top_3_cuisines=cuisines_counts.head(3)"
   ]
  },
  {
   "cell_type": "code",
   "execution_count": 19,
   "id": "dfd711af-8409-4d7e-9b70-42e6d895c6f7",
   "metadata": {},
   "outputs": [
    {
     "data": {
      "text/plain": [
       "Cuisines\n",
       "North Indian             936\n",
       "North Indian, Chinese    511\n",
       "Chinese                  354\n",
       "Name: count, dtype: int64"
      ]
     },
     "execution_count": 19,
     "metadata": {},
     "output_type": "execute_result"
    }
   ],
   "source": [
    "top_3_cuisines"
   ]
  },
  {
   "cell_type": "code",
   "execution_count": 21,
   "id": "44c29080-14a6-4af7-8dc8-11f5aa908d69",
   "metadata": {},
   "outputs": [],
   "source": [
    "total_restaurants=len(df)"
   ]
  },
  {
   "cell_type": "code",
   "execution_count": 25,
   "id": "81bdcfec-f3e7-4046-a087-05c419f179bf",
   "metadata": {},
   "outputs": [
    {
     "data": {
      "text/plain": [
       "9551"
      ]
     },
     "execution_count": 25,
     "metadata": {},
     "output_type": "execute_result"
    }
   ],
   "source": [
    "total_restaurants"
   ]
  },
  {
   "cell_type": "code",
   "execution_count": 27,
   "id": "7212c714-2606-4671-acdc-f91fef3d4674",
   "metadata": {},
   "outputs": [],
   "source": [
    "cuisine_percent=(top_3_cuisines/total_restaurants)*100"
   ]
  },
  {
   "cell_type": "code",
   "execution_count": 29,
   "id": "35f72be0-1f13-43c4-b615-205f07374c0c",
   "metadata": {},
   "outputs": [
    {
     "data": {
      "text/plain": [
       "Cuisines\n",
       "North Indian             9.800021\n",
       "North Indian, Chinese    5.350225\n",
       "Chinese                  3.706418\n",
       "Name: count, dtype: float64"
      ]
     },
     "execution_count": 29,
     "metadata": {},
     "output_type": "execute_result"
    }
   ],
   "source": [
    "cuisine_percent"
   ]
  },
  {
   "cell_type": "markdown",
   "id": "1e8a2f4d-759a-4e58-b174-3347739af868",
   "metadata": {},
   "source": [
    "#### Top 3 most common cuisines"
   ]
  },
  {
   "cell_type": "code",
   "execution_count": 35,
   "id": "2b30fde1-1ba3-46c5-8918-c0d356d50cf5",
   "metadata": {},
   "outputs": [
    {
     "name": "stdout",
     "output_type": "stream",
     "text": [
      "Top 3 Most Common Cuisines and their Percentages:\n",
      "North Indian:936restaurants(9.80%)\n",
      "North Indian, Chinese:511restaurants(5.35%)\n",
      "Chinese:354restaurants(3.71%)\n"
     ]
    }
   ],
   "source": [
    "print('Top 3 Most Common Cuisines and their Percentages:')\n",
    "for cuisine,count in top_3_cuisines.items():\n",
    "    percent=cuisine_percent[cuisine]\n",
    "    print(f'{cuisine}:{count}restaurants({percent:.2f}%)')"
   ]
  },
  {
   "cell_type": "markdown",
   "id": "8dacec8f-6814-488b-9ddd-219c848d9642",
   "metadata": {},
   "source": [
    "# LEVEL1\n",
    "### Task2:CITY ANALYSIS"
   ]
  },
  {
   "cell_type": "markdown",
   "id": "90407c8a-e357-4d8b-ad38-cf3dc809972c",
   "metadata": {},
   "source": [
    "#### view city counts"
   ]
  },
  {
   "cell_type": "code",
   "execution_count": 6,
   "id": "1619c535-6466-4a35-ba4d-2a31b7e85182",
   "metadata": {},
   "outputs": [],
   "source": [
    "city_counts=df['City'].value_counts()"
   ]
  },
  {
   "cell_type": "code",
   "execution_count": 8,
   "id": "ed0fc640-eb31-430d-a984-a40a7fb4d217",
   "metadata": {},
   "outputs": [
    {
     "data": {
      "text/plain": [
       "City\n",
       "New Delhi           5473\n",
       "Gurgaon             1118\n",
       "Noida               1080\n",
       "Faridabad            251\n",
       "Ghaziabad             25\n",
       "                    ... \n",
       "Panchkula              1\n",
       "Mc Millan              1\n",
       "Mayfield               1\n",
       "Macedon                1\n",
       "Vineland Station       1\n",
       "Name: count, Length: 141, dtype: int64"
      ]
     },
     "execution_count": 8,
     "metadata": {},
     "output_type": "execute_result"
    }
   ],
   "source": [
    "city_counts"
   ]
  },
  {
   "cell_type": "markdown",
   "id": "be0be3a7-75aa-4122-b133-f2dee86eaee4",
   "metadata": {},
   "source": [
    "#### city with highest no.of restaurants"
   ]
  },
  {
   "cell_type": "code",
   "execution_count": 10,
   "id": "e1f5e8a4-e535-4ace-a455-df2a0c04aacd",
   "metadata": {},
   "outputs": [],
   "source": [
    "city_with_highest_restaurant=city_counts.idxmax()"
   ]
  },
  {
   "cell_type": "code",
   "execution_count": 12,
   "id": "25350f00-4e5e-4a98-adeb-e8f424fa7273",
   "metadata": {},
   "outputs": [
    {
     "data": {
      "text/plain": [
       "'New Delhi'"
      ]
     },
     "execution_count": 12,
     "metadata": {},
     "output_type": "execute_result"
    }
   ],
   "source": [
    "city_with_highest_restaurant"
   ]
  },
  {
   "cell_type": "code",
   "execution_count": 14,
   "id": "4fb7aa8a-011d-4581-a8e9-08a18a6b9b17",
   "metadata": {},
   "outputs": [
    {
     "data": {
      "text/plain": [
       "5473"
      ]
     },
     "execution_count": 14,
     "metadata": {},
     "output_type": "execute_result"
    }
   ],
   "source": [
    "highest_count=city_counts.max()\n",
    "highest_count"
   ]
  },
  {
   "cell_type": "code",
   "execution_count": 16,
   "id": "0059aef1-c7ba-4e6e-b463-c74bc579bcef",
   "metadata": {},
   "outputs": [
    {
     "name": "stdout",
     "output_type": "stream",
     "text": [
      "The city with the highest number of restaurant is New Delhi with 5473 restaurants.\n"
     ]
    }
   ],
   "source": [
    "print(f'The city with the highest number of restaurant is {city_with_highest_restaurant} with {highest_count} restaurants.')"
   ]
  },
  {
   "cell_type": "markdown",
   "id": "84a7ca2e-675b-42c5-8bee-fa5416df2f2f",
   "metadata": {},
   "source": [
    "#### calculate avg rating for restaurants in each city"
   ]
  },
  {
   "cell_type": "code",
   "execution_count": 20,
   "id": "9ef6987f-71d8-4f3a-a871-783a0d186ec3",
   "metadata": {},
   "outputs": [
    {
     "name": "stdout",
     "output_type": "stream",
     "text": [
      "City\n",
      "Abu Dhabi          4.300000\n",
      "Agra               3.965000\n",
      "Ahmedabad          4.161905\n",
      "Albany             3.555000\n",
      "Allahabad          3.395000\n",
      "                     ...   \n",
      "Weirton            3.900000\n",
      "Wellington City    4.250000\n",
      "Winchester Bay     3.200000\n",
      "Yorkton            3.300000\n",
      "��stanbul          4.292857\n",
      "Name: Aggregate rating, Length: 141, dtype: float64\n"
     ]
    }
   ],
   "source": [
    "city_avg_rating=df.groupby('City')['Aggregate rating'].mean()\n",
    "print(city_avg_rating)"
   ]
  },
  {
   "cell_type": "code",
   "execution_count": 24,
   "id": "fbb377f6-a865-4628-ac78-d8c2c7a96592",
   "metadata": {},
   "outputs": [
    {
     "name": "stdout",
     "output_type": "stream",
     "text": [
      "City\n",
      "Inner City          4.900000\n",
      "Quezon City         4.800000\n",
      "Makati City         4.650000\n",
      "Pasig City          4.633333\n",
      "Mandaluyong City    4.625000\n",
      "                      ...   \n",
      "New Delhi           2.438845\n",
      "Montville           2.400000\n",
      "Mc Millan           2.400000\n",
      "Noida               2.036204\n",
      "Faridabad           1.866932\n",
      "Name: Aggregate rating, Length: 141, dtype: float64\n"
     ]
    }
   ],
   "source": [
    "sorted_avg_rating=city_avg_rating.sort_values(ascending=False)\n",
    "print(sorted_avg_rating)"
   ]
  },
  {
   "cell_type": "markdown",
   "id": "b7d7f265-9ee0-4b96-a80e-a6711c97fb15",
   "metadata": {},
   "source": [
    "#### city with highest avg rating"
   ]
  },
  {
   "cell_type": "code",
   "execution_count": 26,
   "id": "ecafa5a0-5d68-4dc3-8289-ef4bbdbaf78f",
   "metadata": {},
   "outputs": [
    {
     "name": "stdout",
     "output_type": "stream",
     "text": [
      "The city with highest avg rating is Inner City with an average rating of 4.90.\n"
     ]
    }
   ],
   "source": [
    "city_with_highest_avg_rating=city_avg_rating.idxmax()\n",
    "highest_avg_rating=city_avg_rating.max()\n",
    "print(f'The city with highest avg rating is {city_with_highest_avg_rating} with an average rating of {highest_avg_rating:.2f}.')"
   ]
  },
  {
   "cell_type": "markdown",
   "id": "a70ae907-278b-46bd-95c6-416506232e1d",
   "metadata": {},
   "source": [
    "# LEVEL1\n",
    "### Task3:PRICE RANGE DISTRIBUTION"
   ]
  },
  {
   "cell_type": "code",
   "execution_count": 7,
   "id": "434e2989-f934-48d8-94f4-0eac39e96dc8",
   "metadata": {},
   "outputs": [
    {
     "name": "stdout",
     "output_type": "stream",
     "text": [
      "[3 4 2 1]\n"
     ]
    }
   ],
   "source": [
    "print(df['Price range'].unique())"
   ]
  },
  {
   "cell_type": "code",
   "execution_count": 9,
   "id": "4c03a0c7-4751-470b-9597-6ba12b199e1b",
   "metadata": {},
   "outputs": [
    {
     "name": "stdout",
     "output_type": "stream",
     "text": [
      "Price range\n",
      "1    46.529159\n",
      "2    32.593446\n",
      "3    14.741912\n",
      "4     6.135483\n",
      "Name: proportion, dtype: float64\n"
     ]
    }
   ],
   "source": [
    "price_range_counts=df['Price range'].value_counts(normalize=True)*100\n",
    "print(price_range_counts)"
   ]
  },
  {
   "cell_type": "markdown",
   "id": "a5968a12-b5ff-4496-b13f-991f90b72295",
   "metadata": {},
   "source": [
    "#### Visualize the distribution of price range among the restaurants"
   ]
  },
  {
   "cell_type": "code",
   "execution_count": 13,
   "id": "81c7d6be-fc41-4cd9-8614-b6ed617dc3b4",
   "metadata": {},
   "outputs": [
    {
     "data": {
      "image/png": "[encoded data removed]",
      "text/plain": [
       "<Figure size 640x480 with 1 Axes>"
      ]
     },
     "metadata": {},
     "output_type": "display_data"
    }
   ],
   "source": [
    "price_range_counts.plot(kind='bar',color='skyblue')\n",
    "plt.title('Distribution of Restaurants by Price Range')\n",
    "plt.xlabel('Price range')\n",
    "plt.ylabel('Percentage(%)')\n",
    "plt.xticks(rotation=45)\n",
    "plt.show()"
   ]
  },
  {
   "cell_type": "markdown",
   "id": "e52d9303-a707-45e8-882d-84397020c87f",
   "metadata": {},
   "source": [
    "# LEVEL1\n",
    "### Task4:ONLINE DELIVERY"
   ]
  },
  {
   "cell_type": "code",
   "execution_count": 16,
   "id": "220f07de-dbbd-4d98-9449-97051b68aaef",
   "metadata": {},
   "outputs": [
    {
     "name": "stdout",
     "output_type": "stream",
     "text": [
      "['No' 'Yes']\n"
     ]
    }
   ],
   "source": [
    "print(df['Has Online delivery'].unique())"
   ]
  },
  {
   "cell_type": "code",
   "execution_count": 22,
   "id": "b8ac46de-a59f-49b1-b69c-c0b93432b9c5",
   "metadata": {},
   "outputs": [],
   "source": [
    "df['Has Online delivery']=df['Has Online delivery'].map({'Yes':True,'No':False})"
   ]
  },
  {
   "cell_type": "markdown",
   "id": "3742d7d9-ff1f-499c-8370-6545effa7a65",
   "metadata": {},
   "source": [
    "#### percentage of restaurants offer online delivery"
   ]
  },
  {
   "cell_type": "code",
   "execution_count": 24,
   "id": "10c8bbf8-e19b-42d6-bb0b-30afb100001b",
   "metadata": {},
   "outputs": [
    {
     "name": "stdout",
     "output_type": "stream",
     "text": [
      "Percentage of restaurants offering online delivery:25.66%\n"
     ]
    }
   ],
   "source": [
    "online_delivery_percent=df['Has Online delivery'].mean()*100\n",
    "print(f'Percentage of restaurants offering online delivery:{online_delivery_percent:.2f}%')"
   ]
  },
  {
   "cell_type": "code",
   "execution_count": 28,
   "id": "5e42a8e3-6ae9-444c-8c69-55de46ce797c",
   "metadata": {},
   "outputs": [
    {
     "name": "stdout",
     "output_type": "stream",
     "text": [
      "Has Online delivery\n",
      "False    2.465296\n",
      "True     3.248837\n",
      "Name: Aggregate rating, dtype: float64\n"
     ]
    }
   ],
   "source": [
    "average_rating=df.groupby('Has Online delivery')['Aggregate rating'].mean()\n",
    "print(average_rating)"
   ]
  },
  {
   "cell_type": "markdown",
   "id": "408fec18-c3cc-47aa-9514-f8989bede715",
   "metadata": {},
   "source": [
    "#### compare avg ratings of restaurant with and without online delivery"
   ]
  },
  {
   "cell_type": "code",
   "execution_count": 30,
   "id": "9a0429e9-e324-436a-8fe9-0ae4720269cd",
   "metadata": {},
   "outputs": [
    {
     "data": {
      "image/png": "[encoded data removed]",
      "text/plain": [
       "<Figure size 640x480 with 1 Axes>"
      ]
     },
     "metadata": {},
     "output_type": "display_data"
    }
   ],
   "source": [
    "average_rating.plot(kind='bar',color=['red','green'])\n",
    "plt.title('average Ratings of Restaurants with and without Online Delivery')\n",
    "plt.xlabel('Online delivery Status')\n",
    "plt.ylabel('Average rating')\n",
    "plt.xticks([0,1],['Without online delivery','With online delivery'],rotation=0)\n",
    "plt.show()"
   ]
  },
  {
   "cell_type": "markdown",
   "id": "8099780a-d2b9-46a7-ad9b-eea162a85cbf",
   "metadata": {},
   "source": [
    "# LEVEL2\n",
    "### Task1:RESTAURANT RATINGS"
   ]
  },
  {
   "cell_type": "code",
   "execution_count": 5,
   "id": "9179f7af-69cc-4698-b2d4-84451ccab842",
   "metadata": {},
   "outputs": [
    {
     "name": "stdout",
     "output_type": "stream",
     "text": [
      "Index(['Restaurant ID', 'Restaurant Name', 'Country Code', 'City', 'Address',\n",
      "       'Locality', 'Locality Verbose', 'Longitude', 'Latitude', 'Cuisines',\n",
      "       'Average Cost for two', 'Currency', 'Has Table booking',\n",
      "       'Has Online delivery', 'Is delivering now', 'Switch to order menu',\n",
      "       'Price range', 'Aggregate rating', 'Rating color', 'Rating text',\n",
      "       'Votes'],\n",
      "      dtype='object')\n"
     ]
    }
   ],
   "source": [
    "print(df.columns)"
   ]
  },
  {
   "cell_type": "code",
   "execution_count": 9,
   "id": "ee165124-e8ca-4019-8c47-6747748d9005",
   "metadata": {},
   "outputs": [
    {
     "name": "stdout",
     "output_type": "stream",
     "text": [
      "count    9551.000000\n",
      "mean        2.666370\n",
      "std         1.516378\n",
      "min         0.000000\n",
      "25%         2.500000\n",
      "50%         3.200000\n",
      "75%         3.700000\n",
      "max         4.900000\n",
      "Name: Aggregate rating, dtype: float64\n"
     ]
    }
   ],
   "source": [
    "print(df['Aggregate rating'].describe())"
   ]
  },
  {
   "cell_type": "markdown",
   "id": "f620f069-de8f-4f1f-b616-4c8b888a1dc8",
   "metadata": {},
   "source": [
    "#### distribution of aggregate rating of most common rating range"
   ]
  },
  {
   "cell_type": "code",
   "execution_count": 13,
   "id": "efbbc402-de6a-4489-9e32-0cee3517fb6e",
   "metadata": {},
   "outputs": [
    {
     "data": {
      "image/png": "[encoded data removed]",
      "text/plain": [
       "<Figure size 1000x600 with 1 Axes>"
      ]
     },
     "metadata": {},
     "output_type": "display_data"
    }
   ],
   "source": [
    "plt.figure(figsize=(10,6))\n",
    "sns.histplot(df['Aggregate rating'],bins=20,kde=True)\n",
    "plt.title('Distribution of Ratings')\n",
    "plt.xlabel('Ratings')\n",
    "plt.ylabel('Frequency')\n",
    "plt.show()"
   ]
  },
  {
   "cell_type": "code",
   "execution_count": 17,
   "id": "cf13a933-fca4-48e7-8bde-554b7a651c00",
   "metadata": {},
   "outputs": [
    {
     "data": {
      "text/plain": [
       "Text(0.5, 0, 'Rating')"
      ]
     },
     "execution_count": 17,
     "metadata": {},
     "output_type": "execute_result"
    },
    {
     "data": {
      "image/png": "[encoded data removed]",
      "text/plain": [
       "<Figure size 1000x600 with 1 Axes>"
      ]
     },
     "metadata": {},
     "output_type": "display_data"
    }
   ],
   "source": [
    "plt.figure(figsize=(10,6))\n",
    "sns.boxplot(x=df['Aggregate rating'])\n",
    "plt.title('Boxplot of Ratings')\n",
    "plt.xlabel('Rating')"
   ]
  },
  {
   "cell_type": "markdown",
   "id": "badd1da4-825b-4afe-a18c-8b4fb1870e54",
   "metadata": {},
   "source": [
    "### Define Rating Ranges"
   ]
  },
  {
   "cell_type": "code",
   "execution_count": 19,
   "id": "bc137e93-35ab-44c0-bd5e-62a9cbd8baae",
   "metadata": {},
   "outputs": [],
   "source": [
    "def rating_range(rating):\n",
    "    if rating <=2:\n",
    "        return '1 - 2'\n",
    "    elif rating <=3:\n",
    "        return '2.1 - 3'\n",
    "    elif rating <=4:\n",
    "        return '3.1 - 4'\n",
    "    else:\n",
    "        return '4.1 - 5'"
   ]
  },
  {
   "cell_type": "code",
   "execution_count": 21,
   "id": "695960e1-78ea-4171-ab69-f9108c54dbc1",
   "metadata": {},
   "outputs": [
    {
     "name": "stdout",
     "output_type": "stream",
     "text": [
      "   Aggregate rating rating_range\n",
      "0               4.8      4.1 - 5\n",
      "1               4.5      4.1 - 5\n",
      "2               4.4      4.1 - 5\n",
      "3               4.9      4.1 - 5\n",
      "4               4.8      4.1 - 5\n"
     ]
    }
   ],
   "source": [
    "df['rating_range']=df['Aggregate rating'].apply(rating_range)\n",
    "print(df[['Aggregate rating','rating_range']].head())"
   ]
  },
  {
   "cell_type": "markdown",
   "id": "632f2eb6-af5b-4580-b5f7-a6e03b6767fb",
   "metadata": {},
   "source": [
    "### Analyze most common rating range"
   ]
  },
  {
   "cell_type": "code",
   "execution_count": 25,
   "id": "6090de77-bac2-40c8-b7a5-f53a7464d839",
   "metadata": {},
   "outputs": [
    {
     "name": "stdout",
     "output_type": "stream",
     "text": [
      "rating_range\n",
      "3.1 - 4    4388\n",
      "1 - 2      2158\n",
      "2.1 - 3    1891\n",
      "4.1 - 5    1114\n",
      "Name: count, dtype: int64\n"
     ]
    }
   ],
   "source": [
    "rating_range_count=df['rating_range'].value_counts()\n",
    "print(rating_range_count)"
   ]
  },
  {
   "cell_type": "code",
   "execution_count": 29,
   "id": "ab0c156b-689d-43b3-93f6-d51d8a6553e9",
   "metadata": {},
   "outputs": [
    {
     "data": {
      "text/plain": [
       "Text(0, 0.5, 'Frequency')"
      ]
     },
     "execution_count": 29,
     "metadata": {},
     "output_type": "execute_result"
    },
    {
     "data": {
      "image/png": "[encoded data removed]",
      "text/plain": [
       "<Figure size 1000x600 with 1 Axes>"
      ]
     },
     "metadata": {},
     "output_type": "display_data"
    }
   ],
   "source": [
    "rating_range_count.plot(kind='bar',figsize=(10,6),color='pink')\n",
    "plt.title('Most common Rating Range')\n",
    "plt.xlabel('Rating Range')\n",
    "plt.ylabel('Frequency')"
   ]
  },
  {
   "cell_type": "markdown",
   "id": "8dafcfff-d819-42ad-8287-9ae3e7a73903",
   "metadata": {},
   "source": [
    "### Average no.of votes recieved"
   ]
  },
  {
   "cell_type": "code",
   "execution_count": 34,
   "id": "7ded3c76-48d3-42a5-9aa6-5b8230046ca2",
   "metadata": {},
   "outputs": [
    {
     "name": "stdout",
     "output_type": "stream",
     "text": [
      "count     9551.000000\n",
      "mean       156.909748\n",
      "std        430.169145\n",
      "min          0.000000\n",
      "25%          5.000000\n",
      "50%         31.000000\n",
      "75%        131.000000\n",
      "max      10934.000000\n",
      "Name: Votes, dtype: float64\n"
     ]
    }
   ],
   "source": [
    "print(df['Votes'].describe())"
   ]
  },
  {
   "cell_type": "code",
   "execution_count": 36,
   "id": "8d6a2152-9b86-4abb-850f-77e930201818",
   "metadata": {},
   "outputs": [
    {
     "name": "stdout",
     "output_type": "stream",
     "text": [
      "The average number of votes recieved by the restaurants is:156.909747670401\n"
     ]
    }
   ],
   "source": [
    "average_votes=df['Votes'].mean()\n",
    "print(f'The average number of votes recieved by the restaurants is:{average_votes}')"
   ]
  },
  {
   "cell_type": "markdown",
   "id": "8805d93c-441b-45b4-9c7f-61267f93b7fb",
   "metadata": {},
   "source": [
    "# LEVEL2\n",
    "### TASK2:CUISINE COMBINATION"
   ]
  },
  {
   "cell_type": "code",
   "execution_count": 5,
   "id": "750c663b-ecf4-469c-93dd-149625f03357",
   "metadata": {},
   "outputs": [],
   "source": [
    "from itertools import combinations"
   ]
  },
  {
   "cell_type": "code",
   "execution_count": 129,
   "id": "9bd45763-513a-44f4-8a94-30e4a8528e97",
   "metadata": {},
   "outputs": [
    {
     "name": "stdout",
     "output_type": "stream",
     "text": [
      "0\n"
     ]
    }
   ],
   "source": [
    "print(df['Cuisines'].isna().sum())"
   ]
  },
  {
   "cell_type": "code",
   "execution_count": 131,
   "id": "1b9696bc-9951-4195-b95a-02d88f226396",
   "metadata": {},
   "outputs": [],
   "source": [
    "df['Cuisines']=df['Cuisines'].fillna('')"
   ]
  },
  {
   "cell_type": "code",
   "execution_count": 133,
   "id": "6e62825c-d95e-456c-a219-7d5868658491",
   "metadata": {},
   "outputs": [],
   "source": [
    "df['Aggregate rating']=df['Aggregate rating'].fillna(0)"
   ]
  },
  {
   "cell_type": "markdown",
   "id": "2e6cc8c4-0171-43e5-b23e-ddc2c05f6a7b",
   "metadata": {},
   "source": [
    "#### most common combination of cuisines"
   ]
  },
  {
   "cell_type": "code",
   "execution_count": 135,
   "id": "f5fc713b-2d36-464b-beef-d4ab0a799f73",
   "metadata": {},
   "outputs": [],
   "source": [
    "def get_combinations(cuisines):\n",
    "    if isinstance(cuisines,str):\n",
    "        cuisines_list=cuisines.split(',')\n",
    "        return list(combinations(sorted(cuisines_list),2))\n",
    "    else:\n",
    "        return []"
   ]
  },
  {
   "cell_type": "code",
   "execution_count": 137,
   "id": "ecc02a48-055d-42b8-aa99-4f35c5dda72a",
   "metadata": {},
   "outputs": [],
   "source": [
    "df['cuisine_combinations']=df['Cuisines'].apply(get_combinations)"
   ]
  },
  {
   "cell_type": "code",
   "execution_count": 139,
   "id": "aa8051ea-8611-4c95-ac44-b2973e1bbc5c",
   "metadata": {},
   "outputs": [],
   "source": [
    "df_exploded=df.explode('cuisine_combinations')"
   ]
  },
  {
   "cell_type": "markdown",
   "id": "67b8970a-e9c1-458a-8957-0c2cd0ec3f85",
   "metadata": {},
   "source": [
    "### Calculate frequency"
   ]
  },
  {
   "cell_type": "code",
   "execution_count": 164,
   "id": "f42f7e0f-378c-4455-9935-a8bb521975b3",
   "metadata": {},
   "outputs": [
    {
     "data": {
      "text/plain": [
       "cuisine_combinations\n",
       "( Chinese, North Indian)      1314\n",
       "( Mughlai, North Indian)       689\n",
       "( Chinese,  Mughlai)           323\n",
       "( Fast Food, North Indian)     296\n",
       "( Chinese,  North Indian)      268\n",
       "                              ... \n",
       "( Andhra,  Seafood)              1\n",
       "( Andhra,  Thai)                 1\n",
       "( Andhra, Continental)           1\n",
       "( Goan,  Kerala)                 1\n",
       "( World Cuisine, Italian)        1\n",
       "Name: count, Length: 1829, dtype: int64"
      ]
     },
     "execution_count": 164,
     "metadata": {},
     "output_type": "execute_result"
    }
   ],
   "source": [
    "combination_counts=df_exploded['cuisine_combinations'].value_counts()\n",
    "combination_counts"
   ]
  },
  {
   "cell_type": "markdown",
   "id": "d78cf64a-07f5-4c8a-87f3-50b14ef08de3",
   "metadata": {},
   "source": [
    "### Calculate avg rating for each combinations"
   ]
  },
  {
   "cell_type": "code",
   "execution_count": 143,
   "id": "b5fa140a-29de-4819-a530-4ed2e584dc06",
   "metadata": {},
   "outputs": [],
   "source": [
    "combination_ratings=df_exploded.groupby('cuisine_combinations')['Aggregate rating'].mean()"
   ]
  },
  {
   "cell_type": "markdown",
   "id": "894a76d0-c27f-42bb-a6ea-22465ebb7641",
   "metadata": {},
   "source": [
    "### Merge counts ang ratings into a single Dataframe"
   ]
  },
  {
   "cell_type": "code",
   "execution_count": 145,
   "id": "0445e605-d9e7-4654-9315-8397c199154f",
   "metadata": {},
   "outputs": [],
   "source": [
    "combination_analysis=pd.DataFrame({\n",
    "    'count':combination_counts.values,\n",
    "    'cuisine_combinations':combination_ratings.index,\n",
    "    'average_rating':combination_ratings.values\n",
    "}).reset_index(drop=True)"
   ]
  },
  {
   "cell_type": "code",
   "execution_count": 189,
   "id": "81df18d3-9a32-4325-b520-72c398b23746",
   "metadata": {},
   "outputs": [
    {
     "data": {
      "text/html": [
       "<div>\n",
       "<style scoped>\n",
       "    .dataframe tbody tr th:only-of-type {\n",
       "        vertical-align: middle;\n",
       "    }\n",
       "\n",
       "    .dataframe tbody tr th {\n",
       "        vertical-align: top;\n",
       "    }\n",
       "\n",
       "    .dataframe thead th {\n",
       "        text-align: right;\n",
       "    }\n",
       "</style>\n",
       "<table border=\"1\" class=\"dataframe\">\n",
       "  <thead>\n",
       "    <tr style=\"text-align: right;\">\n",
       "      <th></th>\n",
       "      <th>count</th>\n",
       "      <th>cuisine_combinations</th>\n",
       "      <th>average_rating</th>\n",
       "      <th>cuisine_combinations_str</th>\n",
       "    </tr>\n",
       "  </thead>\n",
       "  <tbody>\n",
       "    <tr>\n",
       "      <th>380</th>\n",
       "      <td>5</td>\n",
       "      <td>( Breakfast,  Southern)</td>\n",
       "      <td>4.9</td>\n",
       "      <td>Breakfast, Southern</td>\n",
       "    </tr>\n",
       "    <tr>\n",
       "      <th>1029</th>\n",
       "      <td>1</td>\n",
       "      <td>( Healthy Food, Mexican)</td>\n",
       "      <td>4.9</td>\n",
       "      <td>Healthy Food,Mexican</td>\n",
       "    </tr>\n",
       "    <tr>\n",
       "      <th>1559</th>\n",
       "      <td>1</td>\n",
       "      <td>( Sandwich,  Tea)</td>\n",
       "      <td>4.9</td>\n",
       "      <td>Sandwich, Tea</td>\n",
       "    </tr>\n",
       "    <tr>\n",
       "      <th>1751</th>\n",
       "      <td>1</td>\n",
       "      <td>( Tea, American)</td>\n",
       "      <td>4.9</td>\n",
       "      <td>Tea,American</td>\n",
       "    </tr>\n",
       "    <tr>\n",
       "      <th>1097</th>\n",
       "      <td>1</td>\n",
       "      <td>( Indonesian, Sunda)</td>\n",
       "      <td>4.9</td>\n",
       "      <td>Indonesian,Sunda</td>\n",
       "    </tr>\n",
       "  </tbody>\n",
       "</table>\n",
       "</div>"
      ],
      "text/plain": [
       "      count      cuisine_combinations  average_rating cuisine_combinations_str\n",
       "380       5   ( Breakfast,  Southern)             4.9      Breakfast, Southern\n",
       "1029      1  ( Healthy Food, Mexican)             4.9     Healthy Food,Mexican\n",
       "1559      1         ( Sandwich,  Tea)             4.9            Sandwich, Tea\n",
       "1751      1          ( Tea, American)             4.9             Tea,American\n",
       "1097      1      ( Indonesian, Sunda)             4.9         Indonesian,Sunda"
      ]
     },
     "execution_count": 189,
     "metadata": {},
     "output_type": "execute_result"
    }
   ],
   "source": [
    "high_rated_combo=combination_analysis[combination_analysis['average_rating']>4.5]\n",
    "high_rated_combo.head()"
   ]
  },
  {
   "cell_type": "markdown",
   "id": "fb6270be-d814-47e8-8ef3-f835629b1c1e",
   "metadata": {},
   "source": [
    "### Sort by counts"
   ]
  },
  {
   "cell_type": "code",
   "execution_count": 155,
   "id": "845773a5-3537-414d-a193-49596d8c2710",
   "metadata": {},
   "outputs": [],
   "source": [
    "combination_analysis['cuisine_combinations_str']=combination_analysis['cuisine_combinations'].apply(lambda x:','.join(x))"
   ]
  },
  {
   "cell_type": "code",
   "execution_count": 157,
   "id": "0a0597ff-e1eb-4169-a787-1742122000c5",
   "metadata": {},
   "outputs": [],
   "source": [
    "combination_analysis=combination_analysis.sort_values(by='average_rating',ascending=False)"
   ]
  },
  {
   "cell_type": "code",
   "execution_count": 159,
   "id": "595c56c9-239c-4eef-992f-c53ca369f5b0",
   "metadata": {},
   "outputs": [
    {
     "data": {
      "text/html": [
       "<div>\n",
       "<style scoped>\n",
       "    .dataframe tbody tr th:only-of-type {\n",
       "        vertical-align: middle;\n",
       "    }\n",
       "\n",
       "    .dataframe tbody tr th {\n",
       "        vertical-align: top;\n",
       "    }\n",
       "\n",
       "    .dataframe thead th {\n",
       "        text-align: right;\n",
       "    }\n",
       "</style>\n",
       "<table border=\"1\" class=\"dataframe\">\n",
       "  <thead>\n",
       "    <tr style=\"text-align: right;\">\n",
       "      <th></th>\n",
       "      <th>count</th>\n",
       "      <th>cuisine_combinations</th>\n",
       "      <th>average_rating</th>\n",
       "      <th>cuisine_combinations_str</th>\n",
       "    </tr>\n",
       "  </thead>\n",
       "  <tbody>\n",
       "    <tr>\n",
       "      <th>380</th>\n",
       "      <td>5</td>\n",
       "      <td>( Breakfast,  Southern)</td>\n",
       "      <td>4.9</td>\n",
       "      <td>Breakfast, Southern</td>\n",
       "    </tr>\n",
       "    <tr>\n",
       "      <th>1029</th>\n",
       "      <td>1</td>\n",
       "      <td>( Healthy Food, Mexican)</td>\n",
       "      <td>4.9</td>\n",
       "      <td>Healthy Food,Mexican</td>\n",
       "    </tr>\n",
       "    <tr>\n",
       "      <th>1559</th>\n",
       "      <td>1</td>\n",
       "      <td>( Sandwich,  Tea)</td>\n",
       "      <td>4.9</td>\n",
       "      <td>Sandwich, Tea</td>\n",
       "    </tr>\n",
       "    <tr>\n",
       "      <th>1751</th>\n",
       "      <td>1</td>\n",
       "      <td>( Tea, American)</td>\n",
       "      <td>4.9</td>\n",
       "      <td>Tea,American</td>\n",
       "    </tr>\n",
       "    <tr>\n",
       "      <th>1097</th>\n",
       "      <td>1</td>\n",
       "      <td>( Indonesian, Sunda)</td>\n",
       "      <td>4.9</td>\n",
       "      <td>Indonesian,Sunda</td>\n",
       "    </tr>\n",
       "  </tbody>\n",
       "</table>\n",
       "</div>"
      ],
      "text/plain": [
       "      count      cuisine_combinations  average_rating cuisine_combinations_str\n",
       "380       5   ( Breakfast,  Southern)             4.9      Breakfast, Southern\n",
       "1029      1  ( Healthy Food, Mexican)             4.9     Healthy Food,Mexican\n",
       "1559      1         ( Sandwich,  Tea)             4.9            Sandwich, Tea\n",
       "1751      1          ( Tea, American)             4.9             Tea,American\n",
       "1097      1      ( Indonesian, Sunda)             4.9         Indonesian,Sunda"
      ]
     },
     "execution_count": 159,
     "metadata": {},
     "output_type": "execute_result"
    }
   ],
   "source": [
    "combination_analysis.head()"
   ]
  },
  {
   "cell_type": "code",
   "execution_count": 161,
   "id": "df67cdcd-21a0-4990-945e-f43738820f4f",
   "metadata": {},
   "outputs": [
    {
     "data": {
      "image/png": "[encoded data removed]",
      "text/plain": [
       "<Figure size 1000x600 with 1 Axes>"
      ]
     },
     "metadata": {},
     "output_type": "display_data"
    }
   ],
   "source": [
    "plt.figure(figsize=(10,6))\n",
    "sns.barplot(x='count',y='cuisine_combinations_str',data=combination_analysis.head(10))\n",
    "plt.title('Top 10 most common cuisine combinations')\n",
    "plt.xlabel('Frequency')\n",
    "plt.ylabel('Cuisine combination')\n",
    "plt.show()"
   ]
  },
  {
   "cell_type": "markdown",
   "id": "fce1098e-1b31-44fc-8b95-72ff167777b9",
   "metadata": {},
   "source": [
    "# LEVEL2\n",
    "### TASK3:GEOGRAPHIC ANALYSIS"
   ]
  },
  {
   "cell_type": "markdown",
   "id": "5a9ad633-3a1e-4d2f-9e77-20e4c826cf3c",
   "metadata": {},
   "source": [
    "#### location of restuarants on map using longitude and latitude"
   ]
  },
  {
   "cell_type": "code",
   "execution_count": 13,
   "id": "78ac3f3c-b4b3-47a0-aa04-74a3b3cb95d6",
   "metadata": {},
   "outputs": [
    {
     "data": {
      "image/png": "[encoded data removed]",
      "text/plain": [
       "<Figure size 1000x600 with 1 Axes>"
      ]
     },
     "metadata": {},
     "output_type": "display_data"
    }
   ],
   "source": [
    "plt.figure(figsize=(10,6))\n",
    "plt.scatter(df['Longitude'],df['Latitude'],c='red',marker='o',alpha=0.5)\n",
    "plt.title('Restaurant location')\n",
    "plt.xlabel('Longitude')\n",
    "plt.ylabel('Latitude')\n",
    "plt.grid(True)\n",
    "plt.show()"
   ]
  },
  {
   "cell_type": "code",
   "execution_count": 31,
   "id": "cf55b12a-41b3-48e1-86a7-c0328637f7a8",
   "metadata": {},
   "outputs": [],
   "source": [
    "from sklearn.cluster import KMeans"
   ]
  },
  {
   "cell_type": "markdown",
   "id": "db8c8a57-5b94-4f3b-b171-62cdf0c2aaf6",
   "metadata": {},
   "source": [
    "### Apply cluster algorithm"
   ]
  },
  {
   "cell_type": "code",
   "execution_count": 33,
   "id": "4e93ea52-8e04-4a56-b233-ad262c500b2c",
   "metadata": {},
   "outputs": [],
   "source": [
    "coords=df[['Latitude','Longitude']]"
   ]
  },
  {
   "cell_type": "code",
   "execution_count": 35,
   "id": "f574e960-2dfe-438c-adf9-eda766cd224b",
   "metadata": {},
   "outputs": [],
   "source": [
    "kmeans=KMeans(n_clusters=5)\n",
    "df['cluster']=kmeans.fit_predict(coords)"
   ]
  },
  {
   "cell_type": "markdown",
   "id": "13e43d27-0842-4f92-b9e8-dd1acc674361",
   "metadata": {},
   "source": [
    "### Cluster visualizing"
   ]
  },
  {
   "cell_type": "code",
   "execution_count": 45,
   "id": "0ff8508b-3653-4c5a-9985-e894bc6020e2",
   "metadata": {},
   "outputs": [
    {
     "data": {
      "text/plain": [
       "<matplotlib.colorbar.Colorbar at 0x263f8bd7650>"
      ]
     },
     "execution_count": 45,
     "metadata": {},
     "output_type": "execute_result"
    },
    {
     "data": {
      "image/png": "[encoded data removed]",
      "text/plain": [
       "<Figure size 1000x600 with 2 Axes>"
      ]
     },
     "metadata": {},
     "output_type": "display_data"
    }
   ],
   "source": [
    "plt.figure(figsize=(10,6))\n",
    "plt.scatter(df['Longitude'],df['Latitude'],c=df['cluster'],cmap='viridis',marker='o',alpha=0.5)\n",
    "plt.title('Restuarant Cluster(KMeans)')\n",
    "plt.xlabel('Longitude')\n",
    "plt.ylabel('Latitude')\n",
    "plt.colorbar(label='cluster')"
   ]
  },
  {
   "cell_type": "markdown",
   "id": "5fe7cbc7-b5f3-4154-b793-7264d315319d",
   "metadata": {},
   "source": [
    "### Analyze the cluster"
   ]
  },
  {
   "cell_type": "code",
   "execution_count": 42,
   "id": "94203825-2918-4ec6-9efd-f1cf96324867",
   "metadata": {},
   "outputs": [
    {
     "data": {
      "text/plain": [
       "cluster\n",
       "1    8316\n",
       "2     617\n",
       "0     438\n",
       "4     116\n",
       "3      64\n",
       "Name: count, dtype: int64"
      ]
     },
     "execution_count": 42,
     "metadata": {},
     "output_type": "execute_result"
    }
   ],
   "source": [
    "cluster_counts=df['cluster'].value_counts()\n",
    "cluster_counts"
   ]
  },
  {
   "cell_type": "markdown",
   "id": "5d15cb68-ba6e-40ff-92d7-da194f73f599",
   "metadata": {},
   "source": [
    "# LEVEL2\n",
    "### TASK4:RESTAURANT CHAINS"
   ]
  },
  {
   "cell_type": "code",
   "execution_count": 55,
   "id": "e2def7bc-4c4d-4d95-8b5b-ed4953ae4a08",
   "metadata": {},
   "outputs": [
    {
     "name": "stdout",
     "output_type": "stream",
     "text": [
      "Restaurant Name\n",
      "Cafe Coffee Day       83\n",
      "Domino's Pizza        79\n",
      "Subway                63\n",
      "Green Chick Chop      51\n",
      "McDonald's            48\n",
      "                      ..\n",
      "Town Hall              2\n",
      "Halki Aanch            2\n",
      "Snack Junction         2\n",
      "Delhi Biryani Hut      2\n",
      "Beliram Degchiwala     2\n",
      "Name: count, Length: 734, dtype: int64\n"
     ]
    }
   ],
   "source": [
    "restaurant_counts=df['Restaurant Name'].value_counts()\n",
    "restaurant_chains=restaurant_counts[restaurant_counts>1]\n",
    "print(restaurant_chains)"
   ]
  },
  {
   "cell_type": "markdown",
   "id": "08681dd6-5ae9-4620-bbd5-6bd48015ee83",
   "metadata": {},
   "source": [
    "### Identify reastaurant chains"
   ]
  },
  {
   "cell_type": "code",
   "execution_count": 58,
   "id": "77eb2530-e6d3-40d2-a079-7166ee5e574c",
   "metadata": {},
   "outputs": [
    {
     "name": "stdout",
     "output_type": "stream",
     "text": [
      "       Restaurant Name   Latitude   Longitude\n",
      "5         Din Tai Fung  14.583764  121.056314\n",
      "10    Silantro Fil-Mex  14.567689  121.057916\n",
      "12    Silantro Fil-Mex  14.649503  121.075419\n",
      "35          Coco Bambu -15.786500  -47.889000\n",
      "39          Coco Bambu -15.819000  -47.868500\n",
      "...                ...        ...         ...\n",
      "9517       Timboo Cafe  39.913206   32.809247\n",
      "9528       Timboo Cafe  39.908957   32.776255\n",
      "9534       D�_vero��lu  39.922536   32.842742\n",
      "9535       D�_vero��lu  39.891564   32.701775\n",
      "9538         Starbucks  41.077696   29.043734\n",
      "\n",
      "[2839 rows x 3 columns]\n"
     ]
    }
   ],
   "source": [
    "chain_data=df[df['Restaurant Name'].isin(restaurant_chains.index)]\n",
    "print(chain_data[['Restaurant Name','Latitude','Longitude']])"
   ]
  },
  {
   "cell_type": "markdown",
   "id": "41903f70-2455-4b6f-a584-4422b9da7442",
   "metadata": {},
   "source": [
    "#### restaurant chains location"
   ]
  },
  {
   "cell_type": "code",
   "execution_count": 82,
   "id": "f9286e50-be94-4138-9615-87df4459a4ae",
   "metadata": {},
   "outputs": [
    {
     "data": {
      "image/png": "[encoded data removed]",
      "text/plain": [
       "<Figure size 1000x600 with 2 Axes>"
      ]
     },
     "metadata": {},
     "output_type": "display_data"
    }
   ],
   "source": [
    "plt.figure(figsize=(10,6))\n",
    "for chain in restaurant_chains.index:\n",
    "    chains_data=chain_data[chain_data['Restaurant Name']==chain]\n",
    "    plt.scatter(chains_data['Longitude'],chains_data['Latitude'],label=chain,alpha=0.6)\n",
    "\n",
    "plt.title('Location of Restaurant chains')\n",
    "plt.xlabel('Longitude')\n",
    "plt.ylabel('Latitude')\n",
    "plt.colorbar(label='Restaurent Name')\n",
    "plt.show()"
   ]
  },
  {
   "cell_type": "code",
   "execution_count": 66,
   "id": "5da5454d-858a-401a-8ff9-b06a6650cd5e",
   "metadata": {},
   "outputs": [
    {
     "name": "stdout",
     "output_type": "stream",
     "text": [
      "     Restaurant Name   Latitude  Longitude\n",
      "672       McDonald's  25.450329  81.834279\n",
      "882       McDonald's  28.469504  77.307448\n",
      "1134      McDonald's  28.634019  77.370369\n",
      "1286      McDonald's  28.475862  77.093026\n",
      "1506      McDonald's  28.459433  77.072771\n",
      "1558      McDonald's  28.479447  77.081897\n",
      "1567      McDonald's  28.480373  77.080042\n",
      "1849      McDonald's  28.468287  77.063237\n",
      "2234      McDonald's  28.509681  77.071421\n",
      "2679      McDonald's  28.562555  77.224359\n",
      "2780      McDonald's  28.557486  77.163656\n",
      "2850      McDonald's  28.656067  77.234214\n",
      "2851      McDonald's  28.656640  77.223332\n",
      "3050      McDonald's  28.632313  77.216411\n",
      "3051      McDonald's  28.630008  77.220157\n",
      "3127      McDonald's  28.657631  77.302280\n",
      "3135      McDonald's  28.692513  77.152780\n",
      "3147      McDonald's  28.643723  77.240533\n",
      "3373      McDonald's  28.676015  77.321823\n",
      "3425      McDonald's  28.702953  77.158192\n",
      "3458      McDonald's  28.576014  77.194929\n",
      "4091      McDonald's  28.632550  77.241044\n",
      "4216      McDonald's  28.629937  77.081921\n",
      "4239      McDonald's  28.581208  77.241907\n",
      "4307      McDonald's  28.626629  77.219206\n",
      "4632      McDonald's  28.667644  77.229334\n",
      "5395      McDonald's  28.724065  77.113594\n",
      "5465      McDonald's  28.705946  77.190122\n",
      "5839      McDonald's  28.550175  77.251157\n",
      "5917      McDonald's  28.561366  77.268936\n",
      "6187      McDonald's  28.663645  77.092389\n",
      "6258      McDonald's  28.689324  77.133101\n",
      "6438      McDonald's  28.670339  77.133176\n",
      "6456      McDonald's  28.523354  77.207650\n",
      "6532      McDonald's  28.642674  77.177111\n",
      "6683      McDonald's  28.649981  77.120756\n",
      "6733      McDonald's  28.701002  77.116790\n",
      "6753      McDonald's  28.716741  77.113774\n",
      "7268      McDonald's  28.713419  77.158058\n",
      "7309      McDonald's  28.569595  77.219723\n",
      "7348      McDonald's  28.568446  77.219160\n",
      "7698      McDonald's  28.636701  77.286738\n",
      "8389      McDonald's  28.580139  77.315705\n",
      "8447      McDonald's  28.569209  77.324328\n",
      "8609      McDonald's  28.566438  77.325417\n",
      "9081      McDonald's  28.567150  77.325308\n",
      "9101      McDonald's  28.568076  77.326565\n",
      "9121      McDonald's  25.617912  85.148632\n"
     ]
    }
   ],
   "source": [
    "mcdonalds_data=df[df['Restaurant Name']==\"McDonald's\"]\n",
    "print(mcdonalds_data[['Restaurant Name','Latitude','Longitude']])"
   ]
  },
  {
   "cell_type": "markdown",
   "id": "5f611ff0-2375-4a86-b8cf-702b1c4b0e36",
   "metadata": {},
   "source": [
    "# LEVEL3\n",
    "### TASK1:RESTAURANT REVIEWS"
   ]
  },
  {
   "cell_type": "code",
   "execution_count": 29,
   "id": "2458c12d-50a4-4878-a0d3-69b3e1b71f27",
   "metadata": {},
   "outputs": [],
   "source": [
    "import string\n",
    "from nltk.corpus import stopwords\n",
    "from nltk.tokenize import word_tokenize\n",
    "import nltk"
   ]
  },
  {
   "cell_type": "code",
   "execution_count": 31,
   "id": "625844c4-8e12-446d-bae2-177ac365126f",
   "metadata": {},
   "outputs": [
    {
     "name": "stderr",
     "output_type": "stream",
     "text": [
      "[nltk_data] Downloading package stopwords to\n",
      "[nltk_data]     C:\\Users\\Lenovo\\AppData\\Roaming\\nltk_data...\n",
      "[nltk_data]   Package stopwords is already up-to-date!\n"
     ]
    },
    {
     "data": {
      "text/plain": [
       "True"
      ]
     },
     "execution_count": 31,
     "metadata": {},
     "output_type": "execute_result"
    }
   ],
   "source": [
    "nltk.download('stopwords')"
   ]
  },
  {
   "cell_type": "code",
   "execution_count": 37,
   "id": "cc15c8cc-faba-44cc-a22a-df0c2dee70e6",
   "metadata": {},
   "outputs": [],
   "source": [
    "def preprocess_text(text):\n",
    "    text=text.lower()\n",
    "    text=''.join([char for char in text if char not in punctuation])\n",
    "    tokens=text.split()\n",
    "    tokens=[word for word in tokens if word not in stop_words]\n",
    "    return tokens"
   ]
  },
  {
   "cell_type": "code",
   "execution_count": 47,
   "id": "925d97a6-5938-46d5-8f0c-8601fd1af810",
   "metadata": {},
   "outputs": [],
   "source": [
    "from wordcloud import WordCloud"
   ]
  },
  {
   "cell_type": "code",
   "execution_count": 49,
   "id": "eb830fde-d416-49f7-ad6e-9215224ebd27",
   "metadata": {},
   "outputs": [],
   "source": [
    "all_reviews=' '.join(df['Rating text'])\n",
    "wordcloud=WordCloud(stopwords=stopwords.words('english'),background_color='white').generate(all_reviews)"
   ]
  },
  {
   "cell_type": "markdown",
   "id": "4f56456c-aa4a-4f99-9412-26952d9701af",
   "metadata": {},
   "source": [
    "#### most common negative and positive keywords"
   ]
  },
  {
   "cell_type": "code",
   "execution_count": 37,
   "id": "0ac0c1e3-0582-4a85-985f-1ecb8c485d8c",
   "metadata": {},
   "outputs": [
    {
     "data": {
      "image/png": "[encoded data removed]",
      "text/plain": [
       "<Figure size 1000x600 with 1 Axes>"
      ]
     },
     "metadata": {},
     "output_type": "display_data"
    }
   ],
   "source": [
    "plt.figure(figsize=(10,6))\n",
    "plt.imshow(wordcloud,interpolation='bilinear')\n",
    "plt.axis('off')\n",
    "plt.show()"
   ]
  },
  {
   "cell_type": "code",
   "execution_count": 39,
   "id": "924109e5-dd36-421b-956e-c42ce5dd8fff",
   "metadata": {},
   "outputs": [],
   "source": [
    "from collections import Counter"
   ]
  },
  {
   "cell_type": "code",
   "execution_count": 57,
   "id": "e0972937-2062-449b-8cfd-718abe474c99",
   "metadata": {},
   "outputs": [],
   "source": [
    "from textblob import TextBlob"
   ]
  },
  {
   "cell_type": "code",
   "execution_count": 59,
   "id": "2e0be6e6-be44-4eca-98da-260053b08ade",
   "metadata": {},
   "outputs": [],
   "source": [
    "def get_sentiment(text):\n",
    "    analysis=TextBlob(text)\n",
    "    return 'positive' if analysis.sentiment.polarity>0 else 'negative'"
   ]
  },
  {
   "cell_type": "code",
   "execution_count": 61,
   "id": "7ef734af-4011-4e04-a8f2-a3000a166b43",
   "metadata": {},
   "outputs": [],
   "source": [
    "df['sentiment']=df['Rating text'].apply(get_sentiment)"
   ]
  },
  {
   "cell_type": "code",
   "execution_count": 63,
   "id": "75e939cc-a7a7-4f05-863f-adfadc1f1f3f",
   "metadata": {},
   "outputs": [],
   "source": [
    "positive_reviews=df[df['sentiment']=='positive']\n",
    "negative_reviews=df[df['sentiment']=='negative']"
   ]
  },
  {
   "cell_type": "markdown",
   "id": "4018fafb-21ef-4aac-a60e-dd1614c6fef3",
   "metadata": {},
   "source": [
    "### Review length"
   ]
  },
  {
   "cell_type": "code",
   "execution_count": 74,
   "id": "cc166e4b-7d78-4b82-9a71-8c500d196aaf",
   "metadata": {},
   "outputs": [
    {
     "data": {
      "text/plain": [
       "0       1\n",
       "1       1\n",
       "2       2\n",
       "3       1\n",
       "4       1\n",
       "       ..\n",
       "9546    2\n",
       "9547    2\n",
       "9548    1\n",
       "9549    2\n",
       "9550    2\n",
       "Name: review_length, Length: 9551, dtype: int64"
      ]
     },
     "execution_count": 74,
     "metadata": {},
     "output_type": "execute_result"
    }
   ],
   "source": [
    "df['review_length']=df['Rating text'].apply(lambda x: len(x.split()))\n",
    "df['review_length']"
   ]
  },
  {
   "cell_type": "code",
   "execution_count": 72,
   "id": "cde4e1e6-8c48-4e85-b5c0-2ef5aca663ac",
   "metadata": {},
   "outputs": [
    {
     "name": "stdout",
     "output_type": "stream",
     "text": [
      "Average review length: 1.3378703800649148words\n"
     ]
    }
   ],
   "source": [
    "avg_review_length=df['review_length'].mean()\n",
    "print(f'Average review length: {avg_review_length}words')"
   ]
  },
  {
   "cell_type": "code",
   "execution_count": null,
   "id": "6dd7c560-12d3-4ad8-8764-bde0cf9749fe",
   "metadata": {},
   "outputs": [],
   "source": [
    "positive_words_"
   ]
  },
  {
   "cell_type": "markdown",
   "id": "65454da2-b0a7-487a-bfcf-0f37fda3fe02",
   "metadata": {},
   "source": [
    "### Explore the relationship b/w review length and rating"
   ]
  },
  {
   "cell_type": "code",
   "execution_count": 78,
   "id": "743fef57-3566-48cd-b081-1bba2606f1b3",
   "metadata": {},
   "outputs": [
    {
     "name": "stdout",
     "output_type": "stream",
     "text": [
      "Correlation between review length and rating:-0.5995731124014938\n"
     ]
    }
   ],
   "source": [
    "correlation=df['review_length'].corr(df['Aggregate rating'])\n",
    "print(f'Correlation between review length and rating:{correlation}')"
   ]
  },
  {
   "cell_type": "code",
   "execution_count": 82,
   "id": "e132b18b-1a6f-4b77-834f-5847544b1f9c",
   "metadata": {},
   "outputs": [
    {
     "data": {
      "image/png": "[encoded data removed]",
      "text/plain": [
       "<Figure size 1000x600 with 1 Axes>"
      ]
     },
     "metadata": {},
     "output_type": "display_data"
    }
   ],
   "source": [
    "plt.figure(figsize=(10,6))\n",
    "sns.histplot(data=df,x='review_length',y='Aggregate rating')\n",
    "plt.title('Review length and Rating')\n",
    "plt.xlabel('Review length')\n",
    "plt.ylabel('Rating')\n",
    "plt.show()"
   ]
  },
  {
   "cell_type": "code",
   "execution_count": 84,
   "id": "bea7b333-0f34-4b38-ae21-86554a4f67f4",
   "metadata": {},
   "outputs": [
    {
     "data": {
      "text/html": [
       "<div>\n",
       "<style scoped>\n",
       "    .dataframe tbody tr th:only-of-type {\n",
       "        vertical-align: middle;\n",
       "    }\n",
       "\n",
       "    .dataframe tbody tr th {\n",
       "        vertical-align: top;\n",
       "    }\n",
       "\n",
       "    .dataframe thead th {\n",
       "        text-align: right;\n",
       "    }\n",
       "</style>\n",
       "<table border=\"1\" class=\"dataframe\">\n",
       "  <thead>\n",
       "    <tr style=\"text-align: right;\">\n",
       "      <th></th>\n",
       "      <th>count</th>\n",
       "      <th>mean</th>\n",
       "      <th>std</th>\n",
       "      <th>min</th>\n",
       "      <th>25%</th>\n",
       "      <th>50%</th>\n",
       "      <th>75%</th>\n",
       "      <th>max</th>\n",
       "    </tr>\n",
       "    <tr>\n",
       "      <th>Aggregate rating</th>\n",
       "      <th></th>\n",
       "      <th></th>\n",
       "      <th></th>\n",
       "      <th></th>\n",
       "      <th></th>\n",
       "      <th></th>\n",
       "      <th></th>\n",
       "      <th></th>\n",
       "    </tr>\n",
       "  </thead>\n",
       "  <tbody>\n",
       "    <tr>\n",
       "      <th>0.0</th>\n",
       "      <td>2148.0</td>\n",
       "      <td>2.0</td>\n",
       "      <td>0.0</td>\n",
       "      <td>2.0</td>\n",
       "      <td>2.0</td>\n",
       "      <td>2.0</td>\n",
       "      <td>2.0</td>\n",
       "      <td>2.0</td>\n",
       "    </tr>\n",
       "    <tr>\n",
       "      <th>1.8</th>\n",
       "      <td>1.0</td>\n",
       "      <td>1.0</td>\n",
       "      <td>NaN</td>\n",
       "      <td>1.0</td>\n",
       "      <td>1.0</td>\n",
       "      <td>1.0</td>\n",
       "      <td>1.0</td>\n",
       "      <td>1.0</td>\n",
       "    </tr>\n",
       "    <tr>\n",
       "      <th>1.9</th>\n",
       "      <td>2.0</td>\n",
       "      <td>1.0</td>\n",
       "      <td>0.0</td>\n",
       "      <td>1.0</td>\n",
       "      <td>1.0</td>\n",
       "      <td>1.0</td>\n",
       "      <td>1.0</td>\n",
       "      <td>1.0</td>\n",
       "    </tr>\n",
       "    <tr>\n",
       "      <th>2.0</th>\n",
       "      <td>7.0</td>\n",
       "      <td>1.0</td>\n",
       "      <td>0.0</td>\n",
       "      <td>1.0</td>\n",
       "      <td>1.0</td>\n",
       "      <td>1.0</td>\n",
       "      <td>1.0</td>\n",
       "      <td>1.0</td>\n",
       "    </tr>\n",
       "    <tr>\n",
       "      <th>2.1</th>\n",
       "      <td>15.0</td>\n",
       "      <td>1.0</td>\n",
       "      <td>0.0</td>\n",
       "      <td>1.0</td>\n",
       "      <td>1.0</td>\n",
       "      <td>1.0</td>\n",
       "      <td>1.0</td>\n",
       "      <td>1.0</td>\n",
       "    </tr>\n",
       "    <tr>\n",
       "      <th>2.2</th>\n",
       "      <td>27.0</td>\n",
       "      <td>1.0</td>\n",
       "      <td>0.0</td>\n",
       "      <td>1.0</td>\n",
       "      <td>1.0</td>\n",
       "      <td>1.0</td>\n",
       "      <td>1.0</td>\n",
       "      <td>1.0</td>\n",
       "    </tr>\n",
       "    <tr>\n",
       "      <th>2.3</th>\n",
       "      <td>47.0</td>\n",
       "      <td>1.0</td>\n",
       "      <td>0.0</td>\n",
       "      <td>1.0</td>\n",
       "      <td>1.0</td>\n",
       "      <td>1.0</td>\n",
       "      <td>1.0</td>\n",
       "      <td>1.0</td>\n",
       "    </tr>\n",
       "    <tr>\n",
       "      <th>2.4</th>\n",
       "      <td>87.0</td>\n",
       "      <td>1.0</td>\n",
       "      <td>0.0</td>\n",
       "      <td>1.0</td>\n",
       "      <td>1.0</td>\n",
       "      <td>1.0</td>\n",
       "      <td>1.0</td>\n",
       "      <td>1.0</td>\n",
       "    </tr>\n",
       "    <tr>\n",
       "      <th>2.5</th>\n",
       "      <td>110.0</td>\n",
       "      <td>1.0</td>\n",
       "      <td>0.0</td>\n",
       "      <td>1.0</td>\n",
       "      <td>1.0</td>\n",
       "      <td>1.0</td>\n",
       "      <td>1.0</td>\n",
       "      <td>1.0</td>\n",
       "    </tr>\n",
       "    <tr>\n",
       "      <th>2.6</th>\n",
       "      <td>191.0</td>\n",
       "      <td>1.0</td>\n",
       "      <td>0.0</td>\n",
       "      <td>1.0</td>\n",
       "      <td>1.0</td>\n",
       "      <td>1.0</td>\n",
       "      <td>1.0</td>\n",
       "      <td>1.0</td>\n",
       "    </tr>\n",
       "    <tr>\n",
       "      <th>2.7</th>\n",
       "      <td>250.0</td>\n",
       "      <td>1.0</td>\n",
       "      <td>0.0</td>\n",
       "      <td>1.0</td>\n",
       "      <td>1.0</td>\n",
       "      <td>1.0</td>\n",
       "      <td>1.0</td>\n",
       "      <td>1.0</td>\n",
       "    </tr>\n",
       "    <tr>\n",
       "      <th>2.8</th>\n",
       "      <td>315.0</td>\n",
       "      <td>1.0</td>\n",
       "      <td>0.0</td>\n",
       "      <td>1.0</td>\n",
       "      <td>1.0</td>\n",
       "      <td>1.0</td>\n",
       "      <td>1.0</td>\n",
       "      <td>1.0</td>\n",
       "    </tr>\n",
       "    <tr>\n",
       "      <th>2.9</th>\n",
       "      <td>381.0</td>\n",
       "      <td>1.0</td>\n",
       "      <td>0.0</td>\n",
       "      <td>1.0</td>\n",
       "      <td>1.0</td>\n",
       "      <td>1.0</td>\n",
       "      <td>1.0</td>\n",
       "      <td>1.0</td>\n",
       "    </tr>\n",
       "    <tr>\n",
       "      <th>3.0</th>\n",
       "      <td>468.0</td>\n",
       "      <td>1.0</td>\n",
       "      <td>0.0</td>\n",
       "      <td>1.0</td>\n",
       "      <td>1.0</td>\n",
       "      <td>1.0</td>\n",
       "      <td>1.0</td>\n",
       "      <td>1.0</td>\n",
       "    </tr>\n",
       "    <tr>\n",
       "      <th>3.1</th>\n",
       "      <td>519.0</td>\n",
       "      <td>1.0</td>\n",
       "      <td>0.0</td>\n",
       "      <td>1.0</td>\n",
       "      <td>1.0</td>\n",
       "      <td>1.0</td>\n",
       "      <td>1.0</td>\n",
       "      <td>1.0</td>\n",
       "    </tr>\n",
       "    <tr>\n",
       "      <th>3.2</th>\n",
       "      <td>522.0</td>\n",
       "      <td>1.0</td>\n",
       "      <td>0.0</td>\n",
       "      <td>1.0</td>\n",
       "      <td>1.0</td>\n",
       "      <td>1.0</td>\n",
       "      <td>1.0</td>\n",
       "      <td>1.0</td>\n",
       "    </tr>\n",
       "    <tr>\n",
       "      <th>3.3</th>\n",
       "      <td>483.0</td>\n",
       "      <td>1.0</td>\n",
       "      <td>0.0</td>\n",
       "      <td>1.0</td>\n",
       "      <td>1.0</td>\n",
       "      <td>1.0</td>\n",
       "      <td>1.0</td>\n",
       "      <td>1.0</td>\n",
       "    </tr>\n",
       "    <tr>\n",
       "      <th>3.4</th>\n",
       "      <td>498.0</td>\n",
       "      <td>1.0</td>\n",
       "      <td>0.0</td>\n",
       "      <td>1.0</td>\n",
       "      <td>1.0</td>\n",
       "      <td>1.0</td>\n",
       "      <td>1.0</td>\n",
       "      <td>1.0</td>\n",
       "    </tr>\n",
       "    <tr>\n",
       "      <th>3.5</th>\n",
       "      <td>480.0</td>\n",
       "      <td>1.0</td>\n",
       "      <td>0.0</td>\n",
       "      <td>1.0</td>\n",
       "      <td>1.0</td>\n",
       "      <td>1.0</td>\n",
       "      <td>1.0</td>\n",
       "      <td>1.0</td>\n",
       "    </tr>\n",
       "    <tr>\n",
       "      <th>3.6</th>\n",
       "      <td>458.0</td>\n",
       "      <td>1.0</td>\n",
       "      <td>0.0</td>\n",
       "      <td>1.0</td>\n",
       "      <td>1.0</td>\n",
       "      <td>1.0</td>\n",
       "      <td>1.0</td>\n",
       "      <td>1.0</td>\n",
       "    </tr>\n",
       "    <tr>\n",
       "      <th>3.7</th>\n",
       "      <td>427.0</td>\n",
       "      <td>1.0</td>\n",
       "      <td>0.0</td>\n",
       "      <td>1.0</td>\n",
       "      <td>1.0</td>\n",
       "      <td>1.0</td>\n",
       "      <td>1.0</td>\n",
       "      <td>1.0</td>\n",
       "    </tr>\n",
       "    <tr>\n",
       "      <th>3.8</th>\n",
       "      <td>400.0</td>\n",
       "      <td>1.0</td>\n",
       "      <td>0.0</td>\n",
       "      <td>1.0</td>\n",
       "      <td>1.0</td>\n",
       "      <td>1.0</td>\n",
       "      <td>1.0</td>\n",
       "      <td>1.0</td>\n",
       "    </tr>\n",
       "    <tr>\n",
       "      <th>3.9</th>\n",
       "      <td>335.0</td>\n",
       "      <td>1.0</td>\n",
       "      <td>0.0</td>\n",
       "      <td>1.0</td>\n",
       "      <td>1.0</td>\n",
       "      <td>1.0</td>\n",
       "      <td>1.0</td>\n",
       "      <td>1.0</td>\n",
       "    </tr>\n",
       "    <tr>\n",
       "      <th>4.0</th>\n",
       "      <td>266.0</td>\n",
       "      <td>2.0</td>\n",
       "      <td>0.0</td>\n",
       "      <td>2.0</td>\n",
       "      <td>2.0</td>\n",
       "      <td>2.0</td>\n",
       "      <td>2.0</td>\n",
       "      <td>2.0</td>\n",
       "    </tr>\n",
       "    <tr>\n",
       "      <th>4.1</th>\n",
       "      <td>274.0</td>\n",
       "      <td>2.0</td>\n",
       "      <td>0.0</td>\n",
       "      <td>2.0</td>\n",
       "      <td>2.0</td>\n",
       "      <td>2.0</td>\n",
       "      <td>2.0</td>\n",
       "      <td>2.0</td>\n",
       "    </tr>\n",
       "    <tr>\n",
       "      <th>4.2</th>\n",
       "      <td>221.0</td>\n",
       "      <td>2.0</td>\n",
       "      <td>0.0</td>\n",
       "      <td>2.0</td>\n",
       "      <td>2.0</td>\n",
       "      <td>2.0</td>\n",
       "      <td>2.0</td>\n",
       "      <td>2.0</td>\n",
       "    </tr>\n",
       "    <tr>\n",
       "      <th>4.3</th>\n",
       "      <td>174.0</td>\n",
       "      <td>2.0</td>\n",
       "      <td>0.0</td>\n",
       "      <td>2.0</td>\n",
       "      <td>2.0</td>\n",
       "      <td>2.0</td>\n",
       "      <td>2.0</td>\n",
       "      <td>2.0</td>\n",
       "    </tr>\n",
       "    <tr>\n",
       "      <th>4.4</th>\n",
       "      <td>144.0</td>\n",
       "      <td>2.0</td>\n",
       "      <td>0.0</td>\n",
       "      <td>2.0</td>\n",
       "      <td>2.0</td>\n",
       "      <td>2.0</td>\n",
       "      <td>2.0</td>\n",
       "      <td>2.0</td>\n",
       "    </tr>\n",
       "    <tr>\n",
       "      <th>4.5</th>\n",
       "      <td>95.0</td>\n",
       "      <td>1.0</td>\n",
       "      <td>0.0</td>\n",
       "      <td>1.0</td>\n",
       "      <td>1.0</td>\n",
       "      <td>1.0</td>\n",
       "      <td>1.0</td>\n",
       "      <td>1.0</td>\n",
       "    </tr>\n",
       "    <tr>\n",
       "      <th>4.6</th>\n",
       "      <td>78.0</td>\n",
       "      <td>1.0</td>\n",
       "      <td>0.0</td>\n",
       "      <td>1.0</td>\n",
       "      <td>1.0</td>\n",
       "      <td>1.0</td>\n",
       "      <td>1.0</td>\n",
       "      <td>1.0</td>\n",
       "    </tr>\n",
       "    <tr>\n",
       "      <th>4.7</th>\n",
       "      <td>42.0</td>\n",
       "      <td>1.0</td>\n",
       "      <td>0.0</td>\n",
       "      <td>1.0</td>\n",
       "      <td>1.0</td>\n",
       "      <td>1.0</td>\n",
       "      <td>1.0</td>\n",
       "      <td>1.0</td>\n",
       "    </tr>\n",
       "    <tr>\n",
       "      <th>4.8</th>\n",
       "      <td>25.0</td>\n",
       "      <td>1.0</td>\n",
       "      <td>0.0</td>\n",
       "      <td>1.0</td>\n",
       "      <td>1.0</td>\n",
       "      <td>1.0</td>\n",
       "      <td>1.0</td>\n",
       "      <td>1.0</td>\n",
       "    </tr>\n",
       "    <tr>\n",
       "      <th>4.9</th>\n",
       "      <td>61.0</td>\n",
       "      <td>1.0</td>\n",
       "      <td>0.0</td>\n",
       "      <td>1.0</td>\n",
       "      <td>1.0</td>\n",
       "      <td>1.0</td>\n",
       "      <td>1.0</td>\n",
       "      <td>1.0</td>\n",
       "    </tr>\n",
       "  </tbody>\n",
       "</table>\n",
       "</div>"
      ],
      "text/plain": [
       "                   count  mean  std  min  25%  50%  75%  max\n",
       "Aggregate rating                                            \n",
       "0.0               2148.0   2.0  0.0  2.0  2.0  2.0  2.0  2.0\n",
       "1.8                  1.0   1.0  NaN  1.0  1.0  1.0  1.0  1.0\n",
       "1.9                  2.0   1.0  0.0  1.0  1.0  1.0  1.0  1.0\n",
       "2.0                  7.0   1.0  0.0  1.0  1.0  1.0  1.0  1.0\n",
       "2.1                 15.0   1.0  0.0  1.0  1.0  1.0  1.0  1.0\n",
       "2.2                 27.0   1.0  0.0  1.0  1.0  1.0  1.0  1.0\n",
       "2.3                 47.0   1.0  0.0  1.0  1.0  1.0  1.0  1.0\n",
       "2.4                 87.0   1.0  0.0  1.0  1.0  1.0  1.0  1.0\n",
       "2.5                110.0   1.0  0.0  1.0  1.0  1.0  1.0  1.0\n",
       "2.6                191.0   1.0  0.0  1.0  1.0  1.0  1.0  1.0\n",
       "2.7                250.0   1.0  0.0  1.0  1.0  1.0  1.0  1.0\n",
       "2.8                315.0   1.0  0.0  1.0  1.0  1.0  1.0  1.0\n",
       "2.9                381.0   1.0  0.0  1.0  1.0  1.0  1.0  1.0\n",
       "3.0                468.0   1.0  0.0  1.0  1.0  1.0  1.0  1.0\n",
       "3.1                519.0   1.0  0.0  1.0  1.0  1.0  1.0  1.0\n",
       "3.2                522.0   1.0  0.0  1.0  1.0  1.0  1.0  1.0\n",
       "3.3                483.0   1.0  0.0  1.0  1.0  1.0  1.0  1.0\n",
       "3.4                498.0   1.0  0.0  1.0  1.0  1.0  1.0  1.0\n",
       "3.5                480.0   1.0  0.0  1.0  1.0  1.0  1.0  1.0\n",
       "3.6                458.0   1.0  0.0  1.0  1.0  1.0  1.0  1.0\n",
       "3.7                427.0   1.0  0.0  1.0  1.0  1.0  1.0  1.0\n",
       "3.8                400.0   1.0  0.0  1.0  1.0  1.0  1.0  1.0\n",
       "3.9                335.0   1.0  0.0  1.0  1.0  1.0  1.0  1.0\n",
       "4.0                266.0   2.0  0.0  2.0  2.0  2.0  2.0  2.0\n",
       "4.1                274.0   2.0  0.0  2.0  2.0  2.0  2.0  2.0\n",
       "4.2                221.0   2.0  0.0  2.0  2.0  2.0  2.0  2.0\n",
       "4.3                174.0   2.0  0.0  2.0  2.0  2.0  2.0  2.0\n",
       "4.4                144.0   2.0  0.0  2.0  2.0  2.0  2.0  2.0\n",
       "4.5                 95.0   1.0  0.0  1.0  1.0  1.0  1.0  1.0\n",
       "4.6                 78.0   1.0  0.0  1.0  1.0  1.0  1.0  1.0\n",
       "4.7                 42.0   1.0  0.0  1.0  1.0  1.0  1.0  1.0\n",
       "4.8                 25.0   1.0  0.0  1.0  1.0  1.0  1.0  1.0\n",
       "4.9                 61.0   1.0  0.0  1.0  1.0  1.0  1.0  1.0"
      ]
     },
     "execution_count": 84,
     "metadata": {},
     "output_type": "execute_result"
    }
   ],
   "source": [
    "df.groupby('Aggregate rating')['review_length'].describe()"
   ]
  },
  {
   "cell_type": "markdown",
   "id": "4e2a847b-77b6-4b88-b2a6-b25e74304553",
   "metadata": {},
   "source": [
    "# LEVEL3\n",
    "### TASK2:VOTES ANALYSIS"
   ]
  },
  {
   "cell_type": "code",
   "execution_count": 5,
   "id": "cd1cfd22-4fb6-432b-aa15-49d5f40b275e",
   "metadata": {},
   "outputs": [],
   "source": [
    "restaurant_votes=df.groupby('Restaurant Name')['Votes'].sum().reset_index()\n",
    "restaurant_votes_sorted=restaurant_votes.sort_values(by='Votes',ascending=False)"
   ]
  },
  {
   "cell_type": "markdown",
   "id": "92089788-de30-4ccc-9852-206c8eeb889f",
   "metadata": {},
   "source": [
    "#### restaurants with highest and lowest no.of votes"
   ]
  },
  {
   "cell_type": "code",
   "execution_count": 7,
   "id": "70edf963-da9e-4d23-a716-1c45342f890b",
   "metadata": {},
   "outputs": [],
   "source": [
    "highest_votes=restaurant_votes_sorted.head(1)\n",
    "lowest_votes=restaurant_votes_sorted.tail(1)"
   ]
  },
  {
   "cell_type": "code",
   "execution_count": 103,
   "id": "f675866d-7513-41ed-9780-eee5a0165950",
   "metadata": {},
   "outputs": [
    {
     "name": "stdout",
     "output_type": "stream",
     "text": [
      "Restaurant with the highest number of votes:\n",
      "     Restaurant Name  Votes\n",
      "663  Barbeque Nation  28142\n"
     ]
    }
   ],
   "source": [
    "print('Restaurant with the highest number of votes:')\n",
    "print(highest_votes)"
   ]
  },
  {
   "cell_type": "code",
   "execution_count": 105,
   "id": "7e084b3c-b996-462a-8b0c-192c618c380e",
   "metadata": {},
   "outputs": [
    {
     "name": "stdout",
     "output_type": "stream",
     "text": [
      "\n",
      "Restaurant with the lowest number of votes:\n",
      "     Restaurant Name  Votes\n",
      "2433    Food Station      0\n"
     ]
    }
   ],
   "source": [
    "print('\\nRestaurant with the lowest number of votes:')\n",
    "print(lowest_votes)"
   ]
  },
  {
   "cell_type": "code",
   "execution_count": 11,
   "id": "dbff32b3-7f1e-4abd-b5e8-811993c96bfa",
   "metadata": {},
   "outputs": [
    {
     "name": "stderr",
     "output_type": "stream",
     "text": [
      "C:\\Users\\Lenovo\\AppData\\Local\\Temp\\ipykernel_13740\\2849434024.py:3: FutureWarning: \n",
      "\n",
      "Passing `palette` without assigning `hue` is deprecated and will be removed in v0.14.0. Assign the `y` variable to `hue` and set `legend=False` for the same effect.\n",
      "\n",
      "  sns.barplot(x='Votes',y='Restaurant Name',data=top_restaurants,palette='Reds_d')\n"
     ]
    },
    {
     "data": {
      "image/png": "[encoded data removed]",
      "text/plain": [
       "<Figure size 1000x600 with 1 Axes>"
      ]
     },
     "metadata": {},
     "output_type": "display_data"
    }
   ],
   "source": [
    "top_restaurants=restaurant_votes_sorted.head(10)\n",
    "plt.figure(figsize=(10,6))\n",
    "sns.barplot(x='Votes',y='Restaurant Name',data=top_restaurants,palette='Reds_d')\n",
    "plt.title('Top 10 restaurants with highest no.of votes')\n",
    "plt.xlabel('Number of Votes')\n",
    "plt.ylabel('Restaurant names')\n",
    "plt.show()"
   ]
  },
  {
   "cell_type": "code",
   "execution_count": 13,
   "id": "c96bd46f-8b37-452a-ac27-28f872129ffd",
   "metadata": {},
   "outputs": [
    {
     "name": "stderr",
     "output_type": "stream",
     "text": [
      "C:\\Users\\Lenovo\\AppData\\Local\\Temp\\ipykernel_13740\\2886878175.py:3: FutureWarning: \n",
      "\n",
      "Passing `palette` without assigning `hue` is deprecated and will be removed in v0.14.0. Assign the `y` variable to `hue` and set `legend=False` for the same effect.\n",
      "\n",
      "  sns.barplot(x='Votes',y='Restaurant Name',data=bottom_restaurants,palette='Reds_d')\n"
     ]
    },
    {
     "data": {
      "image/png": "[encoded data removed]",
      "text/plain": [
       "<Figure size 1000x600 with 1 Axes>"
      ]
     },
     "metadata": {},
     "output_type": "display_data"
    }
   ],
   "source": [
    "bottom_restaurants=restaurant_votes_sorted.tail(10)\n",
    "plt.figure(figsize=(10,6))\n",
    "sns.barplot(x='Votes',y='Restaurant Name',data=bottom_restaurants,palette='Reds_d')\n",
    "plt.title('Bottom 10 restaurants with lowest no.of votes')\n",
    "plt.xlabel('Number of Votes')\n",
    "plt.ylabel('Restaurant names')\n",
    "plt.show()"
   ]
  },
  {
   "cell_type": "code",
   "execution_count": 121,
   "id": "db7825c7-2c4b-4cdc-beee-0c2169b76fe3",
   "metadata": {},
   "outputs": [],
   "source": [
    "df['Votes']=pd.to_numeric(df['Votes'],errors='coerce')\n",
    "df['rating']=pd.to_numeric(df['Aggregate rating'],errors='coerce')"
   ]
  },
  {
   "cell_type": "code",
   "execution_count": 123,
   "id": "0fcd031b-1047-4808-aa51-779eb39100f9",
   "metadata": {},
   "outputs": [
    {
     "data": {
      "text/plain": [
       "Restaurant ID           0\n",
       "Restaurant Name         0\n",
       "Country Code            0\n",
       "City                    0\n",
       "Address                 0\n",
       "Locality                0\n",
       "Locality Verbose        0\n",
       "Longitude               0\n",
       "Latitude                0\n",
       "Cuisines                9\n",
       "Average Cost for two    0\n",
       "Currency                0\n",
       "Has Table booking       0\n",
       "Has Online delivery     0\n",
       "Is delivering now       0\n",
       "Switch to order menu    0\n",
       "Price range             0\n",
       "Aggregate rating        0\n",
       "Rating color            0\n",
       "Rating text             0\n",
       "Votes                   0\n",
       "sentiment               0\n",
       "review_lenght           0\n",
       "review_length           0\n",
       "rating                  0\n",
       "dtype: int64"
      ]
     },
     "execution_count": 123,
     "metadata": {},
     "output_type": "execute_result"
    }
   ],
   "source": [
    "df.isnull().sum()"
   ]
  },
  {
   "cell_type": "code",
   "execution_count": 129,
   "id": "0cf9a3e0-6efa-4a60-b59a-19306a79cf1d",
   "metadata": {},
   "outputs": [],
   "source": [
    "df=df.dropna(subset=['Votes','rating'])"
   ]
  },
  {
   "cell_type": "markdown",
   "id": "362bbc59-f5c0-4f16-be1c-7f4b41e693c6",
   "metadata": {},
   "source": [
    "####  correslation b/w no.of votes and rating"
   ]
  },
  {
   "cell_type": "code",
   "execution_count": 131,
   "id": "4973b0a5-cc80-4211-837b-d7454bbc9c7e",
   "metadata": {},
   "outputs": [
    {
     "name": "stdout",
     "output_type": "stream",
     "text": [
      "Correlation between no.of votes and rating:0.3136905841954117\n"
     ]
    }
   ],
   "source": [
    "correlation=df['Votes'].corr(df['rating'])\n",
    "print(f'Correlation between no.of votes and rating:{correlation}')"
   ]
  },
  {
   "cell_type": "code",
   "execution_count": 133,
   "id": "2d7f4bc3-3e27-4003-a367-99280ed725be",
   "metadata": {},
   "outputs": [
    {
     "data": {
      "image/png": "[encoded data removed]",
      "text/plain": [
       "<Figure size 800x600 with 1 Axes>"
      ]
     },
     "metadata": {},
     "output_type": "display_data"
    }
   ],
   "source": [
    "plt.figure(figsize=(8,6))\n",
    "sns.scatterplot(data=df,x='Votes',y='rating')\n",
    "plt.title('Relationship between no.of votes and rating')\n",
    "plt.xlabel('Number of Votes')\n",
    "plt.ylabel('Rating')\n",
    "plt.show()"
   ]
  },
  {
   "cell_type": "code",
   "execution_count": 135,
   "id": "d83ad0ea-f107-429e-9bcf-cce9ddbea093",
   "metadata": {},
   "outputs": [
    {
     "name": "stderr",
     "output_type": "stream",
     "text": [
      "C:\\Users\\Lenovo\\anaconda3\\Lib\\site-packages\\numpy\\lib\\function_base.py:2889: RuntimeWarning: Degrees of freedom <= 0 for slice\n",
      "  c = cov(x, y, rowvar, dtype=dtype)\n",
      "C:\\Users\\Lenovo\\anaconda3\\Lib\\site-packages\\numpy\\lib\\function_base.py:2748: RuntimeWarning: divide by zero encountered in divide\n",
      "  c *= np.true_divide(1, fact)\n",
      "C:\\Users\\Lenovo\\anaconda3\\Lib\\site-packages\\numpy\\lib\\function_base.py:2748: RuntimeWarning: invalid value encountered in multiply\n",
      "  c *= np.true_divide(1, fact)\n",
      "C:\\Users\\Lenovo\\anaconda3\\Lib\\site-packages\\numpy\\lib\\function_base.py:2897: RuntimeWarning: invalid value encountered in divide\n",
      "  c /= stddev[:, None]\n",
      "C:\\Users\\Lenovo\\anaconda3\\Lib\\site-packages\\numpy\\lib\\function_base.py:2898: RuntimeWarning: invalid value encountered in divide\n",
      "  c /= stddev[None, :]\n"
     ]
    },
    {
     "name": "stdout",
     "output_type": "stream",
     "text": [
      "Restaurant Name\n",
      "#45                    NaN\n",
      "#Dilliwaala6           NaN\n",
      "#InstaFreeze           NaN\n",
      "#OFF Campus            NaN\n",
      "#Urban Caf��           NaN\n",
      "                        ..\n",
      "t Lounge by Dilmah     NaN\n",
      "tashas                 NaN\n",
      "wagamama               NaN\n",
      "{Niche} - Cafe & Bar   NaN\n",
      "�ukura��a Sofras۱      NaN\n",
      "Length: 7446, dtype: float64\n"
     ]
    },
    {
     "name": "stderr",
     "output_type": "stream",
     "text": [
      "C:\\Users\\Lenovo\\AppData\\Local\\Temp\\ipykernel_756\\2844784754.py:1: DeprecationWarning: DataFrameGroupBy.apply operated on the grouping columns. This behavior is deprecated, and in a future version of pandas the grouping columns will be excluded from the operation. Either pass `include_groups=False` to exclude the groupings or explicitly select the grouping columns after groupby to silence this warning.\n",
      "  restaurant_corr=df.groupby('Restaurant Name').apply(lambda group:group['Votes'].corr(group['rating']))\n"
     ]
    }
   ],
   "source": [
    "restaurant_corr=df.groupby('Restaurant Name').apply(lambda group:group['Votes'].corr(group['rating']))\n",
    "print(restaurant_corr)"
   ]
  },
  {
   "cell_type": "markdown",
   "id": "6d78592f-f210-4da5-82e8-f17ea4685d43",
   "metadata": {},
   "source": [
    "# LEVEL3\n",
    "### TASK3:PRICE RANGE VS ONLINE DELIVERY AND TABLE BOOKING"
   ]
  },
  {
   "cell_type": "markdown",
   "id": "d280abe1-ae93-4bdf-a7c4-dec330ef52d9",
   "metadata": {},
   "source": [
    "#### relationship b/w price range and availability of online delivery and table booking"
   ]
  },
  {
   "cell_type": "code",
   "execution_count": 9,
   "id": "13056aaf-5efe-4e4e-a01f-accb27152f2d",
   "metadata": {},
   "outputs": [
    {
     "data": {
      "image/png": "[encoded data removed]",
      "text/plain": [
       "<Figure size 640x480 with 1 Axes>"
      ]
     },
     "metadata": {},
     "output_type": "display_data"
    }
   ],
   "source": [
    "sns.boxplot(x='Has Online delivery',y='Price range',data=df)\n",
    "plt.title('Price Range Vs Online delivery availability')\n",
    "plt.show()"
   ]
  },
  {
   "cell_type": "code",
   "execution_count": 11,
   "id": "8cb06426-2d17-4999-8ae1-9773672d05ac",
   "metadata": {},
   "outputs": [
    {
     "data": {
      "image/png": "[encoded data removed]",
      "text/plain": [
       "<Figure size 640x480 with 1 Axes>"
      ]
     },
     "metadata": {},
     "output_type": "display_data"
    }
   ],
   "source": [
    "sns.boxplot(x='Has Table booking',y='Price range',data=df)\n",
    "plt.title('Price range Vs Table booking availability')\n",
    "plt.show()"
   ]
  },
  {
   "cell_type": "markdown",
   "id": "a7ac661a-960c-4868-b454-6fc2861885f0",
   "metadata": {},
   "source": [
    "### statistical testing"
   ]
  },
  {
   "cell_type": "code",
   "execution_count": 14,
   "id": "597f799d-7537-4f31-9fe5-1d646e828fdf",
   "metadata": {},
   "outputs": [],
   "source": [
    "from scipy.stats import chi2_contingency,f_oneway"
   ]
  },
  {
   "cell_type": "markdown",
   "id": "f547e8de-aecf-401c-87aa-180b3f6810e5",
   "metadata": {},
   "source": [
    "### Chi-Square test"
   ]
  },
  {
   "cell_type": "code",
   "execution_count": 16,
   "id": "49c983f3-281c-4ba2-9538-1c29ce2ad374",
   "metadata": {},
   "outputs": [
    {
     "name": "stdout",
     "output_type": "stream",
     "text": [
      "Chi-Square p-value for delivery:4.855491091732406e-156\n"
     ]
    }
   ],
   "source": [
    "contingency_delivery=pd.crosstab(df['Price range'],df['Has Online delivery'])\n",
    "chi2,p_value, _, _=chi2_contingency(contingency_delivery)\n",
    "print(f'Chi-Square p-value for delivery:{p_value}')"
   ]
  },
  {
   "cell_type": "code",
   "execution_count": 19,
   "id": "6c928015-7ef8-40f6-b71a-3545d8d2cb7d",
   "metadata": {},
   "outputs": [
    {
     "name": "stdout",
     "output_type": "stream",
     "text": [
      "Chi-Square p-value for table booking:0.0\n"
     ]
    }
   ],
   "source": [
    "contingency_booking=pd.crosstab(df['Price range'],df['Has Table booking'])\n",
    "chi2,p_value, _, _=chi2_contingency(contingency_booking)\n",
    "print(f'Chi-Square p-value for table booking:{p_value}')"
   ]
  },
  {
   "cell_type": "markdown",
   "id": "8e7f4aa2-ecf7-4f7a-9815-0a3ef13d445c",
   "metadata": {},
   "source": [
    "### ANOVA test"
   ]
  },
  {
   "cell_type": "code",
   "execution_count": 23,
   "id": "0d15f566-b42a-4ce7-b626-5e8c73062385",
   "metadata": {},
   "outputs": [
    {
     "name": "stdout",
     "output_type": "stream",
     "text": [
      "ANOVA p-value for delivery:nan\n"
     ]
    },
    {
     "name": "stderr",
     "output_type": "stream",
     "text": [
      "C:\\Users\\Lenovo\\anaconda3\\Lib\\site-packages\\scipy\\stats\\_stats_py.py:4102: DegenerateDataWarning: at least one input has length 0\n",
      "  if _f_oneway_is_too_small(samples):\n"
     ]
    }
   ],
   "source": [
    "delivery_groups=[df[df['Has Online delivery']==1]['Price range'],df[df['Has Online delivery']==0]['Price range']]\n",
    "f_stat,p_value=f_oneway(*delivery_groups)\n",
    "print(f'ANOVA p-value for delivery:{p_value}')"
   ]
  },
  {
   "cell_type": "code",
   "execution_count": 25,
   "id": "c419811a-3964-4e14-8ba5-e7d348f2cd8d",
   "metadata": {},
   "outputs": [
    {
     "name": "stdout",
     "output_type": "stream",
     "text": [
      "ANOVA p-value for table booking:nan\n"
     ]
    },
    {
     "name": "stderr",
     "output_type": "stream",
     "text": [
      "C:\\Users\\Lenovo\\anaconda3\\Lib\\site-packages\\scipy\\stats\\_stats_py.py:4102: DegenerateDataWarning: at least one input has length 0\n",
      "  if _f_oneway_is_too_small(samples):\n"
     ]
    }
   ],
   "source": [
    "booking_groups=[df[df['Has Table booking']==1]['Price range'],df[df['Has Table booking']==0]['Price range']]\n",
    "f_stat,p_value=f_oneway(*booking_groups)\n",
    "print(f'ANOVA p-value for table booking:{p_value}')"
   ]
  },
  {
   "cell_type": "code",
   "execution_count": 27,
   "id": "d56bbdc4-e7ce-46a7-a9a5-d1dc2c84616e",
   "metadata": {},
   "outputs": [],
   "source": [
    "from sklearn.linear_model import LogisticRegression\n",
    "from sklearn.model_selection import train_test_split\n",
    "from sklearn.metrics import accuracy_score"
   ]
  },
  {
   "cell_type": "code",
   "execution_count": 29,
   "id": "94f20d48-bf35-4d78-b421-ff6a85077ad9",
   "metadata": {},
   "outputs": [],
   "source": [
    "x=df[['Price range']]\n",
    "y=df[['Has Online delivery']]"
   ]
  },
  {
   "cell_type": "code",
   "execution_count": 31,
   "id": "bd180fec-27b6-4856-acf2-a0472fd41edc",
   "metadata": {},
   "outputs": [],
   "source": [
    "x_train,x_test,y_train,y_test=train_test_split(x,y,test_size=0.2,random_state=42)"
   ]
  },
  {
   "cell_type": "code",
   "execution_count": 33,
   "id": "38b8bcfe-b529-4f3d-9858-b51f12ee23f7",
   "metadata": {},
   "outputs": [
    {
     "name": "stderr",
     "output_type": "stream",
     "text": [
      "C:\\Users\\Lenovo\\anaconda3\\Lib\\site-packages\\sklearn\\utils\\validation.py:1300: DataConversionWarning: A column-vector y was passed when a 1d array was expected. Please change the shape of y to (n_samples, ), for example using ravel().\n",
      "  y = column_or_1d(y, warn=True)\n"
     ]
    },
    {
     "data": {
      "text/html": [
       "<style>#sk-container-id-1 {\n",
       "  /* Definition of color scheme common for light and dark mode */\n",
       "  --sklearn-color-text: black;\n",
       "  --sklearn-color-line: gray;\n",
       "  /* Definition of color scheme for unfitted estimators */\n",
       "  --sklearn-color-unfitted-level-0: #fff5e6;\n",
       "  --sklearn-color-unfitted-level-1: #f6e4d2;\n",
       "  --sklearn-color-unfitted-level-2: #ffe0b3;\n",
       "  --sklearn-color-unfitted-level-3: chocolate;\n",
       "  /* Definition of color scheme for fitted estimators */\n",
       "  --sklearn-color-fitted-level-0: #f0f8ff;\n",
       "  --sklearn-color-fitted-level-1: #d4ebff;\n",
       "  --sklearn-color-fitted-level-2: #b3dbfd;\n",
       "  --sklearn-color-fitted-level-3: cornflowerblue;\n",
       "\n",
       "  /* Specific color for light theme */\n",
       "  --sklearn-color-text-on-default-background: var(--sg-text-color, var(--theme-code-foreground, var(--jp-content-font-color1, black)));\n",
       "  --sklearn-color-background: var(--sg-background-color, var(--theme-background, var(--jp-layout-color0, white)));\n",
       "  --sklearn-color-border-box: var(--sg-text-color, var(--theme-code-foreground, var(--jp-content-font-color1, black)));\n",
       "  --sklearn-color-icon: #696969;\n",
       "\n",
       "  @media (prefers-color-scheme: dark) {\n",
       "    /* Redefinition of color scheme for dark theme */\n",
       "    --sklearn-color-text-on-default-background: var(--sg-text-color, var(--theme-code-foreground, var(--jp-content-font-color1, white)));\n",
       "    --sklearn-color-background: var(--sg-background-color, var(--theme-background, var(--jp-layout-color0, #111)));\n",
       "    --sklearn-color-border-box: var(--sg-text-color, var(--theme-code-foreground, var(--jp-content-font-color1, white)));\n",
       "    --sklearn-color-icon: #878787;\n",
       "  }\n",
       "}\n",
       "\n",
       "#sk-container-id-1 {\n",
       "  color: var(--sklearn-color-text);\n",
       "}\n",
       "\n",
       "#sk-container-id-1 pre {\n",
       "  padding: 0;\n",
       "}\n",
       "\n",
       "#sk-container-id-1 input.sk-hidden--visually {\n",
       "  border: 0;\n",
       "  clip: rect(1px 1px 1px 1px);\n",
       "  clip: rect(1px, 1px, 1px, 1px);\n",
       "  height: 1px;\n",
       "  margin: -1px;\n",
       "  overflow: hidden;\n",
       "  padding: 0;\n",
       "  position: absolute;\n",
       "  width: 1px;\n",
       "}\n",
       "\n",
       "#sk-container-id-1 div.sk-dashed-wrapped {\n",
       "  border: 1px dashed var(--sklearn-color-line);\n",
       "  margin: 0 0.4em 0.5em 0.4em;\n",
       "  box-sizing: border-box;\n",
       "  padding-bottom: 0.4em;\n",
       "  background-color: var(--sklearn-color-background);\n",
       "}\n",
       "\n",
       "#sk-container-id-1 div.sk-container {\n",
       "  /* jupyter's `normalize.less` sets `[hidden] { display: none; }`\n",
       "     but bootstrap.min.css set `[hidden] { display: none !important; }`\n",
       "     so we also need the `!important` here to be able to override the\n",
       "     default hidden behavior on the sphinx rendered scikit-learn.org.\n",
       "     See: https://github.com/scikit-learn/scikit-learn/issues/21755 */\n",
       "  display: inline-block !important;\n",
       "  position: relative;\n",
       "}\n",
       "\n",
       "#sk-container-id-1 div.sk-text-repr-fallback {\n",
       "  display: none;\n",
       "}\n",
       "\n",
       "div.sk-parallel-item,\n",
       "div.sk-serial,\n",
       "div.sk-item {\n",
       "  /* draw centered vertical line to link estimators */\n",
       "  background-image: linear-gradient(var(--sklearn-color-text-on-default-background), var(--sklearn-color-text-on-default-background));\n",
       "  background-size: 2px 100%;\n",
       "  background-repeat: no-repeat;\n",
       "  background-position: center center;\n",
       "}\n",
       "\n",
       "/* Parallel-specific style estimator block */\n",
       "\n",
       "#sk-container-id-1 div.sk-parallel-item::after {\n",
       "  content: \"\";\n",
       "  width: 100%;\n",
       "  border-bottom: 2px solid var(--sklearn-color-text-on-default-background);\n",
       "  flex-grow: 1;\n",
       "}\n",
       "\n",
       "#sk-container-id-1 div.sk-parallel {\n",
       "  display: flex;\n",
       "  align-items: stretch;\n",
       "  justify-content: center;\n",
       "  background-color: var(--sklearn-color-background);\n",
       "  position: relative;\n",
       "}\n",
       "\n",
       "#sk-container-id-1 div.sk-parallel-item {\n",
       "  display: flex;\n",
       "  flex-direction: column;\n",
       "}\n",
       "\n",
       "#sk-container-id-1 div.sk-parallel-item:first-child::after {\n",
       "  align-self: flex-end;\n",
       "  width: 50%;\n",
       "}\n",
       "\n",
       "#sk-container-id-1 div.sk-parallel-item:last-child::after {\n",
       "  align-self: flex-start;\n",
       "  width: 50%;\n",
       "}\n",
       "\n",
       "#sk-container-id-1 div.sk-parallel-item:only-child::after {\n",
       "  width: 0;\n",
       "}\n",
       "\n",
       "/* Serial-specific style estimator block */\n",
       "\n",
       "#sk-container-id-1 div.sk-serial {\n",
       "  display: flex;\n",
       "  flex-direction: column;\n",
       "  align-items: center;\n",
       "  background-color: var(--sklearn-color-background);\n",
       "  padding-right: 1em;\n",
       "  padding-left: 1em;\n",
       "}\n",
       "\n",
       "\n",
       "/* Toggleable style: style used for estimator/Pipeline/ColumnTransformer box that is\n",
       "clickable and can be expanded/collapsed.\n",
       "- Pipeline and ColumnTransformer use this feature and define the default style\n",
       "- Estimators will overwrite some part of the style using the `sk-estimator` class\n",
       "*/\n",
       "\n",
       "/* Pipeline and ColumnTransformer style (default) */\n",
       "\n",
       "#sk-container-id-1 div.sk-toggleable {\n",
       "  /* Default theme specific background. It is overwritten whether we have a\n",
       "  specific estimator or a Pipeline/ColumnTransformer */\n",
       "  background-color: var(--sklearn-color-background);\n",
       "}\n",
       "\n",
       "/* Toggleable label */\n",
       "#sk-container-id-1 label.sk-toggleable__label {\n",
       "  cursor: pointer;\n",
       "  display: block;\n",
       "  width: 100%;\n",
       "  margin-bottom: 0;\n",
       "  padding: 0.5em;\n",
       "  box-sizing: border-box;\n",
       "  text-align: center;\n",
       "}\n",
       "\n",
       "#sk-container-id-1 label.sk-toggleable__label-arrow:before {\n",
       "  /* Arrow on the left of the label */\n",
       "  content: \"▸\";\n",
       "  float: left;\n",
       "  margin-right: 0.25em;\n",
       "  color: var(--sklearn-color-icon);\n",
       "}\n",
       "\n",
       "#sk-container-id-1 label.sk-toggleable__label-arrow:hover:before {\n",
       "  color: var(--sklearn-color-text);\n",
       "}\n",
       "\n",
       "/* Toggleable content - dropdown */\n",
       "\n",
       "#sk-container-id-1 div.sk-toggleable__content {\n",
       "  max-height: 0;\n",
       "  max-width: 0;\n",
       "  overflow: hidden;\n",
       "  text-align: left;\n",
       "  /* unfitted */\n",
       "  background-color: var(--sklearn-color-unfitted-level-0);\n",
       "}\n",
       "\n",
       "#sk-container-id-1 div.sk-toggleable__content.fitted {\n",
       "  /* fitted */\n",
       "  background-color: var(--sklearn-color-fitted-level-0);\n",
       "}\n",
       "\n",
       "#sk-container-id-1 div.sk-toggleable__content pre {\n",
       "  margin: 0.2em;\n",
       "  border-radius: 0.25em;\n",
       "  color: var(--sklearn-color-text);\n",
       "  /* unfitted */\n",
       "  background-color: var(--sklearn-color-unfitted-level-0);\n",
       "}\n",
       "\n",
       "#sk-container-id-1 div.sk-toggleable__content.fitted pre {\n",
       "  /* unfitted */\n",
       "  background-color: var(--sklearn-color-fitted-level-0);\n",
       "}\n",
       "\n",
       "#sk-container-id-1 input.sk-toggleable__control:checked~div.sk-toggleable__content {\n",
       "  /* Expand drop-down */\n",
       "  max-height: 200px;\n",
       "  max-width: 100%;\n",
       "  overflow: auto;\n",
       "}\n",
       "\n",
       "#sk-container-id-1 input.sk-toggleable__control:checked~label.sk-toggleable__label-arrow:before {\n",
       "  content: \"▾\";\n",
       "}\n",
       "\n",
       "/* Pipeline/ColumnTransformer-specific style */\n",
       "\n",
       "#sk-container-id-1 div.sk-label input.sk-toggleable__control:checked~label.sk-toggleable__label {\n",
       "  color: var(--sklearn-color-text);\n",
       "  background-color: var(--sklearn-color-unfitted-level-2);\n",
       "}\n",
       "\n",
       "#sk-container-id-1 div.sk-label.fitted input.sk-toggleable__control:checked~label.sk-toggleable__label {\n",
       "  background-color: var(--sklearn-color-fitted-level-2);\n",
       "}\n",
       "\n",
       "/* Estimator-specific style */\n",
       "\n",
       "/* Colorize estimator box */\n",
       "#sk-container-id-1 div.sk-estimator input.sk-toggleable__control:checked~label.sk-toggleable__label {\n",
       "  /* unfitted */\n",
       "  background-color: var(--sklearn-color-unfitted-level-2);\n",
       "}\n",
       "\n",
       "#sk-container-id-1 div.sk-estimator.fitted input.sk-toggleable__control:checked~label.sk-toggleable__label {\n",
       "  /* fitted */\n",
       "  background-color: var(--sklearn-color-fitted-level-2);\n",
       "}\n",
       "\n",
       "#sk-container-id-1 div.sk-label label.sk-toggleable__label,\n",
       "#sk-container-id-1 div.sk-label label {\n",
       "  /* The background is the default theme color */\n",
       "  color: var(--sklearn-color-text-on-default-background);\n",
       "}\n",
       "\n",
       "/* On hover, darken the color of the background */\n",
       "#sk-container-id-1 div.sk-label:hover label.sk-toggleable__label {\n",
       "  color: var(--sklearn-color-text);\n",
       "  background-color: var(--sklearn-color-unfitted-level-2);\n",
       "}\n",
       "\n",
       "/* Label box, darken color on hover, fitted */\n",
       "#sk-container-id-1 div.sk-label.fitted:hover label.sk-toggleable__label.fitted {\n",
       "  color: var(--sklearn-color-text);\n",
       "  background-color: var(--sklearn-color-fitted-level-2);\n",
       "}\n",
       "\n",
       "/* Estimator label */\n",
       "\n",
       "#sk-container-id-1 div.sk-label label {\n",
       "  font-family: monospace;\n",
       "  font-weight: bold;\n",
       "  display: inline-block;\n",
       "  line-height: 1.2em;\n",
       "}\n",
       "\n",
       "#sk-container-id-1 div.sk-label-container {\n",
       "  text-align: center;\n",
       "}\n",
       "\n",
       "/* Estimator-specific */\n",
       "#sk-container-id-1 div.sk-estimator {\n",
       "  font-family: monospace;\n",
       "  border: 1px dotted var(--sklearn-color-border-box);\n",
       "  border-radius: 0.25em;\n",
       "  box-sizing: border-box;\n",
       "  margin-bottom: 0.5em;\n",
       "  /* unfitted */\n",
       "  background-color: var(--sklearn-color-unfitted-level-0);\n",
       "}\n",
       "\n",
       "#sk-container-id-1 div.sk-estimator.fitted {\n",
       "  /* fitted */\n",
       "  background-color: var(--sklearn-color-fitted-level-0);\n",
       "}\n",
       "\n",
       "/* on hover */\n",
       "#sk-container-id-1 div.sk-estimator:hover {\n",
       "  /* unfitted */\n",
       "  background-color: var(--sklearn-color-unfitted-level-2);\n",
       "}\n",
       "\n",
       "#sk-container-id-1 div.sk-estimator.fitted:hover {\n",
       "  /* fitted */\n",
       "  background-color: var(--sklearn-color-fitted-level-2);\n",
       "}\n",
       "\n",
       "/* Specification for estimator info (e.g. \"i\" and \"?\") */\n",
       "\n",
       "/* Common style for \"i\" and \"?\" */\n",
       "\n",
       ".sk-estimator-doc-link,\n",
       "a:link.sk-estimator-doc-link,\n",
       "a:visited.sk-estimator-doc-link {\n",
       "  float: right;\n",
       "  font-size: smaller;\n",
       "  line-height: 1em;\n",
       "  font-family: monospace;\n",
       "  background-color: var(--sklearn-color-background);\n",
       "  border-radius: 1em;\n",
       "  height: 1em;\n",
       "  width: 1em;\n",
       "  text-decoration: none !important;\n",
       "  margin-left: 1ex;\n",
       "  /* unfitted */\n",
       "  border: var(--sklearn-color-unfitted-level-1) 1pt solid;\n",
       "  color: var(--sklearn-color-unfitted-level-1);\n",
       "}\n",
       "\n",
       ".sk-estimator-doc-link.fitted,\n",
       "a:link.sk-estimator-doc-link.fitted,\n",
       "a:visited.sk-estimator-doc-link.fitted {\n",
       "  /* fitted */\n",
       "  border: var(--sklearn-color-fitted-level-1) 1pt solid;\n",
       "  color: var(--sklearn-color-fitted-level-1);\n",
       "}\n",
       "\n",
       "/* On hover */\n",
       "div.sk-estimator:hover .sk-estimator-doc-link:hover,\n",
       ".sk-estimator-doc-link:hover,\n",
       "div.sk-label-container:hover .sk-estimator-doc-link:hover,\n",
       ".sk-estimator-doc-link:hover {\n",
       "  /* unfitted */\n",
       "  background-color: var(--sklearn-color-unfitted-level-3);\n",
       "  color: var(--sklearn-color-background);\n",
       "  text-decoration: none;\n",
       "}\n",
       "\n",
       "div.sk-estimator.fitted:hover .sk-estimator-doc-link.fitted:hover,\n",
       ".sk-estimator-doc-link.fitted:hover,\n",
       "div.sk-label-container:hover .sk-estimator-doc-link.fitted:hover,\n",
       ".sk-estimator-doc-link.fitted:hover {\n",
       "  /* fitted */\n",
       "  background-color: var(--sklearn-color-fitted-level-3);\n",
       "  color: var(--sklearn-color-background);\n",
       "  text-decoration: none;\n",
       "}\n",
       "\n",
       "/* Span, style for the box shown on hovering the info icon */\n",
       ".sk-estimator-doc-link span {\n",
       "  display: none;\n",
       "  z-index: 9999;\n",
       "  position: relative;\n",
       "  font-weight: normal;\n",
       "  right: .2ex;\n",
       "  padding: .5ex;\n",
       "  margin: .5ex;\n",
       "  width: min-content;\n",
       "  min-width: 20ex;\n",
       "  max-width: 50ex;\n",
       "  color: var(--sklearn-color-text);\n",
       "  box-shadow: 2pt 2pt 4pt #999;\n",
       "  /* unfitted */\n",
       "  background: var(--sklearn-color-unfitted-level-0);\n",
       "  border: .5pt solid var(--sklearn-color-unfitted-level-3);\n",
       "}\n",
       "\n",
       ".sk-estimator-doc-link.fitted span {\n",
       "  /* fitted */\n",
       "  background: var(--sklearn-color-fitted-level-0);\n",
       "  border: var(--sklearn-color-fitted-level-3);\n",
       "}\n",
       "\n",
       ".sk-estimator-doc-link:hover span {\n",
       "  display: block;\n",
       "}\n",
       "\n",
       "/* \"?\"-specific style due to the `<a>` HTML tag */\n",
       "\n",
       "#sk-container-id-1 a.estimator_doc_link {\n",
       "  float: right;\n",
       "  font-size: 1rem;\n",
       "  line-height: 1em;\n",
       "  font-family: monospace;\n",
       "  background-color: var(--sklearn-color-background);\n",
       "  border-radius: 1rem;\n",
       "  height: 1rem;\n",
       "  width: 1rem;\n",
       "  text-decoration: none;\n",
       "  /* unfitted */\n",
       "  color: var(--sklearn-color-unfitted-level-1);\n",
       "  border: var(--sklearn-color-unfitted-level-1) 1pt solid;\n",
       "}\n",
       "\n",
       "#sk-container-id-1 a.estimator_doc_link.fitted {\n",
       "  /* fitted */\n",
       "  border: var(--sklearn-color-fitted-level-1) 1pt solid;\n",
       "  color: var(--sklearn-color-fitted-level-1);\n",
       "}\n",
       "\n",
       "/* On hover */\n",
       "#sk-container-id-1 a.estimator_doc_link:hover {\n",
       "  /* unfitted */\n",
       "  background-color: var(--sklearn-color-unfitted-level-3);\n",
       "  color: var(--sklearn-color-background);\n",
       "  text-decoration: none;\n",
       "}\n",
       "\n",
       "#sk-container-id-1 a.estimator_doc_link.fitted:hover {\n",
       "  /* fitted */\n",
       "  background-color: var(--sklearn-color-fitted-level-3);\n",
       "}\n",
       "</style><div id=\"sk-container-id-1\" class=\"sk-top-container\"><div class=\"sk-text-repr-fallback\"><pre>LogisticRegression()</pre><b>In a Jupyter environment, please rerun this cell to show the HTML representation or trust the notebook. <br />On GitHub, the HTML representation is unable to render, please try loading this page with nbviewer.org.</b></div><div class=\"sk-container\" hidden><div class=\"sk-item\"><div class=\"sk-estimator fitted sk-toggleable\"><input class=\"sk-toggleable__control sk-hidden--visually\" id=\"sk-estimator-id-1\" type=\"checkbox\" checked><label for=\"sk-estimator-id-1\" class=\"sk-toggleable__label fitted sk-toggleable__label-arrow fitted\">&nbsp;&nbsp;LogisticRegression<a class=\"sk-estimator-doc-link fitted\" rel=\"noreferrer\" target=\"_blank\" href=\"https://scikit-learn.org/1.4/modules/generated/sklearn.linear_model.LogisticRegression.html\">?<span>Documentation for LogisticRegression</span></a><span class=\"sk-estimator-doc-link fitted\">i<span>Fitted</span></span></label><div class=\"sk-toggleable__content fitted\"><pre>LogisticRegression()</pre></div> </div></div></div></div>"
      ],
      "text/plain": [
       "LogisticRegression()"
      ]
     },
     "execution_count": 33,
     "metadata": {},
     "output_type": "execute_result"
    }
   ],
   "source": [
    "model=LogisticRegression()\n",
    "model.fit(x_train,y_train)"
   ]
  },
  {
   "cell_type": "code",
   "execution_count": 35,
   "id": "9ba3a238-fa06-47ea-baf8-b578ccc5a58e",
   "metadata": {},
   "outputs": [
    {
     "name": "stdout",
     "output_type": "stream",
     "text": [
      "Accuracy of the logistic regression model:0.7409733124018838\n"
     ]
    }
   ],
   "source": [
    "y_pred=model.predict(x_test)\n",
    "print(f'Accuracy of the logistic regression model:{accuracy_score(y_test,y_pred)}')"
   ]
  },
  {
   "cell_type": "markdown",
   "id": "06415a22-ba38-4131-96e1-06621255957d",
   "metadata": {},
   "source": [
    "### Logistic Regression for table booking"
   ]
  },
  {
   "cell_type": "code",
   "execution_count": 42,
   "id": "e8db52ca-d90c-45cc-b4e4-a7f10e539309",
   "metadata": {},
   "outputs": [],
   "source": [
    "y=df['Has Table booking']"
   ]
  },
  {
   "cell_type": "code",
   "execution_count": 44,
   "id": "9ab00f4b-a639-4bfe-87a4-0ad39cd0d693",
   "metadata": {},
   "outputs": [
    {
     "data": {
      "text/html": [
       "<style>#sk-container-id-2 {\n",
       "  /* Definition of color scheme common for light and dark mode */\n",
       "  --sklearn-color-text: black;\n",
       "  --sklearn-color-line: gray;\n",
       "  /* Definition of color scheme for unfitted estimators */\n",
       "  --sklearn-color-unfitted-level-0: #fff5e6;\n",
       "  --sklearn-color-unfitted-level-1: #f6e4d2;\n",
       "  --sklearn-color-unfitted-level-2: #ffe0b3;\n",
       "  --sklearn-color-unfitted-level-3: chocolate;\n",
       "  /* Definition of color scheme for fitted estimators */\n",
       "  --sklearn-color-fitted-level-0: #f0f8ff;\n",
       "  --sklearn-color-fitted-level-1: #d4ebff;\n",
       "  --sklearn-color-fitted-level-2: #b3dbfd;\n",
       "  --sklearn-color-fitted-level-3: cornflowerblue;\n",
       "\n",
       "  /* Specific color for light theme */\n",
       "  --sklearn-color-text-on-default-background: var(--sg-text-color, var(--theme-code-foreground, var(--jp-content-font-color1, black)));\n",
       "  --sklearn-color-background: var(--sg-background-color, var(--theme-background, var(--jp-layout-color0, white)));\n",
       "  --sklearn-color-border-box: var(--sg-text-color, var(--theme-code-foreground, var(--jp-content-font-color1, black)));\n",
       "  --sklearn-color-icon: #696969;\n",
       "\n",
       "  @media (prefers-color-scheme: dark) {\n",
       "    /* Redefinition of color scheme for dark theme */\n",
       "    --sklearn-color-text-on-default-background: var(--sg-text-color, var(--theme-code-foreground, var(--jp-content-font-color1, white)));\n",
       "    --sklearn-color-background: var(--sg-background-color, var(--theme-background, var(--jp-layout-color0, #111)));\n",
       "    --sklearn-color-border-box: var(--sg-text-color, var(--theme-code-foreground, var(--jp-content-font-color1, white)));\n",
       "    --sklearn-color-icon: #878787;\n",
       "  }\n",
       "}\n",
       "\n",
       "#sk-container-id-2 {\n",
       "  color: var(--sklearn-color-text);\n",
       "}\n",
       "\n",
       "#sk-container-id-2 pre {\n",
       "  padding: 0;\n",
       "}\n",
       "\n",
       "#sk-container-id-2 input.sk-hidden--visually {\n",
       "  border: 0;\n",
       "  clip: rect(1px 1px 1px 1px);\n",
       "  clip: rect(1px, 1px, 1px, 1px);\n",
       "  height: 1px;\n",
       "  margin: -1px;\n",
       "  overflow: hidden;\n",
       "  padding: 0;\n",
       "  position: absolute;\n",
       "  width: 1px;\n",
       "}\n",
       "\n",
       "#sk-container-id-2 div.sk-dashed-wrapped {\n",
       "  border: 1px dashed var(--sklearn-color-line);\n",
       "  margin: 0 0.4em 0.5em 0.4em;\n",
       "  box-sizing: border-box;\n",
       "  padding-bottom: 0.4em;\n",
       "  background-color: var(--sklearn-color-background);\n",
       "}\n",
       "\n",
       "#sk-container-id-2 div.sk-container {\n",
       "  /* jupyter's `normalize.less` sets `[hidden] { display: none; }`\n",
       "     but bootstrap.min.css set `[hidden] { display: none !important; }`\n",
       "     so we also need the `!important` here to be able to override the\n",
       "     default hidden behavior on the sphinx rendered scikit-learn.org.\n",
       "     See: https://github.com/scikit-learn/scikit-learn/issues/21755 */\n",
       "  display: inline-block !important;\n",
       "  position: relative;\n",
       "}\n",
       "\n",
       "#sk-container-id-2 div.sk-text-repr-fallback {\n",
       "  display: none;\n",
       "}\n",
       "\n",
       "div.sk-parallel-item,\n",
       "div.sk-serial,\n",
       "div.sk-item {\n",
       "  /* draw centered vertical line to link estimators */\n",
       "  background-image: linear-gradient(var(--sklearn-color-text-on-default-background), var(--sklearn-color-text-on-default-background));\n",
       "  background-size: 2px 100%;\n",
       "  background-repeat: no-repeat;\n",
       "  background-position: center center;\n",
       "}\n",
       "\n",
       "/* Parallel-specific style estimator block */\n",
       "\n",
       "#sk-container-id-2 div.sk-parallel-item::after {\n",
       "  content: \"\";\n",
       "  width: 100%;\n",
       "  border-bottom: 2px solid var(--sklearn-color-text-on-default-background);\n",
       "  flex-grow: 1;\n",
       "}\n",
       "\n",
       "#sk-container-id-2 div.sk-parallel {\n",
       "  display: flex;\n",
       "  align-items: stretch;\n",
       "  justify-content: center;\n",
       "  background-color: var(--sklearn-color-background);\n",
       "  position: relative;\n",
       "}\n",
       "\n",
       "#sk-container-id-2 div.sk-parallel-item {\n",
       "  display: flex;\n",
       "  flex-direction: column;\n",
       "}\n",
       "\n",
       "#sk-container-id-2 div.sk-parallel-item:first-child::after {\n",
       "  align-self: flex-end;\n",
       "  width: 50%;\n",
       "}\n",
       "\n",
       "#sk-container-id-2 div.sk-parallel-item:last-child::after {\n",
       "  align-self: flex-start;\n",
       "  width: 50%;\n",
       "}\n",
       "\n",
       "#sk-container-id-2 div.sk-parallel-item:only-child::after {\n",
       "  width: 0;\n",
       "}\n",
       "\n",
       "/* Serial-specific style estimator block */\n",
       "\n",
       "#sk-container-id-2 div.sk-serial {\n",
       "  display: flex;\n",
       "  flex-direction: column;\n",
       "  align-items: center;\n",
       "  background-color: var(--sklearn-color-background);\n",
       "  padding-right: 1em;\n",
       "  padding-left: 1em;\n",
       "}\n",
       "\n",
       "\n",
       "/* Toggleable style: style used for estimator/Pipeline/ColumnTransformer box that is\n",
       "clickable and can be expanded/collapsed.\n",
       "- Pipeline and ColumnTransformer use this feature and define the default style\n",
       "- Estimators will overwrite some part of the style using the `sk-estimator` class\n",
       "*/\n",
       "\n",
       "/* Pipeline and ColumnTransformer style (default) */\n",
       "\n",
       "#sk-container-id-2 div.sk-toggleable {\n",
       "  /* Default theme specific background. It is overwritten whether we have a\n",
       "  specific estimator or a Pipeline/ColumnTransformer */\n",
       "  background-color: var(--sklearn-color-background);\n",
       "}\n",
       "\n",
       "/* Toggleable label */\n",
       "#sk-container-id-2 label.sk-toggleable__label {\n",
       "  cursor: pointer;\n",
       "  display: block;\n",
       "  width: 100%;\n",
       "  margin-bottom: 0;\n",
       "  padding: 0.5em;\n",
       "  box-sizing: border-box;\n",
       "  text-align: center;\n",
       "}\n",
       "\n",
       "#sk-container-id-2 label.sk-toggleable__label-arrow:before {\n",
       "  /* Arrow on the left of the label */\n",
       "  content: \"▸\";\n",
       "  float: left;\n",
       "  margin-right: 0.25em;\n",
       "  color: var(--sklearn-color-icon);\n",
       "}\n",
       "\n",
       "#sk-container-id-2 label.sk-toggleable__label-arrow:hover:before {\n",
       "  color: var(--sklearn-color-text);\n",
       "}\n",
       "\n",
       "/* Toggleable content - dropdown */\n",
       "\n",
       "#sk-container-id-2 div.sk-toggleable__content {\n",
       "  max-height: 0;\n",
       "  max-width: 0;\n",
       "  overflow: hidden;\n",
       "  text-align: left;\n",
       "  /* unfitted */\n",
       "  background-color: var(--sklearn-color-unfitted-level-0);\n",
       "}\n",
       "\n",
       "#sk-container-id-2 div.sk-toggleable__content.fitted {\n",
       "  /* fitted */\n",
       "  background-color: var(--sklearn-color-fitted-level-0);\n",
       "}\n",
       "\n",
       "#sk-container-id-2 div.sk-toggleable__content pre {\n",
       "  margin: 0.2em;\n",
       "  border-radius: 0.25em;\n",
       "  color: var(--sklearn-color-text);\n",
       "  /* unfitted */\n",
       "  background-color: var(--sklearn-color-unfitted-level-0);\n",
       "}\n",
       "\n",
       "#sk-container-id-2 div.sk-toggleable__content.fitted pre {\n",
       "  /* unfitted */\n",
       "  background-color: var(--sklearn-color-fitted-level-0);\n",
       "}\n",
       "\n",
       "#sk-container-id-2 input.sk-toggleable__control:checked~div.sk-toggleable__content {\n",
       "  /* Expand drop-down */\n",
       "  max-height: 200px;\n",
       "  max-width: 100%;\n",
       "  overflow: auto;\n",
       "}\n",
       "\n",
       "#sk-container-id-2 input.sk-toggleable__control:checked~label.sk-toggleable__label-arrow:before {\n",
       "  content: \"▾\";\n",
       "}\n",
       "\n",
       "/* Pipeline/ColumnTransformer-specific style */\n",
       "\n",
       "#sk-container-id-2 div.sk-label input.sk-toggleable__control:checked~label.sk-toggleable__label {\n",
       "  color: var(--sklearn-color-text);\n",
       "  background-color: var(--sklearn-color-unfitted-level-2);\n",
       "}\n",
       "\n",
       "#sk-container-id-2 div.sk-label.fitted input.sk-toggleable__control:checked~label.sk-toggleable__label {\n",
       "  background-color: var(--sklearn-color-fitted-level-2);\n",
       "}\n",
       "\n",
       "/* Estimator-specific style */\n",
       "\n",
       "/* Colorize estimator box */\n",
       "#sk-container-id-2 div.sk-estimator input.sk-toggleable__control:checked~label.sk-toggleable__label {\n",
       "  /* unfitted */\n",
       "  background-color: var(--sklearn-color-unfitted-level-2);\n",
       "}\n",
       "\n",
       "#sk-container-id-2 div.sk-estimator.fitted input.sk-toggleable__control:checked~label.sk-toggleable__label {\n",
       "  /* fitted */\n",
       "  background-color: var(--sklearn-color-fitted-level-2);\n",
       "}\n",
       "\n",
       "#sk-container-id-2 div.sk-label label.sk-toggleable__label,\n",
       "#sk-container-id-2 div.sk-label label {\n",
       "  /* The background is the default theme color */\n",
       "  color: var(--sklearn-color-text-on-default-background);\n",
       "}\n",
       "\n",
       "/* On hover, darken the color of the background */\n",
       "#sk-container-id-2 div.sk-label:hover label.sk-toggleable__label {\n",
       "  color: var(--sklearn-color-text);\n",
       "  background-color: var(--sklearn-color-unfitted-level-2);\n",
       "}\n",
       "\n",
       "/* Label box, darken color on hover, fitted */\n",
       "#sk-container-id-2 div.sk-label.fitted:hover label.sk-toggleable__label.fitted {\n",
       "  color: var(--sklearn-color-text);\n",
       "  background-color: var(--sklearn-color-fitted-level-2);\n",
       "}\n",
       "\n",
       "/* Estimator label */\n",
       "\n",
       "#sk-container-id-2 div.sk-label label {\n",
       "  font-family: monospace;\n",
       "  font-weight: bold;\n",
       "  display: inline-block;\n",
       "  line-height: 1.2em;\n",
       "}\n",
       "\n",
       "#sk-container-id-2 div.sk-label-container {\n",
       "  text-align: center;\n",
       "}\n",
       "\n",
       "/* Estimator-specific */\n",
       "#sk-container-id-2 div.sk-estimator {\n",
       "  font-family: monospace;\n",
       "  border: 1px dotted var(--sklearn-color-border-box);\n",
       "  border-radius: 0.25em;\n",
       "  box-sizing: border-box;\n",
       "  margin-bottom: 0.5em;\n",
       "  /* unfitted */\n",
       "  background-color: var(--sklearn-color-unfitted-level-0);\n",
       "}\n",
       "\n",
       "#sk-container-id-2 div.sk-estimator.fitted {\n",
       "  /* fitted */\n",
       "  background-color: var(--sklearn-color-fitted-level-0);\n",
       "}\n",
       "\n",
       "/* on hover */\n",
       "#sk-container-id-2 div.sk-estimator:hover {\n",
       "  /* unfitted */\n",
       "  background-color: var(--sklearn-color-unfitted-level-2);\n",
       "}\n",
       "\n",
       "#sk-container-id-2 div.sk-estimator.fitted:hover {\n",
       "  /* fitted */\n",
       "  background-color: var(--sklearn-color-fitted-level-2);\n",
       "}\n",
       "\n",
       "/* Specification for estimator info (e.g. \"i\" and \"?\") */\n",
       "\n",
       "/* Common style for \"i\" and \"?\" */\n",
       "\n",
       ".sk-estimator-doc-link,\n",
       "a:link.sk-estimator-doc-link,\n",
       "a:visited.sk-estimator-doc-link {\n",
       "  float: right;\n",
       "  font-size: smaller;\n",
       "  line-height: 1em;\n",
       "  font-family: monospace;\n",
       "  background-color: var(--sklearn-color-background);\n",
       "  border-radius: 1em;\n",
       "  height: 1em;\n",
       "  width: 1em;\n",
       "  text-decoration: none !important;\n",
       "  margin-left: 1ex;\n",
       "  /* unfitted */\n",
       "  border: var(--sklearn-color-unfitted-level-1) 1pt solid;\n",
       "  color: var(--sklearn-color-unfitted-level-1);\n",
       "}\n",
       "\n",
       ".sk-estimator-doc-link.fitted,\n",
       "a:link.sk-estimator-doc-link.fitted,\n",
       "a:visited.sk-estimator-doc-link.fitted {\n",
       "  /* fitted */\n",
       "  border: var(--sklearn-color-fitted-level-1) 1pt solid;\n",
       "  color: var(--sklearn-color-fitted-level-1);\n",
       "}\n",
       "\n",
       "/* On hover */\n",
       "div.sk-estimator:hover .sk-estimator-doc-link:hover,\n",
       ".sk-estimator-doc-link:hover,\n",
       "div.sk-label-container:hover .sk-estimator-doc-link:hover,\n",
       ".sk-estimator-doc-link:hover {\n",
       "  /* unfitted */\n",
       "  background-color: var(--sklearn-color-unfitted-level-3);\n",
       "  color: var(--sklearn-color-background);\n",
       "  text-decoration: none;\n",
       "}\n",
       "\n",
       "div.sk-estimator.fitted:hover .sk-estimator-doc-link.fitted:hover,\n",
       ".sk-estimator-doc-link.fitted:hover,\n",
       "div.sk-label-container:hover .sk-estimator-doc-link.fitted:hover,\n",
       ".sk-estimator-doc-link.fitted:hover {\n",
       "  /* fitted */\n",
       "  background-color: var(--sklearn-color-fitted-level-3);\n",
       "  color: var(--sklearn-color-background);\n",
       "  text-decoration: none;\n",
       "}\n",
       "\n",
       "/* Span, style for the box shown on hovering the info icon */\n",
       ".sk-estimator-doc-link span {\n",
       "  display: none;\n",
       "  z-index: 9999;\n",
       "  position: relative;\n",
       "  font-weight: normal;\n",
       "  right: .2ex;\n",
       "  padding: .5ex;\n",
       "  margin: .5ex;\n",
       "  width: min-content;\n",
       "  min-width: 20ex;\n",
       "  max-width: 50ex;\n",
       "  color: var(--sklearn-color-text);\n",
       "  box-shadow: 2pt 2pt 4pt #999;\n",
       "  /* unfitted */\n",
       "  background: var(--sklearn-color-unfitted-level-0);\n",
       "  border: .5pt solid var(--sklearn-color-unfitted-level-3);\n",
       "}\n",
       "\n",
       ".sk-estimator-doc-link.fitted span {\n",
       "  /* fitted */\n",
       "  background: var(--sklearn-color-fitted-level-0);\n",
       "  border: var(--sklearn-color-fitted-level-3);\n",
       "}\n",
       "\n",
       ".sk-estimator-doc-link:hover span {\n",
       "  display: block;\n",
       "}\n",
       "\n",
       "/* \"?\"-specific style due to the `<a>` HTML tag */\n",
       "\n",
       "#sk-container-id-2 a.estimator_doc_link {\n",
       "  float: right;\n",
       "  font-size: 1rem;\n",
       "  line-height: 1em;\n",
       "  font-family: monospace;\n",
       "  background-color: var(--sklearn-color-background);\n",
       "  border-radius: 1rem;\n",
       "  height: 1rem;\n",
       "  width: 1rem;\n",
       "  text-decoration: none;\n",
       "  /* unfitted */\n",
       "  color: var(--sklearn-color-unfitted-level-1);\n",
       "  border: var(--sklearn-color-unfitted-level-1) 1pt solid;\n",
       "}\n",
       "\n",
       "#sk-container-id-2 a.estimator_doc_link.fitted {\n",
       "  /* fitted */\n",
       "  border: var(--sklearn-color-fitted-level-1) 1pt solid;\n",
       "  color: var(--sklearn-color-fitted-level-1);\n",
       "}\n",
       "\n",
       "/* On hover */\n",
       "#sk-container-id-2 a.estimator_doc_link:hover {\n",
       "  /* unfitted */\n",
       "  background-color: var(--sklearn-color-unfitted-level-3);\n",
       "  color: var(--sklearn-color-background);\n",
       "  text-decoration: none;\n",
       "}\n",
       "\n",
       "#sk-container-id-2 a.estimator_doc_link.fitted:hover {\n",
       "  /* fitted */\n",
       "  background-color: var(--sklearn-color-fitted-level-3);\n",
       "}\n",
       "</style><div id=\"sk-container-id-2\" class=\"sk-top-container\"><div class=\"sk-text-repr-fallback\"><pre>LogisticRegression()</pre><b>In a Jupyter environment, please rerun this cell to show the HTML representation or trust the notebook. <br />On GitHub, the HTML representation is unable to render, please try loading this page with nbviewer.org.</b></div><div class=\"sk-container\" hidden><div class=\"sk-item\"><div class=\"sk-estimator fitted sk-toggleable\"><input class=\"sk-toggleable__control sk-hidden--visually\" id=\"sk-estimator-id-2\" type=\"checkbox\" checked><label for=\"sk-estimator-id-2\" class=\"sk-toggleable__label fitted sk-toggleable__label-arrow fitted\">&nbsp;&nbsp;LogisticRegression<a class=\"sk-estimator-doc-link fitted\" rel=\"noreferrer\" target=\"_blank\" href=\"https://scikit-learn.org/1.4/modules/generated/sklearn.linear_model.LogisticRegression.html\">?<span>Documentation for LogisticRegression</span></a><span class=\"sk-estimator-doc-link fitted\">i<span>Fitted</span></span></label><div class=\"sk-toggleable__content fitted\"><pre>LogisticRegression()</pre></div> </div></div></div></div>"
      ],
      "text/plain": [
       "LogisticRegression()"
      ]
     },
     "execution_count": 44,
     "metadata": {},
     "output_type": "execute_result"
    }
   ],
   "source": [
    "x_train,x_test,y_train,y_test=train_test_split(x,y,test_size=0.2,random_state=42)\n",
    "model.fit(x_train,y_train)"
   ]
  },
  {
   "cell_type": "code",
   "execution_count": 46,
   "id": "4217c0cb-1bd7-4711-af8d-bcd5bc12cbdc",
   "metadata": {},
   "outputs": [
    {
     "name": "stdout",
     "output_type": "stream",
     "text": [
      "Accuracy of the logistic regression model:0.880690737833595\n"
     ]
    }
   ],
   "source": [
    "y_pred=model.predict(x_test)\n",
    "print(f'Accuracy of the logistic regression model:{accuracy_score(y_test,y_pred)}')"
   ]
  },
  {
   "cell_type": "code",
   "execution_count": null,
   "id": "ca2df1b7-db30-4505-ac95-24215a9047fc",
   "metadata": {},
   "outputs": [],
   "source": []
  }
 ],
 "metadata": {
  "kernelspec": {
   "display_name": "Python 3 (ipykernel)",
   "language": "python",
   "name": "python3"
  },
  "language_info": {
   "codemirror_mode": {
    "name": "ipython",
    "version": 3
   },
   "file_extension": ".py",
   "mimetype": "text/x-python",
   "name": "python",
   "nbconvert_exporter": "python",
   "pygments_lexer": "ipython3",
   "version": "3.12.4"
  }
 },
 "nbformat": 4,
 "nbformat_minor": 5
}
