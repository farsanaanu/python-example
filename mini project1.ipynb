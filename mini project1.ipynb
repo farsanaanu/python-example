{
 "cells": [
  {
   "cell_type": "code",
   "execution_count": 1,
   "id": "b6739a48-05a6-43f8-a6b4-495dd19a87e3",
   "metadata": {},
   "outputs": [
    {
     "name": "stdin",
     "output_type": "stream",
     "text": [
      "What is your name?  farsana\n"
     ]
    },
    {
     "name": "stdout",
     "output_type": "stream",
     "text": [
      "Good Luck !  farsana\n",
      "Guess the characters\n",
      "_\n",
      "_\n",
      "_\n",
      "_\n",
      "_\n",
      "_\n",
      "_\n",
      "_\n",
      "\n"
     ]
    },
    {
     "name": "stdin",
     "output_type": "stream",
     "text": [
      "guess a character: m\n"
     ]
    },
    {
     "name": "stdout",
     "output_type": "stream",
     "text": [
      "_\n",
      "_\n",
      "m _\n",
      "_\n",
      "_\n",
      "_\n",
      "_\n",
      "\n"
     ]
    },
    {
     "name": "stdin",
     "output_type": "stream",
     "text": [
      "guess a character: a\n"
     ]
    },
    {
     "name": "stdout",
     "output_type": "stream",
     "text": [
      "Wrong\n",
      "You have 11 more guesses\n",
      "_\n",
      "_\n",
      "m _\n",
      "_\n",
      "_\n",
      "_\n",
      "_\n",
      "\n"
     ]
    },
    {
     "name": "stdin",
     "output_type": "stream",
     "text": [
      "guess a character: e\n"
     ]
    },
    {
     "name": "stdout",
     "output_type": "stream",
     "text": [
      "_\n",
      "_\n",
      "m _\n",
      "_\n",
      "_\n",
      "e _\n",
      "\n"
     ]
    },
    {
     "name": "stdin",
     "output_type": "stream",
     "text": [
      "guess a character: i\n"
     ]
    },
    {
     "name": "stdout",
     "output_type": "stream",
     "text": [
      "Wrong\n",
      "You have 10 more guesses\n",
      "_\n",
      "_\n",
      "m _\n",
      "_\n",
      "_\n",
      "e _\n",
      "\n"
     ]
    },
    {
     "name": "stdin",
     "output_type": "stream",
     "text": [
      "guess a character: r\n"
     ]
    },
    {
     "name": "stdout",
     "output_type": "stream",
     "text": [
      "_\n",
      "_\n",
      "m _\n",
      "_\n",
      "_\n",
      "e r \n"
     ]
    },
    {
     "name": "stdin",
     "output_type": "stream",
     "text": [
      "guess a character: o\n"
     ]
    },
    {
     "name": "stdout",
     "output_type": "stream",
     "text": [
      "_\n",
      "o m _\n",
      "_\n",
      "_\n",
      "e r \n"
     ]
    },
    {
     "name": "stdin",
     "output_type": "stream",
     "text": [
      "guess a character: c\n"
     ]
    },
    {
     "name": "stdout",
     "output_type": "stream",
     "text": [
      "c o m _\n",
      "_\n",
      "_\n",
      "e r \n"
     ]
    },
    {
     "name": "stdin",
     "output_type": "stream",
     "text": [
      "guess a character: p\n"
     ]
    },
    {
     "name": "stdout",
     "output_type": "stream",
     "text": [
      "c o m p _\n",
      "_\n",
      "e r \n"
     ]
    },
    {
     "name": "stdin",
     "output_type": "stream",
     "text": [
      "guess a character: u\n"
     ]
    },
    {
     "name": "stdout",
     "output_type": "stream",
     "text": [
      "c o m p u _\n",
      "e r \n"
     ]
    },
    {
     "name": "stdin",
     "output_type": "stream",
     "text": [
      "guess a character: t\n"
     ]
    },
    {
     "name": "stdout",
     "output_type": "stream",
     "text": [
      "c o m p u t e r You Win\n",
      "The word is:  computer\n"
     ]
    }
   ],
   "source": [
    "import random\n",
    "# library that we use in order to choose\n",
    "# on random words from a list of words\n",
    "\n",
    "name = input(\"What is your name? \")\n",
    "\n",
    "# Here the user is asked to enter the name first\n",
    "\n",
    "print(\"Good Luck ! \", name)\n",
    "\n",
    "words = ['rainbow', 'computer', 'science', 'programming',\n",
    "         'python', 'mathematics', 'player', 'condition',\n",
    "         'reverse', 'water', 'board', 'geeks']\n",
    "\n",
    "# Function will choose one random\n",
    "# word from this list of words\n",
    "word = random.choice(words)\n",
    "\n",
    "\n",
    "print(\"Guess the characters\")\n",
    "\n",
    "guesses = ''\n",
    "\n",
    "# any number of turns can be used here\n",
    "turns = 12\n",
    "\n",
    "\n",
    "while turns > 0:\n",
    "\n",
    "    # counts the number of times a user fails\n",
    "    failed = 0\n",
    "\n",
    "    # all characters from the input\n",
    "    # word taking one at a time.\n",
    "    for char in word:\n",
    "\n",
    "        # comparing that character with\n",
    "        # the character in guesses\n",
    "        if char in guesses:\n",
    "            print(char, end=\" \")\n",
    "\n",
    "        else:\n",
    "            print(\"_\")\n",
    "\n",
    "            # for every failure 1 will be\n",
    "            # incremented in failure\n",
    "            failed += 1\n",
    "\n",
    "    if failed == 0:\n",
    "        # user will win the game if failure is 0\n",
    "        # and 'You Win' will be given as output\n",
    "        print(\"You Win\")\n",
    "\n",
    "        # this print the correct word\n",
    "        print(\"The word is: \", word)\n",
    "        break\n",
    "\n",
    "    # if user has input the wrong alphabet then\n",
    "    # it will ask user to enter another alphabet\n",
    "    print()\n",
    "    guess = input(\"guess a character:\")\n",
    "\n",
    "    # every input character will be stored in guesses\n",
    "    guesses += guess\n",
    "\n",
    "    # check input with the character in word\n",
    "    if guess not in word:\n",
    "\n",
    "        turns -= 1\n",
    "\n",
    "        # if the character doesn’t match the word\n",
    "        # then “Wrong” will be given as output\n",
    "        print(\"Wrong\")\n",
    "\n",
    "        # this will print the number of\n",
    "        # turns left for the user\n",
    "        print(\"You have\", + turns, 'more guesses')\n",
    "\n",
    "        if turns == 0:\n",
    "            print(\"You Loose\")\n"
   ]
  },
  {
   "cell_type": "code",
   "execution_count": null,
   "id": "c814c4df-0dfd-4d97-960a-f375f52acce8",
   "metadata": {},
   "outputs": [],
   "source": []
  }
 ],
 "metadata": {
  "kernelspec": {
   "display_name": "Python 3 (ipykernel)",
   "language": "python",
   "name": "python3"
  },
  "language_info": {
   "codemirror_mode": {
    "name": "ipython",
    "version": 3
   },
   "file_extension": ".py",
   "mimetype": "text/x-python",
   "name": "python",
   "nbconvert_exporter": "python",
   "pygments_lexer": "ipython3",
   "version": "3.12.4"
  }
 },
 "nbformat": 4,
 "nbformat_minor": 5
}
