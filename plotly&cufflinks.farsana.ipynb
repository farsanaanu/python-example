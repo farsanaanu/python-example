{
 "cells": [
  {
   "cell_type": "code",
   "execution_count": 2,
   "id": "46a821cb-0d4c-4ea8-b654-1f3bc9bfc207",
   "metadata": {},
   "outputs": [],
   "source": [
    "import numpy as np\n",
    "import pandas as pd\n",
    "%matplotlib inline"
   ]
  },
  {
   "cell_type": "code",
   "execution_count": 3,
   "id": "c660624c-7c86-45d9-a9be-d6d60f57e660",
   "metadata": {},
   "outputs": [
    {
     "name": "stdout",
     "output_type": "stream",
     "text": [
      "5.22.0\n"
     ]
    }
   ],
   "source": [
    "from plotly import __version__\n",
    "from plotly.offline import download_plotlyjs, init_notebook_mode, plot, iplot\n",
    "print(__version__)"
   ]
  },
  {
   "cell_type": "code",
   "execution_count": 4,
   "id": "88b0021a-d631-4f88-afda-6af7639668a2",
   "metadata": {},
   "outputs": [],
   "source": [
    "import cufflinks as cf"
   ]
  },
  {
   "cell_type": "code",
   "execution_count": 5,
   "id": "0bdbc124-eb80-4a28-8e30-9319efc55576",
   "metadata": {},
   "outputs": [
    {
     "data": {
      "text/html": [
       "        <script type=\"text/javascript\">\n",
       "        window.PlotlyConfig = {MathJaxConfig: 'local'};\n",
       "        if (window.MathJax && window.MathJax.Hub && window.MathJax.Hub.Config) {window.MathJax.Hub.Config({SVG: {font: \"STIX-Web\"}});}\n",
       "        if (typeof require !== 'undefined') {\n",
       "        require.undef(\"plotly\");\n",
       "        requirejs.config({\n",
       "            paths: {\n",
       "                'plotly': ['https://cdn.plot.ly/plotly-2.32.0.min']\n",
       "            }\n",
       "        });\n",
       "        require(['plotly'], function(Plotly) {\n",
       "            window._Plotly = Plotly;\n",
       "        });\n",
       "        }\n",
       "        </script>\n",
       "        "
      ]
     },
     "metadata": {},
     "output_type": "display_data"
    }
   ],
   "source": [
    "init_notebook_mode(connected=True)"
   ]
  },
  {
   "cell_type": "code",
   "execution_count": 6,
   "id": "4d5ddf78-e8ad-4a2a-8a2c-0ae3c1b08732",
   "metadata": {},
   "outputs": [
    {
     "data": {
      "text/html": [
       "        <script type=\"text/javascript\">\n",
       "        window.PlotlyConfig = {MathJaxConfig: 'local'};\n",
       "        if (window.MathJax && window.MathJax.Hub && window.MathJax.Hub.Config) {window.MathJax.Hub.Config({SVG: {font: \"STIX-Web\"}});}\n",
       "        if (typeof require !== 'undefined') {\n",
       "        require.undef(\"plotly\");\n",
       "        requirejs.config({\n",
       "            paths: {\n",
       "                'plotly': ['https://cdn.plot.ly/plotly-2.32.0.min']\n",
       "            }\n",
       "        });\n",
       "        require(['plotly'], function(Plotly) {\n",
       "            window._Plotly = Plotly;\n",
       "        });\n",
       "        }\n",
       "        </script>\n",
       "        "
      ]
     },
     "metadata": {},
     "output_type": "display_data"
    }
   ],
   "source": [
    "cf.go_offline()"
   ]
  },
  {
   "cell_type": "code",
   "execution_count": 7,
   "id": "cb18a311-9763-498a-b5d2-e87ed8248f02",
   "metadata": {},
   "outputs": [],
   "source": [
    "df=pd.DataFrame(np.random.randn(100,5),columns='A B C D E'.split())"
   ]
  },
  {
   "cell_type": "code",
   "execution_count": 11,
   "id": "533c156c-518f-4b8a-a03f-8e54b2ba90b1",
   "metadata": {},
   "outputs": [
    {
     "data": {
      "text/html": [
       "<div>\n",
       "<style scoped>\n",
       "    .dataframe tbody tr th:only-of-type {\n",
       "        vertical-align: middle;\n",
       "    }\n",
       "\n",
       "    .dataframe tbody tr th {\n",
       "        vertical-align: top;\n",
       "    }\n",
       "\n",
       "    .dataframe thead th {\n",
       "        text-align: right;\n",
       "    }\n",
       "</style>\n",
       "<table border=\"1\" class=\"dataframe\">\n",
       "  <thead>\n",
       "    <tr style=\"text-align: right;\">\n",
       "      <th></th>\n",
       "      <th>A</th>\n",
       "      <th>B</th>\n",
       "      <th>C</th>\n",
       "      <th>D</th>\n",
       "      <th>E</th>\n",
       "    </tr>\n",
       "  </thead>\n",
       "  <tbody>\n",
       "    <tr>\n",
       "      <th>0</th>\n",
       "      <td>-0.333580</td>\n",
       "      <td>1.265612</td>\n",
       "      <td>0.879825</td>\n",
       "      <td>-1.919848</td>\n",
       "      <td>-1.883955</td>\n",
       "    </tr>\n",
       "    <tr>\n",
       "      <th>1</th>\n",
       "      <td>0.008410</td>\n",
       "      <td>0.111722</td>\n",
       "      <td>1.357028</td>\n",
       "      <td>-0.243292</td>\n",
       "      <td>-1.422282</td>\n",
       "    </tr>\n",
       "    <tr>\n",
       "      <th>2</th>\n",
       "      <td>-0.245249</td>\n",
       "      <td>2.444141</td>\n",
       "      <td>1.974912</td>\n",
       "      <td>0.642000</td>\n",
       "      <td>0.243934</td>\n",
       "    </tr>\n",
       "    <tr>\n",
       "      <th>3</th>\n",
       "      <td>1.755084</td>\n",
       "      <td>0.021264</td>\n",
       "      <td>-1.053528</td>\n",
       "      <td>1.352118</td>\n",
       "      <td>-0.302212</td>\n",
       "    </tr>\n",
       "    <tr>\n",
       "      <th>4</th>\n",
       "      <td>-0.412414</td>\n",
       "      <td>-0.097621</td>\n",
       "      <td>-1.560387</td>\n",
       "      <td>0.595352</td>\n",
       "      <td>-1.111626</td>\n",
       "    </tr>\n",
       "  </tbody>\n",
       "</table>\n",
       "</div>"
      ],
      "text/plain": [
       "          A         B         C         D         E\n",
       "0 -0.333580  1.265612  0.879825 -1.919848 -1.883955\n",
       "1  0.008410  0.111722  1.357028 -0.243292 -1.422282\n",
       "2 -0.245249  2.444141  1.974912  0.642000  0.243934\n",
       "3  1.755084  0.021264 -1.053528  1.352118 -0.302212\n",
       "4 -0.412414 -0.097621 -1.560387  0.595352 -1.111626"
      ]
     },
     "execution_count": 11,
     "metadata": {},
     "output_type": "execute_result"
    }
   ],
   "source": [
    "df.head()"
   ]
  },
  {
   "cell_type": "code",
   "execution_count": 13,
   "id": "b7a0f788-9cbc-49a4-bf76-475566962bf0",
   "metadata": {},
   "outputs": [],
   "source": [
    "df1=pd.DataFrame({'category':['A',' B',' C'],'values':[30,25,45]})"
   ]
  },
  {
   "cell_type": "code",
   "execution_count": 14,
   "id": "1d9e3b51-bf6e-4ad8-8945-874628a99257",
   "metadata": {},
   "outputs": [
    {
     "data": {
      "text/html": [
       "<div>\n",
       "<style scoped>\n",
       "    .dataframe tbody tr th:only-of-type {\n",
       "        vertical-align: middle;\n",
       "    }\n",
       "\n",
       "    .dataframe tbody tr th {\n",
       "        vertical-align: top;\n",
       "    }\n",
       "\n",
       "    .dataframe thead th {\n",
       "        text-align: right;\n",
       "    }\n",
       "</style>\n",
       "<table border=\"1\" class=\"dataframe\">\n",
       "  <thead>\n",
       "    <tr style=\"text-align: right;\">\n",
       "      <th></th>\n",
       "      <th>category</th>\n",
       "      <th>values</th>\n",
       "    </tr>\n",
       "  </thead>\n",
       "  <tbody>\n",
       "    <tr>\n",
       "      <th>0</th>\n",
       "      <td>A</td>\n",
       "      <td>30</td>\n",
       "    </tr>\n",
       "    <tr>\n",
       "      <th>1</th>\n",
       "      <td>B</td>\n",
       "      <td>25</td>\n",
       "    </tr>\n",
       "    <tr>\n",
       "      <th>2</th>\n",
       "      <td>C</td>\n",
       "      <td>45</td>\n",
       "    </tr>\n",
       "  </tbody>\n",
       "</table>\n",
       "</div>"
      ],
      "text/plain": [
       "  category  values\n",
       "0        A      30\n",
       "1        B      25\n",
       "2        C      45"
      ]
     },
     "execution_count": 14,
     "metadata": {},
     "output_type": "execute_result"
    }
   ],
   "source": [
    "df1"
   ]
  },
  {
   "cell_type": "code",
   "execution_count": 21,
   "id": "c2766a50-63c3-4e25-a287-903b509d9d6b",
   "metadata": {},
   "outputs": [
    {
     "data": {
      "application/vnd.plotly.v1+json": {
       "config": {
        "linkText": "Export to plot.ly",
        "plotlyServerURL": "https://plot.ly",
        "showLink": true
       },
       "data": [
        {
         "line": {
          "color": "rgba(255, 153, 51, 1.0)",
          "dash": "solid",
          "shape": "linear",
          "width": 1.3
         },
         "marker": {
          "size": 10,
          "symbol": "circle"
         },
         "mode": "markers",
         "name": "B",
         "text": "",
         "type": "scatter",
         "x": [
          -0.3335804497762339,
          0.00841020770573747,
          -0.2452486455726726,
          1.7550835292323625,
          -0.4124142608843169,
          0.08397452866741234,
          -1.3865662695296521,
          -0.5536159230768968,
          -0.6159733733331406,
          0.5351203760401979,
          0.6219906888015769,
          2.0936218973984544,
          0.44108665014911896,
          -0.416230235006025,
          0.9331183949846429,
          -0.7216605612758971,
          1.3390572677191115,
          0.6496069974394884,
          -0.7901367515093446,
          -0.3422059764483797,
          0.5373701215532392,
          1.7747753169553424,
          0.419529041757397,
          -0.10904889995774433,
          -2.0263048218045543,
          0.21622836105376003,
          -0.821922543917067,
          1.842131241717987,
          -1.265365165032051,
          0.8479452711578469,
          0.6156098386466577,
          0.15867622180468346,
          -1.238977024083961,
          0.7335419753028098,
          0.0512616782988629,
          1.4495571762852764,
          -0.4496751518589838,
          -0.330172000624211,
          -0.8929792515250653,
          2.205175209714804,
          -0.4538635156588506,
          2.2037334537380286,
          0.7417458154644216,
          -0.01924531610158195,
          0.5149129505912265,
          -0.8559027787490496,
          -1.2359804048231446,
          2.073959092442634,
          0.6912579520973061,
          -1.108283786227255,
          0.16942813801626458,
          -2.781043939921188,
          0.0885804145925267,
          -1.756318606323291,
          1.274483140059975,
          0.8438741973237249,
          1.043238681028487,
          0.8742390843303314,
          1.4704877215499943,
          -0.6540245721736407,
          -1.1275658316510941,
          0.8367878573651504,
          -0.7350001997710474,
          -0.11503001732679545,
          -0.1920425691420273,
          1.3367611859539756,
          0.31544010241881365,
          0.30833485067338146,
          -0.30446858143129724,
          0.09901607880407506,
          0.3280088371532466,
          0.3003499482732641,
          0.27812375549087964,
          -0.6621938785792102,
          0.5884359898684891,
          -1.4687335662247434,
          1.5961345007591994,
          -0.2519890600562586,
          1.5557835869903025,
          0.04462193969423287,
          0.15083076444693133,
          0.4082980181436096,
          -0.678370760026145,
          -0.0750391155180131,
          -1.0668798705652038,
          -0.9875792933502123,
          -2.7515517426231964,
          1.6668491718400256,
          -2.011343087200451,
          0.22068583475438497,
          1.0427267249140537,
          0.8666554855258551,
          1.4876746522797113,
          -0.12935479445954817,
          0.544861458818753,
          0.2590464861926635,
          -0.29858348018470654,
          1.0157638005717105,
          -1.2125999335057973,
          -0.7869056414224349
         ],
         "y": [
          1.2656119006442414,
          0.11172189872330608,
          2.4441405083498084,
          0.021263530711874312,
          -0.09762074893880836,
          -2.841439832791632,
          0.3606689299126568,
          0.6100067499256379,
          0.46938226746429257,
          1.0409351529187922,
          -0.10530897127620471,
          -0.7839565480168238,
          1.312981092013129,
          0.9168981441738603,
          -0.45747230576020353,
          1.019246343752088,
          1.035506744391563,
          -0.2017921322897468,
          1.541948116644562,
          -0.8547194343811696,
          -0.5159114150487076,
          0.6205665175937206,
          -1.4708434724308213,
          -0.7028787223375108,
          0.4566743660520509,
          0.5175867306902976,
          2.307306044925076,
          0.6335984216611076,
          -1.169581749814845,
          -0.8049516945379682,
          0.8376752575918941,
          -0.7965999170117269,
          1.5701411435733117,
          0.010738407292215393,
          -1.9476656494682059,
          0.7994896822584975,
          0.9916380277779536,
          -0.8259760625515664,
          -0.7750424611682585,
          -1.000212958965001,
          -0.002153372965835309,
          1.1241098204562403,
          -0.8933357174684814,
          0.14031630340664777,
          0.7796311582424318,
          -2.545378779470004,
          -0.43196973909652,
          -0.11648151266855052,
          0.4066225349475821,
          1.5668326084368156,
          0.0285716881764873,
          1.3441761736057165,
          -0.5523062721586132,
          -0.7157409903930229,
          0.7327498495190612,
          0.30060721324231693,
          0.7133267785007691,
          0.19911508044327778,
          -0.19545960190474662,
          0.6853459741633252,
          -2.127835130345152,
          2.0218196475959336,
          2.1780440617017196,
          2.224401011317823,
          1.165437639520588,
          -0.14759125561131795,
          -0.8113337078873021,
          1.2284972728337857,
          -0.1894385534744078,
          -0.004967028126192879,
          -0.9774278378969505,
          0.9833612559553154,
          -0.23714912708878444,
          0.8726089987499858,
          -0.8389751407305852,
          0.3909661637510026,
          -1.1694495652685963,
          -1.9807748615515484,
          0.4096619399418116,
          1.1594638854247026,
          -1.0171361899301976,
          -1.0048963714697148,
          -0.36924529104358444,
          0.1286784085603135,
          0.7038172729883474,
          -0.9919135098509365,
          -0.29941507106034404,
          0.6134501808248138,
          -0.5951458647500463,
          0.254523959598943,
          0.24629150821694917,
          -1.3603994825182804,
          0.4749977182782207,
          -1.9947392736919967,
          3.508885086749131,
          0.9521474983011023,
          -0.421561079901927,
          1.686899295360436,
          -0.03997823528199046,
          -0.22909054223546957
         ]
        }
       ],
       "layout": {
        "autosize": true,
        "legend": {
         "bgcolor": "#F5F6F9",
         "font": {
          "color": "#4D5663"
         }
        },
        "paper_bgcolor": "#F5F6F9",
        "plot_bgcolor": "#F5F6F9",
        "template": {
         "data": {
          "bar": [
           {
            "error_x": {
             "color": "#2a3f5f"
            },
            "error_y": {
             "color": "#2a3f5f"
            },
            "marker": {
             "line": {
              "color": "#E5ECF6",
              "width": 0.5
             },
             "pattern": {
              "fillmode": "overlay",
              "size": 10,
              "solidity": 0.2
             }
            },
            "type": "bar"
           }
          ],
          "barpolar": [
           {
            "marker": {
             "line": {
              "color": "#E5ECF6",
              "width": 0.5
             },
             "pattern": {
              "fillmode": "overlay",
              "size": 10,
              "solidity": 0.2
             }
            },
            "type": "barpolar"
           }
          ],
          "carpet": [
           {
            "aaxis": {
             "endlinecolor": "#2a3f5f",
             "gridcolor": "white",
             "linecolor": "white",
             "minorgridcolor": "white",
             "startlinecolor": "#2a3f5f"
            },
            "baxis": {
             "endlinecolor": "#2a3f5f",
             "gridcolor": "white",
             "linecolor": "white",
             "minorgridcolor": "white",
             "startlinecolor": "#2a3f5f"
            },
            "type": "carpet"
           }
          ],
          "choropleth": [
           {
            "colorbar": {
             "outlinewidth": 0,
             "ticks": ""
            },
            "type": "choropleth"
           }
          ],
          "contour": [
           {
            "colorbar": {
             "outlinewidth": 0,
             "ticks": ""
            },
            "colorscale": [
             [
              0,
              "#0d0887"
             ],
             [
              0.1111111111111111,
              "#46039f"
             ],
             [
              0.2222222222222222,
              "#7201a8"
             ],
             [
              0.3333333333333333,
              "#9c179e"
             ],
             [
              0.4444444444444444,
              "#bd3786"
             ],
             [
              0.5555555555555556,
              "#d8576b"
             ],
             [
              0.6666666666666666,
              "#ed7953"
             ],
             [
              0.7777777777777778,
              "#fb9f3a"
             ],
             [
              0.8888888888888888,
              "#fdca26"
             ],
             [
              1,
              "#f0f921"
             ]
            ],
            "type": "contour"
           }
          ],
          "contourcarpet": [
           {
            "colorbar": {
             "outlinewidth": 0,
             "ticks": ""
            },
            "type": "contourcarpet"
           }
          ],
          "heatmap": [
           {
            "colorbar": {
             "outlinewidth": 0,
             "ticks": ""
            },
            "colorscale": [
             [
              0,
              "#0d0887"
             ],
             [
              0.1111111111111111,
              "#46039f"
             ],
             [
              0.2222222222222222,
              "#7201a8"
             ],
             [
              0.3333333333333333,
              "#9c179e"
             ],
             [
              0.4444444444444444,
              "#bd3786"
             ],
             [
              0.5555555555555556,
              "#d8576b"
             ],
             [
              0.6666666666666666,
              "#ed7953"
             ],
             [
              0.7777777777777778,
              "#fb9f3a"
             ],
             [
              0.8888888888888888,
              "#fdca26"
             ],
             [
              1,
              "#f0f921"
             ]
            ],
            "type": "heatmap"
           }
          ],
          "heatmapgl": [
           {
            "colorbar": {
             "outlinewidth": 0,
             "ticks": ""
            },
            "colorscale": [
             [
              0,
              "#0d0887"
             ],
             [
              0.1111111111111111,
              "#46039f"
             ],
             [
              0.2222222222222222,
              "#7201a8"
             ],
             [
              0.3333333333333333,
              "#9c179e"
             ],
             [
              0.4444444444444444,
              "#bd3786"
             ],
             [
              0.5555555555555556,
              "#d8576b"
             ],
             [
              0.6666666666666666,
              "#ed7953"
             ],
             [
              0.7777777777777778,
              "#fb9f3a"
             ],
             [
              0.8888888888888888,
              "#fdca26"
             ],
             [
              1,
              "#f0f921"
             ]
            ],
            "type": "heatmapgl"
           }
          ],
          "histogram": [
           {
            "marker": {
             "pattern": {
              "fillmode": "overlay",
              "size": 10,
              "solidity": 0.2
             }
            },
            "type": "histogram"
           }
          ],
          "histogram2d": [
           {
            "colorbar": {
             "outlinewidth": 0,
             "ticks": ""
            },
            "colorscale": [
             [
              0,
              "#0d0887"
             ],
             [
              0.1111111111111111,
              "#46039f"
             ],
             [
              0.2222222222222222,
              "#7201a8"
             ],
             [
              0.3333333333333333,
              "#9c179e"
             ],
             [
              0.4444444444444444,
              "#bd3786"
             ],
             [
              0.5555555555555556,
              "#d8576b"
             ],
             [
              0.6666666666666666,
              "#ed7953"
             ],
             [
              0.7777777777777778,
              "#fb9f3a"
             ],
             [
              0.8888888888888888,
              "#fdca26"
             ],
             [
              1,
              "#f0f921"
             ]
            ],
            "type": "histogram2d"
           }
          ],
          "histogram2dcontour": [
           {
            "colorbar": {
             "outlinewidth": 0,
             "ticks": ""
            },
            "colorscale": [
             [
              0,
              "#0d0887"
             ],
             [
              0.1111111111111111,
              "#46039f"
             ],
             [
              0.2222222222222222,
              "#7201a8"
             ],
             [
              0.3333333333333333,
              "#9c179e"
             ],
             [
              0.4444444444444444,
              "#bd3786"
             ],
             [
              0.5555555555555556,
              "#d8576b"
             ],
             [
              0.6666666666666666,
              "#ed7953"
             ],
             [
              0.7777777777777778,
              "#fb9f3a"
             ],
             [
              0.8888888888888888,
              "#fdca26"
             ],
             [
              1,
              "#f0f921"
             ]
            ],
            "type": "histogram2dcontour"
           }
          ],
          "mesh3d": [
           {
            "colorbar": {
             "outlinewidth": 0,
             "ticks": ""
            },
            "type": "mesh3d"
           }
          ],
          "parcoords": [
           {
            "line": {
             "colorbar": {
              "outlinewidth": 0,
              "ticks": ""
             }
            },
            "type": "parcoords"
           }
          ],
          "pie": [
           {
            "automargin": true,
            "type": "pie"
           }
          ],
          "scatter": [
           {
            "fillpattern": {
             "fillmode": "overlay",
             "size": 10,
             "solidity": 0.2
            },
            "type": "scatter"
           }
          ],
          "scatter3d": [
           {
            "line": {
             "colorbar": {
              "outlinewidth": 0,
              "ticks": ""
             }
            },
            "marker": {
             "colorbar": {
              "outlinewidth": 0,
              "ticks": ""
             }
            },
            "type": "scatter3d"
           }
          ],
          "scattercarpet": [
           {
            "marker": {
             "colorbar": {
              "outlinewidth": 0,
              "ticks": ""
             }
            },
            "type": "scattercarpet"
           }
          ],
          "scattergeo": [
           {
            "marker": {
             "colorbar": {
              "outlinewidth": 0,
              "ticks": ""
             }
            },
            "type": "scattergeo"
           }
          ],
          "scattergl": [
           {
            "marker": {
             "colorbar": {
              "outlinewidth": 0,
              "ticks": ""
             }
            },
            "type": "scattergl"
           }
          ],
          "scattermapbox": [
           {
            "marker": {
             "colorbar": {
              "outlinewidth": 0,
              "ticks": ""
             }
            },
            "type": "scattermapbox"
           }
          ],
          "scatterpolar": [
           {
            "marker": {
             "colorbar": {
              "outlinewidth": 0,
              "ticks": ""
             }
            },
            "type": "scatterpolar"
           }
          ],
          "scatterpolargl": [
           {
            "marker": {
             "colorbar": {
              "outlinewidth": 0,
              "ticks": ""
             }
            },
            "type": "scatterpolargl"
           }
          ],
          "scatterternary": [
           {
            "marker": {
             "colorbar": {
              "outlinewidth": 0,
              "ticks": ""
             }
            },
            "type": "scatterternary"
           }
          ],
          "surface": [
           {
            "colorbar": {
             "outlinewidth": 0,
             "ticks": ""
            },
            "colorscale": [
             [
              0,
              "#0d0887"
             ],
             [
              0.1111111111111111,
              "#46039f"
             ],
             [
              0.2222222222222222,
              "#7201a8"
             ],
             [
              0.3333333333333333,
              "#9c179e"
             ],
             [
              0.4444444444444444,
              "#bd3786"
             ],
             [
              0.5555555555555556,
              "#d8576b"
             ],
             [
              0.6666666666666666,
              "#ed7953"
             ],
             [
              0.7777777777777778,
              "#fb9f3a"
             ],
             [
              0.8888888888888888,
              "#fdca26"
             ],
             [
              1,
              "#f0f921"
             ]
            ],
            "type": "surface"
           }
          ],
          "table": [
           {
            "cells": {
             "fill": {
              "color": "#EBF0F8"
             },
             "line": {
              "color": "white"
             }
            },
            "header": {
             "fill": {
              "color": "#C8D4E3"
             },
             "line": {
              "color": "white"
             }
            },
            "type": "table"
           }
          ]
         },
         "layout": {
          "annotationdefaults": {
           "arrowcolor": "#2a3f5f",
           "arrowhead": 0,
           "arrowwidth": 1
          },
          "autotypenumbers": "strict",
          "coloraxis": {
           "colorbar": {
            "outlinewidth": 0,
            "ticks": ""
           }
          },
          "colorscale": {
           "diverging": [
            [
             0,
             "#8e0152"
            ],
            [
             0.1,
             "#c51b7d"
            ],
            [
             0.2,
             "#de77ae"
            ],
            [
             0.3,
             "#f1b6da"
            ],
            [
             0.4,
             "#fde0ef"
            ],
            [
             0.5,
             "#f7f7f7"
            ],
            [
             0.6,
             "#e6f5d0"
            ],
            [
             0.7,
             "#b8e186"
            ],
            [
             0.8,
             "#7fbc41"
            ],
            [
             0.9,
             "#4d9221"
            ],
            [
             1,
             "#276419"
            ]
           ],
           "sequential": [
            [
             0,
             "#0d0887"
            ],
            [
             0.1111111111111111,
             "#46039f"
            ],
            [
             0.2222222222222222,
             "#7201a8"
            ],
            [
             0.3333333333333333,
             "#9c179e"
            ],
            [
             0.4444444444444444,
             "#bd3786"
            ],
            [
             0.5555555555555556,
             "#d8576b"
            ],
            [
             0.6666666666666666,
             "#ed7953"
            ],
            [
             0.7777777777777778,
             "#fb9f3a"
            ],
            [
             0.8888888888888888,
             "#fdca26"
            ],
            [
             1,
             "#f0f921"
            ]
           ],
           "sequentialminus": [
            [
             0,
             "#0d0887"
            ],
            [
             0.1111111111111111,
             "#46039f"
            ],
            [
             0.2222222222222222,
             "#7201a8"
            ],
            [
             0.3333333333333333,
             "#9c179e"
            ],
            [
             0.4444444444444444,
             "#bd3786"
            ],
            [
             0.5555555555555556,
             "#d8576b"
            ],
            [
             0.6666666666666666,
             "#ed7953"
            ],
            [
             0.7777777777777778,
             "#fb9f3a"
            ],
            [
             0.8888888888888888,
             "#fdca26"
            ],
            [
             1,
             "#f0f921"
            ]
           ]
          },
          "colorway": [
           "#636efa",
           "#EF553B",
           "#00cc96",
           "#ab63fa",
           "#FFA15A",
           "#19d3f3",
           "#FF6692",
           "#B6E880",
           "#FF97FF",
           "#FECB52"
          ],
          "font": {
           "color": "#2a3f5f"
          },
          "geo": {
           "bgcolor": "white",
           "lakecolor": "white",
           "landcolor": "#E5ECF6",
           "showlakes": true,
           "showland": true,
           "subunitcolor": "white"
          },
          "hoverlabel": {
           "align": "left"
          },
          "hovermode": "closest",
          "mapbox": {
           "style": "light"
          },
          "paper_bgcolor": "white",
          "plot_bgcolor": "#E5ECF6",
          "polar": {
           "angularaxis": {
            "gridcolor": "white",
            "linecolor": "white",
            "ticks": ""
           },
           "bgcolor": "#E5ECF6",
           "radialaxis": {
            "gridcolor": "white",
            "linecolor": "white",
            "ticks": ""
           }
          },
          "scene": {
           "xaxis": {
            "backgroundcolor": "#E5ECF6",
            "gridcolor": "white",
            "gridwidth": 2,
            "linecolor": "white",
            "showbackground": true,
            "ticks": "",
            "zerolinecolor": "white"
           },
           "yaxis": {
            "backgroundcolor": "#E5ECF6",
            "gridcolor": "white",
            "gridwidth": 2,
            "linecolor": "white",
            "showbackground": true,
            "ticks": "",
            "zerolinecolor": "white"
           },
           "zaxis": {
            "backgroundcolor": "#E5ECF6",
            "gridcolor": "white",
            "gridwidth": 2,
            "linecolor": "white",
            "showbackground": true,
            "ticks": "",
            "zerolinecolor": "white"
           }
          },
          "shapedefaults": {
           "line": {
            "color": "#2a3f5f"
           }
          },
          "ternary": {
           "aaxis": {
            "gridcolor": "white",
            "linecolor": "white",
            "ticks": ""
           },
           "baxis": {
            "gridcolor": "white",
            "linecolor": "white",
            "ticks": ""
           },
           "bgcolor": "#E5ECF6",
           "caxis": {
            "gridcolor": "white",
            "linecolor": "white",
            "ticks": ""
           }
          },
          "title": {
           "x": 0.05
          },
          "xaxis": {
           "automargin": true,
           "gridcolor": "white",
           "linecolor": "white",
           "ticks": "",
           "title": {
            "standoff": 15
           },
           "zerolinecolor": "white",
           "zerolinewidth": 2
          },
          "yaxis": {
           "automargin": true,
           "gridcolor": "white",
           "linecolor": "white",
           "ticks": "",
           "title": {
            "standoff": 15
           },
           "zerolinecolor": "white",
           "zerolinewidth": 2
          }
         }
        },
        "title": {
         "font": {
          "color": "#4D5663"
         }
        },
        "xaxis": {
         "autorange": true,
         "gridcolor": "#E1E5ED",
         "range": [
          -3.099420971993872,
          2.523552241787488
         ],
         "showgrid": true,
         "tickfont": {
          "color": "#4D5663"
         },
         "title": {
          "font": {
           "color": "#4D5663"
          },
          "text": ""
         },
         "type": "linear",
         "zerolinecolor": "#E1E5ED"
        },
        "yaxis": {
         "autorange": true,
         "gridcolor": "#E1E5ED",
         "range": [
          -3.4892154516745526,
          4.156660705632051
         ],
         "showgrid": true,
         "tickfont": {
          "color": "#4D5663"
         },
         "title": {
          "font": {
           "color": "#4D5663"
          },
          "text": ""
         },
         "type": "linear",
         "zerolinecolor": "#E1E5ED"
        }
       }
      },
      "image/png": "[encoded data removed]",
      "text/html": [
       "<div>                            <div id=\"ac6d71c8-7056-4f20-ac42-5f26f116ead0\" class=\"plotly-graph-div\" style=\"height:525px; width:100%;\"></div>            <script type=\"text/javascript\">                require([\"plotly\"], function(Plotly) {                    window.PLOTLYENV=window.PLOTLYENV || {};\n",
       "                    window.PLOTLYENV.BASE_URL='https://plot.ly';                                    if (document.getElementById(\"ac6d71c8-7056-4f20-ac42-5f26f116ead0\")) {                    Plotly.newPlot(                        \"ac6d71c8-7056-4f20-ac42-5f26f116ead0\",                        [{\"line\":{\"color\":\"rgba(255, 153, 51, 1.0)\",\"dash\":\"solid\",\"shape\":\"linear\",\"width\":1.3},\"marker\":{\"size\":10,\"symbol\":\"circle\"},\"mode\":\"markers\",\"name\":\"B\",\"text\":\"\",\"x\":[-0.3335804497762339,0.00841020770573747,-0.2452486455726726,1.7550835292323625,-0.4124142608843169,0.08397452866741234,-1.3865662695296521,-0.5536159230768968,-0.6159733733331406,0.5351203760401979,0.6219906888015769,2.0936218973984544,0.44108665014911896,-0.416230235006025,0.9331183949846429,-0.7216605612758971,1.3390572677191115,0.6496069974394884,-0.7901367515093446,-0.3422059764483797,0.5373701215532392,1.7747753169553424,0.419529041757397,-0.10904889995774433,-2.0263048218045543,0.21622836105376003,-0.821922543917067,1.842131241717987,-1.265365165032051,0.8479452711578469,0.6156098386466577,0.15867622180468346,-1.238977024083961,0.7335419753028098,0.0512616782988629,1.4495571762852764,-0.4496751518589838,-0.330172000624211,-0.8929792515250653,2.205175209714804,-0.4538635156588506,2.2037334537380286,0.7417458154644216,-0.01924531610158195,0.5149129505912265,-0.8559027787490496,-1.2359804048231446,2.073959092442634,0.6912579520973061,-1.108283786227255,0.16942813801626458,-2.781043939921188,0.0885804145925267,-1.756318606323291,1.274483140059975,0.8438741973237249,1.043238681028487,0.8742390843303314,1.4704877215499943,-0.6540245721736407,-1.1275658316510941,0.8367878573651504,-0.7350001997710474,-0.11503001732679545,-0.1920425691420273,1.3367611859539756,0.31544010241881365,0.30833485067338146,-0.30446858143129724,0.09901607880407506,0.3280088371532466,0.3003499482732641,0.27812375549087964,-0.6621938785792102,0.5884359898684891,-1.4687335662247434,1.5961345007591994,-0.2519890600562586,1.5557835869903025,0.04462193969423287,0.15083076444693133,0.4082980181436096,-0.678370760026145,-0.0750391155180131,-1.0668798705652038,-0.9875792933502123,-2.7515517426231964,1.6668491718400256,-2.011343087200451,0.22068583475438497,1.0427267249140537,0.8666554855258551,1.4876746522797113,-0.12935479445954817,0.544861458818753,0.2590464861926635,-0.29858348018470654,1.0157638005717105,-1.2125999335057973,-0.7869056414224349],\"y\":[1.2656119006442414,0.11172189872330608,2.4441405083498084,0.021263530711874312,-0.09762074893880836,-2.841439832791632,0.3606689299126568,0.6100067499256379,0.46938226746429257,1.0409351529187922,-0.10530897127620471,-0.7839565480168238,1.312981092013129,0.9168981441738603,-0.45747230576020353,1.019246343752088,1.035506744391563,-0.2017921322897468,1.541948116644562,-0.8547194343811696,-0.5159114150487076,0.6205665175937206,-1.4708434724308213,-0.7028787223375108,0.4566743660520509,0.5175867306902976,2.307306044925076,0.6335984216611076,-1.169581749814845,-0.8049516945379682,0.8376752575918941,-0.7965999170117269,1.5701411435733117,0.010738407292215393,-1.9476656494682059,0.7994896822584975,0.9916380277779536,-0.8259760625515664,-0.7750424611682585,-1.000212958965001,-0.002153372965835309,1.1241098204562403,-0.8933357174684814,0.14031630340664777,0.7796311582424318,-2.545378779470004,-0.43196973909652,-0.11648151266855052,0.4066225349475821,1.5668326084368156,0.0285716881764873,1.3441761736057165,-0.5523062721586132,-0.7157409903930229,0.7327498495190612,0.30060721324231693,0.7133267785007691,0.19911508044327778,-0.19545960190474662,0.6853459741633252,-2.127835130345152,2.0218196475959336,2.1780440617017196,2.224401011317823,1.165437639520588,-0.14759125561131795,-0.8113337078873021,1.2284972728337857,-0.1894385534744078,-0.004967028126192879,-0.9774278378969505,0.9833612559553154,-0.23714912708878444,0.8726089987499858,-0.8389751407305852,0.3909661637510026,-1.1694495652685963,-1.9807748615515484,0.4096619399418116,1.1594638854247026,-1.0171361899301976,-1.0048963714697148,-0.36924529104358444,0.1286784085603135,0.7038172729883474,-0.9919135098509365,-0.29941507106034404,0.6134501808248138,-0.5951458647500463,0.254523959598943,0.24629150821694917,-1.3603994825182804,0.4749977182782207,-1.9947392736919967,3.508885086749131,0.9521474983011023,-0.421561079901927,1.686899295360436,-0.03997823528199046,-0.22909054223546957],\"type\":\"scatter\"}],                        {\"legend\":{\"bgcolor\":\"#F5F6F9\",\"font\":{\"color\":\"#4D5663\"}},\"paper_bgcolor\":\"#F5F6F9\",\"plot_bgcolor\":\"#F5F6F9\",\"template\":{\"data\":{\"barpolar\":[{\"marker\":{\"line\":{\"color\":\"#E5ECF6\",\"width\":0.5},\"pattern\":{\"fillmode\":\"overlay\",\"size\":10,\"solidity\":0.2}},\"type\":\"barpolar\"}],\"bar\":[{\"error_x\":{\"color\":\"#2a3f5f\"},\"error_y\":{\"color\":\"#2a3f5f\"},\"marker\":{\"line\":{\"color\":\"#E5ECF6\",\"width\":0.5},\"pattern\":{\"fillmode\":\"overlay\",\"size\":10,\"solidity\":0.2}},\"type\":\"bar\"}],\"carpet\":[{\"aaxis\":{\"endlinecolor\":\"#2a3f5f\",\"gridcolor\":\"white\",\"linecolor\":\"white\",\"minorgridcolor\":\"white\",\"startlinecolor\":\"#2a3f5f\"},\"baxis\":{\"endlinecolor\":\"#2a3f5f\",\"gridcolor\":\"white\",\"linecolor\":\"white\",\"minorgridcolor\":\"white\",\"startlinecolor\":\"#2a3f5f\"},\"type\":\"carpet\"}],\"choropleth\":[{\"colorbar\":{\"outlinewidth\":0,\"ticks\":\"\"},\"type\":\"choropleth\"}],\"contourcarpet\":[{\"colorbar\":{\"outlinewidth\":0,\"ticks\":\"\"},\"type\":\"contourcarpet\"}],\"contour\":[{\"colorbar\":{\"outlinewidth\":0,\"ticks\":\"\"},\"colorscale\":[[0.0,\"#0d0887\"],[0.1111111111111111,\"#46039f\"],[0.2222222222222222,\"#7201a8\"],[0.3333333333333333,\"#9c179e\"],[0.4444444444444444,\"#bd3786\"],[0.5555555555555556,\"#d8576b\"],[0.6666666666666666,\"#ed7953\"],[0.7777777777777778,\"#fb9f3a\"],[0.8888888888888888,\"#fdca26\"],[1.0,\"#f0f921\"]],\"type\":\"contour\"}],\"heatmapgl\":[{\"colorbar\":{\"outlinewidth\":0,\"ticks\":\"\"},\"colorscale\":[[0.0,\"#0d0887\"],[0.1111111111111111,\"#46039f\"],[0.2222222222222222,\"#7201a8\"],[0.3333333333333333,\"#9c179e\"],[0.4444444444444444,\"#bd3786\"],[0.5555555555555556,\"#d8576b\"],[0.6666666666666666,\"#ed7953\"],[0.7777777777777778,\"#fb9f3a\"],[0.8888888888888888,\"#fdca26\"],[1.0,\"#f0f921\"]],\"type\":\"heatmapgl\"}],\"heatmap\":[{\"colorbar\":{\"outlinewidth\":0,\"ticks\":\"\"},\"colorscale\":[[0.0,\"#0d0887\"],[0.1111111111111111,\"#46039f\"],[0.2222222222222222,\"#7201a8\"],[0.3333333333333333,\"#9c179e\"],[0.4444444444444444,\"#bd3786\"],[0.5555555555555556,\"#d8576b\"],[0.6666666666666666,\"#ed7953\"],[0.7777777777777778,\"#fb9f3a\"],[0.8888888888888888,\"#fdca26\"],[1.0,\"#f0f921\"]],\"type\":\"heatmap\"}],\"histogram2dcontour\":[{\"colorbar\":{\"outlinewidth\":0,\"ticks\":\"\"},\"colorscale\":[[0.0,\"#0d0887\"],[0.1111111111111111,\"#46039f\"],[0.2222222222222222,\"#7201a8\"],[0.3333333333333333,\"#9c179e\"],[0.4444444444444444,\"#bd3786\"],[0.5555555555555556,\"#d8576b\"],[0.6666666666666666,\"#ed7953\"],[0.7777777777777778,\"#fb9f3a\"],[0.8888888888888888,\"#fdca26\"],[1.0,\"#f0f921\"]],\"type\":\"histogram2dcontour\"}],\"histogram2d\":[{\"colorbar\":{\"outlinewidth\":0,\"ticks\":\"\"},\"colorscale\":[[0.0,\"#0d0887\"],[0.1111111111111111,\"#46039f\"],[0.2222222222222222,\"#7201a8\"],[0.3333333333333333,\"#9c179e\"],[0.4444444444444444,\"#bd3786\"],[0.5555555555555556,\"#d8576b\"],[0.6666666666666666,\"#ed7953\"],[0.7777777777777778,\"#fb9f3a\"],[0.8888888888888888,\"#fdca26\"],[1.0,\"#f0f921\"]],\"type\":\"histogram2d\"}],\"histogram\":[{\"marker\":{\"pattern\":{\"fillmode\":\"overlay\",\"size\":10,\"solidity\":0.2}},\"type\":\"histogram\"}],\"mesh3d\":[{\"colorbar\":{\"outlinewidth\":0,\"ticks\":\"\"},\"type\":\"mesh3d\"}],\"parcoords\":[{\"line\":{\"colorbar\":{\"outlinewidth\":0,\"ticks\":\"\"}},\"type\":\"parcoords\"}],\"pie\":[{\"automargin\":true,\"type\":\"pie\"}],\"scatter3d\":[{\"line\":{\"colorbar\":{\"outlinewidth\":0,\"ticks\":\"\"}},\"marker\":{\"colorbar\":{\"outlinewidth\":0,\"ticks\":\"\"}},\"type\":\"scatter3d\"}],\"scattercarpet\":[{\"marker\":{\"colorbar\":{\"outlinewidth\":0,\"ticks\":\"\"}},\"type\":\"scattercarpet\"}],\"scattergeo\":[{\"marker\":{\"colorbar\":{\"outlinewidth\":0,\"ticks\":\"\"}},\"type\":\"scattergeo\"}],\"scattergl\":[{\"marker\":{\"colorbar\":{\"outlinewidth\":0,\"ticks\":\"\"}},\"type\":\"scattergl\"}],\"scattermapbox\":[{\"marker\":{\"colorbar\":{\"outlinewidth\":0,\"ticks\":\"\"}},\"type\":\"scattermapbox\"}],\"scatterpolargl\":[{\"marker\":{\"colorbar\":{\"outlinewidth\":0,\"ticks\":\"\"}},\"type\":\"scatterpolargl\"}],\"scatterpolar\":[{\"marker\":{\"colorbar\":{\"outlinewidth\":0,\"ticks\":\"\"}},\"type\":\"scatterpolar\"}],\"scatter\":[{\"fillpattern\":{\"fillmode\":\"overlay\",\"size\":10,\"solidity\":0.2},\"type\":\"scatter\"}],\"scatterternary\":[{\"marker\":{\"colorbar\":{\"outlinewidth\":0,\"ticks\":\"\"}},\"type\":\"scatterternary\"}],\"surface\":[{\"colorbar\":{\"outlinewidth\":0,\"ticks\":\"\"},\"colorscale\":[[0.0,\"#0d0887\"],[0.1111111111111111,\"#46039f\"],[0.2222222222222222,\"#7201a8\"],[0.3333333333333333,\"#9c179e\"],[0.4444444444444444,\"#bd3786\"],[0.5555555555555556,\"#d8576b\"],[0.6666666666666666,\"#ed7953\"],[0.7777777777777778,\"#fb9f3a\"],[0.8888888888888888,\"#fdca26\"],[1.0,\"#f0f921\"]],\"type\":\"surface\"}],\"table\":[{\"cells\":{\"fill\":{\"color\":\"#EBF0F8\"},\"line\":{\"color\":\"white\"}},\"header\":{\"fill\":{\"color\":\"#C8D4E3\"},\"line\":{\"color\":\"white\"}},\"type\":\"table\"}]},\"layout\":{\"annotationdefaults\":{\"arrowcolor\":\"#2a3f5f\",\"arrowhead\":0,\"arrowwidth\":1},\"autotypenumbers\":\"strict\",\"coloraxis\":{\"colorbar\":{\"outlinewidth\":0,\"ticks\":\"\"}},\"colorscale\":{\"diverging\":[[0,\"#8e0152\"],[0.1,\"#c51b7d\"],[0.2,\"#de77ae\"],[0.3,\"#f1b6da\"],[0.4,\"#fde0ef\"],[0.5,\"#f7f7f7\"],[0.6,\"#e6f5d0\"],[0.7,\"#b8e186\"],[0.8,\"#7fbc41\"],[0.9,\"#4d9221\"],[1,\"#276419\"]],\"sequential\":[[0.0,\"#0d0887\"],[0.1111111111111111,\"#46039f\"],[0.2222222222222222,\"#7201a8\"],[0.3333333333333333,\"#9c179e\"],[0.4444444444444444,\"#bd3786\"],[0.5555555555555556,\"#d8576b\"],[0.6666666666666666,\"#ed7953\"],[0.7777777777777778,\"#fb9f3a\"],[0.8888888888888888,\"#fdca26\"],[1.0,\"#f0f921\"]],\"sequentialminus\":[[0.0,\"#0d0887\"],[0.1111111111111111,\"#46039f\"],[0.2222222222222222,\"#7201a8\"],[0.3333333333333333,\"#9c179e\"],[0.4444444444444444,\"#bd3786\"],[0.5555555555555556,\"#d8576b\"],[0.6666666666666666,\"#ed7953\"],[0.7777777777777778,\"#fb9f3a\"],[0.8888888888888888,\"#fdca26\"],[1.0,\"#f0f921\"]]},\"colorway\":[\"#636efa\",\"#EF553B\",\"#00cc96\",\"#ab63fa\",\"#FFA15A\",\"#19d3f3\",\"#FF6692\",\"#B6E880\",\"#FF97FF\",\"#FECB52\"],\"font\":{\"color\":\"#2a3f5f\"},\"geo\":{\"bgcolor\":\"white\",\"lakecolor\":\"white\",\"landcolor\":\"#E5ECF6\",\"showlakes\":true,\"showland\":true,\"subunitcolor\":\"white\"},\"hoverlabel\":{\"align\":\"left\"},\"hovermode\":\"closest\",\"mapbox\":{\"style\":\"light\"},\"paper_bgcolor\":\"white\",\"plot_bgcolor\":\"#E5ECF6\",\"polar\":{\"angularaxis\":{\"gridcolor\":\"white\",\"linecolor\":\"white\",\"ticks\":\"\"},\"bgcolor\":\"#E5ECF6\",\"radialaxis\":{\"gridcolor\":\"white\",\"linecolor\":\"white\",\"ticks\":\"\"}},\"scene\":{\"xaxis\":{\"backgroundcolor\":\"#E5ECF6\",\"gridcolor\":\"white\",\"gridwidth\":2,\"linecolor\":\"white\",\"showbackground\":true,\"ticks\":\"\",\"zerolinecolor\":\"white\"},\"yaxis\":{\"backgroundcolor\":\"#E5ECF6\",\"gridcolor\":\"white\",\"gridwidth\":2,\"linecolor\":\"white\",\"showbackground\":true,\"ticks\":\"\",\"zerolinecolor\":\"white\"},\"zaxis\":{\"backgroundcolor\":\"#E5ECF6\",\"gridcolor\":\"white\",\"gridwidth\":2,\"linecolor\":\"white\",\"showbackground\":true,\"ticks\":\"\",\"zerolinecolor\":\"white\"}},\"shapedefaults\":{\"line\":{\"color\":\"#2a3f5f\"}},\"ternary\":{\"aaxis\":{\"gridcolor\":\"white\",\"linecolor\":\"white\",\"ticks\":\"\"},\"baxis\":{\"gridcolor\":\"white\",\"linecolor\":\"white\",\"ticks\":\"\"},\"bgcolor\":\"#E5ECF6\",\"caxis\":{\"gridcolor\":\"white\",\"linecolor\":\"white\",\"ticks\":\"\"}},\"title\":{\"x\":0.05},\"xaxis\":{\"automargin\":true,\"gridcolor\":\"white\",\"linecolor\":\"white\",\"ticks\":\"\",\"title\":{\"standoff\":15},\"zerolinecolor\":\"white\",\"zerolinewidth\":2},\"yaxis\":{\"automargin\":true,\"gridcolor\":\"white\",\"linecolor\":\"white\",\"ticks\":\"\",\"title\":{\"standoff\":15},\"zerolinecolor\":\"white\",\"zerolinewidth\":2}}},\"title\":{\"font\":{\"color\":\"#4D5663\"}},\"xaxis\":{\"gridcolor\":\"#E1E5ED\",\"showgrid\":true,\"tickfont\":{\"color\":\"#4D5663\"},\"title\":{\"font\":{\"color\":\"#4D5663\"},\"text\":\"\"},\"zerolinecolor\":\"#E1E5ED\"},\"yaxis\":{\"gridcolor\":\"#E1E5ED\",\"showgrid\":true,\"tickfont\":{\"color\":\"#4D5663\"},\"title\":{\"font\":{\"color\":\"#4D5663\"},\"text\":\"\"},\"zerolinecolor\":\"#E1E5ED\"}},                        {\"showLink\": true, \"linkText\": \"Export to plot.ly\", \"plotlyServerURL\": \"https://plot.ly\", \"responsive\": true}                    ).then(function(){\n",
       "                            \n",
       "var gd = document.getElementById('ac6d71c8-7056-4f20-ac42-5f26f116ead0');\n",
       "var x = new MutationObserver(function (mutations, observer) {{\n",
       "        var display = window.getComputedStyle(gd).display;\n",
       "        if (!display || display === 'none') {{\n",
       "            console.log([gd, 'removed!']);\n",
       "            Plotly.purge(gd);\n",
       "            observer.disconnect();\n",
       "        }}\n",
       "}});\n",
       "\n",
       "// Listen for the removal of the full notebook cells\n",
       "var notebookContainer = gd.closest('#notebook-container');\n",
       "if (notebookContainer) {{\n",
       "    x.observe(notebookContainer, {childList: true});\n",
       "}}\n",
       "\n",
       "// Listen for the clearing of the current output cell\n",
       "var outputEl = gd.closest('.output');\n",
       "if (outputEl) {{\n",
       "    x.observe(outputEl, {childList: true});\n",
       "}}\n",
       "\n",
       "                        })                };                });            </script>        </div>"
      ]
     },
     "metadata": {},
     "output_type": "display_data"
    }
   ],
   "source": [
    "df.iplot(kind='scatter',x='A',y='B',mode='markers',size=10)"
   ]
  },
  {
   "cell_type": "code",
   "execution_count": 23,
   "id": "77aef959-e205-4e4b-88e3-c9ddc92b7643",
   "metadata": {},
   "outputs": [
    {
     "data": {
      "application/vnd.plotly.v1+json": {
       "config": {
        "linkText": "Export to plot.ly",
        "plotlyServerURL": "https://plot.ly",
        "showLink": true
       },
       "data": [
        {
         "marker": {
          "color": "rgba(255, 153, 51, 0.6)",
          "line": {
           "color": "rgba(255, 153, 51, 1.0)",
           "width": 1
          }
         },
         "name": "values",
         "orientation": "v",
         "text": "",
         "type": "bar",
         "x": [
          "A",
          " B",
          " C"
         ],
         "y": [
          30,
          25,
          45
         ]
        }
       ],
       "layout": {
        "autosize": true,
        "legend": {
         "bgcolor": "#F5F6F9",
         "font": {
          "color": "#4D5663"
         }
        },
        "paper_bgcolor": "#F5F6F9",
        "plot_bgcolor": "#F5F6F9",
        "template": {
         "data": {
          "bar": [
           {
            "error_x": {
             "color": "#2a3f5f"
            },
            "error_y": {
             "color": "#2a3f5f"
            },
            "marker": {
             "line": {
              "color": "#E5ECF6",
              "width": 0.5
             },
             "pattern": {
              "fillmode": "overlay",
              "size": 10,
              "solidity": 0.2
             }
            },
            "type": "bar"
           }
          ],
          "barpolar": [
           {
            "marker": {
             "line": {
              "color": "#E5ECF6",
              "width": 0.5
             },
             "pattern": {
              "fillmode": "overlay",
              "size": 10,
              "solidity": 0.2
             }
            },
            "type": "barpolar"
           }
          ],
          "carpet": [
           {
            "aaxis": {
             "endlinecolor": "#2a3f5f",
             "gridcolor": "white",
             "linecolor": "white",
             "minorgridcolor": "white",
             "startlinecolor": "#2a3f5f"
            },
            "baxis": {
             "endlinecolor": "#2a3f5f",
             "gridcolor": "white",
             "linecolor": "white",
             "minorgridcolor": "white",
             "startlinecolor": "#2a3f5f"
            },
            "type": "carpet"
           }
          ],
          "choropleth": [
           {
            "colorbar": {
             "outlinewidth": 0,
             "ticks": ""
            },
            "type": "choropleth"
           }
          ],
          "contour": [
           {
            "colorbar": {
             "outlinewidth": 0,
             "ticks": ""
            },
            "colorscale": [
             [
              0,
              "#0d0887"
             ],
             [
              0.1111111111111111,
              "#46039f"
             ],
             [
              0.2222222222222222,
              "#7201a8"
             ],
             [
              0.3333333333333333,
              "#9c179e"
             ],
             [
              0.4444444444444444,
              "#bd3786"
             ],
             [
              0.5555555555555556,
              "#d8576b"
             ],
             [
              0.6666666666666666,
              "#ed7953"
             ],
             [
              0.7777777777777778,
              "#fb9f3a"
             ],
             [
              0.8888888888888888,
              "#fdca26"
             ],
             [
              1,
              "#f0f921"
             ]
            ],
            "type": "contour"
           }
          ],
          "contourcarpet": [
           {
            "colorbar": {
             "outlinewidth": 0,
             "ticks": ""
            },
            "type": "contourcarpet"
           }
          ],
          "heatmap": [
           {
            "colorbar": {
             "outlinewidth": 0,
             "ticks": ""
            },
            "colorscale": [
             [
              0,
              "#0d0887"
             ],
             [
              0.1111111111111111,
              "#46039f"
             ],
             [
              0.2222222222222222,
              "#7201a8"
             ],
             [
              0.3333333333333333,
              "#9c179e"
             ],
             [
              0.4444444444444444,
              "#bd3786"
             ],
             [
              0.5555555555555556,
              "#d8576b"
             ],
             [
              0.6666666666666666,
              "#ed7953"
             ],
             [
              0.7777777777777778,
              "#fb9f3a"
             ],
             [
              0.8888888888888888,
              "#fdca26"
             ],
             [
              1,
              "#f0f921"
             ]
            ],
            "type": "heatmap"
           }
          ],
          "heatmapgl": [
           {
            "colorbar": {
             "outlinewidth": 0,
             "ticks": ""
            },
            "colorscale": [
             [
              0,
              "#0d0887"
             ],
             [
              0.1111111111111111,
              "#46039f"
             ],
             [
              0.2222222222222222,
              "#7201a8"
             ],
             [
              0.3333333333333333,
              "#9c179e"
             ],
             [
              0.4444444444444444,
              "#bd3786"
             ],
             [
              0.5555555555555556,
              "#d8576b"
             ],
             [
              0.6666666666666666,
              "#ed7953"
             ],
             [
              0.7777777777777778,
              "#fb9f3a"
             ],
             [
              0.8888888888888888,
              "#fdca26"
             ],
             [
              1,
              "#f0f921"
             ]
            ],
            "type": "heatmapgl"
           }
          ],
          "histogram": [
           {
            "marker": {
             "pattern": {
              "fillmode": "overlay",
              "size": 10,
              "solidity": 0.2
             }
            },
            "type": "histogram"
           }
          ],
          "histogram2d": [
           {
            "colorbar": {
             "outlinewidth": 0,
             "ticks": ""
            },
            "colorscale": [
             [
              0,
              "#0d0887"
             ],
             [
              0.1111111111111111,
              "#46039f"
             ],
             [
              0.2222222222222222,
              "#7201a8"
             ],
             [
              0.3333333333333333,
              "#9c179e"
             ],
             [
              0.4444444444444444,
              "#bd3786"
             ],
             [
              0.5555555555555556,
              "#d8576b"
             ],
             [
              0.6666666666666666,
              "#ed7953"
             ],
             [
              0.7777777777777778,
              "#fb9f3a"
             ],
             [
              0.8888888888888888,
              "#fdca26"
             ],
             [
              1,
              "#f0f921"
             ]
            ],
            "type": "histogram2d"
           }
          ],
          "histogram2dcontour": [
           {
            "colorbar": {
             "outlinewidth": 0,
             "ticks": ""
            },
            "colorscale": [
             [
              0,
              "#0d0887"
             ],
             [
              0.1111111111111111,
              "#46039f"
             ],
             [
              0.2222222222222222,
              "#7201a8"
             ],
             [
              0.3333333333333333,
              "#9c179e"
             ],
             [
              0.4444444444444444,
              "#bd3786"
             ],
             [
              0.5555555555555556,
              "#d8576b"
             ],
             [
              0.6666666666666666,
              "#ed7953"
             ],
             [
              0.7777777777777778,
              "#fb9f3a"
             ],
             [
              0.8888888888888888,
              "#fdca26"
             ],
             [
              1,
              "#f0f921"
             ]
            ],
            "type": "histogram2dcontour"
           }
          ],
          "mesh3d": [
           {
            "colorbar": {
             "outlinewidth": 0,
             "ticks": ""
            },
            "type": "mesh3d"
           }
          ],
          "parcoords": [
           {
            "line": {
             "colorbar": {
              "outlinewidth": 0,
              "ticks": ""
             }
            },
            "type": "parcoords"
           }
          ],
          "pie": [
           {
            "automargin": true,
            "type": "pie"
           }
          ],
          "scatter": [
           {
            "fillpattern": {
             "fillmode": "overlay",
             "size": 10,
             "solidity": 0.2
            },
            "type": "scatter"
           }
          ],
          "scatter3d": [
           {
            "line": {
             "colorbar": {
              "outlinewidth": 0,
              "ticks": ""
             }
            },
            "marker": {
             "colorbar": {
              "outlinewidth": 0,
              "ticks": ""
             }
            },
            "type": "scatter3d"
           }
          ],
          "scattercarpet": [
           {
            "marker": {
             "colorbar": {
              "outlinewidth": 0,
              "ticks": ""
             }
            },
            "type": "scattercarpet"
           }
          ],
          "scattergeo": [
           {
            "marker": {
             "colorbar": {
              "outlinewidth": 0,
              "ticks": ""
             }
            },
            "type": "scattergeo"
           }
          ],
          "scattergl": [
           {
            "marker": {
             "colorbar": {
              "outlinewidth": 0,
              "ticks": ""
             }
            },
            "type": "scattergl"
           }
          ],
          "scattermapbox": [
           {
            "marker": {
             "colorbar": {
              "outlinewidth": 0,
              "ticks": ""
             }
            },
            "type": "scattermapbox"
           }
          ],
          "scatterpolar": [
           {
            "marker": {
             "colorbar": {
              "outlinewidth": 0,
              "ticks": ""
             }
            },
            "type": "scatterpolar"
           }
          ],
          "scatterpolargl": [
           {
            "marker": {
             "colorbar": {
              "outlinewidth": 0,
              "ticks": ""
             }
            },
            "type": "scatterpolargl"
           }
          ],
          "scatterternary": [
           {
            "marker": {
             "colorbar": {
              "outlinewidth": 0,
              "ticks": ""
             }
            },
            "type": "scatterternary"
           }
          ],
          "surface": [
           {
            "colorbar": {
             "outlinewidth": 0,
             "ticks": ""
            },
            "colorscale": [
             [
              0,
              "#0d0887"
             ],
             [
              0.1111111111111111,
              "#46039f"
             ],
             [
              0.2222222222222222,
              "#7201a8"
             ],
             [
              0.3333333333333333,
              "#9c179e"
             ],
             [
              0.4444444444444444,
              "#bd3786"
             ],
             [
              0.5555555555555556,
              "#d8576b"
             ],
             [
              0.6666666666666666,
              "#ed7953"
             ],
             [
              0.7777777777777778,
              "#fb9f3a"
             ],
             [
              0.8888888888888888,
              "#fdca26"
             ],
             [
              1,
              "#f0f921"
             ]
            ],
            "type": "surface"
           }
          ],
          "table": [
           {
            "cells": {
             "fill": {
              "color": "#EBF0F8"
             },
             "line": {
              "color": "white"
             }
            },
            "header": {
             "fill": {
              "color": "#C8D4E3"
             },
             "line": {
              "color": "white"
             }
            },
            "type": "table"
           }
          ]
         },
         "layout": {
          "annotationdefaults": {
           "arrowcolor": "#2a3f5f",
           "arrowhead": 0,
           "arrowwidth": 1
          },
          "autotypenumbers": "strict",
          "coloraxis": {
           "colorbar": {
            "outlinewidth": 0,
            "ticks": ""
           }
          },
          "colorscale": {
           "diverging": [
            [
             0,
             "#8e0152"
            ],
            [
             0.1,
             "#c51b7d"
            ],
            [
             0.2,
             "#de77ae"
            ],
            [
             0.3,
             "#f1b6da"
            ],
            [
             0.4,
             "#fde0ef"
            ],
            [
             0.5,
             "#f7f7f7"
            ],
            [
             0.6,
             "#e6f5d0"
            ],
            [
             0.7,
             "#b8e186"
            ],
            [
             0.8,
             "#7fbc41"
            ],
            [
             0.9,
             "#4d9221"
            ],
            [
             1,
             "#276419"
            ]
           ],
           "sequential": [
            [
             0,
             "#0d0887"
            ],
            [
             0.1111111111111111,
             "#46039f"
            ],
            [
             0.2222222222222222,
             "#7201a8"
            ],
            [
             0.3333333333333333,
             "#9c179e"
            ],
            [
             0.4444444444444444,
             "#bd3786"
            ],
            [
             0.5555555555555556,
             "#d8576b"
            ],
            [
             0.6666666666666666,
             "#ed7953"
            ],
            [
             0.7777777777777778,
             "#fb9f3a"
            ],
            [
             0.8888888888888888,
             "#fdca26"
            ],
            [
             1,
             "#f0f921"
            ]
           ],
           "sequentialminus": [
            [
             0,
             "#0d0887"
            ],
            [
             0.1111111111111111,
             "#46039f"
            ],
            [
             0.2222222222222222,
             "#7201a8"
            ],
            [
             0.3333333333333333,
             "#9c179e"
            ],
            [
             0.4444444444444444,
             "#bd3786"
            ],
            [
             0.5555555555555556,
             "#d8576b"
            ],
            [
             0.6666666666666666,
             "#ed7953"
            ],
            [
             0.7777777777777778,
             "#fb9f3a"
            ],
            [
             0.8888888888888888,
             "#fdca26"
            ],
            [
             1,
             "#f0f921"
            ]
           ]
          },
          "colorway": [
           "#636efa",
           "#EF553B",
           "#00cc96",
           "#ab63fa",
           "#FFA15A",
           "#19d3f3",
           "#FF6692",
           "#B6E880",
           "#FF97FF",
           "#FECB52"
          ],
          "font": {
           "color": "#2a3f5f"
          },
          "geo": {
           "bgcolor": "white",
           "lakecolor": "white",
           "landcolor": "#E5ECF6",
           "showlakes": true,
           "showland": true,
           "subunitcolor": "white"
          },
          "hoverlabel": {
           "align": "left"
          },
          "hovermode": "closest",
          "mapbox": {
           "style": "light"
          },
          "paper_bgcolor": "white",
          "plot_bgcolor": "#E5ECF6",
          "polar": {
           "angularaxis": {
            "gridcolor": "white",
            "linecolor": "white",
            "ticks": ""
           },
           "bgcolor": "#E5ECF6",
           "radialaxis": {
            "gridcolor": "white",
            "linecolor": "white",
            "ticks": ""
           }
          },
          "scene": {
           "xaxis": {
            "backgroundcolor": "#E5ECF6",
            "gridcolor": "white",
            "gridwidth": 2,
            "linecolor": "white",
            "showbackground": true,
            "ticks": "",
            "zerolinecolor": "white"
           },
           "yaxis": {
            "backgroundcolor": "#E5ECF6",
            "gridcolor": "white",
            "gridwidth": 2,
            "linecolor": "white",
            "showbackground": true,
            "ticks": "",
            "zerolinecolor": "white"
           },
           "zaxis": {
            "backgroundcolor": "#E5ECF6",
            "gridcolor": "white",
            "gridwidth": 2,
            "linecolor": "white",
            "showbackground": true,
            "ticks": "",
            "zerolinecolor": "white"
           }
          },
          "shapedefaults": {
           "line": {
            "color": "#2a3f5f"
           }
          },
          "ternary": {
           "aaxis": {
            "gridcolor": "white",
            "linecolor": "white",
            "ticks": ""
           },
           "baxis": {
            "gridcolor": "white",
            "linecolor": "white",
            "ticks": ""
           },
           "bgcolor": "#E5ECF6",
           "caxis": {
            "gridcolor": "white",
            "linecolor": "white",
            "ticks": ""
           }
          },
          "title": {
           "x": 0.05
          },
          "xaxis": {
           "automargin": true,
           "gridcolor": "white",
           "linecolor": "white",
           "ticks": "",
           "title": {
            "standoff": 15
           },
           "zerolinecolor": "white",
           "zerolinewidth": 2
          },
          "yaxis": {
           "automargin": true,
           "gridcolor": "white",
           "linecolor": "white",
           "ticks": "",
           "title": {
            "standoff": 15
           },
           "zerolinecolor": "white",
           "zerolinewidth": 2
          }
         }
        },
        "title": {
         "font": {
          "color": "#4D5663"
         }
        },
        "xaxis": {
         "autorange": true,
         "gridcolor": "#E1E5ED",
         "range": [
          -0.5,
          2.5
         ],
         "showgrid": true,
         "tickfont": {
          "color": "#4D5663"
         },
         "title": {
          "font": {
           "color": "#4D5663"
          },
          "text": ""
         },
         "type": "category",
         "zerolinecolor": "#E1E5ED"
        },
        "yaxis": {
         "autorange": true,
         "gridcolor": "#E1E5ED",
         "range": [
          0,
          47.368421052631575
         ],
         "showgrid": true,
         "tickfont": {
          "color": "#4D5663"
         },
         "title": {
          "font": {
           "color": "#4D5663"
          },
          "text": ""
         },
         "type": "linear",
         "zerolinecolor": "#E1E5ED"
        }
       }
      },
      "image/png": "[encoded data removed]",
      "text/html": [
       "<div>                            <div id=\"64870dca-96c1-46b2-8f54-a3f82cf97783\" class=\"plotly-graph-div\" style=\"height:525px; width:100%;\"></div>            <script type=\"text/javascript\">                require([\"plotly\"], function(Plotly) {                    window.PLOTLYENV=window.PLOTLYENV || {};\n",
       "                    window.PLOTLYENV.BASE_URL='https://plot.ly';                                    if (document.getElementById(\"64870dca-96c1-46b2-8f54-a3f82cf97783\")) {                    Plotly.newPlot(                        \"64870dca-96c1-46b2-8f54-a3f82cf97783\",                        [{\"marker\":{\"color\":\"rgba(255, 153, 51, 0.6)\",\"line\":{\"color\":\"rgba(255, 153, 51, 1.0)\",\"width\":1}},\"name\":\"values\",\"orientation\":\"v\",\"text\":\"\",\"x\":[\"A\",\" B\",\" C\"],\"y\":[30,25,45],\"type\":\"bar\"}],                        {\"legend\":{\"bgcolor\":\"#F5F6F9\",\"font\":{\"color\":\"#4D5663\"}},\"paper_bgcolor\":\"#F5F6F9\",\"plot_bgcolor\":\"#F5F6F9\",\"template\":{\"data\":{\"barpolar\":[{\"marker\":{\"line\":{\"color\":\"#E5ECF6\",\"width\":0.5},\"pattern\":{\"fillmode\":\"overlay\",\"size\":10,\"solidity\":0.2}},\"type\":\"barpolar\"}],\"bar\":[{\"error_x\":{\"color\":\"#2a3f5f\"},\"error_y\":{\"color\":\"#2a3f5f\"},\"marker\":{\"line\":{\"color\":\"#E5ECF6\",\"width\":0.5},\"pattern\":{\"fillmode\":\"overlay\",\"size\":10,\"solidity\":0.2}},\"type\":\"bar\"}],\"carpet\":[{\"aaxis\":{\"endlinecolor\":\"#2a3f5f\",\"gridcolor\":\"white\",\"linecolor\":\"white\",\"minorgridcolor\":\"white\",\"startlinecolor\":\"#2a3f5f\"},\"baxis\":{\"endlinecolor\":\"#2a3f5f\",\"gridcolor\":\"white\",\"linecolor\":\"white\",\"minorgridcolor\":\"white\",\"startlinecolor\":\"#2a3f5f\"},\"type\":\"carpet\"}],\"choropleth\":[{\"colorbar\":{\"outlinewidth\":0,\"ticks\":\"\"},\"type\":\"choropleth\"}],\"contourcarpet\":[{\"colorbar\":{\"outlinewidth\":0,\"ticks\":\"\"},\"type\":\"contourcarpet\"}],\"contour\":[{\"colorbar\":{\"outlinewidth\":0,\"ticks\":\"\"},\"colorscale\":[[0.0,\"#0d0887\"],[0.1111111111111111,\"#46039f\"],[0.2222222222222222,\"#7201a8\"],[0.3333333333333333,\"#9c179e\"],[0.4444444444444444,\"#bd3786\"],[0.5555555555555556,\"#d8576b\"],[0.6666666666666666,\"#ed7953\"],[0.7777777777777778,\"#fb9f3a\"],[0.8888888888888888,\"#fdca26\"],[1.0,\"#f0f921\"]],\"type\":\"contour\"}],\"heatmapgl\":[{\"colorbar\":{\"outlinewidth\":0,\"ticks\":\"\"},\"colorscale\":[[0.0,\"#0d0887\"],[0.1111111111111111,\"#46039f\"],[0.2222222222222222,\"#7201a8\"],[0.3333333333333333,\"#9c179e\"],[0.4444444444444444,\"#bd3786\"],[0.5555555555555556,\"#d8576b\"],[0.6666666666666666,\"#ed7953\"],[0.7777777777777778,\"#fb9f3a\"],[0.8888888888888888,\"#fdca26\"],[1.0,\"#f0f921\"]],\"type\":\"heatmapgl\"}],\"heatmap\":[{\"colorbar\":{\"outlinewidth\":0,\"ticks\":\"\"},\"colorscale\":[[0.0,\"#0d0887\"],[0.1111111111111111,\"#46039f\"],[0.2222222222222222,\"#7201a8\"],[0.3333333333333333,\"#9c179e\"],[0.4444444444444444,\"#bd3786\"],[0.5555555555555556,\"#d8576b\"],[0.6666666666666666,\"#ed7953\"],[0.7777777777777778,\"#fb9f3a\"],[0.8888888888888888,\"#fdca26\"],[1.0,\"#f0f921\"]],\"type\":\"heatmap\"}],\"histogram2dcontour\":[{\"colorbar\":{\"outlinewidth\":0,\"ticks\":\"\"},\"colorscale\":[[0.0,\"#0d0887\"],[0.1111111111111111,\"#46039f\"],[0.2222222222222222,\"#7201a8\"],[0.3333333333333333,\"#9c179e\"],[0.4444444444444444,\"#bd3786\"],[0.5555555555555556,\"#d8576b\"],[0.6666666666666666,\"#ed7953\"],[0.7777777777777778,\"#fb9f3a\"],[0.8888888888888888,\"#fdca26\"],[1.0,\"#f0f921\"]],\"type\":\"histogram2dcontour\"}],\"histogram2d\":[{\"colorbar\":{\"outlinewidth\":0,\"ticks\":\"\"},\"colorscale\":[[0.0,\"#0d0887\"],[0.1111111111111111,\"#46039f\"],[0.2222222222222222,\"#7201a8\"],[0.3333333333333333,\"#9c179e\"],[0.4444444444444444,\"#bd3786\"],[0.5555555555555556,\"#d8576b\"],[0.6666666666666666,\"#ed7953\"],[0.7777777777777778,\"#fb9f3a\"],[0.8888888888888888,\"#fdca26\"],[1.0,\"#f0f921\"]],\"type\":\"histogram2d\"}],\"histogram\":[{\"marker\":{\"pattern\":{\"fillmode\":\"overlay\",\"size\":10,\"solidity\":0.2}},\"type\":\"histogram\"}],\"mesh3d\":[{\"colorbar\":{\"outlinewidth\":0,\"ticks\":\"\"},\"type\":\"mesh3d\"}],\"parcoords\":[{\"line\":{\"colorbar\":{\"outlinewidth\":0,\"ticks\":\"\"}},\"type\":\"parcoords\"}],\"pie\":[{\"automargin\":true,\"type\":\"pie\"}],\"scatter3d\":[{\"line\":{\"colorbar\":{\"outlinewidth\":0,\"ticks\":\"\"}},\"marker\":{\"colorbar\":{\"outlinewidth\":0,\"ticks\":\"\"}},\"type\":\"scatter3d\"}],\"scattercarpet\":[{\"marker\":{\"colorbar\":{\"outlinewidth\":0,\"ticks\":\"\"}},\"type\":\"scattercarpet\"}],\"scattergeo\":[{\"marker\":{\"colorbar\":{\"outlinewidth\":0,\"ticks\":\"\"}},\"type\":\"scattergeo\"}],\"scattergl\":[{\"marker\":{\"colorbar\":{\"outlinewidth\":0,\"ticks\":\"\"}},\"type\":\"scattergl\"}],\"scattermapbox\":[{\"marker\":{\"colorbar\":{\"outlinewidth\":0,\"ticks\":\"\"}},\"type\":\"scattermapbox\"}],\"scatterpolargl\":[{\"marker\":{\"colorbar\":{\"outlinewidth\":0,\"ticks\":\"\"}},\"type\":\"scatterpolargl\"}],\"scatterpolar\":[{\"marker\":{\"colorbar\":{\"outlinewidth\":0,\"ticks\":\"\"}},\"type\":\"scatterpolar\"}],\"scatter\":[{\"fillpattern\":{\"fillmode\":\"overlay\",\"size\":10,\"solidity\":0.2},\"type\":\"scatter\"}],\"scatterternary\":[{\"marker\":{\"colorbar\":{\"outlinewidth\":0,\"ticks\":\"\"}},\"type\":\"scatterternary\"}],\"surface\":[{\"colorbar\":{\"outlinewidth\":0,\"ticks\":\"\"},\"colorscale\":[[0.0,\"#0d0887\"],[0.1111111111111111,\"#46039f\"],[0.2222222222222222,\"#7201a8\"],[0.3333333333333333,\"#9c179e\"],[0.4444444444444444,\"#bd3786\"],[0.5555555555555556,\"#d8576b\"],[0.6666666666666666,\"#ed7953\"],[0.7777777777777778,\"#fb9f3a\"],[0.8888888888888888,\"#fdca26\"],[1.0,\"#f0f921\"]],\"type\":\"surface\"}],\"table\":[{\"cells\":{\"fill\":{\"color\":\"#EBF0F8\"},\"line\":{\"color\":\"white\"}},\"header\":{\"fill\":{\"color\":\"#C8D4E3\"},\"line\":{\"color\":\"white\"}},\"type\":\"table\"}]},\"layout\":{\"annotationdefaults\":{\"arrowcolor\":\"#2a3f5f\",\"arrowhead\":0,\"arrowwidth\":1},\"autotypenumbers\":\"strict\",\"coloraxis\":{\"colorbar\":{\"outlinewidth\":0,\"ticks\":\"\"}},\"colorscale\":{\"diverging\":[[0,\"#8e0152\"],[0.1,\"#c51b7d\"],[0.2,\"#de77ae\"],[0.3,\"#f1b6da\"],[0.4,\"#fde0ef\"],[0.5,\"#f7f7f7\"],[0.6,\"#e6f5d0\"],[0.7,\"#b8e186\"],[0.8,\"#7fbc41\"],[0.9,\"#4d9221\"],[1,\"#276419\"]],\"sequential\":[[0.0,\"#0d0887\"],[0.1111111111111111,\"#46039f\"],[0.2222222222222222,\"#7201a8\"],[0.3333333333333333,\"#9c179e\"],[0.4444444444444444,\"#bd3786\"],[0.5555555555555556,\"#d8576b\"],[0.6666666666666666,\"#ed7953\"],[0.7777777777777778,\"#fb9f3a\"],[0.8888888888888888,\"#fdca26\"],[1.0,\"#f0f921\"]],\"sequentialminus\":[[0.0,\"#0d0887\"],[0.1111111111111111,\"#46039f\"],[0.2222222222222222,\"#7201a8\"],[0.3333333333333333,\"#9c179e\"],[0.4444444444444444,\"#bd3786\"],[0.5555555555555556,\"#d8576b\"],[0.6666666666666666,\"#ed7953\"],[0.7777777777777778,\"#fb9f3a\"],[0.8888888888888888,\"#fdca26\"],[1.0,\"#f0f921\"]]},\"colorway\":[\"#636efa\",\"#EF553B\",\"#00cc96\",\"#ab63fa\",\"#FFA15A\",\"#19d3f3\",\"#FF6692\",\"#B6E880\",\"#FF97FF\",\"#FECB52\"],\"font\":{\"color\":\"#2a3f5f\"},\"geo\":{\"bgcolor\":\"white\",\"lakecolor\":\"white\",\"landcolor\":\"#E5ECF6\",\"showlakes\":true,\"showland\":true,\"subunitcolor\":\"white\"},\"hoverlabel\":{\"align\":\"left\"},\"hovermode\":\"closest\",\"mapbox\":{\"style\":\"light\"},\"paper_bgcolor\":\"white\",\"plot_bgcolor\":\"#E5ECF6\",\"polar\":{\"angularaxis\":{\"gridcolor\":\"white\",\"linecolor\":\"white\",\"ticks\":\"\"},\"bgcolor\":\"#E5ECF6\",\"radialaxis\":{\"gridcolor\":\"white\",\"linecolor\":\"white\",\"ticks\":\"\"}},\"scene\":{\"xaxis\":{\"backgroundcolor\":\"#E5ECF6\",\"gridcolor\":\"white\",\"gridwidth\":2,\"linecolor\":\"white\",\"showbackground\":true,\"ticks\":\"\",\"zerolinecolor\":\"white\"},\"yaxis\":{\"backgroundcolor\":\"#E5ECF6\",\"gridcolor\":\"white\",\"gridwidth\":2,\"linecolor\":\"white\",\"showbackground\":true,\"ticks\":\"\",\"zerolinecolor\":\"white\"},\"zaxis\":{\"backgroundcolor\":\"#E5ECF6\",\"gridcolor\":\"white\",\"gridwidth\":2,\"linecolor\":\"white\",\"showbackground\":true,\"ticks\":\"\",\"zerolinecolor\":\"white\"}},\"shapedefaults\":{\"line\":{\"color\":\"#2a3f5f\"}},\"ternary\":{\"aaxis\":{\"gridcolor\":\"white\",\"linecolor\":\"white\",\"ticks\":\"\"},\"baxis\":{\"gridcolor\":\"white\",\"linecolor\":\"white\",\"ticks\":\"\"},\"bgcolor\":\"#E5ECF6\",\"caxis\":{\"gridcolor\":\"white\",\"linecolor\":\"white\",\"ticks\":\"\"}},\"title\":{\"x\":0.05},\"xaxis\":{\"automargin\":true,\"gridcolor\":\"white\",\"linecolor\":\"white\",\"ticks\":\"\",\"title\":{\"standoff\":15},\"zerolinecolor\":\"white\",\"zerolinewidth\":2},\"yaxis\":{\"automargin\":true,\"gridcolor\":\"white\",\"linecolor\":\"white\",\"ticks\":\"\",\"title\":{\"standoff\":15},\"zerolinecolor\":\"white\",\"zerolinewidth\":2}}},\"title\":{\"font\":{\"color\":\"#4D5663\"}},\"xaxis\":{\"gridcolor\":\"#E1E5ED\",\"showgrid\":true,\"tickfont\":{\"color\":\"#4D5663\"},\"title\":{\"font\":{\"color\":\"#4D5663\"},\"text\":\"\"},\"zerolinecolor\":\"#E1E5ED\"},\"yaxis\":{\"gridcolor\":\"#E1E5ED\",\"showgrid\":true,\"tickfont\":{\"color\":\"#4D5663\"},\"title\":{\"font\":{\"color\":\"#4D5663\"},\"text\":\"\"},\"zerolinecolor\":\"#E1E5ED\"}},                        {\"showLink\": true, \"linkText\": \"Export to plot.ly\", \"plotlyServerURL\": \"https://plot.ly\", \"responsive\": true}                    ).then(function(){\n",
       "                            \n",
       "var gd = document.getElementById('64870dca-96c1-46b2-8f54-a3f82cf97783');\n",
       "var x = new MutationObserver(function (mutations, observer) {{\n",
       "        var display = window.getComputedStyle(gd).display;\n",
       "        if (!display || display === 'none') {{\n",
       "            console.log([gd, 'removed!']);\n",
       "            Plotly.purge(gd);\n",
       "            observer.disconnect();\n",
       "        }}\n",
       "}});\n",
       "\n",
       "// Listen for the removal of the full notebook cells\n",
       "var notebookContainer = gd.closest('#notebook-container');\n",
       "if (notebookContainer) {{\n",
       "    x.observe(notebookContainer, {childList: true});\n",
       "}}\n",
       "\n",
       "// Listen for the clearing of the current output cell\n",
       "var outputEl = gd.closest('.output');\n",
       "if (outputEl) {{\n",
       "    x.observe(outputEl, {childList: true});\n",
       "}}\n",
       "\n",
       "                        })                };                });            </script>        </div>"
      ]
     },
     "metadata": {},
     "output_type": "display_data"
    }
   ],
   "source": [
    "df1.iplot(kind='bar',x='category',y='values')"
   ]
  },
  {
   "cell_type": "code",
   "execution_count": 25,
   "id": "5a2601af-93a5-4ba6-b394-ea46f53b6215",
   "metadata": {},
   "outputs": [
    {
     "data": {
      "application/vnd.plotly.v1+json": {
       "config": {
        "linkText": "Export to plot.ly",
        "plotlyServerURL": "https://plot.ly",
        "showLink": true
       },
       "data": [
        {
         "marker": {
          "color": "rgba(255, 153, 51, 0.6)",
          "line": {
           "color": "rgba(255, 153, 51, 1.0)",
           "width": 1
          }
         },
         "name": "None",
         "orientation": "v",
         "text": "",
         "type": "bar",
         "x": [
          "A",
          "B",
          "C",
          "D",
          "E"
         ],
         "y": [
          100,
          100,
          100,
          100,
          100
         ]
        }
       ],
       "layout": {
        "autosize": true,
        "legend": {
         "bgcolor": "#F5F6F9",
         "font": {
          "color": "#4D5663"
         }
        },
        "paper_bgcolor": "#F5F6F9",
        "plot_bgcolor": "#F5F6F9",
        "template": {
         "data": {
          "bar": [
           {
            "error_x": {
             "color": "#2a3f5f"
            },
            "error_y": {
             "color": "#2a3f5f"
            },
            "marker": {
             "line": {
              "color": "#E5ECF6",
              "width": 0.5
             },
             "pattern": {
              "fillmode": "overlay",
              "size": 10,
              "solidity": 0.2
             }
            },
            "type": "bar"
           }
          ],
          "barpolar": [
           {
            "marker": {
             "line": {
              "color": "#E5ECF6",
              "width": 0.5
             },
             "pattern": {
              "fillmode": "overlay",
              "size": 10,
              "solidity": 0.2
             }
            },
            "type": "barpolar"
           }
          ],
          "carpet": [
           {
            "aaxis": {
             "endlinecolor": "#2a3f5f",
             "gridcolor": "white",
             "linecolor": "white",
             "minorgridcolor": "white",
             "startlinecolor": "#2a3f5f"
            },
            "baxis": {
             "endlinecolor": "#2a3f5f",
             "gridcolor": "white",
             "linecolor": "white",
             "minorgridcolor": "white",
             "startlinecolor": "#2a3f5f"
            },
            "type": "carpet"
           }
          ],
          "choropleth": [
           {
            "colorbar": {
             "outlinewidth": 0,
             "ticks": ""
            },
            "type": "choropleth"
           }
          ],
          "contour": [
           {
            "colorbar": {
             "outlinewidth": 0,
             "ticks": ""
            },
            "colorscale": [
             [
              0,
              "#0d0887"
             ],
             [
              0.1111111111111111,
              "#46039f"
             ],
             [
              0.2222222222222222,
              "#7201a8"
             ],
             [
              0.3333333333333333,
              "#9c179e"
             ],
             [
              0.4444444444444444,
              "#bd3786"
             ],
             [
              0.5555555555555556,
              "#d8576b"
             ],
             [
              0.6666666666666666,
              "#ed7953"
             ],
             [
              0.7777777777777778,
              "#fb9f3a"
             ],
             [
              0.8888888888888888,
              "#fdca26"
             ],
             [
              1,
              "#f0f921"
             ]
            ],
            "type": "contour"
           }
          ],
          "contourcarpet": [
           {
            "colorbar": {
             "outlinewidth": 0,
             "ticks": ""
            },
            "type": "contourcarpet"
           }
          ],
          "heatmap": [
           {
            "colorbar": {
             "outlinewidth": 0,
             "ticks": ""
            },
            "colorscale": [
             [
              0,
              "#0d0887"
             ],
             [
              0.1111111111111111,
              "#46039f"
             ],
             [
              0.2222222222222222,
              "#7201a8"
             ],
             [
              0.3333333333333333,
              "#9c179e"
             ],
             [
              0.4444444444444444,
              "#bd3786"
             ],
             [
              0.5555555555555556,
              "#d8576b"
             ],
             [
              0.6666666666666666,
              "#ed7953"
             ],
             [
              0.7777777777777778,
              "#fb9f3a"
             ],
             [
              0.8888888888888888,
              "#fdca26"
             ],
             [
              1,
              "#f0f921"
             ]
            ],
            "type": "heatmap"
           }
          ],
          "heatmapgl": [
           {
            "colorbar": {
             "outlinewidth": 0,
             "ticks": ""
            },
            "colorscale": [
             [
              0,
              "#0d0887"
             ],
             [
              0.1111111111111111,
              "#46039f"
             ],
             [
              0.2222222222222222,
              "#7201a8"
             ],
             [
              0.3333333333333333,
              "#9c179e"
             ],
             [
              0.4444444444444444,
              "#bd3786"
             ],
             [
              0.5555555555555556,
              "#d8576b"
             ],
             [
              0.6666666666666666,
              "#ed7953"
             ],
             [
              0.7777777777777778,
              "#fb9f3a"
             ],
             [
              0.8888888888888888,
              "#fdca26"
             ],
             [
              1,
              "#f0f921"
             ]
            ],
            "type": "heatmapgl"
           }
          ],
          "histogram": [
           {
            "marker": {
             "pattern": {
              "fillmode": "overlay",
              "size": 10,
              "solidity": 0.2
             }
            },
            "type": "histogram"
           }
          ],
          "histogram2d": [
           {
            "colorbar": {
             "outlinewidth": 0,
             "ticks": ""
            },
            "colorscale": [
             [
              0,
              "#0d0887"
             ],
             [
              0.1111111111111111,
              "#46039f"
             ],
             [
              0.2222222222222222,
              "#7201a8"
             ],
             [
              0.3333333333333333,
              "#9c179e"
             ],
             [
              0.4444444444444444,
              "#bd3786"
             ],
             [
              0.5555555555555556,
              "#d8576b"
             ],
             [
              0.6666666666666666,
              "#ed7953"
             ],
             [
              0.7777777777777778,
              "#fb9f3a"
             ],
             [
              0.8888888888888888,
              "#fdca26"
             ],
             [
              1,
              "#f0f921"
             ]
            ],
            "type": "histogram2d"
           }
          ],
          "histogram2dcontour": [
           {
            "colorbar": {
             "outlinewidth": 0,
             "ticks": ""
            },
            "colorscale": [
             [
              0,
              "#0d0887"
             ],
             [
              0.1111111111111111,
              "#46039f"
             ],
             [
              0.2222222222222222,
              "#7201a8"
             ],
             [
              0.3333333333333333,
              "#9c179e"
             ],
             [
              0.4444444444444444,
              "#bd3786"
             ],
             [
              0.5555555555555556,
              "#d8576b"
             ],
             [
              0.6666666666666666,
              "#ed7953"
             ],
             [
              0.7777777777777778,
              "#fb9f3a"
             ],
             [
              0.8888888888888888,
              "#fdca26"
             ],
             [
              1,
              "#f0f921"
             ]
            ],
            "type": "histogram2dcontour"
           }
          ],
          "mesh3d": [
           {
            "colorbar": {
             "outlinewidth": 0,
             "ticks": ""
            },
            "type": "mesh3d"
           }
          ],
          "parcoords": [
           {
            "line": {
             "colorbar": {
              "outlinewidth": 0,
              "ticks": ""
             }
            },
            "type": "parcoords"
           }
          ],
          "pie": [
           {
            "automargin": true,
            "type": "pie"
           }
          ],
          "scatter": [
           {
            "fillpattern": {
             "fillmode": "overlay",
             "size": 10,
             "solidity": 0.2
            },
            "type": "scatter"
           }
          ],
          "scatter3d": [
           {
            "line": {
             "colorbar": {
              "outlinewidth": 0,
              "ticks": ""
             }
            },
            "marker": {
             "colorbar": {
              "outlinewidth": 0,
              "ticks": ""
             }
            },
            "type": "scatter3d"
           }
          ],
          "scattercarpet": [
           {
            "marker": {
             "colorbar": {
              "outlinewidth": 0,
              "ticks": ""
             }
            },
            "type": "scattercarpet"
           }
          ],
          "scattergeo": [
           {
            "marker": {
             "colorbar": {
              "outlinewidth": 0,
              "ticks": ""
             }
            },
            "type": "scattergeo"
           }
          ],
          "scattergl": [
           {
            "marker": {
             "colorbar": {
              "outlinewidth": 0,
              "ticks": ""
             }
            },
            "type": "scattergl"
           }
          ],
          "scattermapbox": [
           {
            "marker": {
             "colorbar": {
              "outlinewidth": 0,
              "ticks": ""
             }
            },
            "type": "scattermapbox"
           }
          ],
          "scatterpolar": [
           {
            "marker": {
             "colorbar": {
              "outlinewidth": 0,
              "ticks": ""
             }
            },
            "type": "scatterpolar"
           }
          ],
          "scatterpolargl": [
           {
            "marker": {
             "colorbar": {
              "outlinewidth": 0,
              "ticks": ""
             }
            },
            "type": "scatterpolargl"
           }
          ],
          "scatterternary": [
           {
            "marker": {
             "colorbar": {
              "outlinewidth": 0,
              "ticks": ""
             }
            },
            "type": "scatterternary"
           }
          ],
          "surface": [
           {
            "colorbar": {
             "outlinewidth": 0,
             "ticks": ""
            },
            "colorscale": [
             [
              0,
              "#0d0887"
             ],
             [
              0.1111111111111111,
              "#46039f"
             ],
             [
              0.2222222222222222,
              "#7201a8"
             ],
             [
              0.3333333333333333,
              "#9c179e"
             ],
             [
              0.4444444444444444,
              "#bd3786"
             ],
             [
              0.5555555555555556,
              "#d8576b"
             ],
             [
              0.6666666666666666,
              "#ed7953"
             ],
             [
              0.7777777777777778,
              "#fb9f3a"
             ],
             [
              0.8888888888888888,
              "#fdca26"
             ],
             [
              1,
              "#f0f921"
             ]
            ],
            "type": "surface"
           }
          ],
          "table": [
           {
            "cells": {
             "fill": {
              "color": "#EBF0F8"
             },
             "line": {
              "color": "white"
             }
            },
            "header": {
             "fill": {
              "color": "#C8D4E3"
             },
             "line": {
              "color": "white"
             }
            },
            "type": "table"
           }
          ]
         },
         "layout": {
          "annotationdefaults": {
           "arrowcolor": "#2a3f5f",
           "arrowhead": 0,
           "arrowwidth": 1
          },
          "autotypenumbers": "strict",
          "coloraxis": {
           "colorbar": {
            "outlinewidth": 0,
            "ticks": ""
           }
          },
          "colorscale": {
           "diverging": [
            [
             0,
             "#8e0152"
            ],
            [
             0.1,
             "#c51b7d"
            ],
            [
             0.2,
             "#de77ae"
            ],
            [
             0.3,
             "#f1b6da"
            ],
            [
             0.4,
             "#fde0ef"
            ],
            [
             0.5,
             "#f7f7f7"
            ],
            [
             0.6,
             "#e6f5d0"
            ],
            [
             0.7,
             "#b8e186"
            ],
            [
             0.8,
             "#7fbc41"
            ],
            [
             0.9,
             "#4d9221"
            ],
            [
             1,
             "#276419"
            ]
           ],
           "sequential": [
            [
             0,
             "#0d0887"
            ],
            [
             0.1111111111111111,
             "#46039f"
            ],
            [
             0.2222222222222222,
             "#7201a8"
            ],
            [
             0.3333333333333333,
             "#9c179e"
            ],
            [
             0.4444444444444444,
             "#bd3786"
            ],
            [
             0.5555555555555556,
             "#d8576b"
            ],
            [
             0.6666666666666666,
             "#ed7953"
            ],
            [
             0.7777777777777778,
             "#fb9f3a"
            ],
            [
             0.8888888888888888,
             "#fdca26"
            ],
            [
             1,
             "#f0f921"
            ]
           ],
           "sequentialminus": [
            [
             0,
             "#0d0887"
            ],
            [
             0.1111111111111111,
             "#46039f"
            ],
            [
             0.2222222222222222,
             "#7201a8"
            ],
            [
             0.3333333333333333,
             "#9c179e"
            ],
            [
             0.4444444444444444,
             "#bd3786"
            ],
            [
             0.5555555555555556,
             "#d8576b"
            ],
            [
             0.6666666666666666,
             "#ed7953"
            ],
            [
             0.7777777777777778,
             "#fb9f3a"
            ],
            [
             0.8888888888888888,
             "#fdca26"
            ],
            [
             1,
             "#f0f921"
            ]
           ]
          },
          "colorway": [
           "#636efa",
           "#EF553B",
           "#00cc96",
           "#ab63fa",
           "#FFA15A",
           "#19d3f3",
           "#FF6692",
           "#B6E880",
           "#FF97FF",
           "#FECB52"
          ],
          "font": {
           "color": "#2a3f5f"
          },
          "geo": {
           "bgcolor": "white",
           "lakecolor": "white",
           "landcolor": "#E5ECF6",
           "showlakes": true,
           "showland": true,
           "subunitcolor": "white"
          },
          "hoverlabel": {
           "align": "left"
          },
          "hovermode": "closest",
          "mapbox": {
           "style": "light"
          },
          "paper_bgcolor": "white",
          "plot_bgcolor": "#E5ECF6",
          "polar": {
           "angularaxis": {
            "gridcolor": "white",
            "linecolor": "white",
            "ticks": ""
           },
           "bgcolor": "#E5ECF6",
           "radialaxis": {
            "gridcolor": "white",
            "linecolor": "white",
            "ticks": ""
           }
          },
          "scene": {
           "xaxis": {
            "backgroundcolor": "#E5ECF6",
            "gridcolor": "white",
            "gridwidth": 2,
            "linecolor": "white",
            "showbackground": true,
            "ticks": "",
            "zerolinecolor": "white"
           },
           "yaxis": {
            "backgroundcolor": "#E5ECF6",
            "gridcolor": "white",
            "gridwidth": 2,
            "linecolor": "white",
            "showbackground": true,
            "ticks": "",
            "zerolinecolor": "white"
           },
           "zaxis": {
            "backgroundcolor": "#E5ECF6",
            "gridcolor": "white",
            "gridwidth": 2,
            "linecolor": "white",
            "showbackground": true,
            "ticks": "",
            "zerolinecolor": "white"
           }
          },
          "shapedefaults": {
           "line": {
            "color": "#2a3f5f"
           }
          },
          "ternary": {
           "aaxis": {
            "gridcolor": "white",
            "linecolor": "white",
            "ticks": ""
           },
           "baxis": {
            "gridcolor": "white",
            "linecolor": "white",
            "ticks": ""
           },
           "bgcolor": "#E5ECF6",
           "caxis": {
            "gridcolor": "white",
            "linecolor": "white",
            "ticks": ""
           }
          },
          "title": {
           "x": 0.05
          },
          "xaxis": {
           "automargin": true,
           "gridcolor": "white",
           "linecolor": "white",
           "ticks": "",
           "title": {
            "standoff": 15
           },
           "zerolinecolor": "white",
           "zerolinewidth": 2
          },
          "yaxis": {
           "automargin": true,
           "gridcolor": "white",
           "linecolor": "white",
           "ticks": "",
           "title": {
            "standoff": 15
           },
           "zerolinecolor": "white",
           "zerolinewidth": 2
          }
         }
        },
        "title": {
         "font": {
          "color": "#4D5663"
         }
        },
        "xaxis": {
         "autorange": true,
         "gridcolor": "#E1E5ED",
         "range": [
          -0.5,
          4.5
         ],
         "showgrid": true,
         "tickfont": {
          "color": "#4D5663"
         },
         "title": {
          "font": {
           "color": "#4D5663"
          },
          "text": ""
         },
         "type": "category",
         "zerolinecolor": "#E1E5ED"
        },
        "yaxis": {
         "autorange": true,
         "gridcolor": "#E1E5ED",
         "range": [
          0,
          105.26315789473684
         ],
         "showgrid": true,
         "tickfont": {
          "color": "#4D5663"
         },
         "title": {
          "font": {
           "color": "#4D5663"
          },
          "text": ""
         },
         "type": "linear",
         "zerolinecolor": "#E1E5ED"
        }
       }
      },
      "image/png": "[encoded data removed]",
      "text/html": [
       "<div>                            <div id=\"9289d825-a351-412c-bc8f-bfec9cc3c53e\" class=\"plotly-graph-div\" style=\"height:525px; width:100%;\"></div>            <script type=\"text/javascript\">                require([\"plotly\"], function(Plotly) {                    window.PLOTLYENV=window.PLOTLYENV || {};\n",
       "                    window.PLOTLYENV.BASE_URL='https://plot.ly';                                    if (document.getElementById(\"9289d825-a351-412c-bc8f-bfec9cc3c53e\")) {                    Plotly.newPlot(                        \"9289d825-a351-412c-bc8f-bfec9cc3c53e\",                        [{\"marker\":{\"color\":\"rgba(255, 153, 51, 0.6)\",\"line\":{\"color\":\"rgba(255, 153, 51, 1.0)\",\"width\":1}},\"name\":\"None\",\"orientation\":\"v\",\"text\":\"\",\"x\":[\"A\",\"B\",\"C\",\"D\",\"E\"],\"y\":[100,100,100,100,100],\"type\":\"bar\"}],                        {\"legend\":{\"bgcolor\":\"#F5F6F9\",\"font\":{\"color\":\"#4D5663\"}},\"paper_bgcolor\":\"#F5F6F9\",\"plot_bgcolor\":\"#F5F6F9\",\"template\":{\"data\":{\"barpolar\":[{\"marker\":{\"line\":{\"color\":\"#E5ECF6\",\"width\":0.5},\"pattern\":{\"fillmode\":\"overlay\",\"size\":10,\"solidity\":0.2}},\"type\":\"barpolar\"}],\"bar\":[{\"error_x\":{\"color\":\"#2a3f5f\"},\"error_y\":{\"color\":\"#2a3f5f\"},\"marker\":{\"line\":{\"color\":\"#E5ECF6\",\"width\":0.5},\"pattern\":{\"fillmode\":\"overlay\",\"size\":10,\"solidity\":0.2}},\"type\":\"bar\"}],\"carpet\":[{\"aaxis\":{\"endlinecolor\":\"#2a3f5f\",\"gridcolor\":\"white\",\"linecolor\":\"white\",\"minorgridcolor\":\"white\",\"startlinecolor\":\"#2a3f5f\"},\"baxis\":{\"endlinecolor\":\"#2a3f5f\",\"gridcolor\":\"white\",\"linecolor\":\"white\",\"minorgridcolor\":\"white\",\"startlinecolor\":\"#2a3f5f\"},\"type\":\"carpet\"}],\"choropleth\":[{\"colorbar\":{\"outlinewidth\":0,\"ticks\":\"\"},\"type\":\"choropleth\"}],\"contourcarpet\":[{\"colorbar\":{\"outlinewidth\":0,\"ticks\":\"\"},\"type\":\"contourcarpet\"}],\"contour\":[{\"colorbar\":{\"outlinewidth\":0,\"ticks\":\"\"},\"colorscale\":[[0.0,\"#0d0887\"],[0.1111111111111111,\"#46039f\"],[0.2222222222222222,\"#7201a8\"],[0.3333333333333333,\"#9c179e\"],[0.4444444444444444,\"#bd3786\"],[0.5555555555555556,\"#d8576b\"],[0.6666666666666666,\"#ed7953\"],[0.7777777777777778,\"#fb9f3a\"],[0.8888888888888888,\"#fdca26\"],[1.0,\"#f0f921\"]],\"type\":\"contour\"}],\"heatmapgl\":[{\"colorbar\":{\"outlinewidth\":0,\"ticks\":\"\"},\"colorscale\":[[0.0,\"#0d0887\"],[0.1111111111111111,\"#46039f\"],[0.2222222222222222,\"#7201a8\"],[0.3333333333333333,\"#9c179e\"],[0.4444444444444444,\"#bd3786\"],[0.5555555555555556,\"#d8576b\"],[0.6666666666666666,\"#ed7953\"],[0.7777777777777778,\"#fb9f3a\"],[0.8888888888888888,\"#fdca26\"],[1.0,\"#f0f921\"]],\"type\":\"heatmapgl\"}],\"heatmap\":[{\"colorbar\":{\"outlinewidth\":0,\"ticks\":\"\"},\"colorscale\":[[0.0,\"#0d0887\"],[0.1111111111111111,\"#46039f\"],[0.2222222222222222,\"#7201a8\"],[0.3333333333333333,\"#9c179e\"],[0.4444444444444444,\"#bd3786\"],[0.5555555555555556,\"#d8576b\"],[0.6666666666666666,\"#ed7953\"],[0.7777777777777778,\"#fb9f3a\"],[0.8888888888888888,\"#fdca26\"],[1.0,\"#f0f921\"]],\"type\":\"heatmap\"}],\"histogram2dcontour\":[{\"colorbar\":{\"outlinewidth\":0,\"ticks\":\"\"},\"colorscale\":[[0.0,\"#0d0887\"],[0.1111111111111111,\"#46039f\"],[0.2222222222222222,\"#7201a8\"],[0.3333333333333333,\"#9c179e\"],[0.4444444444444444,\"#bd3786\"],[0.5555555555555556,\"#d8576b\"],[0.6666666666666666,\"#ed7953\"],[0.7777777777777778,\"#fb9f3a\"],[0.8888888888888888,\"#fdca26\"],[1.0,\"#f0f921\"]],\"type\":\"histogram2dcontour\"}],\"histogram2d\":[{\"colorbar\":{\"outlinewidth\":0,\"ticks\":\"\"},\"colorscale\":[[0.0,\"#0d0887\"],[0.1111111111111111,\"#46039f\"],[0.2222222222222222,\"#7201a8\"],[0.3333333333333333,\"#9c179e\"],[0.4444444444444444,\"#bd3786\"],[0.5555555555555556,\"#d8576b\"],[0.6666666666666666,\"#ed7953\"],[0.7777777777777778,\"#fb9f3a\"],[0.8888888888888888,\"#fdca26\"],[1.0,\"#f0f921\"]],\"type\":\"histogram2d\"}],\"histogram\":[{\"marker\":{\"pattern\":{\"fillmode\":\"overlay\",\"size\":10,\"solidity\":0.2}},\"type\":\"histogram\"}],\"mesh3d\":[{\"colorbar\":{\"outlinewidth\":0,\"ticks\":\"\"},\"type\":\"mesh3d\"}],\"parcoords\":[{\"line\":{\"colorbar\":{\"outlinewidth\":0,\"ticks\":\"\"}},\"type\":\"parcoords\"}],\"pie\":[{\"automargin\":true,\"type\":\"pie\"}],\"scatter3d\":[{\"line\":{\"colorbar\":{\"outlinewidth\":0,\"ticks\":\"\"}},\"marker\":{\"colorbar\":{\"outlinewidth\":0,\"ticks\":\"\"}},\"type\":\"scatter3d\"}],\"scattercarpet\":[{\"marker\":{\"colorbar\":{\"outlinewidth\":0,\"ticks\":\"\"}},\"type\":\"scattercarpet\"}],\"scattergeo\":[{\"marker\":{\"colorbar\":{\"outlinewidth\":0,\"ticks\":\"\"}},\"type\":\"scattergeo\"}],\"scattergl\":[{\"marker\":{\"colorbar\":{\"outlinewidth\":0,\"ticks\":\"\"}},\"type\":\"scattergl\"}],\"scattermapbox\":[{\"marker\":{\"colorbar\":{\"outlinewidth\":0,\"ticks\":\"\"}},\"type\":\"scattermapbox\"}],\"scatterpolargl\":[{\"marker\":{\"colorbar\":{\"outlinewidth\":0,\"ticks\":\"\"}},\"type\":\"scatterpolargl\"}],\"scatterpolar\":[{\"marker\":{\"colorbar\":{\"outlinewidth\":0,\"ticks\":\"\"}},\"type\":\"scatterpolar\"}],\"scatter\":[{\"fillpattern\":{\"fillmode\":\"overlay\",\"size\":10,\"solidity\":0.2},\"type\":\"scatter\"}],\"scatterternary\":[{\"marker\":{\"colorbar\":{\"outlinewidth\":0,\"ticks\":\"\"}},\"type\":\"scatterternary\"}],\"surface\":[{\"colorbar\":{\"outlinewidth\":0,\"ticks\":\"\"},\"colorscale\":[[0.0,\"#0d0887\"],[0.1111111111111111,\"#46039f\"],[0.2222222222222222,\"#7201a8\"],[0.3333333333333333,\"#9c179e\"],[0.4444444444444444,\"#bd3786\"],[0.5555555555555556,\"#d8576b\"],[0.6666666666666666,\"#ed7953\"],[0.7777777777777778,\"#fb9f3a\"],[0.8888888888888888,\"#fdca26\"],[1.0,\"#f0f921\"]],\"type\":\"surface\"}],\"table\":[{\"cells\":{\"fill\":{\"color\":\"#EBF0F8\"},\"line\":{\"color\":\"white\"}},\"header\":{\"fill\":{\"color\":\"#C8D4E3\"},\"line\":{\"color\":\"white\"}},\"type\":\"table\"}]},\"layout\":{\"annotationdefaults\":{\"arrowcolor\":\"#2a3f5f\",\"arrowhead\":0,\"arrowwidth\":1},\"autotypenumbers\":\"strict\",\"coloraxis\":{\"colorbar\":{\"outlinewidth\":0,\"ticks\":\"\"}},\"colorscale\":{\"diverging\":[[0,\"#8e0152\"],[0.1,\"#c51b7d\"],[0.2,\"#de77ae\"],[0.3,\"#f1b6da\"],[0.4,\"#fde0ef\"],[0.5,\"#f7f7f7\"],[0.6,\"#e6f5d0\"],[0.7,\"#b8e186\"],[0.8,\"#7fbc41\"],[0.9,\"#4d9221\"],[1,\"#276419\"]],\"sequential\":[[0.0,\"#0d0887\"],[0.1111111111111111,\"#46039f\"],[0.2222222222222222,\"#7201a8\"],[0.3333333333333333,\"#9c179e\"],[0.4444444444444444,\"#bd3786\"],[0.5555555555555556,\"#d8576b\"],[0.6666666666666666,\"#ed7953\"],[0.7777777777777778,\"#fb9f3a\"],[0.8888888888888888,\"#fdca26\"],[1.0,\"#f0f921\"]],\"sequentialminus\":[[0.0,\"#0d0887\"],[0.1111111111111111,\"#46039f\"],[0.2222222222222222,\"#7201a8\"],[0.3333333333333333,\"#9c179e\"],[0.4444444444444444,\"#bd3786\"],[0.5555555555555556,\"#d8576b\"],[0.6666666666666666,\"#ed7953\"],[0.7777777777777778,\"#fb9f3a\"],[0.8888888888888888,\"#fdca26\"],[1.0,\"#f0f921\"]]},\"colorway\":[\"#636efa\",\"#EF553B\",\"#00cc96\",\"#ab63fa\",\"#FFA15A\",\"#19d3f3\",\"#FF6692\",\"#B6E880\",\"#FF97FF\",\"#FECB52\"],\"font\":{\"color\":\"#2a3f5f\"},\"geo\":{\"bgcolor\":\"white\",\"lakecolor\":\"white\",\"landcolor\":\"#E5ECF6\",\"showlakes\":true,\"showland\":true,\"subunitcolor\":\"white\"},\"hoverlabel\":{\"align\":\"left\"},\"hovermode\":\"closest\",\"mapbox\":{\"style\":\"light\"},\"paper_bgcolor\":\"white\",\"plot_bgcolor\":\"#E5ECF6\",\"polar\":{\"angularaxis\":{\"gridcolor\":\"white\",\"linecolor\":\"white\",\"ticks\":\"\"},\"bgcolor\":\"#E5ECF6\",\"radialaxis\":{\"gridcolor\":\"white\",\"linecolor\":\"white\",\"ticks\":\"\"}},\"scene\":{\"xaxis\":{\"backgroundcolor\":\"#E5ECF6\",\"gridcolor\":\"white\",\"gridwidth\":2,\"linecolor\":\"white\",\"showbackground\":true,\"ticks\":\"\",\"zerolinecolor\":\"white\"},\"yaxis\":{\"backgroundcolor\":\"#E5ECF6\",\"gridcolor\":\"white\",\"gridwidth\":2,\"linecolor\":\"white\",\"showbackground\":true,\"ticks\":\"\",\"zerolinecolor\":\"white\"},\"zaxis\":{\"backgroundcolor\":\"#E5ECF6\",\"gridcolor\":\"white\",\"gridwidth\":2,\"linecolor\":\"white\",\"showbackground\":true,\"ticks\":\"\",\"zerolinecolor\":\"white\"}},\"shapedefaults\":{\"line\":{\"color\":\"#2a3f5f\"}},\"ternary\":{\"aaxis\":{\"gridcolor\":\"white\",\"linecolor\":\"white\",\"ticks\":\"\"},\"baxis\":{\"gridcolor\":\"white\",\"linecolor\":\"white\",\"ticks\":\"\"},\"bgcolor\":\"#E5ECF6\",\"caxis\":{\"gridcolor\":\"white\",\"linecolor\":\"white\",\"ticks\":\"\"}},\"title\":{\"x\":0.05},\"xaxis\":{\"automargin\":true,\"gridcolor\":\"white\",\"linecolor\":\"white\",\"ticks\":\"\",\"title\":{\"standoff\":15},\"zerolinecolor\":\"white\",\"zerolinewidth\":2},\"yaxis\":{\"automargin\":true,\"gridcolor\":\"white\",\"linecolor\":\"white\",\"ticks\":\"\",\"title\":{\"standoff\":15},\"zerolinecolor\":\"white\",\"zerolinewidth\":2}}},\"title\":{\"font\":{\"color\":\"#4D5663\"}},\"xaxis\":{\"gridcolor\":\"#E1E5ED\",\"showgrid\":true,\"tickfont\":{\"color\":\"#4D5663\"},\"title\":{\"font\":{\"color\":\"#4D5663\"},\"text\":\"\"},\"zerolinecolor\":\"#E1E5ED\"},\"yaxis\":{\"gridcolor\":\"#E1E5ED\",\"showgrid\":true,\"tickfont\":{\"color\":\"#4D5663\"},\"title\":{\"font\":{\"color\":\"#4D5663\"},\"text\":\"\"},\"zerolinecolor\":\"#E1E5ED\"}},                        {\"showLink\": true, \"linkText\": \"Export to plot.ly\", \"plotlyServerURL\": \"https://plot.ly\", \"responsive\": true}                    ).then(function(){\n",
       "                            \n",
       "var gd = document.getElementById('9289d825-a351-412c-bc8f-bfec9cc3c53e');\n",
       "var x = new MutationObserver(function (mutations, observer) {{\n",
       "        var display = window.getComputedStyle(gd).display;\n",
       "        if (!display || display === 'none') {{\n",
       "            console.log([gd, 'removed!']);\n",
       "            Plotly.purge(gd);\n",
       "            observer.disconnect();\n",
       "        }}\n",
       "}});\n",
       "\n",
       "// Listen for the removal of the full notebook cells\n",
       "var notebookContainer = gd.closest('#notebook-container');\n",
       "if (notebookContainer) {{\n",
       "    x.observe(notebookContainer, {childList: true});\n",
       "}}\n",
       "\n",
       "// Listen for the clearing of the current output cell\n",
       "var outputEl = gd.closest('.output');\n",
       "if (outputEl) {{\n",
       "    x.observe(outputEl, {childList: true});\n",
       "}}\n",
       "\n",
       "                        })                };                });            </script>        </div>"
      ]
     },
     "metadata": {},
     "output_type": "display_data"
    }
   ],
   "source": [
    "df.count().iplot(kind='bar')"
   ]
  },
  {
   "cell_type": "code",
   "execution_count": 26,
   "id": "8712d291-d6e0-4ec7-8c93-c17e8d577d90",
   "metadata": {},
   "outputs": [
    {
     "data": {
      "application/vnd.plotly.v1+json": {
       "config": {
        "linkText": "Export to plot.ly",
        "plotlyServerURL": "https://plot.ly",
        "showLink": true
       },
       "data": [
        {
         "boxpoints": false,
         "line": {
          "width": 1.3
         },
         "marker": {
          "color": "rgba(255, 153, 51, 1.0)"
         },
         "name": "A",
         "orientation": "v",
         "type": "box",
         "y": [
          -0.3335804497762339,
          0.00841020770573747,
          -0.2452486455726726,
          1.7550835292323625,
          -0.4124142608843169,
          0.08397452866741234,
          -1.3865662695296521,
          -0.5536159230768968,
          -0.6159733733331406,
          0.5351203760401979,
          0.6219906888015769,
          2.0936218973984544,
          0.44108665014911896,
          -0.416230235006025,
          0.9331183949846429,
          -0.7216605612758971,
          1.3390572677191115,
          0.6496069974394884,
          -0.7901367515093446,
          -0.3422059764483797,
          0.5373701215532392,
          1.7747753169553424,
          0.419529041757397,
          -0.10904889995774433,
          -2.0263048218045543,
          0.21622836105376003,
          -0.821922543917067,
          1.842131241717987,
          -1.265365165032051,
          0.8479452711578469,
          0.6156098386466577,
          0.15867622180468346,
          -1.238977024083961,
          0.7335419753028098,
          0.0512616782988629,
          1.4495571762852764,
          -0.4496751518589838,
          -0.330172000624211,
          -0.8929792515250653,
          2.205175209714804,
          -0.4538635156588506,
          2.2037334537380286,
          0.7417458154644216,
          -0.01924531610158195,
          0.5149129505912265,
          -0.8559027787490496,
          -1.2359804048231446,
          2.073959092442634,
          0.6912579520973061,
          -1.108283786227255,
          0.16942813801626458,
          -2.781043939921188,
          0.0885804145925267,
          -1.756318606323291,
          1.274483140059975,
          0.8438741973237249,
          1.043238681028487,
          0.8742390843303314,
          1.4704877215499943,
          -0.6540245721736407,
          -1.1275658316510941,
          0.8367878573651504,
          -0.7350001997710474,
          -0.11503001732679545,
          -0.1920425691420273,
          1.3367611859539756,
          0.31544010241881365,
          0.30833485067338146,
          -0.30446858143129724,
          0.09901607880407506,
          0.3280088371532466,
          0.3003499482732641,
          0.27812375549087964,
          -0.6621938785792102,
          0.5884359898684891,
          -1.4687335662247434,
          1.5961345007591994,
          -0.2519890600562586,
          1.5557835869903025,
          0.04462193969423287,
          0.15083076444693133,
          0.4082980181436096,
          -0.678370760026145,
          -0.0750391155180131,
          -1.0668798705652038,
          -0.9875792933502123,
          -2.7515517426231964,
          1.6668491718400256,
          -2.011343087200451,
          0.22068583475438497,
          1.0427267249140537,
          0.8666554855258551,
          1.4876746522797113,
          -0.12935479445954817,
          0.544861458818753,
          0.2590464861926635,
          -0.29858348018470654,
          1.0157638005717105,
          -1.2125999335057973,
          -0.7869056414224349
         ]
        },
        {
         "boxpoints": false,
         "line": {
          "width": 1.3
         },
         "marker": {
          "color": "rgba(55, 128, 191, 1.0)"
         },
         "name": "B",
         "orientation": "v",
         "type": "box",
         "y": [
          1.2656119006442414,
          0.11172189872330608,
          2.4441405083498084,
          0.021263530711874312,
          -0.09762074893880836,
          -2.841439832791632,
          0.3606689299126568,
          0.6100067499256379,
          0.46938226746429257,
          1.0409351529187922,
          -0.10530897127620471,
          -0.7839565480168238,
          1.312981092013129,
          0.9168981441738603,
          -0.45747230576020353,
          1.019246343752088,
          1.035506744391563,
          -0.2017921322897468,
          1.541948116644562,
          -0.8547194343811696,
          -0.5159114150487076,
          0.6205665175937206,
          -1.4708434724308213,
          -0.7028787223375108,
          0.4566743660520509,
          0.5175867306902976,
          2.307306044925076,
          0.6335984216611076,
          -1.169581749814845,
          -0.8049516945379682,
          0.8376752575918941,
          -0.7965999170117269,
          1.5701411435733117,
          0.010738407292215393,
          -1.9476656494682059,
          0.7994896822584975,
          0.9916380277779536,
          -0.8259760625515664,
          -0.7750424611682585,
          -1.000212958965001,
          -0.002153372965835309,
          1.1241098204562403,
          -0.8933357174684814,
          0.14031630340664777,
          0.7796311582424318,
          -2.545378779470004,
          -0.43196973909652,
          -0.11648151266855052,
          0.4066225349475821,
          1.5668326084368156,
          0.0285716881764873,
          1.3441761736057165,
          -0.5523062721586132,
          -0.7157409903930229,
          0.7327498495190612,
          0.30060721324231693,
          0.7133267785007691,
          0.19911508044327778,
          -0.19545960190474662,
          0.6853459741633252,
          -2.127835130345152,
          2.0218196475959336,
          2.1780440617017196,
          2.224401011317823,
          1.165437639520588,
          -0.14759125561131795,
          -0.8113337078873021,
          1.2284972728337857,
          -0.1894385534744078,
          -0.004967028126192879,
          -0.9774278378969505,
          0.9833612559553154,
          -0.23714912708878444,
          0.8726089987499858,
          -0.8389751407305852,
          0.3909661637510026,
          -1.1694495652685963,
          -1.9807748615515484,
          0.4096619399418116,
          1.1594638854247026,
          -1.0171361899301976,
          -1.0048963714697148,
          -0.36924529104358444,
          0.1286784085603135,
          0.7038172729883474,
          -0.9919135098509365,
          -0.29941507106034404,
          0.6134501808248138,
          -0.5951458647500463,
          0.254523959598943,
          0.24629150821694917,
          -1.3603994825182804,
          0.4749977182782207,
          -1.9947392736919967,
          3.508885086749131,
          0.9521474983011023,
          -0.421561079901927,
          1.686899295360436,
          -0.03997823528199046,
          -0.22909054223546957
         ]
        },
        {
         "boxpoints": false,
         "line": {
          "width": 1.3
         },
         "marker": {
          "color": "rgba(50, 171, 96, 1.0)"
         },
         "name": "C",
         "orientation": "v",
         "type": "box",
         "y": [
          0.8798245268512644,
          1.3570283033026354,
          1.9749121492940394,
          -1.053528469740966,
          -1.560386785340817,
          1.1388140116813792,
          0.18974961491421344,
          -0.5478264985107293,
          -1.1539249337613273,
          0.8874089996735028,
          -0.05691535188208471,
          0.7770129188124023,
          0.15309817166302805,
          0.16303265459883862,
          -1.4589565959752056,
          -1.7568132075093177,
          2.0863651523643836,
          -0.5709529842718767,
          0.8171735177928228,
          -0.9529735238883316,
          -1.4435332935187561,
          0.5291322365209097,
          0.590287111313805,
          2.0760558580311894,
          2.770519340679483,
          -1.6743154464994718,
          0.9909732859885614,
          1.4782185687998004,
          -0.09278257147140048,
          -0.20689856021378225,
          -0.060082151233758624,
          -0.4549282575190898,
          -2.798225397178623,
          -0.006120247766301646,
          -1.3445715700628214,
          -1.4466365769851819,
          0.2133185589128615,
          -0.32532507006367706,
          1.6286082407494962,
          0.3665395111067651,
          -0.8570393860081226,
          -0.5330012851626166,
          -0.7330412728606085,
          0.39520030272126844,
          -0.328970288722901,
          -2.291935837607325,
          -2.219382875606811,
          1.0050207754278548,
          0.8967059681804674,
          0.7728364986156984,
          -0.4455073981285349,
          -0.7256203081566854,
          -0.1305693944777659,
          -1.3713800857013108,
          -1.8091829986953307,
          -0.23298256037994072,
          -1.8533887856146967,
          0.1721245840219928,
          -1.2813291019196724,
          0.43920160088386334,
          1.2497325365573007,
          -0.11020114414414621,
          0.005641545615314567,
          1.0288602893831988,
          0.4220034532490604,
          -1.2565242509824988,
          -2.0769825586982384,
          -0.03699527667130005,
          1.523715050790172,
          2.0276688810134633,
          -0.06060921744804393,
          -0.16764490626620826,
          -0.2254354082608133,
          0.12847522766802005,
          0.377071749142011,
          -1.2976063331996661,
          -0.6617309172668501,
          0.37072944613045744,
          0.7758699379596998,
          -0.6732095691953305,
          0.9252587961467202,
          0.9267484968797207,
          1.105761853017902,
          -2.444709796114457,
          0.07499096243692296,
          0.5693211122386654,
          -0.652432465524865,
          0.6588139565638953,
          0.018531855504759765,
          -1.0137255385987984,
          1.2993924328191087,
          -1.4653956133450676,
          0.6497028563590997,
          1.8499967179996188,
          1.946063550070373,
          -0.8016185890292232,
          1.0382047761068196,
          -0.3194117889309226,
          0.33599136356301956,
          0.7741509723290858
         ]
        },
        {
         "boxpoints": false,
         "line": {
          "width": 1.3
         },
         "marker": {
          "color": "rgba(128, 0, 128, 1.0)"
         },
         "name": "D",
         "orientation": "v",
         "type": "box",
         "y": [
          -1.9198483031724256,
          -0.24329183540613608,
          0.6419997062319316,
          1.3521182772765474,
          0.5953524145895086,
          -0.3552352893647105,
          1.0915339646314302,
          0.6475280944502119,
          -0.774851217596859,
          -0.39637688379115565,
          -0.4230845617672878,
          0.22959960188263315,
          1.6948841348667674,
          1.1446841575735427,
          -2.2080553735626602,
          -0.30308059602206633,
          1.0806566946819762,
          -1.1216001403815672,
          -0.12520775316480504,
          1.3466925190085772,
          0.9462059084151903,
          0.8985744305856347,
          -1.64358228609394,
          0.6069791243187228,
          0.4223824309838147,
          0.8423595723635103,
          2.3980901509690193,
          -0.6415070968039709,
          -0.9975940538503272,
          -0.11550689048261797,
          2.0020036202933498,
          1.3662311734044508,
          0.479460223478841,
          0.5092066242214716,
          -1.5629385459288747,
          0.628865645676127,
          -0.7634899023056374,
          1.0248616097292713,
          1.6595211982791724,
          -2.0061602520171813,
          -0.7186614432370061,
          -0.4742543791027465,
          1.307551183314467,
          1.1743804854843325,
          0.7052145371823973,
          0.4799543593091343,
          -0.7009216406650326,
          -0.6746932653622134,
          -1.100313397740983,
          1.439377653494364,
          -0.31797347028181755,
          -0.874593483987904,
          1.909864020081642,
          1.3555632985489197,
          -1.5303080609636381,
          1.233317462598353,
          -0.06212854456042669,
          -1.83988537294752,
          0.5529455365082178,
          2.6805845051206223,
          -1.085617407002373,
          1.3827589034085064,
          1.4931540986489353,
          -1.830583458116591,
          2.2873533003201194,
          0.4538291090971322,
          -1.4015980942710253,
          -2.101484782143447,
          0.3850412422960206,
          -0.28960698710359245,
          -0.4010520642042657,
          1.2987085019055833,
          -0.6958314981432985,
          1.1722585020874166,
          -0.7857462390210691,
          1.5046211800677642,
          1.1521614492395316,
          1.104130661059711,
          -0.3180270974434549,
          -0.5170270701278834,
          -1.926258142950692,
          0.9116496592019908,
          0.16343145846718582,
          0.829446465394839,
          0.6912702589585954,
          -0.5780875528080383,
          -0.19423361876038497,
          -1.1404559525272475,
          0.36132644570637024,
          -0.06963216123953414,
          -0.21478317152142276,
          -2.1383624044570757,
          1.3604530205933243,
          -0.02833867735545919,
          1.0995634743246747,
          0.6372366447919425,
          -0.42141871269977116,
          0.7504607745939308,
          -0.4335204360951008,
          0.6529644865979116
         ]
        },
        {
         "boxpoints": false,
         "line": {
          "width": 1.3
         },
         "marker": {
          "color": "rgba(219, 64, 82, 1.0)"
         },
         "name": "E",
         "orientation": "v",
         "type": "box",
         "y": [
          -1.8839552638761043,
          -1.4222817243492196,
          0.2439336106390916,
          -0.3022115945065196,
          -1.1116255926474479,
          -0.13846855609245293,
          -0.6352316093943358,
          -1.6741868974608256,
          -1.0874216392138512,
          -1.727874886025039,
          0.6068689036503123,
          1.606811739024369,
          -0.7544366227941612,
          2.0380068491611185,
          -0.41478932093402,
          0.7142095505760002,
          -0.017473896869972794,
          -0.854025343130081,
          0.17112312466754392,
          2.5949210831298983,
          -0.3368952398061639,
          -0.5018141764171291,
          -0.2291538464895462,
          1.7865692974483998,
          -0.5194435804480518,
          0.06767539551418716,
          -0.09300004854212413,
          -1.2127175883760892,
          1.942643225757587,
          0.8878018149978713,
          -1.1809781153260683,
          0.2575919645669953,
          -0.6769032747176147,
          0.01014174877601857,
          2.885642130181955,
          -0.7049165847816975,
          -0.4967452753515838,
          -0.15303974924473007,
          1.62343094257325,
          0.30504135057356546,
          0.8135619495047793,
          0.13859734831440887,
          0.9409094898287858,
          -2.106150798000945,
          -0.9727829821770161,
          -0.49535544612192495,
          -1.3610308308674985,
          -1.8962982399982888,
          -0.7253845761849583,
          -0.7168960746976729,
          0.37029744211770654,
          0.8598123725308865,
          0.8461573465522495,
          -0.6046059434358252,
          -0.10992922641504047,
          -2.0891817672460156,
          -0.4063293893196075,
          0.2757867175136207,
          0.8774299519146228,
          -2.2757649437521903,
          -0.45757232015356514,
          -0.17936223143712166,
          0.17476001282787101,
          0.9290796655113206,
          -1.8732214794720277,
          1.242753534277087,
          0.1066039488907477,
          0.9433387503335581,
          1.6896852590146096,
          1.0510034273696693,
          1.6134414015773315,
          -1.8868368147054095,
          0.04411536657854227,
          1.4055080886554139,
          -0.4794134388164445,
          -0.8810855398463338,
          1.5117001240378032,
          -0.22294664515737564,
          -0.1304669186370773,
          0.37964353796601175,
          -0.5790014297236573,
          -0.6127310043576752,
          1.2031065883968466,
          0.16998909148348326,
          -0.06292258556163698,
          0.5494619741500407,
          -0.18506065027833485,
          -0.18448527937520084,
          -1.4254380406342864,
          -1.7079349491429474,
          -0.9371196134892642,
          0.7528973069243526,
          0.01649536172771896,
          0.7025745920667116,
          -1.5521217053670775,
          1.646999567576793,
          0.7663500834926468,
          -0.06438797934787864,
          -0.2584312528743698,
          0.300277201635679
         ]
        }
       ],
       "layout": {
        "autosize": true,
        "legend": {
         "bgcolor": "#F5F6F9",
         "font": {
          "color": "#4D5663"
         }
        },
        "paper_bgcolor": "#F5F6F9",
        "plot_bgcolor": "#F5F6F9",
        "template": {
         "data": {
          "bar": [
           {
            "error_x": {
             "color": "#2a3f5f"
            },
            "error_y": {
             "color": "#2a3f5f"
            },
            "marker": {
             "line": {
              "color": "#E5ECF6",
              "width": 0.5
             },
             "pattern": {
              "fillmode": "overlay",
              "size": 10,
              "solidity": 0.2
             }
            },
            "type": "bar"
           }
          ],
          "barpolar": [
           {
            "marker": {
             "line": {
              "color": "#E5ECF6",
              "width": 0.5
             },
             "pattern": {
              "fillmode": "overlay",
              "size": 10,
              "solidity": 0.2
             }
            },
            "type": "barpolar"
           }
          ],
          "carpet": [
           {
            "aaxis": {
             "endlinecolor": "#2a3f5f",
             "gridcolor": "white",
             "linecolor": "white",
             "minorgridcolor": "white",
             "startlinecolor": "#2a3f5f"
            },
            "baxis": {
             "endlinecolor": "#2a3f5f",
             "gridcolor": "white",
             "linecolor": "white",
             "minorgridcolor": "white",
             "startlinecolor": "#2a3f5f"
            },
            "type": "carpet"
           }
          ],
          "choropleth": [
           {
            "colorbar": {
             "outlinewidth": 0,
             "ticks": ""
            },
            "type": "choropleth"
           }
          ],
          "contour": [
           {
            "colorbar": {
             "outlinewidth": 0,
             "ticks": ""
            },
            "colorscale": [
             [
              0,
              "#0d0887"
             ],
             [
              0.1111111111111111,
              "#46039f"
             ],
             [
              0.2222222222222222,
              "#7201a8"
             ],
             [
              0.3333333333333333,
              "#9c179e"
             ],
             [
              0.4444444444444444,
              "#bd3786"
             ],
             [
              0.5555555555555556,
              "#d8576b"
             ],
             [
              0.6666666666666666,
              "#ed7953"
             ],
             [
              0.7777777777777778,
              "#fb9f3a"
             ],
             [
              0.8888888888888888,
              "#fdca26"
             ],
             [
              1,
              "#f0f921"
             ]
            ],
            "type": "contour"
           }
          ],
          "contourcarpet": [
           {
            "colorbar": {
             "outlinewidth": 0,
             "ticks": ""
            },
            "type": "contourcarpet"
           }
          ],
          "heatmap": [
           {
            "colorbar": {
             "outlinewidth": 0,
             "ticks": ""
            },
            "colorscale": [
             [
              0,
              "#0d0887"
             ],
             [
              0.1111111111111111,
              "#46039f"
             ],
             [
              0.2222222222222222,
              "#7201a8"
             ],
             [
              0.3333333333333333,
              "#9c179e"
             ],
             [
              0.4444444444444444,
              "#bd3786"
             ],
             [
              0.5555555555555556,
              "#d8576b"
             ],
             [
              0.6666666666666666,
              "#ed7953"
             ],
             [
              0.7777777777777778,
              "#fb9f3a"
             ],
             [
              0.8888888888888888,
              "#fdca26"
             ],
             [
              1,
              "#f0f921"
             ]
            ],
            "type": "heatmap"
           }
          ],
          "heatmapgl": [
           {
            "colorbar": {
             "outlinewidth": 0,
             "ticks": ""
            },
            "colorscale": [
             [
              0,
              "#0d0887"
             ],
             [
              0.1111111111111111,
              "#46039f"
             ],
             [
              0.2222222222222222,
              "#7201a8"
             ],
             [
              0.3333333333333333,
              "#9c179e"
             ],
             [
              0.4444444444444444,
              "#bd3786"
             ],
             [
              0.5555555555555556,
              "#d8576b"
             ],
             [
              0.6666666666666666,
              "#ed7953"
             ],
             [
              0.7777777777777778,
              "#fb9f3a"
             ],
             [
              0.8888888888888888,
              "#fdca26"
             ],
             [
              1,
              "#f0f921"
             ]
            ],
            "type": "heatmapgl"
           }
          ],
          "histogram": [
           {
            "marker": {
             "pattern": {
              "fillmode": "overlay",
              "size": 10,
              "solidity": 0.2
             }
            },
            "type": "histogram"
           }
          ],
          "histogram2d": [
           {
            "colorbar": {
             "outlinewidth": 0,
             "ticks": ""
            },
            "colorscale": [
             [
              0,
              "#0d0887"
             ],
             [
              0.1111111111111111,
              "#46039f"
             ],
             [
              0.2222222222222222,
              "#7201a8"
             ],
             [
              0.3333333333333333,
              "#9c179e"
             ],
             [
              0.4444444444444444,
              "#bd3786"
             ],
             [
              0.5555555555555556,
              "#d8576b"
             ],
             [
              0.6666666666666666,
              "#ed7953"
             ],
             [
              0.7777777777777778,
              "#fb9f3a"
             ],
             [
              0.8888888888888888,
              "#fdca26"
             ],
             [
              1,
              "#f0f921"
             ]
            ],
            "type": "histogram2d"
           }
          ],
          "histogram2dcontour": [
           {
            "colorbar": {
             "outlinewidth": 0,
             "ticks": ""
            },
            "colorscale": [
             [
              0,
              "#0d0887"
             ],
             [
              0.1111111111111111,
              "#46039f"
             ],
             [
              0.2222222222222222,
              "#7201a8"
             ],
             [
              0.3333333333333333,
              "#9c179e"
             ],
             [
              0.4444444444444444,
              "#bd3786"
             ],
             [
              0.5555555555555556,
              "#d8576b"
             ],
             [
              0.6666666666666666,
              "#ed7953"
             ],
             [
              0.7777777777777778,
              "#fb9f3a"
             ],
             [
              0.8888888888888888,
              "#fdca26"
             ],
             [
              1,
              "#f0f921"
             ]
            ],
            "type": "histogram2dcontour"
           }
          ],
          "mesh3d": [
           {
            "colorbar": {
             "outlinewidth": 0,
             "ticks": ""
            },
            "type": "mesh3d"
           }
          ],
          "parcoords": [
           {
            "line": {
             "colorbar": {
              "outlinewidth": 0,
              "ticks": ""
             }
            },
            "type": "parcoords"
           }
          ],
          "pie": [
           {
            "automargin": true,
            "type": "pie"
           }
          ],
          "scatter": [
           {
            "fillpattern": {
             "fillmode": "overlay",
             "size": 10,
             "solidity": 0.2
            },
            "type": "scatter"
           }
          ],
          "scatter3d": [
           {
            "line": {
             "colorbar": {
              "outlinewidth": 0,
              "ticks": ""
             }
            },
            "marker": {
             "colorbar": {
              "outlinewidth": 0,
              "ticks": ""
             }
            },
            "type": "scatter3d"
           }
          ],
          "scattercarpet": [
           {
            "marker": {
             "colorbar": {
              "outlinewidth": 0,
              "ticks": ""
             }
            },
            "type": "scattercarpet"
           }
          ],
          "scattergeo": [
           {
            "marker": {
             "colorbar": {
              "outlinewidth": 0,
              "ticks": ""
             }
            },
            "type": "scattergeo"
           }
          ],
          "scattergl": [
           {
            "marker": {
             "colorbar": {
              "outlinewidth": 0,
              "ticks": ""
             }
            },
            "type": "scattergl"
           }
          ],
          "scattermapbox": [
           {
            "marker": {
             "colorbar": {
              "outlinewidth": 0,
              "ticks": ""
             }
            },
            "type": "scattermapbox"
           }
          ],
          "scatterpolar": [
           {
            "marker": {
             "colorbar": {
              "outlinewidth": 0,
              "ticks": ""
             }
            },
            "type": "scatterpolar"
           }
          ],
          "scatterpolargl": [
           {
            "marker": {
             "colorbar": {
              "outlinewidth": 0,
              "ticks": ""
             }
            },
            "type": "scatterpolargl"
           }
          ],
          "scatterternary": [
           {
            "marker": {
             "colorbar": {
              "outlinewidth": 0,
              "ticks": ""
             }
            },
            "type": "scatterternary"
           }
          ],
          "surface": [
           {
            "colorbar": {
             "outlinewidth": 0,
             "ticks": ""
            },
            "colorscale": [
             [
              0,
              "#0d0887"
             ],
             [
              0.1111111111111111,
              "#46039f"
             ],
             [
              0.2222222222222222,
              "#7201a8"
             ],
             [
              0.3333333333333333,
              "#9c179e"
             ],
             [
              0.4444444444444444,
              "#bd3786"
             ],
             [
              0.5555555555555556,
              "#d8576b"
             ],
             [
              0.6666666666666666,
              "#ed7953"
             ],
             [
              0.7777777777777778,
              "#fb9f3a"
             ],
             [
              0.8888888888888888,
              "#fdca26"
             ],
             [
              1,
              "#f0f921"
             ]
            ],
            "type": "surface"
           }
          ],
          "table": [
           {
            "cells": {
             "fill": {
              "color": "#EBF0F8"
             },
             "line": {
              "color": "white"
             }
            },
            "header": {
             "fill": {
              "color": "#C8D4E3"
             },
             "line": {
              "color": "white"
             }
            },
            "type": "table"
           }
          ]
         },
         "layout": {
          "annotationdefaults": {
           "arrowcolor": "#2a3f5f",
           "arrowhead": 0,
           "arrowwidth": 1
          },
          "autotypenumbers": "strict",
          "coloraxis": {
           "colorbar": {
            "outlinewidth": 0,
            "ticks": ""
           }
          },
          "colorscale": {
           "diverging": [
            [
             0,
             "#8e0152"
            ],
            [
             0.1,
             "#c51b7d"
            ],
            [
             0.2,
             "#de77ae"
            ],
            [
             0.3,
             "#f1b6da"
            ],
            [
             0.4,
             "#fde0ef"
            ],
            [
             0.5,
             "#f7f7f7"
            ],
            [
             0.6,
             "#e6f5d0"
            ],
            [
             0.7,
             "#b8e186"
            ],
            [
             0.8,
             "#7fbc41"
            ],
            [
             0.9,
             "#4d9221"
            ],
            [
             1,
             "#276419"
            ]
           ],
           "sequential": [
            [
             0,
             "#0d0887"
            ],
            [
             0.1111111111111111,
             "#46039f"
            ],
            [
             0.2222222222222222,
             "#7201a8"
            ],
            [
             0.3333333333333333,
             "#9c179e"
            ],
            [
             0.4444444444444444,
             "#bd3786"
            ],
            [
             0.5555555555555556,
             "#d8576b"
            ],
            [
             0.6666666666666666,
             "#ed7953"
            ],
            [
             0.7777777777777778,
             "#fb9f3a"
            ],
            [
             0.8888888888888888,
             "#fdca26"
            ],
            [
             1,
             "#f0f921"
            ]
           ],
           "sequentialminus": [
            [
             0,
             "#0d0887"
            ],
            [
             0.1111111111111111,
             "#46039f"
            ],
            [
             0.2222222222222222,
             "#7201a8"
            ],
            [
             0.3333333333333333,
             "#9c179e"
            ],
            [
             0.4444444444444444,
             "#bd3786"
            ],
            [
             0.5555555555555556,
             "#d8576b"
            ],
            [
             0.6666666666666666,
             "#ed7953"
            ],
            [
             0.7777777777777778,
             "#fb9f3a"
            ],
            [
             0.8888888888888888,
             "#fdca26"
            ],
            [
             1,
             "#f0f921"
            ]
           ]
          },
          "colorway": [
           "#636efa",
           "#EF553B",
           "#00cc96",
           "#ab63fa",
           "#FFA15A",
           "#19d3f3",
           "#FF6692",
           "#B6E880",
           "#FF97FF",
           "#FECB52"
          ],
          "font": {
           "color": "#2a3f5f"
          },
          "geo": {
           "bgcolor": "white",
           "lakecolor": "white",
           "landcolor": "#E5ECF6",
           "showlakes": true,
           "showland": true,
           "subunitcolor": "white"
          },
          "hoverlabel": {
           "align": "left"
          },
          "hovermode": "closest",
          "mapbox": {
           "style": "light"
          },
          "paper_bgcolor": "white",
          "plot_bgcolor": "#E5ECF6",
          "polar": {
           "angularaxis": {
            "gridcolor": "white",
            "linecolor": "white",
            "ticks": ""
           },
           "bgcolor": "#E5ECF6",
           "radialaxis": {
            "gridcolor": "white",
            "linecolor": "white",
            "ticks": ""
           }
          },
          "scene": {
           "xaxis": {
            "backgroundcolor": "#E5ECF6",
            "gridcolor": "white",
            "gridwidth": 2,
            "linecolor": "white",
            "showbackground": true,
            "ticks": "",
            "zerolinecolor": "white"
           },
           "yaxis": {
            "backgroundcolor": "#E5ECF6",
            "gridcolor": "white",
            "gridwidth": 2,
            "linecolor": "white",
            "showbackground": true,
            "ticks": "",
            "zerolinecolor": "white"
           },
           "zaxis": {
            "backgroundcolor": "#E5ECF6",
            "gridcolor": "white",
            "gridwidth": 2,
            "linecolor": "white",
            "showbackground": true,
            "ticks": "",
            "zerolinecolor": "white"
           }
          },
          "shapedefaults": {
           "line": {
            "color": "#2a3f5f"
           }
          },
          "ternary": {
           "aaxis": {
            "gridcolor": "white",
            "linecolor": "white",
            "ticks": ""
           },
           "baxis": {
            "gridcolor": "white",
            "linecolor": "white",
            "ticks": ""
           },
           "bgcolor": "#E5ECF6",
           "caxis": {
            "gridcolor": "white",
            "linecolor": "white",
            "ticks": ""
           }
          },
          "title": {
           "x": 0.05
          },
          "xaxis": {
           "automargin": true,
           "gridcolor": "white",
           "linecolor": "white",
           "ticks": "",
           "title": {
            "standoff": 15
           },
           "zerolinecolor": "white",
           "zerolinewidth": 2
          },
          "yaxis": {
           "automargin": true,
           "gridcolor": "white",
           "linecolor": "white",
           "ticks": "",
           "title": {
            "standoff": 15
           },
           "zerolinecolor": "white",
           "zerolinewidth": 2
          }
         }
        },
        "title": {
         "font": {
          "color": "#4D5663"
         }
        },
        "xaxis": {
         "autorange": true,
         "gridcolor": "#E1E5ED",
         "range": [
          -0.5,
          4.5
         ],
         "showgrid": true,
         "tickfont": {
          "color": "#4D5663"
         },
         "title": {
          "font": {
           "color": "#4D5663"
          },
          "text": ""
         },
         "type": "category",
         "zerolinecolor": "#E1E5ED"
        },
        "yaxis": {
         "autorange": true,
         "gridcolor": "#E1E5ED",
         "range": [
          -3.1942356616550076,
          3.8616809156125065
         ],
         "showgrid": true,
         "tickfont": {
          "color": "#4D5663"
         },
         "title": {
          "font": {
           "color": "#4D5663"
          },
          "text": ""
         },
         "type": "linear",
         "zerolinecolor": "#E1E5ED"
        }
       }
      },
      "image/png": "[encoded data removed]",
      "text/html": [
       "<div>                            <div id=\"737b67b4-6184-4846-8523-5e9447d709de\" class=\"plotly-graph-div\" style=\"height:525px; width:100%;\"></div>            <script type=\"text/javascript\">                require([\"plotly\"], function(Plotly) {                    window.PLOTLYENV=window.PLOTLYENV || {};\n",
       "                    window.PLOTLYENV.BASE_URL='https://plot.ly';                                    if (document.getElementById(\"737b67b4-6184-4846-8523-5e9447d709de\")) {                    Plotly.newPlot(                        \"737b67b4-6184-4846-8523-5e9447d709de\",                        [{\"boxpoints\":false,\"line\":{\"width\":1.3},\"marker\":{\"color\":\"rgba(255, 153, 51, 1.0)\"},\"name\":\"A\",\"orientation\":\"v\",\"y\":[-0.3335804497762339,0.00841020770573747,-0.2452486455726726,1.7550835292323625,-0.4124142608843169,0.08397452866741234,-1.3865662695296521,-0.5536159230768968,-0.6159733733331406,0.5351203760401979,0.6219906888015769,2.0936218973984544,0.44108665014911896,-0.416230235006025,0.9331183949846429,-0.7216605612758971,1.3390572677191115,0.6496069974394884,-0.7901367515093446,-0.3422059764483797,0.5373701215532392,1.7747753169553424,0.419529041757397,-0.10904889995774433,-2.0263048218045543,0.21622836105376003,-0.821922543917067,1.842131241717987,-1.265365165032051,0.8479452711578469,0.6156098386466577,0.15867622180468346,-1.238977024083961,0.7335419753028098,0.0512616782988629,1.4495571762852764,-0.4496751518589838,-0.330172000624211,-0.8929792515250653,2.205175209714804,-0.4538635156588506,2.2037334537380286,0.7417458154644216,-0.01924531610158195,0.5149129505912265,-0.8559027787490496,-1.2359804048231446,2.073959092442634,0.6912579520973061,-1.108283786227255,0.16942813801626458,-2.781043939921188,0.0885804145925267,-1.756318606323291,1.274483140059975,0.8438741973237249,1.043238681028487,0.8742390843303314,1.4704877215499943,-0.6540245721736407,-1.1275658316510941,0.8367878573651504,-0.7350001997710474,-0.11503001732679545,-0.1920425691420273,1.3367611859539756,0.31544010241881365,0.30833485067338146,-0.30446858143129724,0.09901607880407506,0.3280088371532466,0.3003499482732641,0.27812375549087964,-0.6621938785792102,0.5884359898684891,-1.4687335662247434,1.5961345007591994,-0.2519890600562586,1.5557835869903025,0.04462193969423287,0.15083076444693133,0.4082980181436096,-0.678370760026145,-0.0750391155180131,-1.0668798705652038,-0.9875792933502123,-2.7515517426231964,1.6668491718400256,-2.011343087200451,0.22068583475438497,1.0427267249140537,0.8666554855258551,1.4876746522797113,-0.12935479445954817,0.544861458818753,0.2590464861926635,-0.29858348018470654,1.0157638005717105,-1.2125999335057973,-0.7869056414224349],\"type\":\"box\"},{\"boxpoints\":false,\"line\":{\"width\":1.3},\"marker\":{\"color\":\"rgba(55, 128, 191, 1.0)\"},\"name\":\"B\",\"orientation\":\"v\",\"y\":[1.2656119006442414,0.11172189872330608,2.4441405083498084,0.021263530711874312,-0.09762074893880836,-2.841439832791632,0.3606689299126568,0.6100067499256379,0.46938226746429257,1.0409351529187922,-0.10530897127620471,-0.7839565480168238,1.312981092013129,0.9168981441738603,-0.45747230576020353,1.019246343752088,1.035506744391563,-0.2017921322897468,1.541948116644562,-0.8547194343811696,-0.5159114150487076,0.6205665175937206,-1.4708434724308213,-0.7028787223375108,0.4566743660520509,0.5175867306902976,2.307306044925076,0.6335984216611076,-1.169581749814845,-0.8049516945379682,0.8376752575918941,-0.7965999170117269,1.5701411435733117,0.010738407292215393,-1.9476656494682059,0.7994896822584975,0.9916380277779536,-0.8259760625515664,-0.7750424611682585,-1.000212958965001,-0.002153372965835309,1.1241098204562403,-0.8933357174684814,0.14031630340664777,0.7796311582424318,-2.545378779470004,-0.43196973909652,-0.11648151266855052,0.4066225349475821,1.5668326084368156,0.0285716881764873,1.3441761736057165,-0.5523062721586132,-0.7157409903930229,0.7327498495190612,0.30060721324231693,0.7133267785007691,0.19911508044327778,-0.19545960190474662,0.6853459741633252,-2.127835130345152,2.0218196475959336,2.1780440617017196,2.224401011317823,1.165437639520588,-0.14759125561131795,-0.8113337078873021,1.2284972728337857,-0.1894385534744078,-0.004967028126192879,-0.9774278378969505,0.9833612559553154,-0.23714912708878444,0.8726089987499858,-0.8389751407305852,0.3909661637510026,-1.1694495652685963,-1.9807748615515484,0.4096619399418116,1.1594638854247026,-1.0171361899301976,-1.0048963714697148,-0.36924529104358444,0.1286784085603135,0.7038172729883474,-0.9919135098509365,-0.29941507106034404,0.6134501808248138,-0.5951458647500463,0.254523959598943,0.24629150821694917,-1.3603994825182804,0.4749977182782207,-1.9947392736919967,3.508885086749131,0.9521474983011023,-0.421561079901927,1.686899295360436,-0.03997823528199046,-0.22909054223546957],\"type\":\"box\"},{\"boxpoints\":false,\"line\":{\"width\":1.3},\"marker\":{\"color\":\"rgba(50, 171, 96, 1.0)\"},\"name\":\"C\",\"orientation\":\"v\",\"y\":[0.8798245268512644,1.3570283033026354,1.9749121492940394,-1.053528469740966,-1.560386785340817,1.1388140116813792,0.18974961491421344,-0.5478264985107293,-1.1539249337613273,0.8874089996735028,-0.05691535188208471,0.7770129188124023,0.15309817166302805,0.16303265459883862,-1.4589565959752056,-1.7568132075093177,2.0863651523643836,-0.5709529842718767,0.8171735177928228,-0.9529735238883316,-1.4435332935187561,0.5291322365209097,0.590287111313805,2.0760558580311894,2.770519340679483,-1.6743154464994718,0.9909732859885614,1.4782185687998004,-0.09278257147140048,-0.20689856021378225,-0.060082151233758624,-0.4549282575190898,-2.798225397178623,-0.006120247766301646,-1.3445715700628214,-1.4466365769851819,0.2133185589128615,-0.32532507006367706,1.6286082407494962,0.3665395111067651,-0.8570393860081226,-0.5330012851626166,-0.7330412728606085,0.39520030272126844,-0.328970288722901,-2.291935837607325,-2.219382875606811,1.0050207754278548,0.8967059681804674,0.7728364986156984,-0.4455073981285349,-0.7256203081566854,-0.1305693944777659,-1.3713800857013108,-1.8091829986953307,-0.23298256037994072,-1.8533887856146967,0.1721245840219928,-1.2813291019196724,0.43920160088386334,1.2497325365573007,-0.11020114414414621,0.005641545615314567,1.0288602893831988,0.4220034532490604,-1.2565242509824988,-2.0769825586982384,-0.03699527667130005,1.523715050790172,2.0276688810134633,-0.06060921744804393,-0.16764490626620826,-0.2254354082608133,0.12847522766802005,0.377071749142011,-1.2976063331996661,-0.6617309172668501,0.37072944613045744,0.7758699379596998,-0.6732095691953305,0.9252587961467202,0.9267484968797207,1.105761853017902,-2.444709796114457,0.07499096243692296,0.5693211122386654,-0.652432465524865,0.6588139565638953,0.018531855504759765,-1.0137255385987984,1.2993924328191087,-1.4653956133450676,0.6497028563590997,1.8499967179996188,1.946063550070373,-0.8016185890292232,1.0382047761068196,-0.3194117889309226,0.33599136356301956,0.7741509723290858],\"type\":\"box\"},{\"boxpoints\":false,\"line\":{\"width\":1.3},\"marker\":{\"color\":\"rgba(128, 0, 128, 1.0)\"},\"name\":\"D\",\"orientation\":\"v\",\"y\":[-1.9198483031724256,-0.24329183540613608,0.6419997062319316,1.3521182772765474,0.5953524145895086,-0.3552352893647105,1.0915339646314302,0.6475280944502119,-0.774851217596859,-0.39637688379115565,-0.4230845617672878,0.22959960188263315,1.6948841348667674,1.1446841575735427,-2.2080553735626602,-0.30308059602206633,1.0806566946819762,-1.1216001403815672,-0.12520775316480504,1.3466925190085772,0.9462059084151903,0.8985744305856347,-1.64358228609394,0.6069791243187228,0.4223824309838147,0.8423595723635103,2.3980901509690193,-0.6415070968039709,-0.9975940538503272,-0.11550689048261797,2.0020036202933498,1.3662311734044508,0.479460223478841,0.5092066242214716,-1.5629385459288747,0.628865645676127,-0.7634899023056374,1.0248616097292713,1.6595211982791724,-2.0061602520171813,-0.7186614432370061,-0.4742543791027465,1.307551183314467,1.1743804854843325,0.7052145371823973,0.4799543593091343,-0.7009216406650326,-0.6746932653622134,-1.100313397740983,1.439377653494364,-0.31797347028181755,-0.874593483987904,1.909864020081642,1.3555632985489197,-1.5303080609636381,1.233317462598353,-0.06212854456042669,-1.83988537294752,0.5529455365082178,2.6805845051206223,-1.085617407002373,1.3827589034085064,1.4931540986489353,-1.830583458116591,2.2873533003201194,0.4538291090971322,-1.4015980942710253,-2.101484782143447,0.3850412422960206,-0.28960698710359245,-0.4010520642042657,1.2987085019055833,-0.6958314981432985,1.1722585020874166,-0.7857462390210691,1.5046211800677642,1.1521614492395316,1.104130661059711,-0.3180270974434549,-0.5170270701278834,-1.926258142950692,0.9116496592019908,0.16343145846718582,0.829446465394839,0.6912702589585954,-0.5780875528080383,-0.19423361876038497,-1.1404559525272475,0.36132644570637024,-0.06963216123953414,-0.21478317152142276,-2.1383624044570757,1.3604530205933243,-0.02833867735545919,1.0995634743246747,0.6372366447919425,-0.42141871269977116,0.7504607745939308,-0.4335204360951008,0.6529644865979116],\"type\":\"box\"},{\"boxpoints\":false,\"line\":{\"width\":1.3},\"marker\":{\"color\":\"rgba(219, 64, 82, 1.0)\"},\"name\":\"E\",\"orientation\":\"v\",\"y\":[-1.8839552638761043,-1.4222817243492196,0.2439336106390916,-0.3022115945065196,-1.1116255926474479,-0.13846855609245293,-0.6352316093943358,-1.6741868974608256,-1.0874216392138512,-1.727874886025039,0.6068689036503123,1.606811739024369,-0.7544366227941612,2.0380068491611185,-0.41478932093402,0.7142095505760002,-0.017473896869972794,-0.854025343130081,0.17112312466754392,2.5949210831298983,-0.3368952398061639,-0.5018141764171291,-0.2291538464895462,1.7865692974483998,-0.5194435804480518,0.06767539551418716,-0.09300004854212413,-1.2127175883760892,1.942643225757587,0.8878018149978713,-1.1809781153260683,0.2575919645669953,-0.6769032747176147,0.01014174877601857,2.885642130181955,-0.7049165847816975,-0.4967452753515838,-0.15303974924473007,1.62343094257325,0.30504135057356546,0.8135619495047793,0.13859734831440887,0.9409094898287858,-2.106150798000945,-0.9727829821770161,-0.49535544612192495,-1.3610308308674985,-1.8962982399982888,-0.7253845761849583,-0.7168960746976729,0.37029744211770654,0.8598123725308865,0.8461573465522495,-0.6046059434358252,-0.10992922641504047,-2.0891817672460156,-0.4063293893196075,0.2757867175136207,0.8774299519146228,-2.2757649437521903,-0.45757232015356514,-0.17936223143712166,0.17476001282787101,0.9290796655113206,-1.8732214794720277,1.242753534277087,0.1066039488907477,0.9433387503335581,1.6896852590146096,1.0510034273696693,1.6134414015773315,-1.8868368147054095,0.04411536657854227,1.4055080886554139,-0.4794134388164445,-0.8810855398463338,1.5117001240378032,-0.22294664515737564,-0.1304669186370773,0.37964353796601175,-0.5790014297236573,-0.6127310043576752,1.2031065883968466,0.16998909148348326,-0.06292258556163698,0.5494619741500407,-0.18506065027833485,-0.18448527937520084,-1.4254380406342864,-1.7079349491429474,-0.9371196134892642,0.7528973069243526,0.01649536172771896,0.7025745920667116,-1.5521217053670775,1.646999567576793,0.7663500834926468,-0.06438797934787864,-0.2584312528743698,0.300277201635679],\"type\":\"box\"}],                        {\"legend\":{\"bgcolor\":\"#F5F6F9\",\"font\":{\"color\":\"#4D5663\"}},\"paper_bgcolor\":\"#F5F6F9\",\"plot_bgcolor\":\"#F5F6F9\",\"template\":{\"data\":{\"barpolar\":[{\"marker\":{\"line\":{\"color\":\"#E5ECF6\",\"width\":0.5},\"pattern\":{\"fillmode\":\"overlay\",\"size\":10,\"solidity\":0.2}},\"type\":\"barpolar\"}],\"bar\":[{\"error_x\":{\"color\":\"#2a3f5f\"},\"error_y\":{\"color\":\"#2a3f5f\"},\"marker\":{\"line\":{\"color\":\"#E5ECF6\",\"width\":0.5},\"pattern\":{\"fillmode\":\"overlay\",\"size\":10,\"solidity\":0.2}},\"type\":\"bar\"}],\"carpet\":[{\"aaxis\":{\"endlinecolor\":\"#2a3f5f\",\"gridcolor\":\"white\",\"linecolor\":\"white\",\"minorgridcolor\":\"white\",\"startlinecolor\":\"#2a3f5f\"},\"baxis\":{\"endlinecolor\":\"#2a3f5f\",\"gridcolor\":\"white\",\"linecolor\":\"white\",\"minorgridcolor\":\"white\",\"startlinecolor\":\"#2a3f5f\"},\"type\":\"carpet\"}],\"choropleth\":[{\"colorbar\":{\"outlinewidth\":0,\"ticks\":\"\"},\"type\":\"choropleth\"}],\"contourcarpet\":[{\"colorbar\":{\"outlinewidth\":0,\"ticks\":\"\"},\"type\":\"contourcarpet\"}],\"contour\":[{\"colorbar\":{\"outlinewidth\":0,\"ticks\":\"\"},\"colorscale\":[[0.0,\"#0d0887\"],[0.1111111111111111,\"#46039f\"],[0.2222222222222222,\"#7201a8\"],[0.3333333333333333,\"#9c179e\"],[0.4444444444444444,\"#bd3786\"],[0.5555555555555556,\"#d8576b\"],[0.6666666666666666,\"#ed7953\"],[0.7777777777777778,\"#fb9f3a\"],[0.8888888888888888,\"#fdca26\"],[1.0,\"#f0f921\"]],\"type\":\"contour\"}],\"heatmapgl\":[{\"colorbar\":{\"outlinewidth\":0,\"ticks\":\"\"},\"colorscale\":[[0.0,\"#0d0887\"],[0.1111111111111111,\"#46039f\"],[0.2222222222222222,\"#7201a8\"],[0.3333333333333333,\"#9c179e\"],[0.4444444444444444,\"#bd3786\"],[0.5555555555555556,\"#d8576b\"],[0.6666666666666666,\"#ed7953\"],[0.7777777777777778,\"#fb9f3a\"],[0.8888888888888888,\"#fdca26\"],[1.0,\"#f0f921\"]],\"type\":\"heatmapgl\"}],\"heatmap\":[{\"colorbar\":{\"outlinewidth\":0,\"ticks\":\"\"},\"colorscale\":[[0.0,\"#0d0887\"],[0.1111111111111111,\"#46039f\"],[0.2222222222222222,\"#7201a8\"],[0.3333333333333333,\"#9c179e\"],[0.4444444444444444,\"#bd3786\"],[0.5555555555555556,\"#d8576b\"],[0.6666666666666666,\"#ed7953\"],[0.7777777777777778,\"#fb9f3a\"],[0.8888888888888888,\"#fdca26\"],[1.0,\"#f0f921\"]],\"type\":\"heatmap\"}],\"histogram2dcontour\":[{\"colorbar\":{\"outlinewidth\":0,\"ticks\":\"\"},\"colorscale\":[[0.0,\"#0d0887\"],[0.1111111111111111,\"#46039f\"],[0.2222222222222222,\"#7201a8\"],[0.3333333333333333,\"#9c179e\"],[0.4444444444444444,\"#bd3786\"],[0.5555555555555556,\"#d8576b\"],[0.6666666666666666,\"#ed7953\"],[0.7777777777777778,\"#fb9f3a\"],[0.8888888888888888,\"#fdca26\"],[1.0,\"#f0f921\"]],\"type\":\"histogram2dcontour\"}],\"histogram2d\":[{\"colorbar\":{\"outlinewidth\":0,\"ticks\":\"\"},\"colorscale\":[[0.0,\"#0d0887\"],[0.1111111111111111,\"#46039f\"],[0.2222222222222222,\"#7201a8\"],[0.3333333333333333,\"#9c179e\"],[0.4444444444444444,\"#bd3786\"],[0.5555555555555556,\"#d8576b\"],[0.6666666666666666,\"#ed7953\"],[0.7777777777777778,\"#fb9f3a\"],[0.8888888888888888,\"#fdca26\"],[1.0,\"#f0f921\"]],\"type\":\"histogram2d\"}],\"histogram\":[{\"marker\":{\"pattern\":{\"fillmode\":\"overlay\",\"size\":10,\"solidity\":0.2}},\"type\":\"histogram\"}],\"mesh3d\":[{\"colorbar\":{\"outlinewidth\":0,\"ticks\":\"\"},\"type\":\"mesh3d\"}],\"parcoords\":[{\"line\":{\"colorbar\":{\"outlinewidth\":0,\"ticks\":\"\"}},\"type\":\"parcoords\"}],\"pie\":[{\"automargin\":true,\"type\":\"pie\"}],\"scatter3d\":[{\"line\":{\"colorbar\":{\"outlinewidth\":0,\"ticks\":\"\"}},\"marker\":{\"colorbar\":{\"outlinewidth\":0,\"ticks\":\"\"}},\"type\":\"scatter3d\"}],\"scattercarpet\":[{\"marker\":{\"colorbar\":{\"outlinewidth\":0,\"ticks\":\"\"}},\"type\":\"scattercarpet\"}],\"scattergeo\":[{\"marker\":{\"colorbar\":{\"outlinewidth\":0,\"ticks\":\"\"}},\"type\":\"scattergeo\"}],\"scattergl\":[{\"marker\":{\"colorbar\":{\"outlinewidth\":0,\"ticks\":\"\"}},\"type\":\"scattergl\"}],\"scattermapbox\":[{\"marker\":{\"colorbar\":{\"outlinewidth\":0,\"ticks\":\"\"}},\"type\":\"scattermapbox\"}],\"scatterpolargl\":[{\"marker\":{\"colorbar\":{\"outlinewidth\":0,\"ticks\":\"\"}},\"type\":\"scatterpolargl\"}],\"scatterpolar\":[{\"marker\":{\"colorbar\":{\"outlinewidth\":0,\"ticks\":\"\"}},\"type\":\"scatterpolar\"}],\"scatter\":[{\"fillpattern\":{\"fillmode\":\"overlay\",\"size\":10,\"solidity\":0.2},\"type\":\"scatter\"}],\"scatterternary\":[{\"marker\":{\"colorbar\":{\"outlinewidth\":0,\"ticks\":\"\"}},\"type\":\"scatterternary\"}],\"surface\":[{\"colorbar\":{\"outlinewidth\":0,\"ticks\":\"\"},\"colorscale\":[[0.0,\"#0d0887\"],[0.1111111111111111,\"#46039f\"],[0.2222222222222222,\"#7201a8\"],[0.3333333333333333,\"#9c179e\"],[0.4444444444444444,\"#bd3786\"],[0.5555555555555556,\"#d8576b\"],[0.6666666666666666,\"#ed7953\"],[0.7777777777777778,\"#fb9f3a\"],[0.8888888888888888,\"#fdca26\"],[1.0,\"#f0f921\"]],\"type\":\"surface\"}],\"table\":[{\"cells\":{\"fill\":{\"color\":\"#EBF0F8\"},\"line\":{\"color\":\"white\"}},\"header\":{\"fill\":{\"color\":\"#C8D4E3\"},\"line\":{\"color\":\"white\"}},\"type\":\"table\"}]},\"layout\":{\"annotationdefaults\":{\"arrowcolor\":\"#2a3f5f\",\"arrowhead\":0,\"arrowwidth\":1},\"autotypenumbers\":\"strict\",\"coloraxis\":{\"colorbar\":{\"outlinewidth\":0,\"ticks\":\"\"}},\"colorscale\":{\"diverging\":[[0,\"#8e0152\"],[0.1,\"#c51b7d\"],[0.2,\"#de77ae\"],[0.3,\"#f1b6da\"],[0.4,\"#fde0ef\"],[0.5,\"#f7f7f7\"],[0.6,\"#e6f5d0\"],[0.7,\"#b8e186\"],[0.8,\"#7fbc41\"],[0.9,\"#4d9221\"],[1,\"#276419\"]],\"sequential\":[[0.0,\"#0d0887\"],[0.1111111111111111,\"#46039f\"],[0.2222222222222222,\"#7201a8\"],[0.3333333333333333,\"#9c179e\"],[0.4444444444444444,\"#bd3786\"],[0.5555555555555556,\"#d8576b\"],[0.6666666666666666,\"#ed7953\"],[0.7777777777777778,\"#fb9f3a\"],[0.8888888888888888,\"#fdca26\"],[1.0,\"#f0f921\"]],\"sequentialminus\":[[0.0,\"#0d0887\"],[0.1111111111111111,\"#46039f\"],[0.2222222222222222,\"#7201a8\"],[0.3333333333333333,\"#9c179e\"],[0.4444444444444444,\"#bd3786\"],[0.5555555555555556,\"#d8576b\"],[0.6666666666666666,\"#ed7953\"],[0.7777777777777778,\"#fb9f3a\"],[0.8888888888888888,\"#fdca26\"],[1.0,\"#f0f921\"]]},\"colorway\":[\"#636efa\",\"#EF553B\",\"#00cc96\",\"#ab63fa\",\"#FFA15A\",\"#19d3f3\",\"#FF6692\",\"#B6E880\",\"#FF97FF\",\"#FECB52\"],\"font\":{\"color\":\"#2a3f5f\"},\"geo\":{\"bgcolor\":\"white\",\"lakecolor\":\"white\",\"landcolor\":\"#E5ECF6\",\"showlakes\":true,\"showland\":true,\"subunitcolor\":\"white\"},\"hoverlabel\":{\"align\":\"left\"},\"hovermode\":\"closest\",\"mapbox\":{\"style\":\"light\"},\"paper_bgcolor\":\"white\",\"plot_bgcolor\":\"#E5ECF6\",\"polar\":{\"angularaxis\":{\"gridcolor\":\"white\",\"linecolor\":\"white\",\"ticks\":\"\"},\"bgcolor\":\"#E5ECF6\",\"radialaxis\":{\"gridcolor\":\"white\",\"linecolor\":\"white\",\"ticks\":\"\"}},\"scene\":{\"xaxis\":{\"backgroundcolor\":\"#E5ECF6\",\"gridcolor\":\"white\",\"gridwidth\":2,\"linecolor\":\"white\",\"showbackground\":true,\"ticks\":\"\",\"zerolinecolor\":\"white\"},\"yaxis\":{\"backgroundcolor\":\"#E5ECF6\",\"gridcolor\":\"white\",\"gridwidth\":2,\"linecolor\":\"white\",\"showbackground\":true,\"ticks\":\"\",\"zerolinecolor\":\"white\"},\"zaxis\":{\"backgroundcolor\":\"#E5ECF6\",\"gridcolor\":\"white\",\"gridwidth\":2,\"linecolor\":\"white\",\"showbackground\":true,\"ticks\":\"\",\"zerolinecolor\":\"white\"}},\"shapedefaults\":{\"line\":{\"color\":\"#2a3f5f\"}},\"ternary\":{\"aaxis\":{\"gridcolor\":\"white\",\"linecolor\":\"white\",\"ticks\":\"\"},\"baxis\":{\"gridcolor\":\"white\",\"linecolor\":\"white\",\"ticks\":\"\"},\"bgcolor\":\"#E5ECF6\",\"caxis\":{\"gridcolor\":\"white\",\"linecolor\":\"white\",\"ticks\":\"\"}},\"title\":{\"x\":0.05},\"xaxis\":{\"automargin\":true,\"gridcolor\":\"white\",\"linecolor\":\"white\",\"ticks\":\"\",\"title\":{\"standoff\":15},\"zerolinecolor\":\"white\",\"zerolinewidth\":2},\"yaxis\":{\"automargin\":true,\"gridcolor\":\"white\",\"linecolor\":\"white\",\"ticks\":\"\",\"title\":{\"standoff\":15},\"zerolinecolor\":\"white\",\"zerolinewidth\":2}}},\"title\":{\"font\":{\"color\":\"#4D5663\"}},\"xaxis\":{\"gridcolor\":\"#E1E5ED\",\"showgrid\":true,\"tickfont\":{\"color\":\"#4D5663\"},\"title\":{\"font\":{\"color\":\"#4D5663\"},\"text\":\"\"},\"zerolinecolor\":\"#E1E5ED\"},\"yaxis\":{\"gridcolor\":\"#E1E5ED\",\"showgrid\":true,\"tickfont\":{\"color\":\"#4D5663\"},\"title\":{\"font\":{\"color\":\"#4D5663\"},\"text\":\"\"},\"zerolinecolor\":\"#E1E5ED\"}},                        {\"showLink\": true, \"linkText\": \"Export to plot.ly\", \"plotlyServerURL\": \"https://plot.ly\", \"responsive\": true}                    ).then(function(){\n",
       "                            \n",
       "var gd = document.getElementById('737b67b4-6184-4846-8523-5e9447d709de');\n",
       "var x = new MutationObserver(function (mutations, observer) {{\n",
       "        var display = window.getComputedStyle(gd).display;\n",
       "        if (!display || display === 'none') {{\n",
       "            console.log([gd, 'removed!']);\n",
       "            Plotly.purge(gd);\n",
       "            observer.disconnect();\n",
       "        }}\n",
       "}});\n",
       "\n",
       "// Listen for the removal of the full notebook cells\n",
       "var notebookContainer = gd.closest('#notebook-container');\n",
       "if (notebookContainer) {{\n",
       "    x.observe(notebookContainer, {childList: true});\n",
       "}}\n",
       "\n",
       "// Listen for the clearing of the current output cell\n",
       "var outputEl = gd.closest('.output');\n",
       "if (outputEl) {{\n",
       "    x.observe(outputEl, {childList: true});\n",
       "}}\n",
       "\n",
       "                        })                };                });            </script>        </div>"
      ]
     },
     "metadata": {},
     "output_type": "display_data"
    }
   ],
   "source": [
    "df.iplot(kind='box')"
   ]
  },
  {
   "cell_type": "code",
   "execution_count": 27,
   "id": "deb39b6a-79bc-4a41-93f6-e16de735213a",
   "metadata": {},
   "outputs": [],
   "source": [
    "df2=pd.DataFrame({'x':[1,2,3,4,5],'y':[10,20,30,20,10],'z':[5,4,3,2,1]})"
   ]
  },
  {
   "cell_type": "code",
   "execution_count": 28,
   "id": "f2c14a50-44ec-4f62-81de-897fbe9f9e19",
   "metadata": {},
   "outputs": [
    {
     "data": {
      "text/html": [
       "<div>\n",
       "<style scoped>\n",
       "    .dataframe tbody tr th:only-of-type {\n",
       "        vertical-align: middle;\n",
       "    }\n",
       "\n",
       "    .dataframe tbody tr th {\n",
       "        vertical-align: top;\n",
       "    }\n",
       "\n",
       "    .dataframe thead th {\n",
       "        text-align: right;\n",
       "    }\n",
       "</style>\n",
       "<table border=\"1\" class=\"dataframe\">\n",
       "  <thead>\n",
       "    <tr style=\"text-align: right;\">\n",
       "      <th></th>\n",
       "      <th>x</th>\n",
       "      <th>y</th>\n",
       "      <th>z</th>\n",
       "    </tr>\n",
       "  </thead>\n",
       "  <tbody>\n",
       "    <tr>\n",
       "      <th>0</th>\n",
       "      <td>1</td>\n",
       "      <td>10</td>\n",
       "      <td>5</td>\n",
       "    </tr>\n",
       "    <tr>\n",
       "      <th>1</th>\n",
       "      <td>2</td>\n",
       "      <td>20</td>\n",
       "      <td>4</td>\n",
       "    </tr>\n",
       "    <tr>\n",
       "      <th>2</th>\n",
       "      <td>3</td>\n",
       "      <td>30</td>\n",
       "      <td>3</td>\n",
       "    </tr>\n",
       "    <tr>\n",
       "      <th>3</th>\n",
       "      <td>4</td>\n",
       "      <td>20</td>\n",
       "      <td>2</td>\n",
       "    </tr>\n",
       "    <tr>\n",
       "      <th>4</th>\n",
       "      <td>5</td>\n",
       "      <td>10</td>\n",
       "      <td>1</td>\n",
       "    </tr>\n",
       "  </tbody>\n",
       "</table>\n",
       "</div>"
      ],
      "text/plain": [
       "   x   y  z\n",
       "0  1  10  5\n",
       "1  2  20  4\n",
       "2  3  30  3\n",
       "3  4  20  2\n",
       "4  5  10  1"
      ]
     },
     "execution_count": 28,
     "metadata": {},
     "output_type": "execute_result"
    }
   ],
   "source": [
    "df2"
   ]
  },
  {
   "cell_type": "code",
   "execution_count": 31,
   "id": "9c149b40-4925-48b0-8532-eca2fc84a2f2",
   "metadata": {},
   "outputs": [
    {
     "data": {
      "application/vnd.plotly.v1+json": {
       "config": {
        "linkText": "Export to plot.ly",
        "plotlyServerURL": "https://plot.ly",
        "showLink": true
       },
       "data": [
        {
         "colorscale": [
          [
           0,
           "rgb(165,0,38)"
          ],
          [
           0.1,
           "rgb(215,48,39)"
          ],
          [
           0.2,
           "rgb(244,109,67)"
          ],
          [
           0.3,
           "rgb(253,174,97)"
          ],
          [
           0.4,
           "rgb(254,224,144)"
          ],
          [
           0.5,
           "rgb(255,255,191)"
          ],
          [
           0.6,
           "rgb(224,243,248)"
          ],
          [
           0.7,
           "rgb(171,217,233)"
          ],
          [
           0.8,
           "rgb(116,173,209)"
          ],
          [
           0.9,
           "rgb(69,117,180)"
          ],
          [
           1,
           "rgb(49,54,149)"
          ]
         ],
         "type": "surface",
         "x": [
          0,
          1,
          2,
          3,
          4
         ],
         "y": [
          "x",
          "y",
          "z"
         ],
         "z": [
          [
           1,
           2,
           3,
           4,
           5
          ],
          [
           10,
           20,
           30,
           20,
           10
          ],
          [
           5,
           4,
           3,
           2,
           1
          ]
         ]
        }
       ],
       "layout": {
        "autosize": true,
        "legend": {
         "bgcolor": "#F5F6F9",
         "font": {
          "color": "#4D5663"
         }
        },
        "paper_bgcolor": "#F5F6F9",
        "plot_bgcolor": "#F5F6F9",
        "scene": {
         "aspectmode": "auto",
         "aspectratio": {
          "x": 1,
          "y": 1,
          "z": 1
         },
         "camera": {
          "center": {
           "x": 0,
           "y": 0,
           "z": 0
          },
          "eye": {
           "x": -0.9708246545388314,
           "y": 0.731174819980879,
           "z": -0.05365462466921144
          },
          "projection": {
           "type": "perspective"
          },
          "up": {
           "x": 0,
           "y": 0,
           "z": 1
          }
         }
        },
        "template": {
         "data": {
          "bar": [
           {
            "error_x": {
             "color": "#2a3f5f"
            },
            "error_y": {
             "color": "#2a3f5f"
            },
            "marker": {
             "line": {
              "color": "#E5ECF6",
              "width": 0.5
             },
             "pattern": {
              "fillmode": "overlay",
              "size": 10,
              "solidity": 0.2
             }
            },
            "type": "bar"
           }
          ],
          "barpolar": [
           {
            "marker": {
             "line": {
              "color": "#E5ECF6",
              "width": 0.5
             },
             "pattern": {
              "fillmode": "overlay",
              "size": 10,
              "solidity": 0.2
             }
            },
            "type": "barpolar"
           }
          ],
          "carpet": [
           {
            "aaxis": {
             "endlinecolor": "#2a3f5f",
             "gridcolor": "white",
             "linecolor": "white",
             "minorgridcolor": "white",
             "startlinecolor": "#2a3f5f"
            },
            "baxis": {
             "endlinecolor": "#2a3f5f",
             "gridcolor": "white",
             "linecolor": "white",
             "minorgridcolor": "white",
             "startlinecolor": "#2a3f5f"
            },
            "type": "carpet"
           }
          ],
          "choropleth": [
           {
            "colorbar": {
             "outlinewidth": 0,
             "ticks": ""
            },
            "type": "choropleth"
           }
          ],
          "contour": [
           {
            "colorbar": {
             "outlinewidth": 0,
             "ticks": ""
            },
            "colorscale": [
             [
              0,
              "#0d0887"
             ],
             [
              0.1111111111111111,
              "#46039f"
             ],
             [
              0.2222222222222222,
              "#7201a8"
             ],
             [
              0.3333333333333333,
              "#9c179e"
             ],
             [
              0.4444444444444444,
              "#bd3786"
             ],
             [
              0.5555555555555556,
              "#d8576b"
             ],
             [
              0.6666666666666666,
              "#ed7953"
             ],
             [
              0.7777777777777778,
              "#fb9f3a"
             ],
             [
              0.8888888888888888,
              "#fdca26"
             ],
             [
              1,
              "#f0f921"
             ]
            ],
            "type": "contour"
           }
          ],
          "contourcarpet": [
           {
            "colorbar": {
             "outlinewidth": 0,
             "ticks": ""
            },
            "type": "contourcarpet"
           }
          ],
          "heatmap": [
           {
            "colorbar": {
             "outlinewidth": 0,
             "ticks": ""
            },
            "colorscale": [
             [
              0,
              "#0d0887"
             ],
             [
              0.1111111111111111,
              "#46039f"
             ],
             [
              0.2222222222222222,
              "#7201a8"
             ],
             [
              0.3333333333333333,
              "#9c179e"
             ],
             [
              0.4444444444444444,
              "#bd3786"
             ],
             [
              0.5555555555555556,
              "#d8576b"
             ],
             [
              0.6666666666666666,
              "#ed7953"
             ],
             [
              0.7777777777777778,
              "#fb9f3a"
             ],
             [
              0.8888888888888888,
              "#fdca26"
             ],
             [
              1,
              "#f0f921"
             ]
            ],
            "type": "heatmap"
           }
          ],
          "heatmapgl": [
           {
            "colorbar": {
             "outlinewidth": 0,
             "ticks": ""
            },
            "colorscale": [
             [
              0,
              "#0d0887"
             ],
             [
              0.1111111111111111,
              "#46039f"
             ],
             [
              0.2222222222222222,
              "#7201a8"
             ],
             [
              0.3333333333333333,
              "#9c179e"
             ],
             [
              0.4444444444444444,
              "#bd3786"
             ],
             [
              0.5555555555555556,
              "#d8576b"
             ],
             [
              0.6666666666666666,
              "#ed7953"
             ],
             [
              0.7777777777777778,
              "#fb9f3a"
             ],
             [
              0.8888888888888888,
              "#fdca26"
             ],
             [
              1,
              "#f0f921"
             ]
            ],
            "type": "heatmapgl"
           }
          ],
          "histogram": [
           {
            "marker": {
             "pattern": {
              "fillmode": "overlay",
              "size": 10,
              "solidity": 0.2
             }
            },
            "type": "histogram"
           }
          ],
          "histogram2d": [
           {
            "colorbar": {
             "outlinewidth": 0,
             "ticks": ""
            },
            "colorscale": [
             [
              0,
              "#0d0887"
             ],
             [
              0.1111111111111111,
              "#46039f"
             ],
             [
              0.2222222222222222,
              "#7201a8"
             ],
             [
              0.3333333333333333,
              "#9c179e"
             ],
             [
              0.4444444444444444,
              "#bd3786"
             ],
             [
              0.5555555555555556,
              "#d8576b"
             ],
             [
              0.6666666666666666,
              "#ed7953"
             ],
             [
              0.7777777777777778,
              "#fb9f3a"
             ],
             [
              0.8888888888888888,
              "#fdca26"
             ],
             [
              1,
              "#f0f921"
             ]
            ],
            "type": "histogram2d"
           }
          ],
          "histogram2dcontour": [
           {
            "colorbar": {
             "outlinewidth": 0,
             "ticks": ""
            },
            "colorscale": [
             [
              0,
              "#0d0887"
             ],
             [
              0.1111111111111111,
              "#46039f"
             ],
             [
              0.2222222222222222,
              "#7201a8"
             ],
             [
              0.3333333333333333,
              "#9c179e"
             ],
             [
              0.4444444444444444,
              "#bd3786"
             ],
             [
              0.5555555555555556,
              "#d8576b"
             ],
             [
              0.6666666666666666,
              "#ed7953"
             ],
             [
              0.7777777777777778,
              "#fb9f3a"
             ],
             [
              0.8888888888888888,
              "#fdca26"
             ],
             [
              1,
              "#f0f921"
             ]
            ],
            "type": "histogram2dcontour"
           }
          ],
          "mesh3d": [
           {
            "colorbar": {
             "outlinewidth": 0,
             "ticks": ""
            },
            "type": "mesh3d"
           }
          ],
          "parcoords": [
           {
            "line": {
             "colorbar": {
              "outlinewidth": 0,
              "ticks": ""
             }
            },
            "type": "parcoords"
           }
          ],
          "pie": [
           {
            "automargin": true,
            "type": "pie"
           }
          ],
          "scatter": [
           {
            "fillpattern": {
             "fillmode": "overlay",
             "size": 10,
             "solidity": 0.2
            },
            "type": "scatter"
           }
          ],
          "scatter3d": [
           {
            "line": {
             "colorbar": {
              "outlinewidth": 0,
              "ticks": ""
             }
            },
            "marker": {
             "colorbar": {
              "outlinewidth": 0,
              "ticks": ""
             }
            },
            "type": "scatter3d"
           }
          ],
          "scattercarpet": [
           {
            "marker": {
             "colorbar": {
              "outlinewidth": 0,
              "ticks": ""
             }
            },
            "type": "scattercarpet"
           }
          ],
          "scattergeo": [
           {
            "marker": {
             "colorbar": {
              "outlinewidth": 0,
              "ticks": ""
             }
            },
            "type": "scattergeo"
           }
          ],
          "scattergl": [
           {
            "marker": {
             "colorbar": {
              "outlinewidth": 0,
              "ticks": ""
             }
            },
            "type": "scattergl"
           }
          ],
          "scattermapbox": [
           {
            "marker": {
             "colorbar": {
              "outlinewidth": 0,
              "ticks": ""
             }
            },
            "type": "scattermapbox"
           }
          ],
          "scatterpolar": [
           {
            "marker": {
             "colorbar": {
              "outlinewidth": 0,
              "ticks": ""
             }
            },
            "type": "scatterpolar"
           }
          ],
          "scatterpolargl": [
           {
            "marker": {
             "colorbar": {
              "outlinewidth": 0,
              "ticks": ""
             }
            },
            "type": "scatterpolargl"
           }
          ],
          "scatterternary": [
           {
            "marker": {
             "colorbar": {
              "outlinewidth": 0,
              "ticks": ""
             }
            },
            "type": "scatterternary"
           }
          ],
          "surface": [
           {
            "colorbar": {
             "outlinewidth": 0,
             "ticks": ""
            },
            "colorscale": [
             [
              0,
              "#0d0887"
             ],
             [
              0.1111111111111111,
              "#46039f"
             ],
             [
              0.2222222222222222,
              "#7201a8"
             ],
             [
              0.3333333333333333,
              "#9c179e"
             ],
             [
              0.4444444444444444,
              "#bd3786"
             ],
             [
              0.5555555555555556,
              "#d8576b"
             ],
             [
              0.6666666666666666,
              "#ed7953"
             ],
             [
              0.7777777777777778,
              "#fb9f3a"
             ],
             [
              0.8888888888888888,
              "#fdca26"
             ],
             [
              1,
              "#f0f921"
             ]
            ],
            "type": "surface"
           }
          ],
          "table": [
           {
            "cells": {
             "fill": {
              "color": "#EBF0F8"
             },
             "line": {
              "color": "white"
             }
            },
            "header": {
             "fill": {
              "color": "#C8D4E3"
             },
             "line": {
              "color": "white"
             }
            },
            "type": "table"
           }
          ]
         },
         "layout": {
          "annotationdefaults": {
           "arrowcolor": "#2a3f5f",
           "arrowhead": 0,
           "arrowwidth": 1
          },
          "autotypenumbers": "strict",
          "coloraxis": {
           "colorbar": {
            "outlinewidth": 0,
            "ticks": ""
           }
          },
          "colorscale": {
           "diverging": [
            [
             0,
             "#8e0152"
            ],
            [
             0.1,
             "#c51b7d"
            ],
            [
             0.2,
             "#de77ae"
            ],
            [
             0.3,
             "#f1b6da"
            ],
            [
             0.4,
             "#fde0ef"
            ],
            [
             0.5,
             "#f7f7f7"
            ],
            [
             0.6,
             "#e6f5d0"
            ],
            [
             0.7,
             "#b8e186"
            ],
            [
             0.8,
             "#7fbc41"
            ],
            [
             0.9,
             "#4d9221"
            ],
            [
             1,
             "#276419"
            ]
           ],
           "sequential": [
            [
             0,
             "#0d0887"
            ],
            [
             0.1111111111111111,
             "#46039f"
            ],
            [
             0.2222222222222222,
             "#7201a8"
            ],
            [
             0.3333333333333333,
             "#9c179e"
            ],
            [
             0.4444444444444444,
             "#bd3786"
            ],
            [
             0.5555555555555556,
             "#d8576b"
            ],
            [
             0.6666666666666666,
             "#ed7953"
            ],
            [
             0.7777777777777778,
             "#fb9f3a"
            ],
            [
             0.8888888888888888,
             "#fdca26"
            ],
            [
             1,
             "#f0f921"
            ]
           ],
           "sequentialminus": [
            [
             0,
             "#0d0887"
            ],
            [
             0.1111111111111111,
             "#46039f"
            ],
            [
             0.2222222222222222,
             "#7201a8"
            ],
            [
             0.3333333333333333,
             "#9c179e"
            ],
            [
             0.4444444444444444,
             "#bd3786"
            ],
            [
             0.5555555555555556,
             "#d8576b"
            ],
            [
             0.6666666666666666,
             "#ed7953"
            ],
            [
             0.7777777777777778,
             "#fb9f3a"
            ],
            [
             0.8888888888888888,
             "#fdca26"
            ],
            [
             1,
             "#f0f921"
            ]
           ]
          },
          "colorway": [
           "#636efa",
           "#EF553B",
           "#00cc96",
           "#ab63fa",
           "#FFA15A",
           "#19d3f3",
           "#FF6692",
           "#B6E880",
           "#FF97FF",
           "#FECB52"
          ],
          "font": {
           "color": "#2a3f5f"
          },
          "geo": {
           "bgcolor": "white",
           "lakecolor": "white",
           "landcolor": "#E5ECF6",
           "showlakes": true,
           "showland": true,
           "subunitcolor": "white"
          },
          "hoverlabel": {
           "align": "left"
          },
          "hovermode": "closest",
          "mapbox": {
           "style": "light"
          },
          "paper_bgcolor": "white",
          "plot_bgcolor": "#E5ECF6",
          "polar": {
           "angularaxis": {
            "gridcolor": "white",
            "linecolor": "white",
            "ticks": ""
           },
           "bgcolor": "#E5ECF6",
           "radialaxis": {
            "gridcolor": "white",
            "linecolor": "white",
            "ticks": ""
           }
          },
          "scene": {
           "xaxis": {
            "backgroundcolor": "#E5ECF6",
            "gridcolor": "white",
            "gridwidth": 2,
            "linecolor": "white",
            "showbackground": true,
            "ticks": "",
            "zerolinecolor": "white"
           },
           "yaxis": {
            "backgroundcolor": "#E5ECF6",
            "gridcolor": "white",
            "gridwidth": 2,
            "linecolor": "white",
            "showbackground": true,
            "ticks": "",
            "zerolinecolor": "white"
           },
           "zaxis": {
            "backgroundcolor": "#E5ECF6",
            "gridcolor": "white",
            "gridwidth": 2,
            "linecolor": "white",
            "showbackground": true,
            "ticks": "",
            "zerolinecolor": "white"
           }
          },
          "shapedefaults": {
           "line": {
            "color": "#2a3f5f"
           }
          },
          "ternary": {
           "aaxis": {
            "gridcolor": "white",
            "linecolor": "white",
            "ticks": ""
           },
           "baxis": {
            "gridcolor": "white",
            "linecolor": "white",
            "ticks": ""
           },
           "bgcolor": "#E5ECF6",
           "caxis": {
            "gridcolor": "white",
            "linecolor": "white",
            "ticks": ""
           }
          },
          "title": {
           "x": 0.05
          },
          "xaxis": {
           "automargin": true,
           "gridcolor": "white",
           "linecolor": "white",
           "ticks": "",
           "title": {
            "standoff": 15
           },
           "zerolinecolor": "white",
           "zerolinewidth": 2
          },
          "yaxis": {
           "automargin": true,
           "gridcolor": "white",
           "linecolor": "white",
           "ticks": "",
           "title": {
            "standoff": 15
           },
           "zerolinecolor": "white",
           "zerolinewidth": 2
          }
         }
        },
        "title": {
         "font": {
          "color": "#4D5663"
         }
        },
        "xaxis": {
         "gridcolor": "#E1E5ED",
         "showgrid": true,
         "tickfont": {
          "color": "#4D5663"
         },
         "title": {
          "font": {
           "color": "#4D5663"
          },
          "text": ""
         },
         "zerolinecolor": "#E1E5ED"
        },
        "yaxis": {
         "gridcolor": "#E1E5ED",
         "showgrid": true,
         "tickfont": {
          "color": "#4D5663"
         },
         "title": {
          "font": {
           "color": "#4D5663"
          },
          "text": ""
         },
         "zerolinecolor": "#E1E5ED"
        }
       }
      },
      "image/png": "[encoded data removed]",
      "text/html": [
       "<div>                            <div id=\"0a228df2-d294-4cb4-8769-a2b948769769\" class=\"plotly-graph-div\" style=\"height:525px; width:100%;\"></div>            <script type=\"text/javascript\">                require([\"plotly\"], function(Plotly) {                    window.PLOTLYENV=window.PLOTLYENV || {};\n",
       "                    window.PLOTLYENV.BASE_URL='https://plot.ly';                                    if (document.getElementById(\"0a228df2-d294-4cb4-8769-a2b948769769\")) {                    Plotly.newPlot(                        \"0a228df2-d294-4cb4-8769-a2b948769769\",                        [{\"colorscale\":[[0.0,\"rgb(165,0,38)\"],[0.1,\"rgb(215,48,39)\"],[0.2,\"rgb(244,109,67)\"],[0.3,\"rgb(253,174,97)\"],[0.4,\"rgb(254,224,144)\"],[0.5,\"rgb(255,255,191)\"],[0.6,\"rgb(224,243,248)\"],[0.7,\"rgb(171,217,233)\"],[0.8,\"rgb(116,173,209)\"],[0.9,\"rgb(69,117,180)\"],[1.0,\"rgb(49,54,149)\"]],\"x\":[0,1,2,3,4],\"y\":[\"x\",\"y\",\"z\"],\"z\":[[1,2,3,4,5],[10,20,30,20,10],[5,4,3,2,1]],\"type\":\"surface\"}],                        {\"legend\":{\"bgcolor\":\"#F5F6F9\",\"font\":{\"color\":\"#4D5663\"}},\"paper_bgcolor\":\"#F5F6F9\",\"plot_bgcolor\":\"#F5F6F9\",\"template\":{\"data\":{\"barpolar\":[{\"marker\":{\"line\":{\"color\":\"#E5ECF6\",\"width\":0.5},\"pattern\":{\"fillmode\":\"overlay\",\"size\":10,\"solidity\":0.2}},\"type\":\"barpolar\"}],\"bar\":[{\"error_x\":{\"color\":\"#2a3f5f\"},\"error_y\":{\"color\":\"#2a3f5f\"},\"marker\":{\"line\":{\"color\":\"#E5ECF6\",\"width\":0.5},\"pattern\":{\"fillmode\":\"overlay\",\"size\":10,\"solidity\":0.2}},\"type\":\"bar\"}],\"carpet\":[{\"aaxis\":{\"endlinecolor\":\"#2a3f5f\",\"gridcolor\":\"white\",\"linecolor\":\"white\",\"minorgridcolor\":\"white\",\"startlinecolor\":\"#2a3f5f\"},\"baxis\":{\"endlinecolor\":\"#2a3f5f\",\"gridcolor\":\"white\",\"linecolor\":\"white\",\"minorgridcolor\":\"white\",\"startlinecolor\":\"#2a3f5f\"},\"type\":\"carpet\"}],\"choropleth\":[{\"colorbar\":{\"outlinewidth\":0,\"ticks\":\"\"},\"type\":\"choropleth\"}],\"contourcarpet\":[{\"colorbar\":{\"outlinewidth\":0,\"ticks\":\"\"},\"type\":\"contourcarpet\"}],\"contour\":[{\"colorbar\":{\"outlinewidth\":0,\"ticks\":\"\"},\"colorscale\":[[0.0,\"#0d0887\"],[0.1111111111111111,\"#46039f\"],[0.2222222222222222,\"#7201a8\"],[0.3333333333333333,\"#9c179e\"],[0.4444444444444444,\"#bd3786\"],[0.5555555555555556,\"#d8576b\"],[0.6666666666666666,\"#ed7953\"],[0.7777777777777778,\"#fb9f3a\"],[0.8888888888888888,\"#fdca26\"],[1.0,\"#f0f921\"]],\"type\":\"contour\"}],\"heatmapgl\":[{\"colorbar\":{\"outlinewidth\":0,\"ticks\":\"\"},\"colorscale\":[[0.0,\"#0d0887\"],[0.1111111111111111,\"#46039f\"],[0.2222222222222222,\"#7201a8\"],[0.3333333333333333,\"#9c179e\"],[0.4444444444444444,\"#bd3786\"],[0.5555555555555556,\"#d8576b\"],[0.6666666666666666,\"#ed7953\"],[0.7777777777777778,\"#fb9f3a\"],[0.8888888888888888,\"#fdca26\"],[1.0,\"#f0f921\"]],\"type\":\"heatmapgl\"}],\"heatmap\":[{\"colorbar\":{\"outlinewidth\":0,\"ticks\":\"\"},\"colorscale\":[[0.0,\"#0d0887\"],[0.1111111111111111,\"#46039f\"],[0.2222222222222222,\"#7201a8\"],[0.3333333333333333,\"#9c179e\"],[0.4444444444444444,\"#bd3786\"],[0.5555555555555556,\"#d8576b\"],[0.6666666666666666,\"#ed7953\"],[0.7777777777777778,\"#fb9f3a\"],[0.8888888888888888,\"#fdca26\"],[1.0,\"#f0f921\"]],\"type\":\"heatmap\"}],\"histogram2dcontour\":[{\"colorbar\":{\"outlinewidth\":0,\"ticks\":\"\"},\"colorscale\":[[0.0,\"#0d0887\"],[0.1111111111111111,\"#46039f\"],[0.2222222222222222,\"#7201a8\"],[0.3333333333333333,\"#9c179e\"],[0.4444444444444444,\"#bd3786\"],[0.5555555555555556,\"#d8576b\"],[0.6666666666666666,\"#ed7953\"],[0.7777777777777778,\"#fb9f3a\"],[0.8888888888888888,\"#fdca26\"],[1.0,\"#f0f921\"]],\"type\":\"histogram2dcontour\"}],\"histogram2d\":[{\"colorbar\":{\"outlinewidth\":0,\"ticks\":\"\"},\"colorscale\":[[0.0,\"#0d0887\"],[0.1111111111111111,\"#46039f\"],[0.2222222222222222,\"#7201a8\"],[0.3333333333333333,\"#9c179e\"],[0.4444444444444444,\"#bd3786\"],[0.5555555555555556,\"#d8576b\"],[0.6666666666666666,\"#ed7953\"],[0.7777777777777778,\"#fb9f3a\"],[0.8888888888888888,\"#fdca26\"],[1.0,\"#f0f921\"]],\"type\":\"histogram2d\"}],\"histogram\":[{\"marker\":{\"pattern\":{\"fillmode\":\"overlay\",\"size\":10,\"solidity\":0.2}},\"type\":\"histogram\"}],\"mesh3d\":[{\"colorbar\":{\"outlinewidth\":0,\"ticks\":\"\"},\"type\":\"mesh3d\"}],\"parcoords\":[{\"line\":{\"colorbar\":{\"outlinewidth\":0,\"ticks\":\"\"}},\"type\":\"parcoords\"}],\"pie\":[{\"automargin\":true,\"type\":\"pie\"}],\"scatter3d\":[{\"line\":{\"colorbar\":{\"outlinewidth\":0,\"ticks\":\"\"}},\"marker\":{\"colorbar\":{\"outlinewidth\":0,\"ticks\":\"\"}},\"type\":\"scatter3d\"}],\"scattercarpet\":[{\"marker\":{\"colorbar\":{\"outlinewidth\":0,\"ticks\":\"\"}},\"type\":\"scattercarpet\"}],\"scattergeo\":[{\"marker\":{\"colorbar\":{\"outlinewidth\":0,\"ticks\":\"\"}},\"type\":\"scattergeo\"}],\"scattergl\":[{\"marker\":{\"colorbar\":{\"outlinewidth\":0,\"ticks\":\"\"}},\"type\":\"scattergl\"}],\"scattermapbox\":[{\"marker\":{\"colorbar\":{\"outlinewidth\":0,\"ticks\":\"\"}},\"type\":\"scattermapbox\"}],\"scatterpolargl\":[{\"marker\":{\"colorbar\":{\"outlinewidth\":0,\"ticks\":\"\"}},\"type\":\"scatterpolargl\"}],\"scatterpolar\":[{\"marker\":{\"colorbar\":{\"outlinewidth\":0,\"ticks\":\"\"}},\"type\":\"scatterpolar\"}],\"scatter\":[{\"fillpattern\":{\"fillmode\":\"overlay\",\"size\":10,\"solidity\":0.2},\"type\":\"scatter\"}],\"scatterternary\":[{\"marker\":{\"colorbar\":{\"outlinewidth\":0,\"ticks\":\"\"}},\"type\":\"scatterternary\"}],\"surface\":[{\"colorbar\":{\"outlinewidth\":0,\"ticks\":\"\"},\"colorscale\":[[0.0,\"#0d0887\"],[0.1111111111111111,\"#46039f\"],[0.2222222222222222,\"#7201a8\"],[0.3333333333333333,\"#9c179e\"],[0.4444444444444444,\"#bd3786\"],[0.5555555555555556,\"#d8576b\"],[0.6666666666666666,\"#ed7953\"],[0.7777777777777778,\"#fb9f3a\"],[0.8888888888888888,\"#fdca26\"],[1.0,\"#f0f921\"]],\"type\":\"surface\"}],\"table\":[{\"cells\":{\"fill\":{\"color\":\"#EBF0F8\"},\"line\":{\"color\":\"white\"}},\"header\":{\"fill\":{\"color\":\"#C8D4E3\"},\"line\":{\"color\":\"white\"}},\"type\":\"table\"}]},\"layout\":{\"annotationdefaults\":{\"arrowcolor\":\"#2a3f5f\",\"arrowhead\":0,\"arrowwidth\":1},\"autotypenumbers\":\"strict\",\"coloraxis\":{\"colorbar\":{\"outlinewidth\":0,\"ticks\":\"\"}},\"colorscale\":{\"diverging\":[[0,\"#8e0152\"],[0.1,\"#c51b7d\"],[0.2,\"#de77ae\"],[0.3,\"#f1b6da\"],[0.4,\"#fde0ef\"],[0.5,\"#f7f7f7\"],[0.6,\"#e6f5d0\"],[0.7,\"#b8e186\"],[0.8,\"#7fbc41\"],[0.9,\"#4d9221\"],[1,\"#276419\"]],\"sequential\":[[0.0,\"#0d0887\"],[0.1111111111111111,\"#46039f\"],[0.2222222222222222,\"#7201a8\"],[0.3333333333333333,\"#9c179e\"],[0.4444444444444444,\"#bd3786\"],[0.5555555555555556,\"#d8576b\"],[0.6666666666666666,\"#ed7953\"],[0.7777777777777778,\"#fb9f3a\"],[0.8888888888888888,\"#fdca26\"],[1.0,\"#f0f921\"]],\"sequentialminus\":[[0.0,\"#0d0887\"],[0.1111111111111111,\"#46039f\"],[0.2222222222222222,\"#7201a8\"],[0.3333333333333333,\"#9c179e\"],[0.4444444444444444,\"#bd3786\"],[0.5555555555555556,\"#d8576b\"],[0.6666666666666666,\"#ed7953\"],[0.7777777777777778,\"#fb9f3a\"],[0.8888888888888888,\"#fdca26\"],[1.0,\"#f0f921\"]]},\"colorway\":[\"#636efa\",\"#EF553B\",\"#00cc96\",\"#ab63fa\",\"#FFA15A\",\"#19d3f3\",\"#FF6692\",\"#B6E880\",\"#FF97FF\",\"#FECB52\"],\"font\":{\"color\":\"#2a3f5f\"},\"geo\":{\"bgcolor\":\"white\",\"lakecolor\":\"white\",\"landcolor\":\"#E5ECF6\",\"showlakes\":true,\"showland\":true,\"subunitcolor\":\"white\"},\"hoverlabel\":{\"align\":\"left\"},\"hovermode\":\"closest\",\"mapbox\":{\"style\":\"light\"},\"paper_bgcolor\":\"white\",\"plot_bgcolor\":\"#E5ECF6\",\"polar\":{\"angularaxis\":{\"gridcolor\":\"white\",\"linecolor\":\"white\",\"ticks\":\"\"},\"bgcolor\":\"#E5ECF6\",\"radialaxis\":{\"gridcolor\":\"white\",\"linecolor\":\"white\",\"ticks\":\"\"}},\"scene\":{\"xaxis\":{\"backgroundcolor\":\"#E5ECF6\",\"gridcolor\":\"white\",\"gridwidth\":2,\"linecolor\":\"white\",\"showbackground\":true,\"ticks\":\"\",\"zerolinecolor\":\"white\"},\"yaxis\":{\"backgroundcolor\":\"#E5ECF6\",\"gridcolor\":\"white\",\"gridwidth\":2,\"linecolor\":\"white\",\"showbackground\":true,\"ticks\":\"\",\"zerolinecolor\":\"white\"},\"zaxis\":{\"backgroundcolor\":\"#E5ECF6\",\"gridcolor\":\"white\",\"gridwidth\":2,\"linecolor\":\"white\",\"showbackground\":true,\"ticks\":\"\",\"zerolinecolor\":\"white\"}},\"shapedefaults\":{\"line\":{\"color\":\"#2a3f5f\"}},\"ternary\":{\"aaxis\":{\"gridcolor\":\"white\",\"linecolor\":\"white\",\"ticks\":\"\"},\"baxis\":{\"gridcolor\":\"white\",\"linecolor\":\"white\",\"ticks\":\"\"},\"bgcolor\":\"#E5ECF6\",\"caxis\":{\"gridcolor\":\"white\",\"linecolor\":\"white\",\"ticks\":\"\"}},\"title\":{\"x\":0.05},\"xaxis\":{\"automargin\":true,\"gridcolor\":\"white\",\"linecolor\":\"white\",\"ticks\":\"\",\"title\":{\"standoff\":15},\"zerolinecolor\":\"white\",\"zerolinewidth\":2},\"yaxis\":{\"automargin\":true,\"gridcolor\":\"white\",\"linecolor\":\"white\",\"ticks\":\"\",\"title\":{\"standoff\":15},\"zerolinecolor\":\"white\",\"zerolinewidth\":2}}},\"title\":{\"font\":{\"color\":\"#4D5663\"}},\"xaxis\":{\"gridcolor\":\"#E1E5ED\",\"showgrid\":true,\"tickfont\":{\"color\":\"#4D5663\"},\"title\":{\"font\":{\"color\":\"#4D5663\"},\"text\":\"\"},\"zerolinecolor\":\"#E1E5ED\"},\"yaxis\":{\"gridcolor\":\"#E1E5ED\",\"showgrid\":true,\"tickfont\":{\"color\":\"#4D5663\"},\"title\":{\"font\":{\"color\":\"#4D5663\"},\"text\":\"\"},\"zerolinecolor\":\"#E1E5ED\"}},                        {\"showLink\": true, \"linkText\": \"Export to plot.ly\", \"plotlyServerURL\": \"https://plot.ly\", \"responsive\": true}                    ).then(function(){\n",
       "                            \n",
       "var gd = document.getElementById('0a228df2-d294-4cb4-8769-a2b948769769');\n",
       "var x = new MutationObserver(function (mutations, observer) {{\n",
       "        var display = window.getComputedStyle(gd).display;\n",
       "        if (!display || display === 'none') {{\n",
       "            console.log([gd, 'removed!']);\n",
       "            Plotly.purge(gd);\n",
       "            observer.disconnect();\n",
       "        }}\n",
       "}});\n",
       "\n",
       "// Listen for the removal of the full notebook cells\n",
       "var notebookContainer = gd.closest('#notebook-container');\n",
       "if (notebookContainer) {{\n",
       "    x.observe(notebookContainer, {childList: true});\n",
       "}}\n",
       "\n",
       "// Listen for the clearing of the current output cell\n",
       "var outputEl = gd.closest('.output');\n",
       "if (outputEl) {{\n",
       "    x.observe(outputEl, {childList: true});\n",
       "}}\n",
       "\n",
       "                        })                };                });            </script>        </div>"
      ]
     },
     "metadata": {},
     "output_type": "display_data"
    }
   ],
   "source": [
    "df2.iplot(kind='surface',colorscale='RdylBu')"
   ]
  },
  {
   "cell_type": "code",
   "execution_count": 41,
   "id": "765d6cab-d797-470e-bee0-cc1fc5564503",
   "metadata": {},
   "outputs": [
    {
     "data": {
      "application/vnd.plotly.v1+json": {
       "config": {
        "linkText": "Export to plot.ly",
        "plotlyServerURL": "https://plot.ly",
        "showLink": true
       },
       "data": [
        {
         "histfunc": "count",
         "histnorm": "",
         "marker": {
          "color": "rgba(255, 153, 51, 1.0)",
          "line": {
           "color": "#4D5663",
           "width": 1.3
          }
         },
         "name": "A",
         "nbinsx": 30,
         "opacity": 0.8,
         "orientation": "v",
         "type": "histogram",
         "x": [
          -0.3335804497762339,
          0.00841020770573747,
          -0.2452486455726726,
          1.7550835292323625,
          -0.4124142608843169,
          0.08397452866741234,
          -1.3865662695296521,
          -0.5536159230768968,
          -0.6159733733331406,
          0.5351203760401979,
          0.6219906888015769,
          2.0936218973984544,
          0.44108665014911896,
          -0.416230235006025,
          0.9331183949846429,
          -0.7216605612758971,
          1.3390572677191115,
          0.6496069974394884,
          -0.7901367515093446,
          -0.3422059764483797,
          0.5373701215532392,
          1.7747753169553424,
          0.419529041757397,
          -0.10904889995774433,
          -2.0263048218045543,
          0.21622836105376003,
          -0.821922543917067,
          1.842131241717987,
          -1.265365165032051,
          0.8479452711578469,
          0.6156098386466577,
          0.15867622180468346,
          -1.238977024083961,
          0.7335419753028098,
          0.0512616782988629,
          1.4495571762852764,
          -0.4496751518589838,
          -0.330172000624211,
          -0.8929792515250653,
          2.205175209714804,
          -0.4538635156588506,
          2.2037334537380286,
          0.7417458154644216,
          -0.01924531610158195,
          0.5149129505912265,
          -0.8559027787490496,
          -1.2359804048231446,
          2.073959092442634,
          0.6912579520973061,
          -1.108283786227255,
          0.16942813801626458,
          -2.781043939921188,
          0.0885804145925267,
          -1.756318606323291,
          1.274483140059975,
          0.8438741973237249,
          1.043238681028487,
          0.8742390843303314,
          1.4704877215499943,
          -0.6540245721736407,
          -1.1275658316510941,
          0.8367878573651504,
          -0.7350001997710474,
          -0.11503001732679545,
          -0.1920425691420273,
          1.3367611859539756,
          0.31544010241881365,
          0.30833485067338146,
          -0.30446858143129724,
          0.09901607880407506,
          0.3280088371532466,
          0.3003499482732641,
          0.27812375549087964,
          -0.6621938785792102,
          0.5884359898684891,
          -1.4687335662247434,
          1.5961345007591994,
          -0.2519890600562586,
          1.5557835869903025,
          0.04462193969423287,
          0.15083076444693133,
          0.4082980181436096,
          -0.678370760026145,
          -0.0750391155180131,
          -1.0668798705652038,
          -0.9875792933502123,
          -2.7515517426231964,
          1.6668491718400256,
          -2.011343087200451,
          0.22068583475438497,
          1.0427267249140537,
          0.8666554855258551,
          1.4876746522797113,
          -0.12935479445954817,
          0.544861458818753,
          0.2590464861926635,
          -0.29858348018470654,
          1.0157638005717105,
          -1.2125999335057973,
          -0.7869056414224349
         ]
        }
       ],
       "layout": {
        "autosize": true,
        "barmode": "overlay",
        "legend": {
         "bgcolor": "#F5F6F9",
         "font": {
          "color": "#4D5663"
         }
        },
        "paper_bgcolor": "#F5F6F9",
        "plot_bgcolor": "#F5F6F9",
        "template": {
         "data": {
          "bar": [
           {
            "error_x": {
             "color": "#2a3f5f"
            },
            "error_y": {
             "color": "#2a3f5f"
            },
            "marker": {
             "line": {
              "color": "#E5ECF6",
              "width": 0.5
             },
             "pattern": {
              "fillmode": "overlay",
              "size": 10,
              "solidity": 0.2
             }
            },
            "type": "bar"
           }
          ],
          "barpolar": [
           {
            "marker": {
             "line": {
              "color": "#E5ECF6",
              "width": 0.5
             },
             "pattern": {
              "fillmode": "overlay",
              "size": 10,
              "solidity": 0.2
             }
            },
            "type": "barpolar"
           }
          ],
          "carpet": [
           {
            "aaxis": {
             "endlinecolor": "#2a3f5f",
             "gridcolor": "white",
             "linecolor": "white",
             "minorgridcolor": "white",
             "startlinecolor": "#2a3f5f"
            },
            "baxis": {
             "endlinecolor": "#2a3f5f",
             "gridcolor": "white",
             "linecolor": "white",
             "minorgridcolor": "white",
             "startlinecolor": "#2a3f5f"
            },
            "type": "carpet"
           }
          ],
          "choropleth": [
           {
            "colorbar": {
             "outlinewidth": 0,
             "ticks": ""
            },
            "type": "choropleth"
           }
          ],
          "contour": [
           {
            "colorbar": {
             "outlinewidth": 0,
             "ticks": ""
            },
            "colorscale": [
             [
              0,
              "#0d0887"
             ],
             [
              0.1111111111111111,
              "#46039f"
             ],
             [
              0.2222222222222222,
              "#7201a8"
             ],
             [
              0.3333333333333333,
              "#9c179e"
             ],
             [
              0.4444444444444444,
              "#bd3786"
             ],
             [
              0.5555555555555556,
              "#d8576b"
             ],
             [
              0.6666666666666666,
              "#ed7953"
             ],
             [
              0.7777777777777778,
              "#fb9f3a"
             ],
             [
              0.8888888888888888,
              "#fdca26"
             ],
             [
              1,
              "#f0f921"
             ]
            ],
            "type": "contour"
           }
          ],
          "contourcarpet": [
           {
            "colorbar": {
             "outlinewidth": 0,
             "ticks": ""
            },
            "type": "contourcarpet"
           }
          ],
          "heatmap": [
           {
            "colorbar": {
             "outlinewidth": 0,
             "ticks": ""
            },
            "colorscale": [
             [
              0,
              "#0d0887"
             ],
             [
              0.1111111111111111,
              "#46039f"
             ],
             [
              0.2222222222222222,
              "#7201a8"
             ],
             [
              0.3333333333333333,
              "#9c179e"
             ],
             [
              0.4444444444444444,
              "#bd3786"
             ],
             [
              0.5555555555555556,
              "#d8576b"
             ],
             [
              0.6666666666666666,
              "#ed7953"
             ],
             [
              0.7777777777777778,
              "#fb9f3a"
             ],
             [
              0.8888888888888888,
              "#fdca26"
             ],
             [
              1,
              "#f0f921"
             ]
            ],
            "type": "heatmap"
           }
          ],
          "heatmapgl": [
           {
            "colorbar": {
             "outlinewidth": 0,
             "ticks": ""
            },
            "colorscale": [
             [
              0,
              "#0d0887"
             ],
             [
              0.1111111111111111,
              "#46039f"
             ],
             [
              0.2222222222222222,
              "#7201a8"
             ],
             [
              0.3333333333333333,
              "#9c179e"
             ],
             [
              0.4444444444444444,
              "#bd3786"
             ],
             [
              0.5555555555555556,
              "#d8576b"
             ],
             [
              0.6666666666666666,
              "#ed7953"
             ],
             [
              0.7777777777777778,
              "#fb9f3a"
             ],
             [
              0.8888888888888888,
              "#fdca26"
             ],
             [
              1,
              "#f0f921"
             ]
            ],
            "type": "heatmapgl"
           }
          ],
          "histogram": [
           {
            "marker": {
             "pattern": {
              "fillmode": "overlay",
              "size": 10,
              "solidity": 0.2
             }
            },
            "type": "histogram"
           }
          ],
          "histogram2d": [
           {
            "colorbar": {
             "outlinewidth": 0,
             "ticks": ""
            },
            "colorscale": [
             [
              0,
              "#0d0887"
             ],
             [
              0.1111111111111111,
              "#46039f"
             ],
             [
              0.2222222222222222,
              "#7201a8"
             ],
             [
              0.3333333333333333,
              "#9c179e"
             ],
             [
              0.4444444444444444,
              "#bd3786"
             ],
             [
              0.5555555555555556,
              "#d8576b"
             ],
             [
              0.6666666666666666,
              "#ed7953"
             ],
             [
              0.7777777777777778,
              "#fb9f3a"
             ],
             [
              0.8888888888888888,
              "#fdca26"
             ],
             [
              1,
              "#f0f921"
             ]
            ],
            "type": "histogram2d"
           }
          ],
          "histogram2dcontour": [
           {
            "colorbar": {
             "outlinewidth": 0,
             "ticks": ""
            },
            "colorscale": [
             [
              0,
              "#0d0887"
             ],
             [
              0.1111111111111111,
              "#46039f"
             ],
             [
              0.2222222222222222,
              "#7201a8"
             ],
             [
              0.3333333333333333,
              "#9c179e"
             ],
             [
              0.4444444444444444,
              "#bd3786"
             ],
             [
              0.5555555555555556,
              "#d8576b"
             ],
             [
              0.6666666666666666,
              "#ed7953"
             ],
             [
              0.7777777777777778,
              "#fb9f3a"
             ],
             [
              0.8888888888888888,
              "#fdca26"
             ],
             [
              1,
              "#f0f921"
             ]
            ],
            "type": "histogram2dcontour"
           }
          ],
          "mesh3d": [
           {
            "colorbar": {
             "outlinewidth": 0,
             "ticks": ""
            },
            "type": "mesh3d"
           }
          ],
          "parcoords": [
           {
            "line": {
             "colorbar": {
              "outlinewidth": 0,
              "ticks": ""
             }
            },
            "type": "parcoords"
           }
          ],
          "pie": [
           {
            "automargin": true,
            "type": "pie"
           }
          ],
          "scatter": [
           {
            "fillpattern": {
             "fillmode": "overlay",
             "size": 10,
             "solidity": 0.2
            },
            "type": "scatter"
           }
          ],
          "scatter3d": [
           {
            "line": {
             "colorbar": {
              "outlinewidth": 0,
              "ticks": ""
             }
            },
            "marker": {
             "colorbar": {
              "outlinewidth": 0,
              "ticks": ""
             }
            },
            "type": "scatter3d"
           }
          ],
          "scattercarpet": [
           {
            "marker": {
             "colorbar": {
              "outlinewidth": 0,
              "ticks": ""
             }
            },
            "type": "scattercarpet"
           }
          ],
          "scattergeo": [
           {
            "marker": {
             "colorbar": {
              "outlinewidth": 0,
              "ticks": ""
             }
            },
            "type": "scattergeo"
           }
          ],
          "scattergl": [
           {
            "marker": {
             "colorbar": {
              "outlinewidth": 0,
              "ticks": ""
             }
            },
            "type": "scattergl"
           }
          ],
          "scattermapbox": [
           {
            "marker": {
             "colorbar": {
              "outlinewidth": 0,
              "ticks": ""
             }
            },
            "type": "scattermapbox"
           }
          ],
          "scatterpolar": [
           {
            "marker": {
             "colorbar": {
              "outlinewidth": 0,
              "ticks": ""
             }
            },
            "type": "scatterpolar"
           }
          ],
          "scatterpolargl": [
           {
            "marker": {
             "colorbar": {
              "outlinewidth": 0,
              "ticks": ""
             }
            },
            "type": "scatterpolargl"
           }
          ],
          "scatterternary": [
           {
            "marker": {
             "colorbar": {
              "outlinewidth": 0,
              "ticks": ""
             }
            },
            "type": "scatterternary"
           }
          ],
          "surface": [
           {
            "colorbar": {
             "outlinewidth": 0,
             "ticks": ""
            },
            "colorscale": [
             [
              0,
              "#0d0887"
             ],
             [
              0.1111111111111111,
              "#46039f"
             ],
             [
              0.2222222222222222,
              "#7201a8"
             ],
             [
              0.3333333333333333,
              "#9c179e"
             ],
             [
              0.4444444444444444,
              "#bd3786"
             ],
             [
              0.5555555555555556,
              "#d8576b"
             ],
             [
              0.6666666666666666,
              "#ed7953"
             ],
             [
              0.7777777777777778,
              "#fb9f3a"
             ],
             [
              0.8888888888888888,
              "#fdca26"
             ],
             [
              1,
              "#f0f921"
             ]
            ],
            "type": "surface"
           }
          ],
          "table": [
           {
            "cells": {
             "fill": {
              "color": "#EBF0F8"
             },
             "line": {
              "color": "white"
             }
            },
            "header": {
             "fill": {
              "color": "#C8D4E3"
             },
             "line": {
              "color": "white"
             }
            },
            "type": "table"
           }
          ]
         },
         "layout": {
          "annotationdefaults": {
           "arrowcolor": "#2a3f5f",
           "arrowhead": 0,
           "arrowwidth": 1
          },
          "autotypenumbers": "strict",
          "coloraxis": {
           "colorbar": {
            "outlinewidth": 0,
            "ticks": ""
           }
          },
          "colorscale": {
           "diverging": [
            [
             0,
             "#8e0152"
            ],
            [
             0.1,
             "#c51b7d"
            ],
            [
             0.2,
             "#de77ae"
            ],
            [
             0.3,
             "#f1b6da"
            ],
            [
             0.4,
             "#fde0ef"
            ],
            [
             0.5,
             "#f7f7f7"
            ],
            [
             0.6,
             "#e6f5d0"
            ],
            [
             0.7,
             "#b8e186"
            ],
            [
             0.8,
             "#7fbc41"
            ],
            [
             0.9,
             "#4d9221"
            ],
            [
             1,
             "#276419"
            ]
           ],
           "sequential": [
            [
             0,
             "#0d0887"
            ],
            [
             0.1111111111111111,
             "#46039f"
            ],
            [
             0.2222222222222222,
             "#7201a8"
            ],
            [
             0.3333333333333333,
             "#9c179e"
            ],
            [
             0.4444444444444444,
             "#bd3786"
            ],
            [
             0.5555555555555556,
             "#d8576b"
            ],
            [
             0.6666666666666666,
             "#ed7953"
            ],
            [
             0.7777777777777778,
             "#fb9f3a"
            ],
            [
             0.8888888888888888,
             "#fdca26"
            ],
            [
             1,
             "#f0f921"
            ]
           ],
           "sequentialminus": [
            [
             0,
             "#0d0887"
            ],
            [
             0.1111111111111111,
             "#46039f"
            ],
            [
             0.2222222222222222,
             "#7201a8"
            ],
            [
             0.3333333333333333,
             "#9c179e"
            ],
            [
             0.4444444444444444,
             "#bd3786"
            ],
            [
             0.5555555555555556,
             "#d8576b"
            ],
            [
             0.6666666666666666,
             "#ed7953"
            ],
            [
             0.7777777777777778,
             "#fb9f3a"
            ],
            [
             0.8888888888888888,
             "#fdca26"
            ],
            [
             1,
             "#f0f921"
            ]
           ]
          },
          "colorway": [
           "#636efa",
           "#EF553B",
           "#00cc96",
           "#ab63fa",
           "#FFA15A",
           "#19d3f3",
           "#FF6692",
           "#B6E880",
           "#FF97FF",
           "#FECB52"
          ],
          "font": {
           "color": "#2a3f5f"
          },
          "geo": {
           "bgcolor": "white",
           "lakecolor": "white",
           "landcolor": "#E5ECF6",
           "showlakes": true,
           "showland": true,
           "subunitcolor": "white"
          },
          "hoverlabel": {
           "align": "left"
          },
          "hovermode": "closest",
          "mapbox": {
           "style": "light"
          },
          "paper_bgcolor": "white",
          "plot_bgcolor": "#E5ECF6",
          "polar": {
           "angularaxis": {
            "gridcolor": "white",
            "linecolor": "white",
            "ticks": ""
           },
           "bgcolor": "#E5ECF6",
           "radialaxis": {
            "gridcolor": "white",
            "linecolor": "white",
            "ticks": ""
           }
          },
          "scene": {
           "xaxis": {
            "backgroundcolor": "#E5ECF6",
            "gridcolor": "white",
            "gridwidth": 2,
            "linecolor": "white",
            "showbackground": true,
            "ticks": "",
            "zerolinecolor": "white"
           },
           "yaxis": {
            "backgroundcolor": "#E5ECF6",
            "gridcolor": "white",
            "gridwidth": 2,
            "linecolor": "white",
            "showbackground": true,
            "ticks": "",
            "zerolinecolor": "white"
           },
           "zaxis": {
            "backgroundcolor": "#E5ECF6",
            "gridcolor": "white",
            "gridwidth": 2,
            "linecolor": "white",
            "showbackground": true,
            "ticks": "",
            "zerolinecolor": "white"
           }
          },
          "shapedefaults": {
           "line": {
            "color": "#2a3f5f"
           }
          },
          "ternary": {
           "aaxis": {
            "gridcolor": "white",
            "linecolor": "white",
            "ticks": ""
           },
           "baxis": {
            "gridcolor": "white",
            "linecolor": "white",
            "ticks": ""
           },
           "bgcolor": "#E5ECF6",
           "caxis": {
            "gridcolor": "white",
            "linecolor": "white",
            "ticks": ""
           }
          },
          "title": {
           "x": 0.05
          },
          "xaxis": {
           "automargin": true,
           "gridcolor": "white",
           "linecolor": "white",
           "ticks": "",
           "title": {
            "standoff": 15
           },
           "zerolinecolor": "white",
           "zerolinewidth": 2
          },
          "yaxis": {
           "automargin": true,
           "gridcolor": "white",
           "linecolor": "white",
           "ticks": "",
           "title": {
            "standoff": 15
           },
           "zerolinecolor": "white",
           "zerolinewidth": 2
          }
         }
        },
        "title": {
         "font": {
          "color": "#4D5663"
         }
        },
        "xaxis": {
         "autorange": true,
         "gridcolor": "#E1E5ED",
         "range": [
          -2.8,
          2.3999999999999995
         ],
         "showgrid": true,
         "tickfont": {
          "color": "#4D5663"
         },
         "title": {
          "font": {
           "color": "#4D5663"
          },
          "text": ""
         },
         "type": "linear",
         "zerolinecolor": "#E1E5ED"
        },
        "yaxis": {
         "autorange": true,
         "gridcolor": "#E1E5ED",
         "range": [
          0,
          9.473684210526315
         ],
         "showgrid": true,
         "tickfont": {
          "color": "#4D5663"
         },
         "title": {
          "font": {
           "color": "#4D5663"
          },
          "text": ""
         },
         "zerolinecolor": "#E1E5ED"
        }
       }
      },
      "image/png": "[encoded data removed]",
      "text/html": [
       "<div>                            <div id=\"613d147b-f3d6-4fd9-8481-78dba1047f10\" class=\"plotly-graph-div\" style=\"height:525px; width:100%;\"></div>            <script type=\"text/javascript\">                require([\"plotly\"], function(Plotly) {                    window.PLOTLYENV=window.PLOTLYENV || {};\n",
       "                    window.PLOTLYENV.BASE_URL='https://plot.ly';                                    if (document.getElementById(\"613d147b-f3d6-4fd9-8481-78dba1047f10\")) {                    Plotly.newPlot(                        \"613d147b-f3d6-4fd9-8481-78dba1047f10\",                        [{\"histfunc\":\"count\",\"histnorm\":\"\",\"marker\":{\"color\":\"rgba(255, 153, 51, 1.0)\",\"line\":{\"color\":\"#4D5663\",\"width\":1.3}},\"name\":\"A\",\"nbinsx\":30,\"opacity\":0.8,\"orientation\":\"v\",\"x\":[-0.3335804497762339,0.00841020770573747,-0.2452486455726726,1.7550835292323625,-0.4124142608843169,0.08397452866741234,-1.3865662695296521,-0.5536159230768968,-0.6159733733331406,0.5351203760401979,0.6219906888015769,2.0936218973984544,0.44108665014911896,-0.416230235006025,0.9331183949846429,-0.7216605612758971,1.3390572677191115,0.6496069974394884,-0.7901367515093446,-0.3422059764483797,0.5373701215532392,1.7747753169553424,0.419529041757397,-0.10904889995774433,-2.0263048218045543,0.21622836105376003,-0.821922543917067,1.842131241717987,-1.265365165032051,0.8479452711578469,0.6156098386466577,0.15867622180468346,-1.238977024083961,0.7335419753028098,0.0512616782988629,1.4495571762852764,-0.4496751518589838,-0.330172000624211,-0.8929792515250653,2.205175209714804,-0.4538635156588506,2.2037334537380286,0.7417458154644216,-0.01924531610158195,0.5149129505912265,-0.8559027787490496,-1.2359804048231446,2.073959092442634,0.6912579520973061,-1.108283786227255,0.16942813801626458,-2.781043939921188,0.0885804145925267,-1.756318606323291,1.274483140059975,0.8438741973237249,1.043238681028487,0.8742390843303314,1.4704877215499943,-0.6540245721736407,-1.1275658316510941,0.8367878573651504,-0.7350001997710474,-0.11503001732679545,-0.1920425691420273,1.3367611859539756,0.31544010241881365,0.30833485067338146,-0.30446858143129724,0.09901607880407506,0.3280088371532466,0.3003499482732641,0.27812375549087964,-0.6621938785792102,0.5884359898684891,-1.4687335662247434,1.5961345007591994,-0.2519890600562586,1.5557835869903025,0.04462193969423287,0.15083076444693133,0.4082980181436096,-0.678370760026145,-0.0750391155180131,-1.0668798705652038,-0.9875792933502123,-2.7515517426231964,1.6668491718400256,-2.011343087200451,0.22068583475438497,1.0427267249140537,0.8666554855258551,1.4876746522797113,-0.12935479445954817,0.544861458818753,0.2590464861926635,-0.29858348018470654,1.0157638005717105,-1.2125999335057973,-0.7869056414224349],\"type\":\"histogram\"}],                        {\"barmode\":\"overlay\",\"legend\":{\"bgcolor\":\"#F5F6F9\",\"font\":{\"color\":\"#4D5663\"}},\"paper_bgcolor\":\"#F5F6F9\",\"plot_bgcolor\":\"#F5F6F9\",\"template\":{\"data\":{\"barpolar\":[{\"marker\":{\"line\":{\"color\":\"#E5ECF6\",\"width\":0.5},\"pattern\":{\"fillmode\":\"overlay\",\"size\":10,\"solidity\":0.2}},\"type\":\"barpolar\"}],\"bar\":[{\"error_x\":{\"color\":\"#2a3f5f\"},\"error_y\":{\"color\":\"#2a3f5f\"},\"marker\":{\"line\":{\"color\":\"#E5ECF6\",\"width\":0.5},\"pattern\":{\"fillmode\":\"overlay\",\"size\":10,\"solidity\":0.2}},\"type\":\"bar\"}],\"carpet\":[{\"aaxis\":{\"endlinecolor\":\"#2a3f5f\",\"gridcolor\":\"white\",\"linecolor\":\"white\",\"minorgridcolor\":\"white\",\"startlinecolor\":\"#2a3f5f\"},\"baxis\":{\"endlinecolor\":\"#2a3f5f\",\"gridcolor\":\"white\",\"linecolor\":\"white\",\"minorgridcolor\":\"white\",\"startlinecolor\":\"#2a3f5f\"},\"type\":\"carpet\"}],\"choropleth\":[{\"colorbar\":{\"outlinewidth\":0,\"ticks\":\"\"},\"type\":\"choropleth\"}],\"contourcarpet\":[{\"colorbar\":{\"outlinewidth\":0,\"ticks\":\"\"},\"type\":\"contourcarpet\"}],\"contour\":[{\"colorbar\":{\"outlinewidth\":0,\"ticks\":\"\"},\"colorscale\":[[0.0,\"#0d0887\"],[0.1111111111111111,\"#46039f\"],[0.2222222222222222,\"#7201a8\"],[0.3333333333333333,\"#9c179e\"],[0.4444444444444444,\"#bd3786\"],[0.5555555555555556,\"#d8576b\"],[0.6666666666666666,\"#ed7953\"],[0.7777777777777778,\"#fb9f3a\"],[0.8888888888888888,\"#fdca26\"],[1.0,\"#f0f921\"]],\"type\":\"contour\"}],\"heatmapgl\":[{\"colorbar\":{\"outlinewidth\":0,\"ticks\":\"\"},\"colorscale\":[[0.0,\"#0d0887\"],[0.1111111111111111,\"#46039f\"],[0.2222222222222222,\"#7201a8\"],[0.3333333333333333,\"#9c179e\"],[0.4444444444444444,\"#bd3786\"],[0.5555555555555556,\"#d8576b\"],[0.6666666666666666,\"#ed7953\"],[0.7777777777777778,\"#fb9f3a\"],[0.8888888888888888,\"#fdca26\"],[1.0,\"#f0f921\"]],\"type\":\"heatmapgl\"}],\"heatmap\":[{\"colorbar\":{\"outlinewidth\":0,\"ticks\":\"\"},\"colorscale\":[[0.0,\"#0d0887\"],[0.1111111111111111,\"#46039f\"],[0.2222222222222222,\"#7201a8\"],[0.3333333333333333,\"#9c179e\"],[0.4444444444444444,\"#bd3786\"],[0.5555555555555556,\"#d8576b\"],[0.6666666666666666,\"#ed7953\"],[0.7777777777777778,\"#fb9f3a\"],[0.8888888888888888,\"#fdca26\"],[1.0,\"#f0f921\"]],\"type\":\"heatmap\"}],\"histogram2dcontour\":[{\"colorbar\":{\"outlinewidth\":0,\"ticks\":\"\"},\"colorscale\":[[0.0,\"#0d0887\"],[0.1111111111111111,\"#46039f\"],[0.2222222222222222,\"#7201a8\"],[0.3333333333333333,\"#9c179e\"],[0.4444444444444444,\"#bd3786\"],[0.5555555555555556,\"#d8576b\"],[0.6666666666666666,\"#ed7953\"],[0.7777777777777778,\"#fb9f3a\"],[0.8888888888888888,\"#fdca26\"],[1.0,\"#f0f921\"]],\"type\":\"histogram2dcontour\"}],\"histogram2d\":[{\"colorbar\":{\"outlinewidth\":0,\"ticks\":\"\"},\"colorscale\":[[0.0,\"#0d0887\"],[0.1111111111111111,\"#46039f\"],[0.2222222222222222,\"#7201a8\"],[0.3333333333333333,\"#9c179e\"],[0.4444444444444444,\"#bd3786\"],[0.5555555555555556,\"#d8576b\"],[0.6666666666666666,\"#ed7953\"],[0.7777777777777778,\"#fb9f3a\"],[0.8888888888888888,\"#fdca26\"],[1.0,\"#f0f921\"]],\"type\":\"histogram2d\"}],\"histogram\":[{\"marker\":{\"pattern\":{\"fillmode\":\"overlay\",\"size\":10,\"solidity\":0.2}},\"type\":\"histogram\"}],\"mesh3d\":[{\"colorbar\":{\"outlinewidth\":0,\"ticks\":\"\"},\"type\":\"mesh3d\"}],\"parcoords\":[{\"line\":{\"colorbar\":{\"outlinewidth\":0,\"ticks\":\"\"}},\"type\":\"parcoords\"}],\"pie\":[{\"automargin\":true,\"type\":\"pie\"}],\"scatter3d\":[{\"line\":{\"colorbar\":{\"outlinewidth\":0,\"ticks\":\"\"}},\"marker\":{\"colorbar\":{\"outlinewidth\":0,\"ticks\":\"\"}},\"type\":\"scatter3d\"}],\"scattercarpet\":[{\"marker\":{\"colorbar\":{\"outlinewidth\":0,\"ticks\":\"\"}},\"type\":\"scattercarpet\"}],\"scattergeo\":[{\"marker\":{\"colorbar\":{\"outlinewidth\":0,\"ticks\":\"\"}},\"type\":\"scattergeo\"}],\"scattergl\":[{\"marker\":{\"colorbar\":{\"outlinewidth\":0,\"ticks\":\"\"}},\"type\":\"scattergl\"}],\"scattermapbox\":[{\"marker\":{\"colorbar\":{\"outlinewidth\":0,\"ticks\":\"\"}},\"type\":\"scattermapbox\"}],\"scatterpolargl\":[{\"marker\":{\"colorbar\":{\"outlinewidth\":0,\"ticks\":\"\"}},\"type\":\"scatterpolargl\"}],\"scatterpolar\":[{\"marker\":{\"colorbar\":{\"outlinewidth\":0,\"ticks\":\"\"}},\"type\":\"scatterpolar\"}],\"scatter\":[{\"fillpattern\":{\"fillmode\":\"overlay\",\"size\":10,\"solidity\":0.2},\"type\":\"scatter\"}],\"scatterternary\":[{\"marker\":{\"colorbar\":{\"outlinewidth\":0,\"ticks\":\"\"}},\"type\":\"scatterternary\"}],\"surface\":[{\"colorbar\":{\"outlinewidth\":0,\"ticks\":\"\"},\"colorscale\":[[0.0,\"#0d0887\"],[0.1111111111111111,\"#46039f\"],[0.2222222222222222,\"#7201a8\"],[0.3333333333333333,\"#9c179e\"],[0.4444444444444444,\"#bd3786\"],[0.5555555555555556,\"#d8576b\"],[0.6666666666666666,\"#ed7953\"],[0.7777777777777778,\"#fb9f3a\"],[0.8888888888888888,\"#fdca26\"],[1.0,\"#f0f921\"]],\"type\":\"surface\"}],\"table\":[{\"cells\":{\"fill\":{\"color\":\"#EBF0F8\"},\"line\":{\"color\":\"white\"}},\"header\":{\"fill\":{\"color\":\"#C8D4E3\"},\"line\":{\"color\":\"white\"}},\"type\":\"table\"}]},\"layout\":{\"annotationdefaults\":{\"arrowcolor\":\"#2a3f5f\",\"arrowhead\":0,\"arrowwidth\":1},\"autotypenumbers\":\"strict\",\"coloraxis\":{\"colorbar\":{\"outlinewidth\":0,\"ticks\":\"\"}},\"colorscale\":{\"diverging\":[[0,\"#8e0152\"],[0.1,\"#c51b7d\"],[0.2,\"#de77ae\"],[0.3,\"#f1b6da\"],[0.4,\"#fde0ef\"],[0.5,\"#f7f7f7\"],[0.6,\"#e6f5d0\"],[0.7,\"#b8e186\"],[0.8,\"#7fbc41\"],[0.9,\"#4d9221\"],[1,\"#276419\"]],\"sequential\":[[0.0,\"#0d0887\"],[0.1111111111111111,\"#46039f\"],[0.2222222222222222,\"#7201a8\"],[0.3333333333333333,\"#9c179e\"],[0.4444444444444444,\"#bd3786\"],[0.5555555555555556,\"#d8576b\"],[0.6666666666666666,\"#ed7953\"],[0.7777777777777778,\"#fb9f3a\"],[0.8888888888888888,\"#fdca26\"],[1.0,\"#f0f921\"]],\"sequentialminus\":[[0.0,\"#0d0887\"],[0.1111111111111111,\"#46039f\"],[0.2222222222222222,\"#7201a8\"],[0.3333333333333333,\"#9c179e\"],[0.4444444444444444,\"#bd3786\"],[0.5555555555555556,\"#d8576b\"],[0.6666666666666666,\"#ed7953\"],[0.7777777777777778,\"#fb9f3a\"],[0.8888888888888888,\"#fdca26\"],[1.0,\"#f0f921\"]]},\"colorway\":[\"#636efa\",\"#EF553B\",\"#00cc96\",\"#ab63fa\",\"#FFA15A\",\"#19d3f3\",\"#FF6692\",\"#B6E880\",\"#FF97FF\",\"#FECB52\"],\"font\":{\"color\":\"#2a3f5f\"},\"geo\":{\"bgcolor\":\"white\",\"lakecolor\":\"white\",\"landcolor\":\"#E5ECF6\",\"showlakes\":true,\"showland\":true,\"subunitcolor\":\"white\"},\"hoverlabel\":{\"align\":\"left\"},\"hovermode\":\"closest\",\"mapbox\":{\"style\":\"light\"},\"paper_bgcolor\":\"white\",\"plot_bgcolor\":\"#E5ECF6\",\"polar\":{\"angularaxis\":{\"gridcolor\":\"white\",\"linecolor\":\"white\",\"ticks\":\"\"},\"bgcolor\":\"#E5ECF6\",\"radialaxis\":{\"gridcolor\":\"white\",\"linecolor\":\"white\",\"ticks\":\"\"}},\"scene\":{\"xaxis\":{\"backgroundcolor\":\"#E5ECF6\",\"gridcolor\":\"white\",\"gridwidth\":2,\"linecolor\":\"white\",\"showbackground\":true,\"ticks\":\"\",\"zerolinecolor\":\"white\"},\"yaxis\":{\"backgroundcolor\":\"#E5ECF6\",\"gridcolor\":\"white\",\"gridwidth\":2,\"linecolor\":\"white\",\"showbackground\":true,\"ticks\":\"\",\"zerolinecolor\":\"white\"},\"zaxis\":{\"backgroundcolor\":\"#E5ECF6\",\"gridcolor\":\"white\",\"gridwidth\":2,\"linecolor\":\"white\",\"showbackground\":true,\"ticks\":\"\",\"zerolinecolor\":\"white\"}},\"shapedefaults\":{\"line\":{\"color\":\"#2a3f5f\"}},\"ternary\":{\"aaxis\":{\"gridcolor\":\"white\",\"linecolor\":\"white\",\"ticks\":\"\"},\"baxis\":{\"gridcolor\":\"white\",\"linecolor\":\"white\",\"ticks\":\"\"},\"bgcolor\":\"#E5ECF6\",\"caxis\":{\"gridcolor\":\"white\",\"linecolor\":\"white\",\"ticks\":\"\"}},\"title\":{\"x\":0.05},\"xaxis\":{\"automargin\":true,\"gridcolor\":\"white\",\"linecolor\":\"white\",\"ticks\":\"\",\"title\":{\"standoff\":15},\"zerolinecolor\":\"white\",\"zerolinewidth\":2},\"yaxis\":{\"automargin\":true,\"gridcolor\":\"white\",\"linecolor\":\"white\",\"ticks\":\"\",\"title\":{\"standoff\":15},\"zerolinecolor\":\"white\",\"zerolinewidth\":2}}},\"title\":{\"font\":{\"color\":\"#4D5663\"}},\"xaxis\":{\"gridcolor\":\"#E1E5ED\",\"showgrid\":true,\"tickfont\":{\"color\":\"#4D5663\"},\"title\":{\"font\":{\"color\":\"#4D5663\"},\"text\":\"\"},\"zerolinecolor\":\"#E1E5ED\"},\"yaxis\":{\"gridcolor\":\"#E1E5ED\",\"showgrid\":true,\"tickfont\":{\"color\":\"#4D5663\"},\"title\":{\"font\":{\"color\":\"#4D5663\"},\"text\":\"\"},\"zerolinecolor\":\"#E1E5ED\"}},                        {\"showLink\": true, \"linkText\": \"Export to plot.ly\", \"plotlyServerURL\": \"https://plot.ly\", \"responsive\": true}                    ).then(function(){\n",
       "                            \n",
       "var gd = document.getElementById('613d147b-f3d6-4fd9-8481-78dba1047f10');\n",
       "var x = new MutationObserver(function (mutations, observer) {{\n",
       "        var display = window.getComputedStyle(gd).display;\n",
       "        if (!display || display === 'none') {{\n",
       "            console.log([gd, 'removed!']);\n",
       "            Plotly.purge(gd);\n",
       "            observer.disconnect();\n",
       "        }}\n",
       "}});\n",
       "\n",
       "// Listen for the removal of the full notebook cells\n",
       "var notebookContainer = gd.closest('#notebook-container');\n",
       "if (notebookContainer) {{\n",
       "    x.observe(notebookContainer, {childList: true});\n",
       "}}\n",
       "\n",
       "// Listen for the clearing of the current output cell\n",
       "var outputEl = gd.closest('.output');\n",
       "if (outputEl) {{\n",
       "    x.observe(outputEl, {childList: true});\n",
       "}}\n",
       "\n",
       "                        })                };                });            </script>        </div>"
      ]
     },
     "metadata": {},
     "output_type": "display_data"
    }
   ],
   "source": [
    "df['A'].iplot(kind='hist',bins=30)"
   ]
  },
  {
   "cell_type": "code",
   "execution_count": 13,
   "id": "e79e4537-e9a7-40c3-b9ee-8a6e557e166b",
   "metadata": {},
   "outputs": [
    {
     "data": {
      "application/vnd.plotly.v1+json": {
       "config": {
        "linkText": "Export to plot.ly",
        "plotlyServerURL": "https://plot.ly",
        "showLink": true
       },
       "data": [
        {
         "marker": {
          "color": [
           "rgb(255, 153, 51)",
           "rgb(55, 128, 191)",
           "rgb(50, 171, 96)",
           "rgb(128, 0, 128)",
           "rgb(219, 64, 82)",
           "rgb(0, 128, 128)",
           "rgb(255, 255, 51)",
           "rgb(128, 128, 0)",
           "rgb(251, 128, 114)",
           "rgb(128, 177, 211)"
          ],
          "line": {
           "width": 1.3
          },
          "size": [
           77,
           49,
           66,
           58,
           77,
           58,
           68,
           69,
           44,
           67,
           38,
           54,
           59,
           77,
           57,
           41,
           58,
           32,
           67,
           61,
           55,
           51,
           61,
           77,
           83,
           68,
           29,
           57,
           105,
           90,
           76,
           73,
           82,
           112,
           79,
           77,
           75,
           74,
           56,
           40,
           101,
           98,
           74,
           80,
           74,
           80,
           63,
           64,
           84,
           31,
           63,
           105,
           74,
           60,
           105,
           80,
           71,
           63,
           75,
           75,
           63,
           90,
           70,
           57,
           35,
           12,
           74,
           71,
           59,
           111,
           71,
           68,
           59,
           100,
           52,
           97,
           78,
           66,
           87,
           75,
           64,
           71,
           103,
           65,
           73,
           70,
           66,
           62,
           49,
           93,
           99,
           67,
           66,
           96,
           82,
           53,
           71,
           86,
           61,
           90
          ],
          "symbol": "circle"
         },
         "mode": "markers",
         "text": "",
         "type": "scatter",
         "x": [
          -0.6806289062853029,
          0.851654581373861,
          1.841698252668757,
          -0.5553779572394636,
          -1.31276211411088,
          -0.8470546412025594,
          -1.2712866920173331,
          0.637816584768065,
          -0.9090198965716564,
          -0.7076907828902123,
          -0.7631465259588575,
          -0.18896559784800593,
          -0.5390398424930951,
          0.34942062676061425,
          1.5029167176736646,
          0.6340175698679027,
          1.3357906602791543,
          0.28481110907878393,
          0.027817469665778968,
          -1.0607248243708045,
          0.32813879303883214,
          -0.833908624104711,
          -1.781926132050467,
          0.33154400373631343,
          0.2646170816233302,
          -0.1736944354229878,
          0.042052164334565934,
          0.24685993647743829,
          0.4828458775304472,
          0.3304537898155104,
          -0.18780768440122186,
          -0.9177515022823175,
          0.7772387841600734,
          0.7941986461837904,
          0.032475569384678285,
          -0.8927420203167984,
          1.0140496312175107,
          0.7492598037658084,
          0.25204665307768837,
          0.5406847045423047,
          -0.4172913141427197,
          -0.8521060602016987,
          -0.6380984097586926,
          -0.7325573097593995,
          -0.1987626340659447,
          -0.03976898578830593,
          0.8425536272866717,
          0.0277273535210854,
          -1.0906538723817465,
          0.963267861497907,
          -0.32175642321015047,
          0.2782851474210295,
          0.6129079894779519,
          -0.49008286996017686,
          0.6957312904686905,
          -1.0398818555348257,
          -1.4226445119979112,
          0.3723678975035805,
          0.11604057951456091,
          1.7512391577436417,
          -0.3683292288906514,
          0.756774314425644,
          1.5078620099002917,
          0.49468605608926913,
          0.739212724180422,
          2.0873572249464094,
          -0.5815398101926841,
          0.5434102312909354,
          0.4257174293070883,
          1.607997746310742,
          0.9499923078989394,
          0.25401911474779343,
          -0.6990642631116388,
          0.49169204841470887,
          0.13619597128494515,
          0.09564466088843747,
          0.09143542118364781,
          0.57626866127471,
          -0.9676426682417839,
          -0.386474256091659,
          0.6234109754804322,
          0.4505464610066082,
          0.224619383874826,
          2.0944150604131386,
          -1.0808090905390537,
          1.062454909366168,
          -0.1539472410473472,
          2.040313029985635,
          0.3243854497052571,
          1.1401254870819877,
          -0.9867669853820801,
          1.4771118644752803,
          0.4848283674093234,
          0.3108489986544228,
          -0.42444652905403446,
          -1.6165596399220206,
          1.5192249732958074,
          -2.0369614082696996,
          1.3327211145107751,
          0.1325041276707391
         ],
         "y": [
          0.4843483027886,
          1.1030903432432535,
          0.8643762856821174,
          0.5123206638135523,
          0.12404033202151724,
          -0.0654705829234219,
          -0.2022203147730119,
          -1.4323075234479739,
          0.3416209310290042,
          -0.27815668280544203,
          0.37428076030852087,
          0.28675308678549954,
          -0.19721794625672598,
          0.26697625749554577,
          -2.012167057216591,
          -2.49317158681655,
          -0.5556877674167748,
          0.04413781953236262,
          1.2747025072304707,
          1.1295828702911532,
          1.1339201176633884,
          -0.0725257120852514,
          0.16383820821819925,
          0.7649362574041226,
          0.603884377144647,
          0.22651093317772597,
          0.07819828904755868,
          1.666579768983293,
          -0.03311244231351622,
          -0.3637815024973558,
          -0.028750570784637823,
          -0.7456115950422433,
          -1.2824682974303547,
          -0.17450350245079044,
          -0.8877043245119116,
          0.43561523043832984,
          -1.191503016003953,
          0.8315214270763891,
          0.20209418216335734,
          0.9429211841284374,
          -0.47049784441847475,
          -0.3535820033072744,
          0.6800993044696978,
          1.04153750132019,
          0.6728629169514477,
          0.7950437401727537,
          2.219042632633134,
          -0.7344130911399436,
          -0.11800931346627302,
          0.8717286128582601,
          -0.9554342894710757,
          -0.7866200232991805,
          0.2265520651402375,
          0.6479865644977725,
          0.5395425394196082,
          0.013137045413743815,
          -1.9200667150651216,
          -0.8857558460523695,
          0.653917305626444,
          0.6398189835574695,
          -0.5021531791793745,
          -0.9979885426391131,
          -0.13748796887973833,
          0.8558371852045121,
          -1.0215713094716425,
          0.16942826990488358,
          -0.4485034071216787,
          -0.8142106103101784,
          0.40680962064615694,
          -1.1393600948308658,
          -1.672099295008174,
          0.17100663977186478,
          -0.46485254822685873,
          0.03767679514582621,
          1.0177067381618086,
          1.3196585757670647,
          0.06307574639471865,
          0.6281131382939056,
          0.6831252221221537,
          0.8696623164681854,
          3.003715324546443,
          -0.003647130076114791,
          -1.3144074675166069,
          -0.8455899583237876,
          -0.6184101284362464,
          0.2130068027364627,
          -0.7264654620325057,
          1.4982378475250109,
          -0.7200957160683781,
          -0.08305796889848541,
          1.2779866973727625,
          -0.8724304433460955,
          0.8635264390679347,
          -1.6422763329108685,
          -0.9614257823841212,
          -1.0249761471731624,
          0.6245838151118154,
          -0.7682023992171826,
          -0.02847822401320922,
          -1.407177276662268
         ]
        }
       ],
       "layout": {
        "autosize": true,
        "legend": {
         "bgcolor": "#F5F6F9",
         "font": {
          "color": "#4D5663"
         }
        },
        "paper_bgcolor": "#F5F6F9",
        "plot_bgcolor": "#F5F6F9",
        "template": {
         "data": {
          "bar": [
           {
            "error_x": {
             "color": "#2a3f5f"
            },
            "error_y": {
             "color": "#2a3f5f"
            },
            "marker": {
             "line": {
              "color": "#E5ECF6",
              "width": 0.5
             },
             "pattern": {
              "fillmode": "overlay",
              "size": 10,
              "solidity": 0.2
             }
            },
            "type": "bar"
           }
          ],
          "barpolar": [
           {
            "marker": {
             "line": {
              "color": "#E5ECF6",
              "width": 0.5
             },
             "pattern": {
              "fillmode": "overlay",
              "size": 10,
              "solidity": 0.2
             }
            },
            "type": "barpolar"
           }
          ],
          "carpet": [
           {
            "aaxis": {
             "endlinecolor": "#2a3f5f",
             "gridcolor": "white",
             "linecolor": "white",
             "minorgridcolor": "white",
             "startlinecolor": "#2a3f5f"
            },
            "baxis": {
             "endlinecolor": "#2a3f5f",
             "gridcolor": "white",
             "linecolor": "white",
             "minorgridcolor": "white",
             "startlinecolor": "#2a3f5f"
            },
            "type": "carpet"
           }
          ],
          "choropleth": [
           {
            "colorbar": {
             "outlinewidth": 0,
             "ticks": ""
            },
            "type": "choropleth"
           }
          ],
          "contour": [
           {
            "colorbar": {
             "outlinewidth": 0,
             "ticks": ""
            },
            "colorscale": [
             [
              0,
              "#0d0887"
             ],
             [
              0.1111111111111111,
              "#46039f"
             ],
             [
              0.2222222222222222,
              "#7201a8"
             ],
             [
              0.3333333333333333,
              "#9c179e"
             ],
             [
              0.4444444444444444,
              "#bd3786"
             ],
             [
              0.5555555555555556,
              "#d8576b"
             ],
             [
              0.6666666666666666,
              "#ed7953"
             ],
             [
              0.7777777777777778,
              "#fb9f3a"
             ],
             [
              0.8888888888888888,
              "#fdca26"
             ],
             [
              1,
              "#f0f921"
             ]
            ],
            "type": "contour"
           }
          ],
          "contourcarpet": [
           {
            "colorbar": {
             "outlinewidth": 0,
             "ticks": ""
            },
            "type": "contourcarpet"
           }
          ],
          "heatmap": [
           {
            "colorbar": {
             "outlinewidth": 0,
             "ticks": ""
            },
            "colorscale": [
             [
              0,
              "#0d0887"
             ],
             [
              0.1111111111111111,
              "#46039f"
             ],
             [
              0.2222222222222222,
              "#7201a8"
             ],
             [
              0.3333333333333333,
              "#9c179e"
             ],
             [
              0.4444444444444444,
              "#bd3786"
             ],
             [
              0.5555555555555556,
              "#d8576b"
             ],
             [
              0.6666666666666666,
              "#ed7953"
             ],
             [
              0.7777777777777778,
              "#fb9f3a"
             ],
             [
              0.8888888888888888,
              "#fdca26"
             ],
             [
              1,
              "#f0f921"
             ]
            ],
            "type": "heatmap"
           }
          ],
          "heatmapgl": [
           {
            "colorbar": {
             "outlinewidth": 0,
             "ticks": ""
            },
            "colorscale": [
             [
              0,
              "#0d0887"
             ],
             [
              0.1111111111111111,
              "#46039f"
             ],
             [
              0.2222222222222222,
              "#7201a8"
             ],
             [
              0.3333333333333333,
              "#9c179e"
             ],
             [
              0.4444444444444444,
              "#bd3786"
             ],
             [
              0.5555555555555556,
              "#d8576b"
             ],
             [
              0.6666666666666666,
              "#ed7953"
             ],
             [
              0.7777777777777778,
              "#fb9f3a"
             ],
             [
              0.8888888888888888,
              "#fdca26"
             ],
             [
              1,
              "#f0f921"
             ]
            ],
            "type": "heatmapgl"
           }
          ],
          "histogram": [
           {
            "marker": {
             "pattern": {
              "fillmode": "overlay",
              "size": 10,
              "solidity": 0.2
             }
            },
            "type": "histogram"
           }
          ],
          "histogram2d": [
           {
            "colorbar": {
             "outlinewidth": 0,
             "ticks": ""
            },
            "colorscale": [
             [
              0,
              "#0d0887"
             ],
             [
              0.1111111111111111,
              "#46039f"
             ],
             [
              0.2222222222222222,
              "#7201a8"
             ],
             [
              0.3333333333333333,
              "#9c179e"
             ],
             [
              0.4444444444444444,
              "#bd3786"
             ],
             [
              0.5555555555555556,
              "#d8576b"
             ],
             [
              0.6666666666666666,
              "#ed7953"
             ],
             [
              0.7777777777777778,
              "#fb9f3a"
             ],
             [
              0.8888888888888888,
              "#fdca26"
             ],
             [
              1,
              "#f0f921"
             ]
            ],
            "type": "histogram2d"
           }
          ],
          "histogram2dcontour": [
           {
            "colorbar": {
             "outlinewidth": 0,
             "ticks": ""
            },
            "colorscale": [
             [
              0,
              "#0d0887"
             ],
             [
              0.1111111111111111,
              "#46039f"
             ],
             [
              0.2222222222222222,
              "#7201a8"
             ],
             [
              0.3333333333333333,
              "#9c179e"
             ],
             [
              0.4444444444444444,
              "#bd3786"
             ],
             [
              0.5555555555555556,
              "#d8576b"
             ],
             [
              0.6666666666666666,
              "#ed7953"
             ],
             [
              0.7777777777777778,
              "#fb9f3a"
             ],
             [
              0.8888888888888888,
              "#fdca26"
             ],
             [
              1,
              "#f0f921"
             ]
            ],
            "type": "histogram2dcontour"
           }
          ],
          "mesh3d": [
           {
            "colorbar": {
             "outlinewidth": 0,
             "ticks": ""
            },
            "type": "mesh3d"
           }
          ],
          "parcoords": [
           {
            "line": {
             "colorbar": {
              "outlinewidth": 0,
              "ticks": ""
             }
            },
            "type": "parcoords"
           }
          ],
          "pie": [
           {
            "automargin": true,
            "type": "pie"
           }
          ],
          "scatter": [
           {
            "fillpattern": {
             "fillmode": "overlay",
             "size": 10,
             "solidity": 0.2
            },
            "type": "scatter"
           }
          ],
          "scatter3d": [
           {
            "line": {
             "colorbar": {
              "outlinewidth": 0,
              "ticks": ""
             }
            },
            "marker": {
             "colorbar": {
              "outlinewidth": 0,
              "ticks": ""
             }
            },
            "type": "scatter3d"
           }
          ],
          "scattercarpet": [
           {
            "marker": {
             "colorbar": {
              "outlinewidth": 0,
              "ticks": ""
             }
            },
            "type": "scattercarpet"
           }
          ],
          "scattergeo": [
           {
            "marker": {
             "colorbar": {
              "outlinewidth": 0,
              "ticks": ""
             }
            },
            "type": "scattergeo"
           }
          ],
          "scattergl": [
           {
            "marker": {
             "colorbar": {
              "outlinewidth": 0,
              "ticks": ""
             }
            },
            "type": "scattergl"
           }
          ],
          "scattermapbox": [
           {
            "marker": {
             "colorbar": {
              "outlinewidth": 0,
              "ticks": ""
             }
            },
            "type": "scattermapbox"
           }
          ],
          "scatterpolar": [
           {
            "marker": {
             "colorbar": {
              "outlinewidth": 0,
              "ticks": ""
             }
            },
            "type": "scatterpolar"
           }
          ],
          "scatterpolargl": [
           {
            "marker": {
             "colorbar": {
              "outlinewidth": 0,
              "ticks": ""
             }
            },
            "type": "scatterpolargl"
           }
          ],
          "scatterternary": [
           {
            "marker": {
             "colorbar": {
              "outlinewidth": 0,
              "ticks": ""
             }
            },
            "type": "scatterternary"
           }
          ],
          "surface": [
           {
            "colorbar": {
             "outlinewidth": 0,
             "ticks": ""
            },
            "colorscale": [
             [
              0,
              "#0d0887"
             ],
             [
              0.1111111111111111,
              "#46039f"
             ],
             [
              0.2222222222222222,
              "#7201a8"
             ],
             [
              0.3333333333333333,
              "#9c179e"
             ],
             [
              0.4444444444444444,
              "#bd3786"
             ],
             [
              0.5555555555555556,
              "#d8576b"
             ],
             [
              0.6666666666666666,
              "#ed7953"
             ],
             [
              0.7777777777777778,
              "#fb9f3a"
             ],
             [
              0.8888888888888888,
              "#fdca26"
             ],
             [
              1,
              "#f0f921"
             ]
            ],
            "type": "surface"
           }
          ],
          "table": [
           {
            "cells": {
             "fill": {
              "color": "#EBF0F8"
             },
             "line": {
              "color": "white"
             }
            },
            "header": {
             "fill": {
              "color": "#C8D4E3"
             },
             "line": {
              "color": "white"
             }
            },
            "type": "table"
           }
          ]
         },
         "layout": {
          "annotationdefaults": {
           "arrowcolor": "#2a3f5f",
           "arrowhead": 0,
           "arrowwidth": 1
          },
          "autotypenumbers": "strict",
          "coloraxis": {
           "colorbar": {
            "outlinewidth": 0,
            "ticks": ""
           }
          },
          "colorscale": {
           "diverging": [
            [
             0,
             "#8e0152"
            ],
            [
             0.1,
             "#c51b7d"
            ],
            [
             0.2,
             "#de77ae"
            ],
            [
             0.3,
             "#f1b6da"
            ],
            [
             0.4,
             "#fde0ef"
            ],
            [
             0.5,
             "#f7f7f7"
            ],
            [
             0.6,
             "#e6f5d0"
            ],
            [
             0.7,
             "#b8e186"
            ],
            [
             0.8,
             "#7fbc41"
            ],
            [
             0.9,
             "#4d9221"
            ],
            [
             1,
             "#276419"
            ]
           ],
           "sequential": [
            [
             0,
             "#0d0887"
            ],
            [
             0.1111111111111111,
             "#46039f"
            ],
            [
             0.2222222222222222,
             "#7201a8"
            ],
            [
             0.3333333333333333,
             "#9c179e"
            ],
            [
             0.4444444444444444,
             "#bd3786"
            ],
            [
             0.5555555555555556,
             "#d8576b"
            ],
            [
             0.6666666666666666,
             "#ed7953"
            ],
            [
             0.7777777777777778,
             "#fb9f3a"
            ],
            [
             0.8888888888888888,
             "#fdca26"
            ],
            [
             1,
             "#f0f921"
            ]
           ],
           "sequentialminus": [
            [
             0,
             "#0d0887"
            ],
            [
             0.1111111111111111,
             "#46039f"
            ],
            [
             0.2222222222222222,
             "#7201a8"
            ],
            [
             0.3333333333333333,
             "#9c179e"
            ],
            [
             0.4444444444444444,
             "#bd3786"
            ],
            [
             0.5555555555555556,
             "#d8576b"
            ],
            [
             0.6666666666666666,
             "#ed7953"
            ],
            [
             0.7777777777777778,
             "#fb9f3a"
            ],
            [
             0.8888888888888888,
             "#fdca26"
            ],
            [
             1,
             "#f0f921"
            ]
           ]
          },
          "colorway": [
           "#636efa",
           "#EF553B",
           "#00cc96",
           "#ab63fa",
           "#FFA15A",
           "#19d3f3",
           "#FF6692",
           "#B6E880",
           "#FF97FF",
           "#FECB52"
          ],
          "font": {
           "color": "#2a3f5f"
          },
          "geo": {
           "bgcolor": "white",
           "lakecolor": "white",
           "landcolor": "#E5ECF6",
           "showlakes": true,
           "showland": true,
           "subunitcolor": "white"
          },
          "hoverlabel": {
           "align": "left"
          },
          "hovermode": "closest",
          "mapbox": {
           "style": "light"
          },
          "paper_bgcolor": "white",
          "plot_bgcolor": "#E5ECF6",
          "polar": {
           "angularaxis": {
            "gridcolor": "white",
            "linecolor": "white",
            "ticks": ""
           },
           "bgcolor": "#E5ECF6",
           "radialaxis": {
            "gridcolor": "white",
            "linecolor": "white",
            "ticks": ""
           }
          },
          "scene": {
           "xaxis": {
            "backgroundcolor": "#E5ECF6",
            "gridcolor": "white",
            "gridwidth": 2,
            "linecolor": "white",
            "showbackground": true,
            "ticks": "",
            "zerolinecolor": "white"
           },
           "yaxis": {
            "backgroundcolor": "#E5ECF6",
            "gridcolor": "white",
            "gridwidth": 2,
            "linecolor": "white",
            "showbackground": true,
            "ticks": "",
            "zerolinecolor": "white"
           },
           "zaxis": {
            "backgroundcolor": "#E5ECF6",
            "gridcolor": "white",
            "gridwidth": 2,
            "linecolor": "white",
            "showbackground": true,
            "ticks": "",
            "zerolinecolor": "white"
           }
          },
          "shapedefaults": {
           "line": {
            "color": "#2a3f5f"
           }
          },
          "ternary": {
           "aaxis": {
            "gridcolor": "white",
            "linecolor": "white",
            "ticks": ""
           },
           "baxis": {
            "gridcolor": "white",
            "linecolor": "white",
            "ticks": ""
           },
           "bgcolor": "#E5ECF6",
           "caxis": {
            "gridcolor": "white",
            "linecolor": "white",
            "ticks": ""
           }
          },
          "title": {
           "x": 0.05
          },
          "xaxis": {
           "automargin": true,
           "gridcolor": "white",
           "linecolor": "white",
           "ticks": "",
           "title": {
            "standoff": 15
           },
           "zerolinecolor": "white",
           "zerolinewidth": 2
          },
          "yaxis": {
           "automargin": true,
           "gridcolor": "white",
           "linecolor": "white",
           "ticks": "",
           "title": {
            "standoff": 15
           },
           "zerolinecolor": "white",
           "zerolinewidth": 2
          }
         }
        },
        "title": {
         "font": {
          "color": "#4D5663"
         }
        },
        "xaxis": {
         "autorange": true,
         "gridcolor": "#E1E5ED",
         "range": [
          -2.589197436623545,
          2.5748521994936384
         ],
         "showgrid": true,
         "tickfont": {
          "color": "#4D5663"
         },
         "title": {
          "font": {
           "color": "#4D5663"
          },
          "text": ""
         },
         "type": "linear",
         "zerolinecolor": "#E1E5ED"
        },
        "yaxis": {
         "autorange": true,
         "gridcolor": "#E1E5ED",
         "range": [
          -7.3096885697704685,
          6.861400750664982
         ],
         "showgrid": true,
         "tickfont": {
          "color": "#4D5663"
         },
         "title": {
          "font": {
           "color": "#4D5663"
          },
          "text": ""
         },
         "type": "linear",
         "zerolinecolor": "#E1E5ED"
        }
       }
      },
      "image/png": "[encoded data removed]",
      "text/html": [
       "<div>                            <div id=\"8e3e1e79-e230-4f60-af06-7a01f278d91e\" class=\"plotly-graph-div\" style=\"height:525px; width:100%;\"></div>            <script type=\"text/javascript\">                require([\"plotly\"], function(Plotly) {                    window.PLOTLYENV=window.PLOTLYENV || {};\n",
       "                    window.PLOTLYENV.BASE_URL='https://plot.ly';                                    if (document.getElementById(\"8e3e1e79-e230-4f60-af06-7a01f278d91e\")) {                    Plotly.newPlot(                        \"8e3e1e79-e230-4f60-af06-7a01f278d91e\",                        [{\"marker\":{\"color\":[\"rgb(255, 153, 51)\",\"rgb(55, 128, 191)\",\"rgb(50, 171, 96)\",\"rgb(128, 0, 128)\",\"rgb(219, 64, 82)\",\"rgb(0, 128, 128)\",\"rgb(255, 255, 51)\",\"rgb(128, 128, 0)\",\"rgb(251, 128, 114)\",\"rgb(128, 177, 211)\"],\"line\":{\"width\":1.3},\"size\":[77,49,66,58,77,58,68,69,44,67,38,54,59,77,57,41,58,32,67,61,55,51,61,77,83,68,29,57,105,90,76,73,82,112,79,77,75,74,56,40,101,98,74,80,74,80,63,64,84,31,63,105,74,60,105,80,71,63,75,75,63,90,70,57,35,12,74,71,59,111,71,68,59,100,52,97,78,66,87,75,64,71,103,65,73,70,66,62,49,93,99,67,66,96,82,53,71,86,61,90],\"symbol\":\"circle\"},\"mode\":\"markers\",\"text\":\"\",\"x\":[-0.6806289062853029,0.851654581373861,1.841698252668757,-0.5553779572394636,-1.31276211411088,-0.8470546412025594,-1.2712866920173331,0.637816584768065,-0.9090198965716564,-0.7076907828902123,-0.7631465259588575,-0.18896559784800593,-0.5390398424930951,0.34942062676061425,1.5029167176736646,0.6340175698679027,1.3357906602791543,0.28481110907878393,0.027817469665778968,-1.0607248243708045,0.32813879303883214,-0.833908624104711,-1.781926132050467,0.33154400373631343,0.2646170816233302,-0.1736944354229878,0.042052164334565934,0.24685993647743829,0.4828458775304472,0.3304537898155104,-0.18780768440122186,-0.9177515022823175,0.7772387841600734,0.7941986461837904,0.032475569384678285,-0.8927420203167984,1.0140496312175107,0.7492598037658084,0.25204665307768837,0.5406847045423047,-0.4172913141427197,-0.8521060602016987,-0.6380984097586926,-0.7325573097593995,-0.1987626340659447,-0.03976898578830593,0.8425536272866717,0.0277273535210854,-1.0906538723817465,0.963267861497907,-0.32175642321015047,0.2782851474210295,0.6129079894779519,-0.49008286996017686,0.6957312904686905,-1.0398818555348257,-1.4226445119979112,0.3723678975035805,0.11604057951456091,1.7512391577436417,-0.3683292288906514,0.756774314425644,1.5078620099002917,0.49468605608926913,0.739212724180422,2.0873572249464094,-0.5815398101926841,0.5434102312909354,0.4257174293070883,1.607997746310742,0.9499923078989394,0.25401911474779343,-0.6990642631116388,0.49169204841470887,0.13619597128494515,0.09564466088843747,0.09143542118364781,0.57626866127471,-0.9676426682417839,-0.386474256091659,0.6234109754804322,0.4505464610066082,0.224619383874826,2.0944150604131386,-1.0808090905390537,1.062454909366168,-0.1539472410473472,2.040313029985635,0.3243854497052571,1.1401254870819877,-0.9867669853820801,1.4771118644752803,0.4848283674093234,0.3108489986544228,-0.42444652905403446,-1.6165596399220206,1.5192249732958074,-2.0369614082696996,1.3327211145107751,0.1325041276707391],\"y\":[0.4843483027886,1.1030903432432535,0.8643762856821174,0.5123206638135523,0.12404033202151724,-0.0654705829234219,-0.2022203147730119,-1.4323075234479739,0.3416209310290042,-0.27815668280544203,0.37428076030852087,0.28675308678549954,-0.19721794625672598,0.26697625749554577,-2.012167057216591,-2.49317158681655,-0.5556877674167748,0.04413781953236262,1.2747025072304707,1.1295828702911532,1.1339201176633884,-0.0725257120852514,0.16383820821819925,0.7649362574041226,0.603884377144647,0.22651093317772597,0.07819828904755868,1.666579768983293,-0.03311244231351622,-0.3637815024973558,-0.028750570784637823,-0.7456115950422433,-1.2824682974303547,-0.17450350245079044,-0.8877043245119116,0.43561523043832984,-1.191503016003953,0.8315214270763891,0.20209418216335734,0.9429211841284374,-0.47049784441847475,-0.3535820033072744,0.6800993044696978,1.04153750132019,0.6728629169514477,0.7950437401727537,2.219042632633134,-0.7344130911399436,-0.11800931346627302,0.8717286128582601,-0.9554342894710757,-0.7866200232991805,0.2265520651402375,0.6479865644977725,0.5395425394196082,0.013137045413743815,-1.9200667150651216,-0.8857558460523695,0.653917305626444,0.6398189835574695,-0.5021531791793745,-0.9979885426391131,-0.13748796887973833,0.8558371852045121,-1.0215713094716425,0.16942826990488358,-0.4485034071216787,-0.8142106103101784,0.40680962064615694,-1.1393600948308658,-1.672099295008174,0.17100663977186478,-0.46485254822685873,0.03767679514582621,1.0177067381618086,1.3196585757670647,0.06307574639471865,0.6281131382939056,0.6831252221221537,0.8696623164681854,3.003715324546443,-0.003647130076114791,-1.3144074675166069,-0.8455899583237876,-0.6184101284362464,0.2130068027364627,-0.7264654620325057,1.4982378475250109,-0.7200957160683781,-0.08305796889848541,1.2779866973727625,-0.8724304433460955,0.8635264390679347,-1.6422763329108685,-0.9614257823841212,-1.0249761471731624,0.6245838151118154,-0.7682023992171826,-0.02847822401320922,-1.407177276662268],\"type\":\"scatter\"}],                        {\"legend\":{\"bgcolor\":\"#F5F6F9\",\"font\":{\"color\":\"#4D5663\"}},\"paper_bgcolor\":\"#F5F6F9\",\"plot_bgcolor\":\"#F5F6F9\",\"template\":{\"data\":{\"barpolar\":[{\"marker\":{\"line\":{\"color\":\"#E5ECF6\",\"width\":0.5},\"pattern\":{\"fillmode\":\"overlay\",\"size\":10,\"solidity\":0.2}},\"type\":\"barpolar\"}],\"bar\":[{\"error_x\":{\"color\":\"#2a3f5f\"},\"error_y\":{\"color\":\"#2a3f5f\"},\"marker\":{\"line\":{\"color\":\"#E5ECF6\",\"width\":0.5},\"pattern\":{\"fillmode\":\"overlay\",\"size\":10,\"solidity\":0.2}},\"type\":\"bar\"}],\"carpet\":[{\"aaxis\":{\"endlinecolor\":\"#2a3f5f\",\"gridcolor\":\"white\",\"linecolor\":\"white\",\"minorgridcolor\":\"white\",\"startlinecolor\":\"#2a3f5f\"},\"baxis\":{\"endlinecolor\":\"#2a3f5f\",\"gridcolor\":\"white\",\"linecolor\":\"white\",\"minorgridcolor\":\"white\",\"startlinecolor\":\"#2a3f5f\"},\"type\":\"carpet\"}],\"choropleth\":[{\"colorbar\":{\"outlinewidth\":0,\"ticks\":\"\"},\"type\":\"choropleth\"}],\"contourcarpet\":[{\"colorbar\":{\"outlinewidth\":0,\"ticks\":\"\"},\"type\":\"contourcarpet\"}],\"contour\":[{\"colorbar\":{\"outlinewidth\":0,\"ticks\":\"\"},\"colorscale\":[[0.0,\"#0d0887\"],[0.1111111111111111,\"#46039f\"],[0.2222222222222222,\"#7201a8\"],[0.3333333333333333,\"#9c179e\"],[0.4444444444444444,\"#bd3786\"],[0.5555555555555556,\"#d8576b\"],[0.6666666666666666,\"#ed7953\"],[0.7777777777777778,\"#fb9f3a\"],[0.8888888888888888,\"#fdca26\"],[1.0,\"#f0f921\"]],\"type\":\"contour\"}],\"heatmapgl\":[{\"colorbar\":{\"outlinewidth\":0,\"ticks\":\"\"},\"colorscale\":[[0.0,\"#0d0887\"],[0.1111111111111111,\"#46039f\"],[0.2222222222222222,\"#7201a8\"],[0.3333333333333333,\"#9c179e\"],[0.4444444444444444,\"#bd3786\"],[0.5555555555555556,\"#d8576b\"],[0.6666666666666666,\"#ed7953\"],[0.7777777777777778,\"#fb9f3a\"],[0.8888888888888888,\"#fdca26\"],[1.0,\"#f0f921\"]],\"type\":\"heatmapgl\"}],\"heatmap\":[{\"colorbar\":{\"outlinewidth\":0,\"ticks\":\"\"},\"colorscale\":[[0.0,\"#0d0887\"],[0.1111111111111111,\"#46039f\"],[0.2222222222222222,\"#7201a8\"],[0.3333333333333333,\"#9c179e\"],[0.4444444444444444,\"#bd3786\"],[0.5555555555555556,\"#d8576b\"],[0.6666666666666666,\"#ed7953\"],[0.7777777777777778,\"#fb9f3a\"],[0.8888888888888888,\"#fdca26\"],[1.0,\"#f0f921\"]],\"type\":\"heatmap\"}],\"histogram2dcontour\":[{\"colorbar\":{\"outlinewidth\":0,\"ticks\":\"\"},\"colorscale\":[[0.0,\"#0d0887\"],[0.1111111111111111,\"#46039f\"],[0.2222222222222222,\"#7201a8\"],[0.3333333333333333,\"#9c179e\"],[0.4444444444444444,\"#bd3786\"],[0.5555555555555556,\"#d8576b\"],[0.6666666666666666,\"#ed7953\"],[0.7777777777777778,\"#fb9f3a\"],[0.8888888888888888,\"#fdca26\"],[1.0,\"#f0f921\"]],\"type\":\"histogram2dcontour\"}],\"histogram2d\":[{\"colorbar\":{\"outlinewidth\":0,\"ticks\":\"\"},\"colorscale\":[[0.0,\"#0d0887\"],[0.1111111111111111,\"#46039f\"],[0.2222222222222222,\"#7201a8\"],[0.3333333333333333,\"#9c179e\"],[0.4444444444444444,\"#bd3786\"],[0.5555555555555556,\"#d8576b\"],[0.6666666666666666,\"#ed7953\"],[0.7777777777777778,\"#fb9f3a\"],[0.8888888888888888,\"#fdca26\"],[1.0,\"#f0f921\"]],\"type\":\"histogram2d\"}],\"histogram\":[{\"marker\":{\"pattern\":{\"fillmode\":\"overlay\",\"size\":10,\"solidity\":0.2}},\"type\":\"histogram\"}],\"mesh3d\":[{\"colorbar\":{\"outlinewidth\":0,\"ticks\":\"\"},\"type\":\"mesh3d\"}],\"parcoords\":[{\"line\":{\"colorbar\":{\"outlinewidth\":0,\"ticks\":\"\"}},\"type\":\"parcoords\"}],\"pie\":[{\"automargin\":true,\"type\":\"pie\"}],\"scatter3d\":[{\"line\":{\"colorbar\":{\"outlinewidth\":0,\"ticks\":\"\"}},\"marker\":{\"colorbar\":{\"outlinewidth\":0,\"ticks\":\"\"}},\"type\":\"scatter3d\"}],\"scattercarpet\":[{\"marker\":{\"colorbar\":{\"outlinewidth\":0,\"ticks\":\"\"}},\"type\":\"scattercarpet\"}],\"scattergeo\":[{\"marker\":{\"colorbar\":{\"outlinewidth\":0,\"ticks\":\"\"}},\"type\":\"scattergeo\"}],\"scattergl\":[{\"marker\":{\"colorbar\":{\"outlinewidth\":0,\"ticks\":\"\"}},\"type\":\"scattergl\"}],\"scattermapbox\":[{\"marker\":{\"colorbar\":{\"outlinewidth\":0,\"ticks\":\"\"}},\"type\":\"scattermapbox\"}],\"scatterpolargl\":[{\"marker\":{\"colorbar\":{\"outlinewidth\":0,\"ticks\":\"\"}},\"type\":\"scatterpolargl\"}],\"scatterpolar\":[{\"marker\":{\"colorbar\":{\"outlinewidth\":0,\"ticks\":\"\"}},\"type\":\"scatterpolar\"}],\"scatter\":[{\"fillpattern\":{\"fillmode\":\"overlay\",\"size\":10,\"solidity\":0.2},\"type\":\"scatter\"}],\"scatterternary\":[{\"marker\":{\"colorbar\":{\"outlinewidth\":0,\"ticks\":\"\"}},\"type\":\"scatterternary\"}],\"surface\":[{\"colorbar\":{\"outlinewidth\":0,\"ticks\":\"\"},\"colorscale\":[[0.0,\"#0d0887\"],[0.1111111111111111,\"#46039f\"],[0.2222222222222222,\"#7201a8\"],[0.3333333333333333,\"#9c179e\"],[0.4444444444444444,\"#bd3786\"],[0.5555555555555556,\"#d8576b\"],[0.6666666666666666,\"#ed7953\"],[0.7777777777777778,\"#fb9f3a\"],[0.8888888888888888,\"#fdca26\"],[1.0,\"#f0f921\"]],\"type\":\"surface\"}],\"table\":[{\"cells\":{\"fill\":{\"color\":\"#EBF0F8\"},\"line\":{\"color\":\"white\"}},\"header\":{\"fill\":{\"color\":\"#C8D4E3\"},\"line\":{\"color\":\"white\"}},\"type\":\"table\"}]},\"layout\":{\"annotationdefaults\":{\"arrowcolor\":\"#2a3f5f\",\"arrowhead\":0,\"arrowwidth\":1},\"autotypenumbers\":\"strict\",\"coloraxis\":{\"colorbar\":{\"outlinewidth\":0,\"ticks\":\"\"}},\"colorscale\":{\"diverging\":[[0,\"#8e0152\"],[0.1,\"#c51b7d\"],[0.2,\"#de77ae\"],[0.3,\"#f1b6da\"],[0.4,\"#fde0ef\"],[0.5,\"#f7f7f7\"],[0.6,\"#e6f5d0\"],[0.7,\"#b8e186\"],[0.8,\"#7fbc41\"],[0.9,\"#4d9221\"],[1,\"#276419\"]],\"sequential\":[[0.0,\"#0d0887\"],[0.1111111111111111,\"#46039f\"],[0.2222222222222222,\"#7201a8\"],[0.3333333333333333,\"#9c179e\"],[0.4444444444444444,\"#bd3786\"],[0.5555555555555556,\"#d8576b\"],[0.6666666666666666,\"#ed7953\"],[0.7777777777777778,\"#fb9f3a\"],[0.8888888888888888,\"#fdca26\"],[1.0,\"#f0f921\"]],\"sequentialminus\":[[0.0,\"#0d0887\"],[0.1111111111111111,\"#46039f\"],[0.2222222222222222,\"#7201a8\"],[0.3333333333333333,\"#9c179e\"],[0.4444444444444444,\"#bd3786\"],[0.5555555555555556,\"#d8576b\"],[0.6666666666666666,\"#ed7953\"],[0.7777777777777778,\"#fb9f3a\"],[0.8888888888888888,\"#fdca26\"],[1.0,\"#f0f921\"]]},\"colorway\":[\"#636efa\",\"#EF553B\",\"#00cc96\",\"#ab63fa\",\"#FFA15A\",\"#19d3f3\",\"#FF6692\",\"#B6E880\",\"#FF97FF\",\"#FECB52\"],\"font\":{\"color\":\"#2a3f5f\"},\"geo\":{\"bgcolor\":\"white\",\"lakecolor\":\"white\",\"landcolor\":\"#E5ECF6\",\"showlakes\":true,\"showland\":true,\"subunitcolor\":\"white\"},\"hoverlabel\":{\"align\":\"left\"},\"hovermode\":\"closest\",\"mapbox\":{\"style\":\"light\"},\"paper_bgcolor\":\"white\",\"plot_bgcolor\":\"#E5ECF6\",\"polar\":{\"angularaxis\":{\"gridcolor\":\"white\",\"linecolor\":\"white\",\"ticks\":\"\"},\"bgcolor\":\"#E5ECF6\",\"radialaxis\":{\"gridcolor\":\"white\",\"linecolor\":\"white\",\"ticks\":\"\"}},\"scene\":{\"xaxis\":{\"backgroundcolor\":\"#E5ECF6\",\"gridcolor\":\"white\",\"gridwidth\":2,\"linecolor\":\"white\",\"showbackground\":true,\"ticks\":\"\",\"zerolinecolor\":\"white\"},\"yaxis\":{\"backgroundcolor\":\"#E5ECF6\",\"gridcolor\":\"white\",\"gridwidth\":2,\"linecolor\":\"white\",\"showbackground\":true,\"ticks\":\"\",\"zerolinecolor\":\"white\"},\"zaxis\":{\"backgroundcolor\":\"#E5ECF6\",\"gridcolor\":\"white\",\"gridwidth\":2,\"linecolor\":\"white\",\"showbackground\":true,\"ticks\":\"\",\"zerolinecolor\":\"white\"}},\"shapedefaults\":{\"line\":{\"color\":\"#2a3f5f\"}},\"ternary\":{\"aaxis\":{\"gridcolor\":\"white\",\"linecolor\":\"white\",\"ticks\":\"\"},\"baxis\":{\"gridcolor\":\"white\",\"linecolor\":\"white\",\"ticks\":\"\"},\"bgcolor\":\"#E5ECF6\",\"caxis\":{\"gridcolor\":\"white\",\"linecolor\":\"white\",\"ticks\":\"\"}},\"title\":{\"x\":0.05},\"xaxis\":{\"automargin\":true,\"gridcolor\":\"white\",\"linecolor\":\"white\",\"ticks\":\"\",\"title\":{\"standoff\":15},\"zerolinecolor\":\"white\",\"zerolinewidth\":2},\"yaxis\":{\"automargin\":true,\"gridcolor\":\"white\",\"linecolor\":\"white\",\"ticks\":\"\",\"title\":{\"standoff\":15},\"zerolinecolor\":\"white\",\"zerolinewidth\":2}}},\"title\":{\"font\":{\"color\":\"#4D5663\"}},\"xaxis\":{\"gridcolor\":\"#E1E5ED\",\"showgrid\":true,\"tickfont\":{\"color\":\"#4D5663\"},\"title\":{\"font\":{\"color\":\"#4D5663\"},\"text\":\"\"},\"zerolinecolor\":\"#E1E5ED\"},\"yaxis\":{\"gridcolor\":\"#E1E5ED\",\"showgrid\":true,\"tickfont\":{\"color\":\"#4D5663\"},\"title\":{\"font\":{\"color\":\"#4D5663\"},\"text\":\"\"},\"zerolinecolor\":\"#E1E5ED\"}},                        {\"showLink\": true, \"linkText\": \"Export to plot.ly\", \"plotlyServerURL\": \"https://plot.ly\", \"responsive\": true}                    ).then(function(){\n",
       "                            \n",
       "var gd = document.getElementById('8e3e1e79-e230-4f60-af06-7a01f278d91e');\n",
       "var x = new MutationObserver(function (mutations, observer) {{\n",
       "        var display = window.getComputedStyle(gd).display;\n",
       "        if (!display || display === 'none') {{\n",
       "            console.log([gd, 'removed!']);\n",
       "            Plotly.purge(gd);\n",
       "            observer.disconnect();\n",
       "        }}\n",
       "}});\n",
       "\n",
       "// Listen for the removal of the full notebook cells\n",
       "var notebookContainer = gd.closest('#notebook-container');\n",
       "if (notebookContainer) {{\n",
       "    x.observe(notebookContainer, {childList: true});\n",
       "}}\n",
       "\n",
       "// Listen for the clearing of the current output cell\n",
       "var outputEl = gd.closest('.output');\n",
       "if (outputEl) {{\n",
       "    x.observe(outputEl, {childList: true});\n",
       "}}\n",
       "\n",
       "                        })                };                });            </script>        </div>"
      ]
     },
     "metadata": {},
     "output_type": "display_data"
    }
   ],
   "source": [
    "df.iplot(kind='bubble',x='A',y='B',size='C')"
   ]
  },
  {
   "cell_type": "code",
   "execution_count": 43,
   "id": "8920f798-18b7-42bc-a17f-fdce152e55cd",
   "metadata": {},
   "outputs": [
    {
     "data": {
      "application/vnd.plotly.v1+json": {
       "config": {
        "linkText": "Export to plot.ly",
        "plotlyServerURL": "https://plot.ly",
        "showLink": true
       },
       "data": [
        {
         "histfunc": "count",
         "histnorm": "",
         "marker": {
          "color": "rgba(255, 153, 51, 1.0)",
          "line": {
           "color": "#4D5663",
           "width": 1.3
          }
         },
         "name": "A",
         "nbinsx": 10,
         "opacity": 0.8,
         "orientation": "v",
         "type": "histogram",
         "x": [
          -0.3335804497762339,
          0.00841020770573747,
          -0.2452486455726726,
          1.7550835292323625,
          -0.4124142608843169,
          0.08397452866741234,
          -1.3865662695296521,
          -0.5536159230768968,
          -0.6159733733331406,
          0.5351203760401979,
          0.6219906888015769,
          2.0936218973984544,
          0.44108665014911896,
          -0.416230235006025,
          0.9331183949846429,
          -0.7216605612758971,
          1.3390572677191115,
          0.6496069974394884,
          -0.7901367515093446,
          -0.3422059764483797,
          0.5373701215532392,
          1.7747753169553424,
          0.419529041757397,
          -0.10904889995774433,
          -2.0263048218045543,
          0.21622836105376003,
          -0.821922543917067,
          1.842131241717987,
          -1.265365165032051,
          0.8479452711578469,
          0.6156098386466577,
          0.15867622180468346,
          -1.238977024083961,
          0.7335419753028098,
          0.0512616782988629,
          1.4495571762852764,
          -0.4496751518589838,
          -0.330172000624211,
          -0.8929792515250653,
          2.205175209714804,
          -0.4538635156588506,
          2.2037334537380286,
          0.7417458154644216,
          -0.01924531610158195,
          0.5149129505912265,
          -0.8559027787490496,
          -1.2359804048231446,
          2.073959092442634,
          0.6912579520973061,
          -1.108283786227255,
          0.16942813801626458,
          -2.781043939921188,
          0.0885804145925267,
          -1.756318606323291,
          1.274483140059975,
          0.8438741973237249,
          1.043238681028487,
          0.8742390843303314,
          1.4704877215499943,
          -0.6540245721736407,
          -1.1275658316510941,
          0.8367878573651504,
          -0.7350001997710474,
          -0.11503001732679545,
          -0.1920425691420273,
          1.3367611859539756,
          0.31544010241881365,
          0.30833485067338146,
          -0.30446858143129724,
          0.09901607880407506,
          0.3280088371532466,
          0.3003499482732641,
          0.27812375549087964,
          -0.6621938785792102,
          0.5884359898684891,
          -1.4687335662247434,
          1.5961345007591994,
          -0.2519890600562586,
          1.5557835869903025,
          0.04462193969423287,
          0.15083076444693133,
          0.4082980181436096,
          -0.678370760026145,
          -0.0750391155180131,
          -1.0668798705652038,
          -0.9875792933502123,
          -2.7515517426231964,
          1.6668491718400256,
          -2.011343087200451,
          0.22068583475438497,
          1.0427267249140537,
          0.8666554855258551,
          1.4876746522797113,
          -0.12935479445954817,
          0.544861458818753,
          0.2590464861926635,
          -0.29858348018470654,
          1.0157638005717105,
          -1.2125999335057973,
          -0.7869056414224349
         ],
         "xaxis": "x",
         "yaxis": "y"
        },
        {
         "line": {
          "color": "rgba(128, 128, 128, 1.0)",
          "dash": "solid",
          "shape": "linear",
          "width": 1.3
         },
         "marker": {
          "size": 2,
          "symbol": "circle"
         },
         "mode": "markers",
         "name": "A",
         "text": "",
         "type": "scatter",
         "x": [
          1.2656119006442414,
          0.11172189872330608,
          2.4441405083498084,
          0.021263530711874312,
          -0.09762074893880836,
          -2.841439832791632,
          0.3606689299126568,
          0.6100067499256379,
          0.46938226746429257,
          1.0409351529187922,
          -0.10530897127620471,
          -0.7839565480168238,
          1.312981092013129,
          0.9168981441738603,
          -0.45747230576020353,
          1.019246343752088,
          1.035506744391563,
          -0.2017921322897468,
          1.541948116644562,
          -0.8547194343811696,
          -0.5159114150487076,
          0.6205665175937206,
          -1.4708434724308213,
          -0.7028787223375108,
          0.4566743660520509,
          0.5175867306902976,
          2.307306044925076,
          0.6335984216611076,
          -1.169581749814845,
          -0.8049516945379682,
          0.8376752575918941,
          -0.7965999170117269,
          1.5701411435733117,
          0.010738407292215393,
          -1.9476656494682059,
          0.7994896822584975,
          0.9916380277779536,
          -0.8259760625515664,
          -0.7750424611682585,
          -1.000212958965001,
          -0.002153372965835309,
          1.1241098204562403,
          -0.8933357174684814,
          0.14031630340664777,
          0.7796311582424318,
          -2.545378779470004,
          -0.43196973909652,
          -0.11648151266855052,
          0.4066225349475821,
          1.5668326084368156,
          0.0285716881764873,
          1.3441761736057165,
          -0.5523062721586132,
          -0.7157409903930229,
          0.7327498495190612,
          0.30060721324231693,
          0.7133267785007691,
          0.19911508044327778,
          -0.19545960190474662,
          0.6853459741633252,
          -2.127835130345152,
          2.0218196475959336,
          2.1780440617017196,
          2.224401011317823,
          1.165437639520588,
          -0.14759125561131795,
          -0.8113337078873021,
          1.2284972728337857,
          -0.1894385534744078,
          -0.004967028126192879,
          -0.9774278378969505,
          0.9833612559553154,
          -0.23714912708878444,
          0.8726089987499858,
          -0.8389751407305852,
          0.3909661637510026,
          -1.1694495652685963,
          -1.9807748615515484,
          0.4096619399418116,
          1.1594638854247026,
          -1.0171361899301976,
          -1.0048963714697148,
          -0.36924529104358444,
          0.1286784085603135,
          0.7038172729883474,
          -0.9919135098509365,
          -0.29941507106034404,
          0.6134501808248138,
          -0.5951458647500463,
          0.254523959598943,
          0.24629150821694917,
          -1.3603994825182804,
          0.4749977182782207,
          -1.9947392736919967,
          3.508885086749131,
          0.9521474983011023,
          -0.421561079901927,
          1.686899295360436,
          -0.03997823528199046,
          -0.22909054223546957
         ],
         "xaxis": "x2",
         "y": [
          -0.3335804497762339,
          0.00841020770573747,
          -0.2452486455726726,
          1.7550835292323625,
          -0.4124142608843169,
          0.08397452866741234,
          -1.3865662695296521,
          -0.5536159230768968,
          -0.6159733733331406,
          0.5351203760401979,
          0.6219906888015769,
          2.0936218973984544,
          0.44108665014911896,
          -0.416230235006025,
          0.9331183949846429,
          -0.7216605612758971,
          1.3390572677191115,
          0.6496069974394884,
          -0.7901367515093446,
          -0.3422059764483797,
          0.5373701215532392,
          1.7747753169553424,
          0.419529041757397,
          -0.10904889995774433,
          -2.0263048218045543,
          0.21622836105376003,
          -0.821922543917067,
          1.842131241717987,
          -1.265365165032051,
          0.8479452711578469,
          0.6156098386466577,
          0.15867622180468346,
          -1.238977024083961,
          0.7335419753028098,
          0.0512616782988629,
          1.4495571762852764,
          -0.4496751518589838,
          -0.330172000624211,
          -0.8929792515250653,
          2.205175209714804,
          -0.4538635156588506,
          2.2037334537380286,
          0.7417458154644216,
          -0.01924531610158195,
          0.5149129505912265,
          -0.8559027787490496,
          -1.2359804048231446,
          2.073959092442634,
          0.6912579520973061,
          -1.108283786227255,
          0.16942813801626458,
          -2.781043939921188,
          0.0885804145925267,
          -1.756318606323291,
          1.274483140059975,
          0.8438741973237249,
          1.043238681028487,
          0.8742390843303314,
          1.4704877215499943,
          -0.6540245721736407,
          -1.1275658316510941,
          0.8367878573651504,
          -0.7350001997710474,
          -0.11503001732679545,
          -0.1920425691420273,
          1.3367611859539756,
          0.31544010241881365,
          0.30833485067338146,
          -0.30446858143129724,
          0.09901607880407506,
          0.3280088371532466,
          0.3003499482732641,
          0.27812375549087964,
          -0.6621938785792102,
          0.5884359898684891,
          -1.4687335662247434,
          1.5961345007591994,
          -0.2519890600562586,
          1.5557835869903025,
          0.04462193969423287,
          0.15083076444693133,
          0.4082980181436096,
          -0.678370760026145,
          -0.0750391155180131,
          -1.0668798705652038,
          -0.9875792933502123,
          -2.7515517426231964,
          1.6668491718400256,
          -2.011343087200451,
          0.22068583475438497,
          1.0427267249140537,
          0.8666554855258551,
          1.4876746522797113,
          -0.12935479445954817,
          0.544861458818753,
          0.2590464861926635,
          -0.29858348018470654,
          1.0157638005717105,
          -1.2125999335057973,
          -0.7869056414224349
         ],
         "yaxis": "y2"
        },
        {
         "line": {
          "color": "rgba(128, 128, 128, 1.0)",
          "dash": "solid",
          "shape": "linear",
          "width": 1.3
         },
         "marker": {
          "size": 2,
          "symbol": "circle"
         },
         "mode": "markers",
         "name": "A",
         "text": "",
         "type": "scatter",
         "x": [
          0.8798245268512644,
          1.3570283033026354,
          1.9749121492940394,
          -1.053528469740966,
          -1.560386785340817,
          1.1388140116813792,
          0.18974961491421344,
          -0.5478264985107293,
          -1.1539249337613273,
          0.8874089996735028,
          -0.05691535188208471,
          0.7770129188124023,
          0.15309817166302805,
          0.16303265459883862,
          -1.4589565959752056,
          -1.7568132075093177,
          2.0863651523643836,
          -0.5709529842718767,
          0.8171735177928228,
          -0.9529735238883316,
          -1.4435332935187561,
          0.5291322365209097,
          0.590287111313805,
          2.0760558580311894,
          2.770519340679483,
          -1.6743154464994718,
          0.9909732859885614,
          1.4782185687998004,
          -0.09278257147140048,
          -0.20689856021378225,
          -0.060082151233758624,
          -0.4549282575190898,
          -2.798225397178623,
          -0.006120247766301646,
          -1.3445715700628214,
          -1.4466365769851819,
          0.2133185589128615,
          -0.32532507006367706,
          1.6286082407494962,
          0.3665395111067651,
          -0.8570393860081226,
          -0.5330012851626166,
          -0.7330412728606085,
          0.39520030272126844,
          -0.328970288722901,
          -2.291935837607325,
          -2.219382875606811,
          1.0050207754278548,
          0.8967059681804674,
          0.7728364986156984,
          -0.4455073981285349,
          -0.7256203081566854,
          -0.1305693944777659,
          -1.3713800857013108,
          -1.8091829986953307,
          -0.23298256037994072,
          -1.8533887856146967,
          0.1721245840219928,
          -1.2813291019196724,
          0.43920160088386334,
          1.2497325365573007,
          -0.11020114414414621,
          0.005641545615314567,
          1.0288602893831988,
          0.4220034532490604,
          -1.2565242509824988,
          -2.0769825586982384,
          -0.03699527667130005,
          1.523715050790172,
          2.0276688810134633,
          -0.06060921744804393,
          -0.16764490626620826,
          -0.2254354082608133,
          0.12847522766802005,
          0.377071749142011,
          -1.2976063331996661,
          -0.6617309172668501,
          0.37072944613045744,
          0.7758699379596998,
          -0.6732095691953305,
          0.9252587961467202,
          0.9267484968797207,
          1.105761853017902,
          -2.444709796114457,
          0.07499096243692296,
          0.5693211122386654,
          -0.652432465524865,
          0.6588139565638953,
          0.018531855504759765,
          -1.0137255385987984,
          1.2993924328191087,
          -1.4653956133450676,
          0.6497028563590997,
          1.8499967179996188,
          1.946063550070373,
          -0.8016185890292232,
          1.0382047761068196,
          -0.3194117889309226,
          0.33599136356301956,
          0.7741509723290858
         ],
         "xaxis": "x3",
         "y": [
          -0.3335804497762339,
          0.00841020770573747,
          -0.2452486455726726,
          1.7550835292323625,
          -0.4124142608843169,
          0.08397452866741234,
          -1.3865662695296521,
          -0.5536159230768968,
          -0.6159733733331406,
          0.5351203760401979,
          0.6219906888015769,
          2.0936218973984544,
          0.44108665014911896,
          -0.416230235006025,
          0.9331183949846429,
          -0.7216605612758971,
          1.3390572677191115,
          0.6496069974394884,
          -0.7901367515093446,
          -0.3422059764483797,
          0.5373701215532392,
          1.7747753169553424,
          0.419529041757397,
          -0.10904889995774433,
          -2.0263048218045543,
          0.21622836105376003,
          -0.821922543917067,
          1.842131241717987,
          -1.265365165032051,
          0.8479452711578469,
          0.6156098386466577,
          0.15867622180468346,
          -1.238977024083961,
          0.7335419753028098,
          0.0512616782988629,
          1.4495571762852764,
          -0.4496751518589838,
          -0.330172000624211,
          -0.8929792515250653,
          2.205175209714804,
          -0.4538635156588506,
          2.2037334537380286,
          0.7417458154644216,
          -0.01924531610158195,
          0.5149129505912265,
          -0.8559027787490496,
          -1.2359804048231446,
          2.073959092442634,
          0.6912579520973061,
          -1.108283786227255,
          0.16942813801626458,
          -2.781043939921188,
          0.0885804145925267,
          -1.756318606323291,
          1.274483140059975,
          0.8438741973237249,
          1.043238681028487,
          0.8742390843303314,
          1.4704877215499943,
          -0.6540245721736407,
          -1.1275658316510941,
          0.8367878573651504,
          -0.7350001997710474,
          -0.11503001732679545,
          -0.1920425691420273,
          1.3367611859539756,
          0.31544010241881365,
          0.30833485067338146,
          -0.30446858143129724,
          0.09901607880407506,
          0.3280088371532466,
          0.3003499482732641,
          0.27812375549087964,
          -0.6621938785792102,
          0.5884359898684891,
          -1.4687335662247434,
          1.5961345007591994,
          -0.2519890600562586,
          1.5557835869903025,
          0.04462193969423287,
          0.15083076444693133,
          0.4082980181436096,
          -0.678370760026145,
          -0.0750391155180131,
          -1.0668798705652038,
          -0.9875792933502123,
          -2.7515517426231964,
          1.6668491718400256,
          -2.011343087200451,
          0.22068583475438497,
          1.0427267249140537,
          0.8666554855258551,
          1.4876746522797113,
          -0.12935479445954817,
          0.544861458818753,
          0.2590464861926635,
          -0.29858348018470654,
          1.0157638005717105,
          -1.2125999335057973,
          -0.7869056414224349
         ],
         "yaxis": "y3"
        },
        {
         "line": {
          "color": "rgba(128, 128, 128, 1.0)",
          "dash": "solid",
          "shape": "linear",
          "width": 1.3
         },
         "marker": {
          "size": 2,
          "symbol": "circle"
         },
         "mode": "markers",
         "name": "A",
         "text": "",
         "type": "scatter",
         "x": [
          -1.9198483031724256,
          -0.24329183540613608,
          0.6419997062319316,
          1.3521182772765474,
          0.5953524145895086,
          -0.3552352893647105,
          1.0915339646314302,
          0.6475280944502119,
          -0.774851217596859,
          -0.39637688379115565,
          -0.4230845617672878,
          0.22959960188263315,
          1.6948841348667674,
          1.1446841575735427,
          -2.2080553735626602,
          -0.30308059602206633,
          1.0806566946819762,
          -1.1216001403815672,
          -0.12520775316480504,
          1.3466925190085772,
          0.9462059084151903,
          0.8985744305856347,
          -1.64358228609394,
          0.6069791243187228,
          0.4223824309838147,
          0.8423595723635103,
          2.3980901509690193,
          -0.6415070968039709,
          -0.9975940538503272,
          -0.11550689048261797,
          2.0020036202933498,
          1.3662311734044508,
          0.479460223478841,
          0.5092066242214716,
          -1.5629385459288747,
          0.628865645676127,
          -0.7634899023056374,
          1.0248616097292713,
          1.6595211982791724,
          -2.0061602520171813,
          -0.7186614432370061,
          -0.4742543791027465,
          1.307551183314467,
          1.1743804854843325,
          0.7052145371823973,
          0.4799543593091343,
          -0.7009216406650326,
          -0.6746932653622134,
          -1.100313397740983,
          1.439377653494364,
          -0.31797347028181755,
          -0.874593483987904,
          1.909864020081642,
          1.3555632985489197,
          -1.5303080609636381,
          1.233317462598353,
          -0.06212854456042669,
          -1.83988537294752,
          0.5529455365082178,
          2.6805845051206223,
          -1.085617407002373,
          1.3827589034085064,
          1.4931540986489353,
          -1.830583458116591,
          2.2873533003201194,
          0.4538291090971322,
          -1.4015980942710253,
          -2.101484782143447,
          0.3850412422960206,
          -0.28960698710359245,
          -0.4010520642042657,
          1.2987085019055833,
          -0.6958314981432985,
          1.1722585020874166,
          -0.7857462390210691,
          1.5046211800677642,
          1.1521614492395316,
          1.104130661059711,
          -0.3180270974434549,
          -0.5170270701278834,
          -1.926258142950692,
          0.9116496592019908,
          0.16343145846718582,
          0.829446465394839,
          0.6912702589585954,
          -0.5780875528080383,
          -0.19423361876038497,
          -1.1404559525272475,
          0.36132644570637024,
          -0.06963216123953414,
          -0.21478317152142276,
          -2.1383624044570757,
          1.3604530205933243,
          -0.02833867735545919,
          1.0995634743246747,
          0.6372366447919425,
          -0.42141871269977116,
          0.7504607745939308,
          -0.4335204360951008,
          0.6529644865979116
         ],
         "xaxis": "x4",
         "y": [
          -0.3335804497762339,
          0.00841020770573747,
          -0.2452486455726726,
          1.7550835292323625,
          -0.4124142608843169,
          0.08397452866741234,
          -1.3865662695296521,
          -0.5536159230768968,
          -0.6159733733331406,
          0.5351203760401979,
          0.6219906888015769,
          2.0936218973984544,
          0.44108665014911896,
          -0.416230235006025,
          0.9331183949846429,
          -0.7216605612758971,
          1.3390572677191115,
          0.6496069974394884,
          -0.7901367515093446,
          -0.3422059764483797,
          0.5373701215532392,
          1.7747753169553424,
          0.419529041757397,
          -0.10904889995774433,
          -2.0263048218045543,
          0.21622836105376003,
          -0.821922543917067,
          1.842131241717987,
          -1.265365165032051,
          0.8479452711578469,
          0.6156098386466577,
          0.15867622180468346,
          -1.238977024083961,
          0.7335419753028098,
          0.0512616782988629,
          1.4495571762852764,
          -0.4496751518589838,
          -0.330172000624211,
          -0.8929792515250653,
          2.205175209714804,
          -0.4538635156588506,
          2.2037334537380286,
          0.7417458154644216,
          -0.01924531610158195,
          0.5149129505912265,
          -0.8559027787490496,
          -1.2359804048231446,
          2.073959092442634,
          0.6912579520973061,
          -1.108283786227255,
          0.16942813801626458,
          -2.781043939921188,
          0.0885804145925267,
          -1.756318606323291,
          1.274483140059975,
          0.8438741973237249,
          1.043238681028487,
          0.8742390843303314,
          1.4704877215499943,
          -0.6540245721736407,
          -1.1275658316510941,
          0.8367878573651504,
          -0.7350001997710474,
          -0.11503001732679545,
          -0.1920425691420273,
          1.3367611859539756,
          0.31544010241881365,
          0.30833485067338146,
          -0.30446858143129724,
          0.09901607880407506,
          0.3280088371532466,
          0.3003499482732641,
          0.27812375549087964,
          -0.6621938785792102,
          0.5884359898684891,
          -1.4687335662247434,
          1.5961345007591994,
          -0.2519890600562586,
          1.5557835869903025,
          0.04462193969423287,
          0.15083076444693133,
          0.4082980181436096,
          -0.678370760026145,
          -0.0750391155180131,
          -1.0668798705652038,
          -0.9875792933502123,
          -2.7515517426231964,
          1.6668491718400256,
          -2.011343087200451,
          0.22068583475438497,
          1.0427267249140537,
          0.8666554855258551,
          1.4876746522797113,
          -0.12935479445954817,
          0.544861458818753,
          0.2590464861926635,
          -0.29858348018470654,
          1.0157638005717105,
          -1.2125999335057973,
          -0.7869056414224349
         ],
         "yaxis": "y4"
        },
        {
         "line": {
          "color": "rgba(128, 128, 128, 1.0)",
          "dash": "solid",
          "shape": "linear",
          "width": 1.3
         },
         "marker": {
          "size": 2,
          "symbol": "circle"
         },
         "mode": "markers",
         "name": "A",
         "text": "",
         "type": "scatter",
         "x": [
          -1.8839552638761043,
          -1.4222817243492196,
          0.2439336106390916,
          -0.3022115945065196,
          -1.1116255926474479,
          -0.13846855609245293,
          -0.6352316093943358,
          -1.6741868974608256,
          -1.0874216392138512,
          -1.727874886025039,
          0.6068689036503123,
          1.606811739024369,
          -0.7544366227941612,
          2.0380068491611185,
          -0.41478932093402,
          0.7142095505760002,
          -0.017473896869972794,
          -0.854025343130081,
          0.17112312466754392,
          2.5949210831298983,
          -0.3368952398061639,
          -0.5018141764171291,
          -0.2291538464895462,
          1.7865692974483998,
          -0.5194435804480518,
          0.06767539551418716,
          -0.09300004854212413,
          -1.2127175883760892,
          1.942643225757587,
          0.8878018149978713,
          -1.1809781153260683,
          0.2575919645669953,
          -0.6769032747176147,
          0.01014174877601857,
          2.885642130181955,
          -0.7049165847816975,
          -0.4967452753515838,
          -0.15303974924473007,
          1.62343094257325,
          0.30504135057356546,
          0.8135619495047793,
          0.13859734831440887,
          0.9409094898287858,
          -2.106150798000945,
          -0.9727829821770161,
          -0.49535544612192495,
          -1.3610308308674985,
          -1.8962982399982888,
          -0.7253845761849583,
          -0.7168960746976729,
          0.37029744211770654,
          0.8598123725308865,
          0.8461573465522495,
          -0.6046059434358252,
          -0.10992922641504047,
          -2.0891817672460156,
          -0.4063293893196075,
          0.2757867175136207,
          0.8774299519146228,
          -2.2757649437521903,
          -0.45757232015356514,
          -0.17936223143712166,
          0.17476001282787101,
          0.9290796655113206,
          -1.8732214794720277,
          1.242753534277087,
          0.1066039488907477,
          0.9433387503335581,
          1.6896852590146096,
          1.0510034273696693,
          1.6134414015773315,
          -1.8868368147054095,
          0.04411536657854227,
          1.4055080886554139,
          -0.4794134388164445,
          -0.8810855398463338,
          1.5117001240378032,
          -0.22294664515737564,
          -0.1304669186370773,
          0.37964353796601175,
          -0.5790014297236573,
          -0.6127310043576752,
          1.2031065883968466,
          0.16998909148348326,
          -0.06292258556163698,
          0.5494619741500407,
          -0.18506065027833485,
          -0.18448527937520084,
          -1.4254380406342864,
          -1.7079349491429474,
          -0.9371196134892642,
          0.7528973069243526,
          0.01649536172771896,
          0.7025745920667116,
          -1.5521217053670775,
          1.646999567576793,
          0.7663500834926468,
          -0.06438797934787864,
          -0.2584312528743698,
          0.300277201635679
         ],
         "xaxis": "x5",
         "y": [
          -0.3335804497762339,
          0.00841020770573747,
          -0.2452486455726726,
          1.7550835292323625,
          -0.4124142608843169,
          0.08397452866741234,
          -1.3865662695296521,
          -0.5536159230768968,
          -0.6159733733331406,
          0.5351203760401979,
          0.6219906888015769,
          2.0936218973984544,
          0.44108665014911896,
          -0.416230235006025,
          0.9331183949846429,
          -0.7216605612758971,
          1.3390572677191115,
          0.6496069974394884,
          -0.7901367515093446,
          -0.3422059764483797,
          0.5373701215532392,
          1.7747753169553424,
          0.419529041757397,
          -0.10904889995774433,
          -2.0263048218045543,
          0.21622836105376003,
          -0.821922543917067,
          1.842131241717987,
          -1.265365165032051,
          0.8479452711578469,
          0.6156098386466577,
          0.15867622180468346,
          -1.238977024083961,
          0.7335419753028098,
          0.0512616782988629,
          1.4495571762852764,
          -0.4496751518589838,
          -0.330172000624211,
          -0.8929792515250653,
          2.205175209714804,
          -0.4538635156588506,
          2.2037334537380286,
          0.7417458154644216,
          -0.01924531610158195,
          0.5149129505912265,
          -0.8559027787490496,
          -1.2359804048231446,
          2.073959092442634,
          0.6912579520973061,
          -1.108283786227255,
          0.16942813801626458,
          -2.781043939921188,
          0.0885804145925267,
          -1.756318606323291,
          1.274483140059975,
          0.8438741973237249,
          1.043238681028487,
          0.8742390843303314,
          1.4704877215499943,
          -0.6540245721736407,
          -1.1275658316510941,
          0.8367878573651504,
          -0.7350001997710474,
          -0.11503001732679545,
          -0.1920425691420273,
          1.3367611859539756,
          0.31544010241881365,
          0.30833485067338146,
          -0.30446858143129724,
          0.09901607880407506,
          0.3280088371532466,
          0.3003499482732641,
          0.27812375549087964,
          -0.6621938785792102,
          0.5884359898684891,
          -1.4687335662247434,
          1.5961345007591994,
          -0.2519890600562586,
          1.5557835869903025,
          0.04462193969423287,
          0.15083076444693133,
          0.4082980181436096,
          -0.678370760026145,
          -0.0750391155180131,
          -1.0668798705652038,
          -0.9875792933502123,
          -2.7515517426231964,
          1.6668491718400256,
          -2.011343087200451,
          0.22068583475438497,
          1.0427267249140537,
          0.8666554855258551,
          1.4876746522797113,
          -0.12935479445954817,
          0.544861458818753,
          0.2590464861926635,
          -0.29858348018470654,
          1.0157638005717105,
          -1.2125999335057973,
          -0.7869056414224349
         ],
         "yaxis": "y5"
        },
        {
         "line": {
          "color": "rgba(128, 128, 128, 1.0)",
          "dash": "solid",
          "shape": "linear",
          "width": 1.3
         },
         "marker": {
          "size": 2,
          "symbol": "circle"
         },
         "mode": "markers",
         "name": "B",
         "text": "",
         "type": "scatter",
         "x": [
          -0.3335804497762339,
          0.00841020770573747,
          -0.2452486455726726,
          1.7550835292323625,
          -0.4124142608843169,
          0.08397452866741234,
          -1.3865662695296521,
          -0.5536159230768968,
          -0.6159733733331406,
          0.5351203760401979,
          0.6219906888015769,
          2.0936218973984544,
          0.44108665014911896,
          -0.416230235006025,
          0.9331183949846429,
          -0.7216605612758971,
          1.3390572677191115,
          0.6496069974394884,
          -0.7901367515093446,
          -0.3422059764483797,
          0.5373701215532392,
          1.7747753169553424,
          0.419529041757397,
          -0.10904889995774433,
          -2.0263048218045543,
          0.21622836105376003,
          -0.821922543917067,
          1.842131241717987,
          -1.265365165032051,
          0.8479452711578469,
          0.6156098386466577,
          0.15867622180468346,
          -1.238977024083961,
          0.7335419753028098,
          0.0512616782988629,
          1.4495571762852764,
          -0.4496751518589838,
          -0.330172000624211,
          -0.8929792515250653,
          2.205175209714804,
          -0.4538635156588506,
          2.2037334537380286,
          0.7417458154644216,
          -0.01924531610158195,
          0.5149129505912265,
          -0.8559027787490496,
          -1.2359804048231446,
          2.073959092442634,
          0.6912579520973061,
          -1.108283786227255,
          0.16942813801626458,
          -2.781043939921188,
          0.0885804145925267,
          -1.756318606323291,
          1.274483140059975,
          0.8438741973237249,
          1.043238681028487,
          0.8742390843303314,
          1.4704877215499943,
          -0.6540245721736407,
          -1.1275658316510941,
          0.8367878573651504,
          -0.7350001997710474,
          -0.11503001732679545,
          -0.1920425691420273,
          1.3367611859539756,
          0.31544010241881365,
          0.30833485067338146,
          -0.30446858143129724,
          0.09901607880407506,
          0.3280088371532466,
          0.3003499482732641,
          0.27812375549087964,
          -0.6621938785792102,
          0.5884359898684891,
          -1.4687335662247434,
          1.5961345007591994,
          -0.2519890600562586,
          1.5557835869903025,
          0.04462193969423287,
          0.15083076444693133,
          0.4082980181436096,
          -0.678370760026145,
          -0.0750391155180131,
          -1.0668798705652038,
          -0.9875792933502123,
          -2.7515517426231964,
          1.6668491718400256,
          -2.011343087200451,
          0.22068583475438497,
          1.0427267249140537,
          0.8666554855258551,
          1.4876746522797113,
          -0.12935479445954817,
          0.544861458818753,
          0.2590464861926635,
          -0.29858348018470654,
          1.0157638005717105,
          -1.2125999335057973,
          -0.7869056414224349
         ],
         "xaxis": "x6",
         "y": [
          1.2656119006442414,
          0.11172189872330608,
          2.4441405083498084,
          0.021263530711874312,
          -0.09762074893880836,
          -2.841439832791632,
          0.3606689299126568,
          0.6100067499256379,
          0.46938226746429257,
          1.0409351529187922,
          -0.10530897127620471,
          -0.7839565480168238,
          1.312981092013129,
          0.9168981441738603,
          -0.45747230576020353,
          1.019246343752088,
          1.035506744391563,
          -0.2017921322897468,
          1.541948116644562,
          -0.8547194343811696,
          -0.5159114150487076,
          0.6205665175937206,
          -1.4708434724308213,
          -0.7028787223375108,
          0.4566743660520509,
          0.5175867306902976,
          2.307306044925076,
          0.6335984216611076,
          -1.169581749814845,
          -0.8049516945379682,
          0.8376752575918941,
          -0.7965999170117269,
          1.5701411435733117,
          0.010738407292215393,
          -1.9476656494682059,
          0.7994896822584975,
          0.9916380277779536,
          -0.8259760625515664,
          -0.7750424611682585,
          -1.000212958965001,
          -0.002153372965835309,
          1.1241098204562403,
          -0.8933357174684814,
          0.14031630340664777,
          0.7796311582424318,
          -2.545378779470004,
          -0.43196973909652,
          -0.11648151266855052,
          0.4066225349475821,
          1.5668326084368156,
          0.0285716881764873,
          1.3441761736057165,
          -0.5523062721586132,
          -0.7157409903930229,
          0.7327498495190612,
          0.30060721324231693,
          0.7133267785007691,
          0.19911508044327778,
          -0.19545960190474662,
          0.6853459741633252,
          -2.127835130345152,
          2.0218196475959336,
          2.1780440617017196,
          2.224401011317823,
          1.165437639520588,
          -0.14759125561131795,
          -0.8113337078873021,
          1.2284972728337857,
          -0.1894385534744078,
          -0.004967028126192879,
          -0.9774278378969505,
          0.9833612559553154,
          -0.23714912708878444,
          0.8726089987499858,
          -0.8389751407305852,
          0.3909661637510026,
          -1.1694495652685963,
          -1.9807748615515484,
          0.4096619399418116,
          1.1594638854247026,
          -1.0171361899301976,
          -1.0048963714697148,
          -0.36924529104358444,
          0.1286784085603135,
          0.7038172729883474,
          -0.9919135098509365,
          -0.29941507106034404,
          0.6134501808248138,
          -0.5951458647500463,
          0.254523959598943,
          0.24629150821694917,
          -1.3603994825182804,
          0.4749977182782207,
          -1.9947392736919967,
          3.508885086749131,
          0.9521474983011023,
          -0.421561079901927,
          1.686899295360436,
          -0.03997823528199046,
          -0.22909054223546957
         ],
         "yaxis": "y6"
        },
        {
         "histfunc": "count",
         "histnorm": "",
         "marker": {
          "color": "rgba(55, 128, 191, 1.0)",
          "line": {
           "color": "#4D5663",
           "width": 1.3
          }
         },
         "name": "B",
         "nbinsx": 10,
         "opacity": 0.8,
         "orientation": "v",
         "type": "histogram",
         "x": [
          1.2656119006442414,
          0.11172189872330608,
          2.4441405083498084,
          0.021263530711874312,
          -0.09762074893880836,
          -2.841439832791632,
          0.3606689299126568,
          0.6100067499256379,
          0.46938226746429257,
          1.0409351529187922,
          -0.10530897127620471,
          -0.7839565480168238,
          1.312981092013129,
          0.9168981441738603,
          -0.45747230576020353,
          1.019246343752088,
          1.035506744391563,
          -0.2017921322897468,
          1.541948116644562,
          -0.8547194343811696,
          -0.5159114150487076,
          0.6205665175937206,
          -1.4708434724308213,
          -0.7028787223375108,
          0.4566743660520509,
          0.5175867306902976,
          2.307306044925076,
          0.6335984216611076,
          -1.169581749814845,
          -0.8049516945379682,
          0.8376752575918941,
          -0.7965999170117269,
          1.5701411435733117,
          0.010738407292215393,
          -1.9476656494682059,
          0.7994896822584975,
          0.9916380277779536,
          -0.8259760625515664,
          -0.7750424611682585,
          -1.000212958965001,
          -0.002153372965835309,
          1.1241098204562403,
          -0.8933357174684814,
          0.14031630340664777,
          0.7796311582424318,
          -2.545378779470004,
          -0.43196973909652,
          -0.11648151266855052,
          0.4066225349475821,
          1.5668326084368156,
          0.0285716881764873,
          1.3441761736057165,
          -0.5523062721586132,
          -0.7157409903930229,
          0.7327498495190612,
          0.30060721324231693,
          0.7133267785007691,
          0.19911508044327778,
          -0.19545960190474662,
          0.6853459741633252,
          -2.127835130345152,
          2.0218196475959336,
          2.1780440617017196,
          2.224401011317823,
          1.165437639520588,
          -0.14759125561131795,
          -0.8113337078873021,
          1.2284972728337857,
          -0.1894385534744078,
          -0.004967028126192879,
          -0.9774278378969505,
          0.9833612559553154,
          -0.23714912708878444,
          0.8726089987499858,
          -0.8389751407305852,
          0.3909661637510026,
          -1.1694495652685963,
          -1.9807748615515484,
          0.4096619399418116,
          1.1594638854247026,
          -1.0171361899301976,
          -1.0048963714697148,
          -0.36924529104358444,
          0.1286784085603135,
          0.7038172729883474,
          -0.9919135098509365,
          -0.29941507106034404,
          0.6134501808248138,
          -0.5951458647500463,
          0.254523959598943,
          0.24629150821694917,
          -1.3603994825182804,
          0.4749977182782207,
          -1.9947392736919967,
          3.508885086749131,
          0.9521474983011023,
          -0.421561079901927,
          1.686899295360436,
          -0.03997823528199046,
          -0.22909054223546957
         ],
         "xaxis": "x7",
         "yaxis": "y7"
        },
        {
         "line": {
          "color": "rgba(128, 128, 128, 1.0)",
          "dash": "solid",
          "shape": "linear",
          "width": 1.3
         },
         "marker": {
          "size": 2,
          "symbol": "circle"
         },
         "mode": "markers",
         "name": "B",
         "text": "",
         "type": "scatter",
         "x": [
          0.8798245268512644,
          1.3570283033026354,
          1.9749121492940394,
          -1.053528469740966,
          -1.560386785340817,
          1.1388140116813792,
          0.18974961491421344,
          -0.5478264985107293,
          -1.1539249337613273,
          0.8874089996735028,
          -0.05691535188208471,
          0.7770129188124023,
          0.15309817166302805,
          0.16303265459883862,
          -1.4589565959752056,
          -1.7568132075093177,
          2.0863651523643836,
          -0.5709529842718767,
          0.8171735177928228,
          -0.9529735238883316,
          -1.4435332935187561,
          0.5291322365209097,
          0.590287111313805,
          2.0760558580311894,
          2.770519340679483,
          -1.6743154464994718,
          0.9909732859885614,
          1.4782185687998004,
          -0.09278257147140048,
          -0.20689856021378225,
          -0.060082151233758624,
          -0.4549282575190898,
          -2.798225397178623,
          -0.006120247766301646,
          -1.3445715700628214,
          -1.4466365769851819,
          0.2133185589128615,
          -0.32532507006367706,
          1.6286082407494962,
          0.3665395111067651,
          -0.8570393860081226,
          -0.5330012851626166,
          -0.7330412728606085,
          0.39520030272126844,
          -0.328970288722901,
          -2.291935837607325,
          -2.219382875606811,
          1.0050207754278548,
          0.8967059681804674,
          0.7728364986156984,
          -0.4455073981285349,
          -0.7256203081566854,
          -0.1305693944777659,
          -1.3713800857013108,
          -1.8091829986953307,
          -0.23298256037994072,
          -1.8533887856146967,
          0.1721245840219928,
          -1.2813291019196724,
          0.43920160088386334,
          1.2497325365573007,
          -0.11020114414414621,
          0.005641545615314567,
          1.0288602893831988,
          0.4220034532490604,
          -1.2565242509824988,
          -2.0769825586982384,
          -0.03699527667130005,
          1.523715050790172,
          2.0276688810134633,
          -0.06060921744804393,
          -0.16764490626620826,
          -0.2254354082608133,
          0.12847522766802005,
          0.377071749142011,
          -1.2976063331996661,
          -0.6617309172668501,
          0.37072944613045744,
          0.7758699379596998,
          -0.6732095691953305,
          0.9252587961467202,
          0.9267484968797207,
          1.105761853017902,
          -2.444709796114457,
          0.07499096243692296,
          0.5693211122386654,
          -0.652432465524865,
          0.6588139565638953,
          0.018531855504759765,
          -1.0137255385987984,
          1.2993924328191087,
          -1.4653956133450676,
          0.6497028563590997,
          1.8499967179996188,
          1.946063550070373,
          -0.8016185890292232,
          1.0382047761068196,
          -0.3194117889309226,
          0.33599136356301956,
          0.7741509723290858
         ],
         "xaxis": "x8",
         "y": [
          1.2656119006442414,
          0.11172189872330608,
          2.4441405083498084,
          0.021263530711874312,
          -0.09762074893880836,
          -2.841439832791632,
          0.3606689299126568,
          0.6100067499256379,
          0.46938226746429257,
          1.0409351529187922,
          -0.10530897127620471,
          -0.7839565480168238,
          1.312981092013129,
          0.9168981441738603,
          -0.45747230576020353,
          1.019246343752088,
          1.035506744391563,
          -0.2017921322897468,
          1.541948116644562,
          -0.8547194343811696,
          -0.5159114150487076,
          0.6205665175937206,
          -1.4708434724308213,
          -0.7028787223375108,
          0.4566743660520509,
          0.5175867306902976,
          2.307306044925076,
          0.6335984216611076,
          -1.169581749814845,
          -0.8049516945379682,
          0.8376752575918941,
          -0.7965999170117269,
          1.5701411435733117,
          0.010738407292215393,
          -1.9476656494682059,
          0.7994896822584975,
          0.9916380277779536,
          -0.8259760625515664,
          -0.7750424611682585,
          -1.000212958965001,
          -0.002153372965835309,
          1.1241098204562403,
          -0.8933357174684814,
          0.14031630340664777,
          0.7796311582424318,
          -2.545378779470004,
          -0.43196973909652,
          -0.11648151266855052,
          0.4066225349475821,
          1.5668326084368156,
          0.0285716881764873,
          1.3441761736057165,
          -0.5523062721586132,
          -0.7157409903930229,
          0.7327498495190612,
          0.30060721324231693,
          0.7133267785007691,
          0.19911508044327778,
          -0.19545960190474662,
          0.6853459741633252,
          -2.127835130345152,
          2.0218196475959336,
          2.1780440617017196,
          2.224401011317823,
          1.165437639520588,
          -0.14759125561131795,
          -0.8113337078873021,
          1.2284972728337857,
          -0.1894385534744078,
          -0.004967028126192879,
          -0.9774278378969505,
          0.9833612559553154,
          -0.23714912708878444,
          0.8726089987499858,
          -0.8389751407305852,
          0.3909661637510026,
          -1.1694495652685963,
          -1.9807748615515484,
          0.4096619399418116,
          1.1594638854247026,
          -1.0171361899301976,
          -1.0048963714697148,
          -0.36924529104358444,
          0.1286784085603135,
          0.7038172729883474,
          -0.9919135098509365,
          -0.29941507106034404,
          0.6134501808248138,
          -0.5951458647500463,
          0.254523959598943,
          0.24629150821694917,
          -1.3603994825182804,
          0.4749977182782207,
          -1.9947392736919967,
          3.508885086749131,
          0.9521474983011023,
          -0.421561079901927,
          1.686899295360436,
          -0.03997823528199046,
          -0.22909054223546957
         ],
         "yaxis": "y8"
        },
        {
         "line": {
          "color": "rgba(128, 128, 128, 1.0)",
          "dash": "solid",
          "shape": "linear",
          "width": 1.3
         },
         "marker": {
          "size": 2,
          "symbol": "circle"
         },
         "mode": "markers",
         "name": "B",
         "text": "",
         "type": "scatter",
         "x": [
          -1.9198483031724256,
          -0.24329183540613608,
          0.6419997062319316,
          1.3521182772765474,
          0.5953524145895086,
          -0.3552352893647105,
          1.0915339646314302,
          0.6475280944502119,
          -0.774851217596859,
          -0.39637688379115565,
          -0.4230845617672878,
          0.22959960188263315,
          1.6948841348667674,
          1.1446841575735427,
          -2.2080553735626602,
          -0.30308059602206633,
          1.0806566946819762,
          -1.1216001403815672,
          -0.12520775316480504,
          1.3466925190085772,
          0.9462059084151903,
          0.8985744305856347,
          -1.64358228609394,
          0.6069791243187228,
          0.4223824309838147,
          0.8423595723635103,
          2.3980901509690193,
          -0.6415070968039709,
          -0.9975940538503272,
          -0.11550689048261797,
          2.0020036202933498,
          1.3662311734044508,
          0.479460223478841,
          0.5092066242214716,
          -1.5629385459288747,
          0.628865645676127,
          -0.7634899023056374,
          1.0248616097292713,
          1.6595211982791724,
          -2.0061602520171813,
          -0.7186614432370061,
          -0.4742543791027465,
          1.307551183314467,
          1.1743804854843325,
          0.7052145371823973,
          0.4799543593091343,
          -0.7009216406650326,
          -0.6746932653622134,
          -1.100313397740983,
          1.439377653494364,
          -0.31797347028181755,
          -0.874593483987904,
          1.909864020081642,
          1.3555632985489197,
          -1.5303080609636381,
          1.233317462598353,
          -0.06212854456042669,
          -1.83988537294752,
          0.5529455365082178,
          2.6805845051206223,
          -1.085617407002373,
          1.3827589034085064,
          1.4931540986489353,
          -1.830583458116591,
          2.2873533003201194,
          0.4538291090971322,
          -1.4015980942710253,
          -2.101484782143447,
          0.3850412422960206,
          -0.28960698710359245,
          -0.4010520642042657,
          1.2987085019055833,
          -0.6958314981432985,
          1.1722585020874166,
          -0.7857462390210691,
          1.5046211800677642,
          1.1521614492395316,
          1.104130661059711,
          -0.3180270974434549,
          -0.5170270701278834,
          -1.926258142950692,
          0.9116496592019908,
          0.16343145846718582,
          0.829446465394839,
          0.6912702589585954,
          -0.5780875528080383,
          -0.19423361876038497,
          -1.1404559525272475,
          0.36132644570637024,
          -0.06963216123953414,
          -0.21478317152142276,
          -2.1383624044570757,
          1.3604530205933243,
          -0.02833867735545919,
          1.0995634743246747,
          0.6372366447919425,
          -0.42141871269977116,
          0.7504607745939308,
          -0.4335204360951008,
          0.6529644865979116
         ],
         "xaxis": "x9",
         "y": [
          1.2656119006442414,
          0.11172189872330608,
          2.4441405083498084,
          0.021263530711874312,
          -0.09762074893880836,
          -2.841439832791632,
          0.3606689299126568,
          0.6100067499256379,
          0.46938226746429257,
          1.0409351529187922,
          -0.10530897127620471,
          -0.7839565480168238,
          1.312981092013129,
          0.9168981441738603,
          -0.45747230576020353,
          1.019246343752088,
          1.035506744391563,
          -0.2017921322897468,
          1.541948116644562,
          -0.8547194343811696,
          -0.5159114150487076,
          0.6205665175937206,
          -1.4708434724308213,
          -0.7028787223375108,
          0.4566743660520509,
          0.5175867306902976,
          2.307306044925076,
          0.6335984216611076,
          -1.169581749814845,
          -0.8049516945379682,
          0.8376752575918941,
          -0.7965999170117269,
          1.5701411435733117,
          0.010738407292215393,
          -1.9476656494682059,
          0.7994896822584975,
          0.9916380277779536,
          -0.8259760625515664,
          -0.7750424611682585,
          -1.000212958965001,
          -0.002153372965835309,
          1.1241098204562403,
          -0.8933357174684814,
          0.14031630340664777,
          0.7796311582424318,
          -2.545378779470004,
          -0.43196973909652,
          -0.11648151266855052,
          0.4066225349475821,
          1.5668326084368156,
          0.0285716881764873,
          1.3441761736057165,
          -0.5523062721586132,
          -0.7157409903930229,
          0.7327498495190612,
          0.30060721324231693,
          0.7133267785007691,
          0.19911508044327778,
          -0.19545960190474662,
          0.6853459741633252,
          -2.127835130345152,
          2.0218196475959336,
          2.1780440617017196,
          2.224401011317823,
          1.165437639520588,
          -0.14759125561131795,
          -0.8113337078873021,
          1.2284972728337857,
          -0.1894385534744078,
          -0.004967028126192879,
          -0.9774278378969505,
          0.9833612559553154,
          -0.23714912708878444,
          0.8726089987499858,
          -0.8389751407305852,
          0.3909661637510026,
          -1.1694495652685963,
          -1.9807748615515484,
          0.4096619399418116,
          1.1594638854247026,
          -1.0171361899301976,
          -1.0048963714697148,
          -0.36924529104358444,
          0.1286784085603135,
          0.7038172729883474,
          -0.9919135098509365,
          -0.29941507106034404,
          0.6134501808248138,
          -0.5951458647500463,
          0.254523959598943,
          0.24629150821694917,
          -1.3603994825182804,
          0.4749977182782207,
          -1.9947392736919967,
          3.508885086749131,
          0.9521474983011023,
          -0.421561079901927,
          1.686899295360436,
          -0.03997823528199046,
          -0.22909054223546957
         ],
         "yaxis": "y9"
        },
        {
         "line": {
          "color": "rgba(128, 128, 128, 1.0)",
          "dash": "solid",
          "shape": "linear",
          "width": 1.3
         },
         "marker": {
          "size": 2,
          "symbol": "circle"
         },
         "mode": "markers",
         "name": "B",
         "text": "",
         "type": "scatter",
         "x": [
          -1.8839552638761043,
          -1.4222817243492196,
          0.2439336106390916,
          -0.3022115945065196,
          -1.1116255926474479,
          -0.13846855609245293,
          -0.6352316093943358,
          -1.6741868974608256,
          -1.0874216392138512,
          -1.727874886025039,
          0.6068689036503123,
          1.606811739024369,
          -0.7544366227941612,
          2.0380068491611185,
          -0.41478932093402,
          0.7142095505760002,
          -0.017473896869972794,
          -0.854025343130081,
          0.17112312466754392,
          2.5949210831298983,
          -0.3368952398061639,
          -0.5018141764171291,
          -0.2291538464895462,
          1.7865692974483998,
          -0.5194435804480518,
          0.06767539551418716,
          -0.09300004854212413,
          -1.2127175883760892,
          1.942643225757587,
          0.8878018149978713,
          -1.1809781153260683,
          0.2575919645669953,
          -0.6769032747176147,
          0.01014174877601857,
          2.885642130181955,
          -0.7049165847816975,
          -0.4967452753515838,
          -0.15303974924473007,
          1.62343094257325,
          0.30504135057356546,
          0.8135619495047793,
          0.13859734831440887,
          0.9409094898287858,
          -2.106150798000945,
          -0.9727829821770161,
          -0.49535544612192495,
          -1.3610308308674985,
          -1.8962982399982888,
          -0.7253845761849583,
          -0.7168960746976729,
          0.37029744211770654,
          0.8598123725308865,
          0.8461573465522495,
          -0.6046059434358252,
          -0.10992922641504047,
          -2.0891817672460156,
          -0.4063293893196075,
          0.2757867175136207,
          0.8774299519146228,
          -2.2757649437521903,
          -0.45757232015356514,
          -0.17936223143712166,
          0.17476001282787101,
          0.9290796655113206,
          -1.8732214794720277,
          1.242753534277087,
          0.1066039488907477,
          0.9433387503335581,
          1.6896852590146096,
          1.0510034273696693,
          1.6134414015773315,
          -1.8868368147054095,
          0.04411536657854227,
          1.4055080886554139,
          -0.4794134388164445,
          -0.8810855398463338,
          1.5117001240378032,
          -0.22294664515737564,
          -0.1304669186370773,
          0.37964353796601175,
          -0.5790014297236573,
          -0.6127310043576752,
          1.2031065883968466,
          0.16998909148348326,
          -0.06292258556163698,
          0.5494619741500407,
          -0.18506065027833485,
          -0.18448527937520084,
          -1.4254380406342864,
          -1.7079349491429474,
          -0.9371196134892642,
          0.7528973069243526,
          0.01649536172771896,
          0.7025745920667116,
          -1.5521217053670775,
          1.646999567576793,
          0.7663500834926468,
          -0.06438797934787864,
          -0.2584312528743698,
          0.300277201635679
         ],
         "xaxis": "x10",
         "y": [
          1.2656119006442414,
          0.11172189872330608,
          2.4441405083498084,
          0.021263530711874312,
          -0.09762074893880836,
          -2.841439832791632,
          0.3606689299126568,
          0.6100067499256379,
          0.46938226746429257,
          1.0409351529187922,
          -0.10530897127620471,
          -0.7839565480168238,
          1.312981092013129,
          0.9168981441738603,
          -0.45747230576020353,
          1.019246343752088,
          1.035506744391563,
          -0.2017921322897468,
          1.541948116644562,
          -0.8547194343811696,
          -0.5159114150487076,
          0.6205665175937206,
          -1.4708434724308213,
          -0.7028787223375108,
          0.4566743660520509,
          0.5175867306902976,
          2.307306044925076,
          0.6335984216611076,
          -1.169581749814845,
          -0.8049516945379682,
          0.8376752575918941,
          -0.7965999170117269,
          1.5701411435733117,
          0.010738407292215393,
          -1.9476656494682059,
          0.7994896822584975,
          0.9916380277779536,
          -0.8259760625515664,
          -0.7750424611682585,
          -1.000212958965001,
          -0.002153372965835309,
          1.1241098204562403,
          -0.8933357174684814,
          0.14031630340664777,
          0.7796311582424318,
          -2.545378779470004,
          -0.43196973909652,
          -0.11648151266855052,
          0.4066225349475821,
          1.5668326084368156,
          0.0285716881764873,
          1.3441761736057165,
          -0.5523062721586132,
          -0.7157409903930229,
          0.7327498495190612,
          0.30060721324231693,
          0.7133267785007691,
          0.19911508044327778,
          -0.19545960190474662,
          0.6853459741633252,
          -2.127835130345152,
          2.0218196475959336,
          2.1780440617017196,
          2.224401011317823,
          1.165437639520588,
          -0.14759125561131795,
          -0.8113337078873021,
          1.2284972728337857,
          -0.1894385534744078,
          -0.004967028126192879,
          -0.9774278378969505,
          0.9833612559553154,
          -0.23714912708878444,
          0.8726089987499858,
          -0.8389751407305852,
          0.3909661637510026,
          -1.1694495652685963,
          -1.9807748615515484,
          0.4096619399418116,
          1.1594638854247026,
          -1.0171361899301976,
          -1.0048963714697148,
          -0.36924529104358444,
          0.1286784085603135,
          0.7038172729883474,
          -0.9919135098509365,
          -0.29941507106034404,
          0.6134501808248138,
          -0.5951458647500463,
          0.254523959598943,
          0.24629150821694917,
          -1.3603994825182804,
          0.4749977182782207,
          -1.9947392736919967,
          3.508885086749131,
          0.9521474983011023,
          -0.421561079901927,
          1.686899295360436,
          -0.03997823528199046,
          -0.22909054223546957
         ],
         "yaxis": "y10"
        },
        {
         "line": {
          "color": "rgba(128, 128, 128, 1.0)",
          "dash": "solid",
          "shape": "linear",
          "width": 1.3
         },
         "marker": {
          "size": 2,
          "symbol": "circle"
         },
         "mode": "markers",
         "name": "C",
         "text": "",
         "type": "scatter",
         "x": [
          -0.3335804497762339,
          0.00841020770573747,
          -0.2452486455726726,
          1.7550835292323625,
          -0.4124142608843169,
          0.08397452866741234,
          -1.3865662695296521,
          -0.5536159230768968,
          -0.6159733733331406,
          0.5351203760401979,
          0.6219906888015769,
          2.0936218973984544,
          0.44108665014911896,
          -0.416230235006025,
          0.9331183949846429,
          -0.7216605612758971,
          1.3390572677191115,
          0.6496069974394884,
          -0.7901367515093446,
          -0.3422059764483797,
          0.5373701215532392,
          1.7747753169553424,
          0.419529041757397,
          -0.10904889995774433,
          -2.0263048218045543,
          0.21622836105376003,
          -0.821922543917067,
          1.842131241717987,
          -1.265365165032051,
          0.8479452711578469,
          0.6156098386466577,
          0.15867622180468346,
          -1.238977024083961,
          0.7335419753028098,
          0.0512616782988629,
          1.4495571762852764,
          -0.4496751518589838,
          -0.330172000624211,
          -0.8929792515250653,
          2.205175209714804,
          -0.4538635156588506,
          2.2037334537380286,
          0.7417458154644216,
          -0.01924531610158195,
          0.5149129505912265,
          -0.8559027787490496,
          -1.2359804048231446,
          2.073959092442634,
          0.6912579520973061,
          -1.108283786227255,
          0.16942813801626458,
          -2.781043939921188,
          0.0885804145925267,
          -1.756318606323291,
          1.274483140059975,
          0.8438741973237249,
          1.043238681028487,
          0.8742390843303314,
          1.4704877215499943,
          -0.6540245721736407,
          -1.1275658316510941,
          0.8367878573651504,
          -0.7350001997710474,
          -0.11503001732679545,
          -0.1920425691420273,
          1.3367611859539756,
          0.31544010241881365,
          0.30833485067338146,
          -0.30446858143129724,
          0.09901607880407506,
          0.3280088371532466,
          0.3003499482732641,
          0.27812375549087964,
          -0.6621938785792102,
          0.5884359898684891,
          -1.4687335662247434,
          1.5961345007591994,
          -0.2519890600562586,
          1.5557835869903025,
          0.04462193969423287,
          0.15083076444693133,
          0.4082980181436096,
          -0.678370760026145,
          -0.0750391155180131,
          -1.0668798705652038,
          -0.9875792933502123,
          -2.7515517426231964,
          1.6668491718400256,
          -2.011343087200451,
          0.22068583475438497,
          1.0427267249140537,
          0.8666554855258551,
          1.4876746522797113,
          -0.12935479445954817,
          0.544861458818753,
          0.2590464861926635,
          -0.29858348018470654,
          1.0157638005717105,
          -1.2125999335057973,
          -0.7869056414224349
         ],
         "xaxis": "x11",
         "y": [
          0.8798245268512644,
          1.3570283033026354,
          1.9749121492940394,
          -1.053528469740966,
          -1.560386785340817,
          1.1388140116813792,
          0.18974961491421344,
          -0.5478264985107293,
          -1.1539249337613273,
          0.8874089996735028,
          -0.05691535188208471,
          0.7770129188124023,
          0.15309817166302805,
          0.16303265459883862,
          -1.4589565959752056,
          -1.7568132075093177,
          2.0863651523643836,
          -0.5709529842718767,
          0.8171735177928228,
          -0.9529735238883316,
          -1.4435332935187561,
          0.5291322365209097,
          0.590287111313805,
          2.0760558580311894,
          2.770519340679483,
          -1.6743154464994718,
          0.9909732859885614,
          1.4782185687998004,
          -0.09278257147140048,
          -0.20689856021378225,
          -0.060082151233758624,
          -0.4549282575190898,
          -2.798225397178623,
          -0.006120247766301646,
          -1.3445715700628214,
          -1.4466365769851819,
          0.2133185589128615,
          -0.32532507006367706,
          1.6286082407494962,
          0.3665395111067651,
          -0.8570393860081226,
          -0.5330012851626166,
          -0.7330412728606085,
          0.39520030272126844,
          -0.328970288722901,
          -2.291935837607325,
          -2.219382875606811,
          1.0050207754278548,
          0.8967059681804674,
          0.7728364986156984,
          -0.4455073981285349,
          -0.7256203081566854,
          -0.1305693944777659,
          -1.3713800857013108,
          -1.8091829986953307,
          -0.23298256037994072,
          -1.8533887856146967,
          0.1721245840219928,
          -1.2813291019196724,
          0.43920160088386334,
          1.2497325365573007,
          -0.11020114414414621,
          0.005641545615314567,
          1.0288602893831988,
          0.4220034532490604,
          -1.2565242509824988,
          -2.0769825586982384,
          -0.03699527667130005,
          1.523715050790172,
          2.0276688810134633,
          -0.06060921744804393,
          -0.16764490626620826,
          -0.2254354082608133,
          0.12847522766802005,
          0.377071749142011,
          -1.2976063331996661,
          -0.6617309172668501,
          0.37072944613045744,
          0.7758699379596998,
          -0.6732095691953305,
          0.9252587961467202,
          0.9267484968797207,
          1.105761853017902,
          -2.444709796114457,
          0.07499096243692296,
          0.5693211122386654,
          -0.652432465524865,
          0.6588139565638953,
          0.018531855504759765,
          -1.0137255385987984,
          1.2993924328191087,
          -1.4653956133450676,
          0.6497028563590997,
          1.8499967179996188,
          1.946063550070373,
          -0.8016185890292232,
          1.0382047761068196,
          -0.3194117889309226,
          0.33599136356301956,
          0.7741509723290858
         ],
         "yaxis": "y11"
        },
        {
         "line": {
          "color": "rgba(128, 128, 128, 1.0)",
          "dash": "solid",
          "shape": "linear",
          "width": 1.3
         },
         "marker": {
          "size": 2,
          "symbol": "circle"
         },
         "mode": "markers",
         "name": "C",
         "text": "",
         "type": "scatter",
         "x": [
          1.2656119006442414,
          0.11172189872330608,
          2.4441405083498084,
          0.021263530711874312,
          -0.09762074893880836,
          -2.841439832791632,
          0.3606689299126568,
          0.6100067499256379,
          0.46938226746429257,
          1.0409351529187922,
          -0.10530897127620471,
          -0.7839565480168238,
          1.312981092013129,
          0.9168981441738603,
          -0.45747230576020353,
          1.019246343752088,
          1.035506744391563,
          -0.2017921322897468,
          1.541948116644562,
          -0.8547194343811696,
          -0.5159114150487076,
          0.6205665175937206,
          -1.4708434724308213,
          -0.7028787223375108,
          0.4566743660520509,
          0.5175867306902976,
          2.307306044925076,
          0.6335984216611076,
          -1.169581749814845,
          -0.8049516945379682,
          0.8376752575918941,
          -0.7965999170117269,
          1.5701411435733117,
          0.010738407292215393,
          -1.9476656494682059,
          0.7994896822584975,
          0.9916380277779536,
          -0.8259760625515664,
          -0.7750424611682585,
          -1.000212958965001,
          -0.002153372965835309,
          1.1241098204562403,
          -0.8933357174684814,
          0.14031630340664777,
          0.7796311582424318,
          -2.545378779470004,
          -0.43196973909652,
          -0.11648151266855052,
          0.4066225349475821,
          1.5668326084368156,
          0.0285716881764873,
          1.3441761736057165,
          -0.5523062721586132,
          -0.7157409903930229,
          0.7327498495190612,
          0.30060721324231693,
          0.7133267785007691,
          0.19911508044327778,
          -0.19545960190474662,
          0.6853459741633252,
          -2.127835130345152,
          2.0218196475959336,
          2.1780440617017196,
          2.224401011317823,
          1.165437639520588,
          -0.14759125561131795,
          -0.8113337078873021,
          1.2284972728337857,
          -0.1894385534744078,
          -0.004967028126192879,
          -0.9774278378969505,
          0.9833612559553154,
          -0.23714912708878444,
          0.8726089987499858,
          -0.8389751407305852,
          0.3909661637510026,
          -1.1694495652685963,
          -1.9807748615515484,
          0.4096619399418116,
          1.1594638854247026,
          -1.0171361899301976,
          -1.0048963714697148,
          -0.36924529104358444,
          0.1286784085603135,
          0.7038172729883474,
          -0.9919135098509365,
          -0.29941507106034404,
          0.6134501808248138,
          -0.5951458647500463,
          0.254523959598943,
          0.24629150821694917,
          -1.3603994825182804,
          0.4749977182782207,
          -1.9947392736919967,
          3.508885086749131,
          0.9521474983011023,
          -0.421561079901927,
          1.686899295360436,
          -0.03997823528199046,
          -0.22909054223546957
         ],
         "xaxis": "x12",
         "y": [
          0.8798245268512644,
          1.3570283033026354,
          1.9749121492940394,
          -1.053528469740966,
          -1.560386785340817,
          1.1388140116813792,
          0.18974961491421344,
          -0.5478264985107293,
          -1.1539249337613273,
          0.8874089996735028,
          -0.05691535188208471,
          0.7770129188124023,
          0.15309817166302805,
          0.16303265459883862,
          -1.4589565959752056,
          -1.7568132075093177,
          2.0863651523643836,
          -0.5709529842718767,
          0.8171735177928228,
          -0.9529735238883316,
          -1.4435332935187561,
          0.5291322365209097,
          0.590287111313805,
          2.0760558580311894,
          2.770519340679483,
          -1.6743154464994718,
          0.9909732859885614,
          1.4782185687998004,
          -0.09278257147140048,
          -0.20689856021378225,
          -0.060082151233758624,
          -0.4549282575190898,
          -2.798225397178623,
          -0.006120247766301646,
          -1.3445715700628214,
          -1.4466365769851819,
          0.2133185589128615,
          -0.32532507006367706,
          1.6286082407494962,
          0.3665395111067651,
          -0.8570393860081226,
          -0.5330012851626166,
          -0.7330412728606085,
          0.39520030272126844,
          -0.328970288722901,
          -2.291935837607325,
          -2.219382875606811,
          1.0050207754278548,
          0.8967059681804674,
          0.7728364986156984,
          -0.4455073981285349,
          -0.7256203081566854,
          -0.1305693944777659,
          -1.3713800857013108,
          -1.8091829986953307,
          -0.23298256037994072,
          -1.8533887856146967,
          0.1721245840219928,
          -1.2813291019196724,
          0.43920160088386334,
          1.2497325365573007,
          -0.11020114414414621,
          0.005641545615314567,
          1.0288602893831988,
          0.4220034532490604,
          -1.2565242509824988,
          -2.0769825586982384,
          -0.03699527667130005,
          1.523715050790172,
          2.0276688810134633,
          -0.06060921744804393,
          -0.16764490626620826,
          -0.2254354082608133,
          0.12847522766802005,
          0.377071749142011,
          -1.2976063331996661,
          -0.6617309172668501,
          0.37072944613045744,
          0.7758699379596998,
          -0.6732095691953305,
          0.9252587961467202,
          0.9267484968797207,
          1.105761853017902,
          -2.444709796114457,
          0.07499096243692296,
          0.5693211122386654,
          -0.652432465524865,
          0.6588139565638953,
          0.018531855504759765,
          -1.0137255385987984,
          1.2993924328191087,
          -1.4653956133450676,
          0.6497028563590997,
          1.8499967179996188,
          1.946063550070373,
          -0.8016185890292232,
          1.0382047761068196,
          -0.3194117889309226,
          0.33599136356301956,
          0.7741509723290858
         ],
         "yaxis": "y12"
        },
        {
         "histfunc": "count",
         "histnorm": "",
         "marker": {
          "color": "rgba(50, 171, 96, 1.0)",
          "line": {
           "color": "#4D5663",
           "width": 1.3
          }
         },
         "name": "C",
         "nbinsx": 10,
         "opacity": 0.8,
         "orientation": "v",
         "type": "histogram",
         "x": [
          0.8798245268512644,
          1.3570283033026354,
          1.9749121492940394,
          -1.053528469740966,
          -1.560386785340817,
          1.1388140116813792,
          0.18974961491421344,
          -0.5478264985107293,
          -1.1539249337613273,
          0.8874089996735028,
          -0.05691535188208471,
          0.7770129188124023,
          0.15309817166302805,
          0.16303265459883862,
          -1.4589565959752056,
          -1.7568132075093177,
          2.0863651523643836,
          -0.5709529842718767,
          0.8171735177928228,
          -0.9529735238883316,
          -1.4435332935187561,
          0.5291322365209097,
          0.590287111313805,
          2.0760558580311894,
          2.770519340679483,
          -1.6743154464994718,
          0.9909732859885614,
          1.4782185687998004,
          -0.09278257147140048,
          -0.20689856021378225,
          -0.060082151233758624,
          -0.4549282575190898,
          -2.798225397178623,
          -0.006120247766301646,
          -1.3445715700628214,
          -1.4466365769851819,
          0.2133185589128615,
          -0.32532507006367706,
          1.6286082407494962,
          0.3665395111067651,
          -0.8570393860081226,
          -0.5330012851626166,
          -0.7330412728606085,
          0.39520030272126844,
          -0.328970288722901,
          -2.291935837607325,
          -2.219382875606811,
          1.0050207754278548,
          0.8967059681804674,
          0.7728364986156984,
          -0.4455073981285349,
          -0.7256203081566854,
          -0.1305693944777659,
          -1.3713800857013108,
          -1.8091829986953307,
          -0.23298256037994072,
          -1.8533887856146967,
          0.1721245840219928,
          -1.2813291019196724,
          0.43920160088386334,
          1.2497325365573007,
          -0.11020114414414621,
          0.005641545615314567,
          1.0288602893831988,
          0.4220034532490604,
          -1.2565242509824988,
          -2.0769825586982384,
          -0.03699527667130005,
          1.523715050790172,
          2.0276688810134633,
          -0.06060921744804393,
          -0.16764490626620826,
          -0.2254354082608133,
          0.12847522766802005,
          0.377071749142011,
          -1.2976063331996661,
          -0.6617309172668501,
          0.37072944613045744,
          0.7758699379596998,
          -0.6732095691953305,
          0.9252587961467202,
          0.9267484968797207,
          1.105761853017902,
          -2.444709796114457,
          0.07499096243692296,
          0.5693211122386654,
          -0.652432465524865,
          0.6588139565638953,
          0.018531855504759765,
          -1.0137255385987984,
          1.2993924328191087,
          -1.4653956133450676,
          0.6497028563590997,
          1.8499967179996188,
          1.946063550070373,
          -0.8016185890292232,
          1.0382047761068196,
          -0.3194117889309226,
          0.33599136356301956,
          0.7741509723290858
         ],
         "xaxis": "x13",
         "yaxis": "y13"
        },
        {
         "line": {
          "color": "rgba(128, 128, 128, 1.0)",
          "dash": "solid",
          "shape": "linear",
          "width": 1.3
         },
         "marker": {
          "size": 2,
          "symbol": "circle"
         },
         "mode": "markers",
         "name": "C",
         "text": "",
         "type": "scatter",
         "x": [
          -1.9198483031724256,
          -0.24329183540613608,
          0.6419997062319316,
          1.3521182772765474,
          0.5953524145895086,
          -0.3552352893647105,
          1.0915339646314302,
          0.6475280944502119,
          -0.774851217596859,
          -0.39637688379115565,
          -0.4230845617672878,
          0.22959960188263315,
          1.6948841348667674,
          1.1446841575735427,
          -2.2080553735626602,
          -0.30308059602206633,
          1.0806566946819762,
          -1.1216001403815672,
          -0.12520775316480504,
          1.3466925190085772,
          0.9462059084151903,
          0.8985744305856347,
          -1.64358228609394,
          0.6069791243187228,
          0.4223824309838147,
          0.8423595723635103,
          2.3980901509690193,
          -0.6415070968039709,
          -0.9975940538503272,
          -0.11550689048261797,
          2.0020036202933498,
          1.3662311734044508,
          0.479460223478841,
          0.5092066242214716,
          -1.5629385459288747,
          0.628865645676127,
          -0.7634899023056374,
          1.0248616097292713,
          1.6595211982791724,
          -2.0061602520171813,
          -0.7186614432370061,
          -0.4742543791027465,
          1.307551183314467,
          1.1743804854843325,
          0.7052145371823973,
          0.4799543593091343,
          -0.7009216406650326,
          -0.6746932653622134,
          -1.100313397740983,
          1.439377653494364,
          -0.31797347028181755,
          -0.874593483987904,
          1.909864020081642,
          1.3555632985489197,
          -1.5303080609636381,
          1.233317462598353,
          -0.06212854456042669,
          -1.83988537294752,
          0.5529455365082178,
          2.6805845051206223,
          -1.085617407002373,
          1.3827589034085064,
          1.4931540986489353,
          -1.830583458116591,
          2.2873533003201194,
          0.4538291090971322,
          -1.4015980942710253,
          -2.101484782143447,
          0.3850412422960206,
          -0.28960698710359245,
          -0.4010520642042657,
          1.2987085019055833,
          -0.6958314981432985,
          1.1722585020874166,
          -0.7857462390210691,
          1.5046211800677642,
          1.1521614492395316,
          1.104130661059711,
          -0.3180270974434549,
          -0.5170270701278834,
          -1.926258142950692,
          0.9116496592019908,
          0.16343145846718582,
          0.829446465394839,
          0.6912702589585954,
          -0.5780875528080383,
          -0.19423361876038497,
          -1.1404559525272475,
          0.36132644570637024,
          -0.06963216123953414,
          -0.21478317152142276,
          -2.1383624044570757,
          1.3604530205933243,
          -0.02833867735545919,
          1.0995634743246747,
          0.6372366447919425,
          -0.42141871269977116,
          0.7504607745939308,
          -0.4335204360951008,
          0.6529644865979116
         ],
         "xaxis": "x14",
         "y": [
          0.8798245268512644,
          1.3570283033026354,
          1.9749121492940394,
          -1.053528469740966,
          -1.560386785340817,
          1.1388140116813792,
          0.18974961491421344,
          -0.5478264985107293,
          -1.1539249337613273,
          0.8874089996735028,
          -0.05691535188208471,
          0.7770129188124023,
          0.15309817166302805,
          0.16303265459883862,
          -1.4589565959752056,
          -1.7568132075093177,
          2.0863651523643836,
          -0.5709529842718767,
          0.8171735177928228,
          -0.9529735238883316,
          -1.4435332935187561,
          0.5291322365209097,
          0.590287111313805,
          2.0760558580311894,
          2.770519340679483,
          -1.6743154464994718,
          0.9909732859885614,
          1.4782185687998004,
          -0.09278257147140048,
          -0.20689856021378225,
          -0.060082151233758624,
          -0.4549282575190898,
          -2.798225397178623,
          -0.006120247766301646,
          -1.3445715700628214,
          -1.4466365769851819,
          0.2133185589128615,
          -0.32532507006367706,
          1.6286082407494962,
          0.3665395111067651,
          -0.8570393860081226,
          -0.5330012851626166,
          -0.7330412728606085,
          0.39520030272126844,
          -0.328970288722901,
          -2.291935837607325,
          -2.219382875606811,
          1.0050207754278548,
          0.8967059681804674,
          0.7728364986156984,
          -0.4455073981285349,
          -0.7256203081566854,
          -0.1305693944777659,
          -1.3713800857013108,
          -1.8091829986953307,
          -0.23298256037994072,
          -1.8533887856146967,
          0.1721245840219928,
          -1.2813291019196724,
          0.43920160088386334,
          1.2497325365573007,
          -0.11020114414414621,
          0.005641545615314567,
          1.0288602893831988,
          0.4220034532490604,
          -1.2565242509824988,
          -2.0769825586982384,
          -0.03699527667130005,
          1.523715050790172,
          2.0276688810134633,
          -0.06060921744804393,
          -0.16764490626620826,
          -0.2254354082608133,
          0.12847522766802005,
          0.377071749142011,
          -1.2976063331996661,
          -0.6617309172668501,
          0.37072944613045744,
          0.7758699379596998,
          -0.6732095691953305,
          0.9252587961467202,
          0.9267484968797207,
          1.105761853017902,
          -2.444709796114457,
          0.07499096243692296,
          0.5693211122386654,
          -0.652432465524865,
          0.6588139565638953,
          0.018531855504759765,
          -1.0137255385987984,
          1.2993924328191087,
          -1.4653956133450676,
          0.6497028563590997,
          1.8499967179996188,
          1.946063550070373,
          -0.8016185890292232,
          1.0382047761068196,
          -0.3194117889309226,
          0.33599136356301956,
          0.7741509723290858
         ],
         "yaxis": "y14"
        },
        {
         "line": {
          "color": "rgba(128, 128, 128, 1.0)",
          "dash": "solid",
          "shape": "linear",
          "width": 1.3
         },
         "marker": {
          "size": 2,
          "symbol": "circle"
         },
         "mode": "markers",
         "name": "C",
         "text": "",
         "type": "scatter",
         "x": [
          -1.8839552638761043,
          -1.4222817243492196,
          0.2439336106390916,
          -0.3022115945065196,
          -1.1116255926474479,
          -0.13846855609245293,
          -0.6352316093943358,
          -1.6741868974608256,
          -1.0874216392138512,
          -1.727874886025039,
          0.6068689036503123,
          1.606811739024369,
          -0.7544366227941612,
          2.0380068491611185,
          -0.41478932093402,
          0.7142095505760002,
          -0.017473896869972794,
          -0.854025343130081,
          0.17112312466754392,
          2.5949210831298983,
          -0.3368952398061639,
          -0.5018141764171291,
          -0.2291538464895462,
          1.7865692974483998,
          -0.5194435804480518,
          0.06767539551418716,
          -0.09300004854212413,
          -1.2127175883760892,
          1.942643225757587,
          0.8878018149978713,
          -1.1809781153260683,
          0.2575919645669953,
          -0.6769032747176147,
          0.01014174877601857,
          2.885642130181955,
          -0.7049165847816975,
          -0.4967452753515838,
          -0.15303974924473007,
          1.62343094257325,
          0.30504135057356546,
          0.8135619495047793,
          0.13859734831440887,
          0.9409094898287858,
          -2.106150798000945,
          -0.9727829821770161,
          -0.49535544612192495,
          -1.3610308308674985,
          -1.8962982399982888,
          -0.7253845761849583,
          -0.7168960746976729,
          0.37029744211770654,
          0.8598123725308865,
          0.8461573465522495,
          -0.6046059434358252,
          -0.10992922641504047,
          -2.0891817672460156,
          -0.4063293893196075,
          0.2757867175136207,
          0.8774299519146228,
          -2.2757649437521903,
          -0.45757232015356514,
          -0.17936223143712166,
          0.17476001282787101,
          0.9290796655113206,
          -1.8732214794720277,
          1.242753534277087,
          0.1066039488907477,
          0.9433387503335581,
          1.6896852590146096,
          1.0510034273696693,
          1.6134414015773315,
          -1.8868368147054095,
          0.04411536657854227,
          1.4055080886554139,
          -0.4794134388164445,
          -0.8810855398463338,
          1.5117001240378032,
          -0.22294664515737564,
          -0.1304669186370773,
          0.37964353796601175,
          -0.5790014297236573,
          -0.6127310043576752,
          1.2031065883968466,
          0.16998909148348326,
          -0.06292258556163698,
          0.5494619741500407,
          -0.18506065027833485,
          -0.18448527937520084,
          -1.4254380406342864,
          -1.7079349491429474,
          -0.9371196134892642,
          0.7528973069243526,
          0.01649536172771896,
          0.7025745920667116,
          -1.5521217053670775,
          1.646999567576793,
          0.7663500834926468,
          -0.06438797934787864,
          -0.2584312528743698,
          0.300277201635679
         ],
         "xaxis": "x15",
         "y": [
          0.8798245268512644,
          1.3570283033026354,
          1.9749121492940394,
          -1.053528469740966,
          -1.560386785340817,
          1.1388140116813792,
          0.18974961491421344,
          -0.5478264985107293,
          -1.1539249337613273,
          0.8874089996735028,
          -0.05691535188208471,
          0.7770129188124023,
          0.15309817166302805,
          0.16303265459883862,
          -1.4589565959752056,
          -1.7568132075093177,
          2.0863651523643836,
          -0.5709529842718767,
          0.8171735177928228,
          -0.9529735238883316,
          -1.4435332935187561,
          0.5291322365209097,
          0.590287111313805,
          2.0760558580311894,
          2.770519340679483,
          -1.6743154464994718,
          0.9909732859885614,
          1.4782185687998004,
          -0.09278257147140048,
          -0.20689856021378225,
          -0.060082151233758624,
          -0.4549282575190898,
          -2.798225397178623,
          -0.006120247766301646,
          -1.3445715700628214,
          -1.4466365769851819,
          0.2133185589128615,
          -0.32532507006367706,
          1.6286082407494962,
          0.3665395111067651,
          -0.8570393860081226,
          -0.5330012851626166,
          -0.7330412728606085,
          0.39520030272126844,
          -0.328970288722901,
          -2.291935837607325,
          -2.219382875606811,
          1.0050207754278548,
          0.8967059681804674,
          0.7728364986156984,
          -0.4455073981285349,
          -0.7256203081566854,
          -0.1305693944777659,
          -1.3713800857013108,
          -1.8091829986953307,
          -0.23298256037994072,
          -1.8533887856146967,
          0.1721245840219928,
          -1.2813291019196724,
          0.43920160088386334,
          1.2497325365573007,
          -0.11020114414414621,
          0.005641545615314567,
          1.0288602893831988,
          0.4220034532490604,
          -1.2565242509824988,
          -2.0769825586982384,
          -0.03699527667130005,
          1.523715050790172,
          2.0276688810134633,
          -0.06060921744804393,
          -0.16764490626620826,
          -0.2254354082608133,
          0.12847522766802005,
          0.377071749142011,
          -1.2976063331996661,
          -0.6617309172668501,
          0.37072944613045744,
          0.7758699379596998,
          -0.6732095691953305,
          0.9252587961467202,
          0.9267484968797207,
          1.105761853017902,
          -2.444709796114457,
          0.07499096243692296,
          0.5693211122386654,
          -0.652432465524865,
          0.6588139565638953,
          0.018531855504759765,
          -1.0137255385987984,
          1.2993924328191087,
          -1.4653956133450676,
          0.6497028563590997,
          1.8499967179996188,
          1.946063550070373,
          -0.8016185890292232,
          1.0382047761068196,
          -0.3194117889309226,
          0.33599136356301956,
          0.7741509723290858
         ],
         "yaxis": "y15"
        },
        {
         "line": {
          "color": "rgba(128, 128, 128, 1.0)",
          "dash": "solid",
          "shape": "linear",
          "width": 1.3
         },
         "marker": {
          "size": 2,
          "symbol": "circle"
         },
         "mode": "markers",
         "name": "D",
         "text": "",
         "type": "scatter",
         "x": [
          -0.3335804497762339,
          0.00841020770573747,
          -0.2452486455726726,
          1.7550835292323625,
          -0.4124142608843169,
          0.08397452866741234,
          -1.3865662695296521,
          -0.5536159230768968,
          -0.6159733733331406,
          0.5351203760401979,
          0.6219906888015769,
          2.0936218973984544,
          0.44108665014911896,
          -0.416230235006025,
          0.9331183949846429,
          -0.7216605612758971,
          1.3390572677191115,
          0.6496069974394884,
          -0.7901367515093446,
          -0.3422059764483797,
          0.5373701215532392,
          1.7747753169553424,
          0.419529041757397,
          -0.10904889995774433,
          -2.0263048218045543,
          0.21622836105376003,
          -0.821922543917067,
          1.842131241717987,
          -1.265365165032051,
          0.8479452711578469,
          0.6156098386466577,
          0.15867622180468346,
          -1.238977024083961,
          0.7335419753028098,
          0.0512616782988629,
          1.4495571762852764,
          -0.4496751518589838,
          -0.330172000624211,
          -0.8929792515250653,
          2.205175209714804,
          -0.4538635156588506,
          2.2037334537380286,
          0.7417458154644216,
          -0.01924531610158195,
          0.5149129505912265,
          -0.8559027787490496,
          -1.2359804048231446,
          2.073959092442634,
          0.6912579520973061,
          -1.108283786227255,
          0.16942813801626458,
          -2.781043939921188,
          0.0885804145925267,
          -1.756318606323291,
          1.274483140059975,
          0.8438741973237249,
          1.043238681028487,
          0.8742390843303314,
          1.4704877215499943,
          -0.6540245721736407,
          -1.1275658316510941,
          0.8367878573651504,
          -0.7350001997710474,
          -0.11503001732679545,
          -0.1920425691420273,
          1.3367611859539756,
          0.31544010241881365,
          0.30833485067338146,
          -0.30446858143129724,
          0.09901607880407506,
          0.3280088371532466,
          0.3003499482732641,
          0.27812375549087964,
          -0.6621938785792102,
          0.5884359898684891,
          -1.4687335662247434,
          1.5961345007591994,
          -0.2519890600562586,
          1.5557835869903025,
          0.04462193969423287,
          0.15083076444693133,
          0.4082980181436096,
          -0.678370760026145,
          -0.0750391155180131,
          -1.0668798705652038,
          -0.9875792933502123,
          -2.7515517426231964,
          1.6668491718400256,
          -2.011343087200451,
          0.22068583475438497,
          1.0427267249140537,
          0.8666554855258551,
          1.4876746522797113,
          -0.12935479445954817,
          0.544861458818753,
          0.2590464861926635,
          -0.29858348018470654,
          1.0157638005717105,
          -1.2125999335057973,
          -0.7869056414224349
         ],
         "xaxis": "x16",
         "y": [
          -1.9198483031724256,
          -0.24329183540613608,
          0.6419997062319316,
          1.3521182772765474,
          0.5953524145895086,
          -0.3552352893647105,
          1.0915339646314302,
          0.6475280944502119,
          -0.774851217596859,
          -0.39637688379115565,
          -0.4230845617672878,
          0.22959960188263315,
          1.6948841348667674,
          1.1446841575735427,
          -2.2080553735626602,
          -0.30308059602206633,
          1.0806566946819762,
          -1.1216001403815672,
          -0.12520775316480504,
          1.3466925190085772,
          0.9462059084151903,
          0.8985744305856347,
          -1.64358228609394,
          0.6069791243187228,
          0.4223824309838147,
          0.8423595723635103,
          2.3980901509690193,
          -0.6415070968039709,
          -0.9975940538503272,
          -0.11550689048261797,
          2.0020036202933498,
          1.3662311734044508,
          0.479460223478841,
          0.5092066242214716,
          -1.5629385459288747,
          0.628865645676127,
          -0.7634899023056374,
          1.0248616097292713,
          1.6595211982791724,
          -2.0061602520171813,
          -0.7186614432370061,
          -0.4742543791027465,
          1.307551183314467,
          1.1743804854843325,
          0.7052145371823973,
          0.4799543593091343,
          -0.7009216406650326,
          -0.6746932653622134,
          -1.100313397740983,
          1.439377653494364,
          -0.31797347028181755,
          -0.874593483987904,
          1.909864020081642,
          1.3555632985489197,
          -1.5303080609636381,
          1.233317462598353,
          -0.06212854456042669,
          -1.83988537294752,
          0.5529455365082178,
          2.6805845051206223,
          -1.085617407002373,
          1.3827589034085064,
          1.4931540986489353,
          -1.830583458116591,
          2.2873533003201194,
          0.4538291090971322,
          -1.4015980942710253,
          -2.101484782143447,
          0.3850412422960206,
          -0.28960698710359245,
          -0.4010520642042657,
          1.2987085019055833,
          -0.6958314981432985,
          1.1722585020874166,
          -0.7857462390210691,
          1.5046211800677642,
          1.1521614492395316,
          1.104130661059711,
          -0.3180270974434549,
          -0.5170270701278834,
          -1.926258142950692,
          0.9116496592019908,
          0.16343145846718582,
          0.829446465394839,
          0.6912702589585954,
          -0.5780875528080383,
          -0.19423361876038497,
          -1.1404559525272475,
          0.36132644570637024,
          -0.06963216123953414,
          -0.21478317152142276,
          -2.1383624044570757,
          1.3604530205933243,
          -0.02833867735545919,
          1.0995634743246747,
          0.6372366447919425,
          -0.42141871269977116,
          0.7504607745939308,
          -0.4335204360951008,
          0.6529644865979116
         ],
         "yaxis": "y16"
        },
        {
         "line": {
          "color": "rgba(128, 128, 128, 1.0)",
          "dash": "solid",
          "shape": "linear",
          "width": 1.3
         },
         "marker": {
          "size": 2,
          "symbol": "circle"
         },
         "mode": "markers",
         "name": "D",
         "text": "",
         "type": "scatter",
         "x": [
          1.2656119006442414,
          0.11172189872330608,
          2.4441405083498084,
          0.021263530711874312,
          -0.09762074893880836,
          -2.841439832791632,
          0.3606689299126568,
          0.6100067499256379,
          0.46938226746429257,
          1.0409351529187922,
          -0.10530897127620471,
          -0.7839565480168238,
          1.312981092013129,
          0.9168981441738603,
          -0.45747230576020353,
          1.019246343752088,
          1.035506744391563,
          -0.2017921322897468,
          1.541948116644562,
          -0.8547194343811696,
          -0.5159114150487076,
          0.6205665175937206,
          -1.4708434724308213,
          -0.7028787223375108,
          0.4566743660520509,
          0.5175867306902976,
          2.307306044925076,
          0.6335984216611076,
          -1.169581749814845,
          -0.8049516945379682,
          0.8376752575918941,
          -0.7965999170117269,
          1.5701411435733117,
          0.010738407292215393,
          -1.9476656494682059,
          0.7994896822584975,
          0.9916380277779536,
          -0.8259760625515664,
          -0.7750424611682585,
          -1.000212958965001,
          -0.002153372965835309,
          1.1241098204562403,
          -0.8933357174684814,
          0.14031630340664777,
          0.7796311582424318,
          -2.545378779470004,
          -0.43196973909652,
          -0.11648151266855052,
          0.4066225349475821,
          1.5668326084368156,
          0.0285716881764873,
          1.3441761736057165,
          -0.5523062721586132,
          -0.7157409903930229,
          0.7327498495190612,
          0.30060721324231693,
          0.7133267785007691,
          0.19911508044327778,
          -0.19545960190474662,
          0.6853459741633252,
          -2.127835130345152,
          2.0218196475959336,
          2.1780440617017196,
          2.224401011317823,
          1.165437639520588,
          -0.14759125561131795,
          -0.8113337078873021,
          1.2284972728337857,
          -0.1894385534744078,
          -0.004967028126192879,
          -0.9774278378969505,
          0.9833612559553154,
          -0.23714912708878444,
          0.8726089987499858,
          -0.8389751407305852,
          0.3909661637510026,
          -1.1694495652685963,
          -1.9807748615515484,
          0.4096619399418116,
          1.1594638854247026,
          -1.0171361899301976,
          -1.0048963714697148,
          -0.36924529104358444,
          0.1286784085603135,
          0.7038172729883474,
          -0.9919135098509365,
          -0.29941507106034404,
          0.6134501808248138,
          -0.5951458647500463,
          0.254523959598943,
          0.24629150821694917,
          -1.3603994825182804,
          0.4749977182782207,
          -1.9947392736919967,
          3.508885086749131,
          0.9521474983011023,
          -0.421561079901927,
          1.686899295360436,
          -0.03997823528199046,
          -0.22909054223546957
         ],
         "xaxis": "x17",
         "y": [
          -1.9198483031724256,
          -0.24329183540613608,
          0.6419997062319316,
          1.3521182772765474,
          0.5953524145895086,
          -0.3552352893647105,
          1.0915339646314302,
          0.6475280944502119,
          -0.774851217596859,
          -0.39637688379115565,
          -0.4230845617672878,
          0.22959960188263315,
          1.6948841348667674,
          1.1446841575735427,
          -2.2080553735626602,
          -0.30308059602206633,
          1.0806566946819762,
          -1.1216001403815672,
          -0.12520775316480504,
          1.3466925190085772,
          0.9462059084151903,
          0.8985744305856347,
          -1.64358228609394,
          0.6069791243187228,
          0.4223824309838147,
          0.8423595723635103,
          2.3980901509690193,
          -0.6415070968039709,
          -0.9975940538503272,
          -0.11550689048261797,
          2.0020036202933498,
          1.3662311734044508,
          0.479460223478841,
          0.5092066242214716,
          -1.5629385459288747,
          0.628865645676127,
          -0.7634899023056374,
          1.0248616097292713,
          1.6595211982791724,
          -2.0061602520171813,
          -0.7186614432370061,
          -0.4742543791027465,
          1.307551183314467,
          1.1743804854843325,
          0.7052145371823973,
          0.4799543593091343,
          -0.7009216406650326,
          -0.6746932653622134,
          -1.100313397740983,
          1.439377653494364,
          -0.31797347028181755,
          -0.874593483987904,
          1.909864020081642,
          1.3555632985489197,
          -1.5303080609636381,
          1.233317462598353,
          -0.06212854456042669,
          -1.83988537294752,
          0.5529455365082178,
          2.6805845051206223,
          -1.085617407002373,
          1.3827589034085064,
          1.4931540986489353,
          -1.830583458116591,
          2.2873533003201194,
          0.4538291090971322,
          -1.4015980942710253,
          -2.101484782143447,
          0.3850412422960206,
          -0.28960698710359245,
          -0.4010520642042657,
          1.2987085019055833,
          -0.6958314981432985,
          1.1722585020874166,
          -0.7857462390210691,
          1.5046211800677642,
          1.1521614492395316,
          1.104130661059711,
          -0.3180270974434549,
          -0.5170270701278834,
          -1.926258142950692,
          0.9116496592019908,
          0.16343145846718582,
          0.829446465394839,
          0.6912702589585954,
          -0.5780875528080383,
          -0.19423361876038497,
          -1.1404559525272475,
          0.36132644570637024,
          -0.06963216123953414,
          -0.21478317152142276,
          -2.1383624044570757,
          1.3604530205933243,
          -0.02833867735545919,
          1.0995634743246747,
          0.6372366447919425,
          -0.42141871269977116,
          0.7504607745939308,
          -0.4335204360951008,
          0.6529644865979116
         ],
         "yaxis": "y17"
        },
        {
         "line": {
          "color": "rgba(128, 128, 128, 1.0)",
          "dash": "solid",
          "shape": "linear",
          "width": 1.3
         },
         "marker": {
          "size": 2,
          "symbol": "circle"
         },
         "mode": "markers",
         "name": "D",
         "text": "",
         "type": "scatter",
         "x": [
          0.8798245268512644,
          1.3570283033026354,
          1.9749121492940394,
          -1.053528469740966,
          -1.560386785340817,
          1.1388140116813792,
          0.18974961491421344,
          -0.5478264985107293,
          -1.1539249337613273,
          0.8874089996735028,
          -0.05691535188208471,
          0.7770129188124023,
          0.15309817166302805,
          0.16303265459883862,
          -1.4589565959752056,
          -1.7568132075093177,
          2.0863651523643836,
          -0.5709529842718767,
          0.8171735177928228,
          -0.9529735238883316,
          -1.4435332935187561,
          0.5291322365209097,
          0.590287111313805,
          2.0760558580311894,
          2.770519340679483,
          -1.6743154464994718,
          0.9909732859885614,
          1.4782185687998004,
          -0.09278257147140048,
          -0.20689856021378225,
          -0.060082151233758624,
          -0.4549282575190898,
          -2.798225397178623,
          -0.006120247766301646,
          -1.3445715700628214,
          -1.4466365769851819,
          0.2133185589128615,
          -0.32532507006367706,
          1.6286082407494962,
          0.3665395111067651,
          -0.8570393860081226,
          -0.5330012851626166,
          -0.7330412728606085,
          0.39520030272126844,
          -0.328970288722901,
          -2.291935837607325,
          -2.219382875606811,
          1.0050207754278548,
          0.8967059681804674,
          0.7728364986156984,
          -0.4455073981285349,
          -0.7256203081566854,
          -0.1305693944777659,
          -1.3713800857013108,
          -1.8091829986953307,
          -0.23298256037994072,
          -1.8533887856146967,
          0.1721245840219928,
          -1.2813291019196724,
          0.43920160088386334,
          1.2497325365573007,
          -0.11020114414414621,
          0.005641545615314567,
          1.0288602893831988,
          0.4220034532490604,
          -1.2565242509824988,
          -2.0769825586982384,
          -0.03699527667130005,
          1.523715050790172,
          2.0276688810134633,
          -0.06060921744804393,
          -0.16764490626620826,
          -0.2254354082608133,
          0.12847522766802005,
          0.377071749142011,
          -1.2976063331996661,
          -0.6617309172668501,
          0.37072944613045744,
          0.7758699379596998,
          -0.6732095691953305,
          0.9252587961467202,
          0.9267484968797207,
          1.105761853017902,
          -2.444709796114457,
          0.07499096243692296,
          0.5693211122386654,
          -0.652432465524865,
          0.6588139565638953,
          0.018531855504759765,
          -1.0137255385987984,
          1.2993924328191087,
          -1.4653956133450676,
          0.6497028563590997,
          1.8499967179996188,
          1.946063550070373,
          -0.8016185890292232,
          1.0382047761068196,
          -0.3194117889309226,
          0.33599136356301956,
          0.7741509723290858
         ],
         "xaxis": "x18",
         "y": [
          -1.9198483031724256,
          -0.24329183540613608,
          0.6419997062319316,
          1.3521182772765474,
          0.5953524145895086,
          -0.3552352893647105,
          1.0915339646314302,
          0.6475280944502119,
          -0.774851217596859,
          -0.39637688379115565,
          -0.4230845617672878,
          0.22959960188263315,
          1.6948841348667674,
          1.1446841575735427,
          -2.2080553735626602,
          -0.30308059602206633,
          1.0806566946819762,
          -1.1216001403815672,
          -0.12520775316480504,
          1.3466925190085772,
          0.9462059084151903,
          0.8985744305856347,
          -1.64358228609394,
          0.6069791243187228,
          0.4223824309838147,
          0.8423595723635103,
          2.3980901509690193,
          -0.6415070968039709,
          -0.9975940538503272,
          -0.11550689048261797,
          2.0020036202933498,
          1.3662311734044508,
          0.479460223478841,
          0.5092066242214716,
          -1.5629385459288747,
          0.628865645676127,
          -0.7634899023056374,
          1.0248616097292713,
          1.6595211982791724,
          -2.0061602520171813,
          -0.7186614432370061,
          -0.4742543791027465,
          1.307551183314467,
          1.1743804854843325,
          0.7052145371823973,
          0.4799543593091343,
          -0.7009216406650326,
          -0.6746932653622134,
          -1.100313397740983,
          1.439377653494364,
          -0.31797347028181755,
          -0.874593483987904,
          1.909864020081642,
          1.3555632985489197,
          -1.5303080609636381,
          1.233317462598353,
          -0.06212854456042669,
          -1.83988537294752,
          0.5529455365082178,
          2.6805845051206223,
          -1.085617407002373,
          1.3827589034085064,
          1.4931540986489353,
          -1.830583458116591,
          2.2873533003201194,
          0.4538291090971322,
          -1.4015980942710253,
          -2.101484782143447,
          0.3850412422960206,
          -0.28960698710359245,
          -0.4010520642042657,
          1.2987085019055833,
          -0.6958314981432985,
          1.1722585020874166,
          -0.7857462390210691,
          1.5046211800677642,
          1.1521614492395316,
          1.104130661059711,
          -0.3180270974434549,
          -0.5170270701278834,
          -1.926258142950692,
          0.9116496592019908,
          0.16343145846718582,
          0.829446465394839,
          0.6912702589585954,
          -0.5780875528080383,
          -0.19423361876038497,
          -1.1404559525272475,
          0.36132644570637024,
          -0.06963216123953414,
          -0.21478317152142276,
          -2.1383624044570757,
          1.3604530205933243,
          -0.02833867735545919,
          1.0995634743246747,
          0.6372366447919425,
          -0.42141871269977116,
          0.7504607745939308,
          -0.4335204360951008,
          0.6529644865979116
         ],
         "yaxis": "y18"
        },
        {
         "histfunc": "count",
         "histnorm": "",
         "marker": {
          "color": "rgba(128, 0, 128, 1.0)",
          "line": {
           "color": "#4D5663",
           "width": 1.3
          }
         },
         "name": "D",
         "nbinsx": 10,
         "opacity": 0.8,
         "orientation": "v",
         "type": "histogram",
         "x": [
          -1.9198483031724256,
          -0.24329183540613608,
          0.6419997062319316,
          1.3521182772765474,
          0.5953524145895086,
          -0.3552352893647105,
          1.0915339646314302,
          0.6475280944502119,
          -0.774851217596859,
          -0.39637688379115565,
          -0.4230845617672878,
          0.22959960188263315,
          1.6948841348667674,
          1.1446841575735427,
          -2.2080553735626602,
          -0.30308059602206633,
          1.0806566946819762,
          -1.1216001403815672,
          -0.12520775316480504,
          1.3466925190085772,
          0.9462059084151903,
          0.8985744305856347,
          -1.64358228609394,
          0.6069791243187228,
          0.4223824309838147,
          0.8423595723635103,
          2.3980901509690193,
          -0.6415070968039709,
          -0.9975940538503272,
          -0.11550689048261797,
          2.0020036202933498,
          1.3662311734044508,
          0.479460223478841,
          0.5092066242214716,
          -1.5629385459288747,
          0.628865645676127,
          -0.7634899023056374,
          1.0248616097292713,
          1.6595211982791724,
          -2.0061602520171813,
          -0.7186614432370061,
          -0.4742543791027465,
          1.307551183314467,
          1.1743804854843325,
          0.7052145371823973,
          0.4799543593091343,
          -0.7009216406650326,
          -0.6746932653622134,
          -1.100313397740983,
          1.439377653494364,
          -0.31797347028181755,
          -0.874593483987904,
          1.909864020081642,
          1.3555632985489197,
          -1.5303080609636381,
          1.233317462598353,
          -0.06212854456042669,
          -1.83988537294752,
          0.5529455365082178,
          2.6805845051206223,
          -1.085617407002373,
          1.3827589034085064,
          1.4931540986489353,
          -1.830583458116591,
          2.2873533003201194,
          0.4538291090971322,
          -1.4015980942710253,
          -2.101484782143447,
          0.3850412422960206,
          -0.28960698710359245,
          -0.4010520642042657,
          1.2987085019055833,
          -0.6958314981432985,
          1.1722585020874166,
          -0.7857462390210691,
          1.5046211800677642,
          1.1521614492395316,
          1.104130661059711,
          -0.3180270974434549,
          -0.5170270701278834,
          -1.926258142950692,
          0.9116496592019908,
          0.16343145846718582,
          0.829446465394839,
          0.6912702589585954,
          -0.5780875528080383,
          -0.19423361876038497,
          -1.1404559525272475,
          0.36132644570637024,
          -0.06963216123953414,
          -0.21478317152142276,
          -2.1383624044570757,
          1.3604530205933243,
          -0.02833867735545919,
          1.0995634743246747,
          0.6372366447919425,
          -0.42141871269977116,
          0.7504607745939308,
          -0.4335204360951008,
          0.6529644865979116
         ],
         "xaxis": "x19",
         "yaxis": "y19"
        },
        {
         "line": {
          "color": "rgba(128, 128, 128, 1.0)",
          "dash": "solid",
          "shape": "linear",
          "width": 1.3
         },
         "marker": {
          "size": 2,
          "symbol": "circle"
         },
         "mode": "markers",
         "name": "D",
         "text": "",
         "type": "scatter",
         "x": [
          -1.8839552638761043,
          -1.4222817243492196,
          0.2439336106390916,
          -0.3022115945065196,
          -1.1116255926474479,
          -0.13846855609245293,
          -0.6352316093943358,
          -1.6741868974608256,
          -1.0874216392138512,
          -1.727874886025039,
          0.6068689036503123,
          1.606811739024369,
          -0.7544366227941612,
          2.0380068491611185,
          -0.41478932093402,
          0.7142095505760002,
          -0.017473896869972794,
          -0.854025343130081,
          0.17112312466754392,
          2.5949210831298983,
          -0.3368952398061639,
          -0.5018141764171291,
          -0.2291538464895462,
          1.7865692974483998,
          -0.5194435804480518,
          0.06767539551418716,
          -0.09300004854212413,
          -1.2127175883760892,
          1.942643225757587,
          0.8878018149978713,
          -1.1809781153260683,
          0.2575919645669953,
          -0.6769032747176147,
          0.01014174877601857,
          2.885642130181955,
          -0.7049165847816975,
          -0.4967452753515838,
          -0.15303974924473007,
          1.62343094257325,
          0.30504135057356546,
          0.8135619495047793,
          0.13859734831440887,
          0.9409094898287858,
          -2.106150798000945,
          -0.9727829821770161,
          -0.49535544612192495,
          -1.3610308308674985,
          -1.8962982399982888,
          -0.7253845761849583,
          -0.7168960746976729,
          0.37029744211770654,
          0.8598123725308865,
          0.8461573465522495,
          -0.6046059434358252,
          -0.10992922641504047,
          -2.0891817672460156,
          -0.4063293893196075,
          0.2757867175136207,
          0.8774299519146228,
          -2.2757649437521903,
          -0.45757232015356514,
          -0.17936223143712166,
          0.17476001282787101,
          0.9290796655113206,
          -1.8732214794720277,
          1.242753534277087,
          0.1066039488907477,
          0.9433387503335581,
          1.6896852590146096,
          1.0510034273696693,
          1.6134414015773315,
          -1.8868368147054095,
          0.04411536657854227,
          1.4055080886554139,
          -0.4794134388164445,
          -0.8810855398463338,
          1.5117001240378032,
          -0.22294664515737564,
          -0.1304669186370773,
          0.37964353796601175,
          -0.5790014297236573,
          -0.6127310043576752,
          1.2031065883968466,
          0.16998909148348326,
          -0.06292258556163698,
          0.5494619741500407,
          -0.18506065027833485,
          -0.18448527937520084,
          -1.4254380406342864,
          -1.7079349491429474,
          -0.9371196134892642,
          0.7528973069243526,
          0.01649536172771896,
          0.7025745920667116,
          -1.5521217053670775,
          1.646999567576793,
          0.7663500834926468,
          -0.06438797934787864,
          -0.2584312528743698,
          0.300277201635679
         ],
         "xaxis": "x20",
         "y": [
          -1.9198483031724256,
          -0.24329183540613608,
          0.6419997062319316,
          1.3521182772765474,
          0.5953524145895086,
          -0.3552352893647105,
          1.0915339646314302,
          0.6475280944502119,
          -0.774851217596859,
          -0.39637688379115565,
          -0.4230845617672878,
          0.22959960188263315,
          1.6948841348667674,
          1.1446841575735427,
          -2.2080553735626602,
          -0.30308059602206633,
          1.0806566946819762,
          -1.1216001403815672,
          -0.12520775316480504,
          1.3466925190085772,
          0.9462059084151903,
          0.8985744305856347,
          -1.64358228609394,
          0.6069791243187228,
          0.4223824309838147,
          0.8423595723635103,
          2.3980901509690193,
          -0.6415070968039709,
          -0.9975940538503272,
          -0.11550689048261797,
          2.0020036202933498,
          1.3662311734044508,
          0.479460223478841,
          0.5092066242214716,
          -1.5629385459288747,
          0.628865645676127,
          -0.7634899023056374,
          1.0248616097292713,
          1.6595211982791724,
          -2.0061602520171813,
          -0.7186614432370061,
          -0.4742543791027465,
          1.307551183314467,
          1.1743804854843325,
          0.7052145371823973,
          0.4799543593091343,
          -0.7009216406650326,
          -0.6746932653622134,
          -1.100313397740983,
          1.439377653494364,
          -0.31797347028181755,
          -0.874593483987904,
          1.909864020081642,
          1.3555632985489197,
          -1.5303080609636381,
          1.233317462598353,
          -0.06212854456042669,
          -1.83988537294752,
          0.5529455365082178,
          2.6805845051206223,
          -1.085617407002373,
          1.3827589034085064,
          1.4931540986489353,
          -1.830583458116591,
          2.2873533003201194,
          0.4538291090971322,
          -1.4015980942710253,
          -2.101484782143447,
          0.3850412422960206,
          -0.28960698710359245,
          -0.4010520642042657,
          1.2987085019055833,
          -0.6958314981432985,
          1.1722585020874166,
          -0.7857462390210691,
          1.5046211800677642,
          1.1521614492395316,
          1.104130661059711,
          -0.3180270974434549,
          -0.5170270701278834,
          -1.926258142950692,
          0.9116496592019908,
          0.16343145846718582,
          0.829446465394839,
          0.6912702589585954,
          -0.5780875528080383,
          -0.19423361876038497,
          -1.1404559525272475,
          0.36132644570637024,
          -0.06963216123953414,
          -0.21478317152142276,
          -2.1383624044570757,
          1.3604530205933243,
          -0.02833867735545919,
          1.0995634743246747,
          0.6372366447919425,
          -0.42141871269977116,
          0.7504607745939308,
          -0.4335204360951008,
          0.6529644865979116
         ],
         "yaxis": "y20"
        },
        {
         "line": {
          "color": "rgba(128, 128, 128, 1.0)",
          "dash": "solid",
          "shape": "linear",
          "width": 1.3
         },
         "marker": {
          "size": 2,
          "symbol": "circle"
         },
         "mode": "markers",
         "name": "E",
         "text": "",
         "type": "scatter",
         "x": [
          -0.3335804497762339,
          0.00841020770573747,
          -0.2452486455726726,
          1.7550835292323625,
          -0.4124142608843169,
          0.08397452866741234,
          -1.3865662695296521,
          -0.5536159230768968,
          -0.6159733733331406,
          0.5351203760401979,
          0.6219906888015769,
          2.0936218973984544,
          0.44108665014911896,
          -0.416230235006025,
          0.9331183949846429,
          -0.7216605612758971,
          1.3390572677191115,
          0.6496069974394884,
          -0.7901367515093446,
          -0.3422059764483797,
          0.5373701215532392,
          1.7747753169553424,
          0.419529041757397,
          -0.10904889995774433,
          -2.0263048218045543,
          0.21622836105376003,
          -0.821922543917067,
          1.842131241717987,
          -1.265365165032051,
          0.8479452711578469,
          0.6156098386466577,
          0.15867622180468346,
          -1.238977024083961,
          0.7335419753028098,
          0.0512616782988629,
          1.4495571762852764,
          -0.4496751518589838,
          -0.330172000624211,
          -0.8929792515250653,
          2.205175209714804,
          -0.4538635156588506,
          2.2037334537380286,
          0.7417458154644216,
          -0.01924531610158195,
          0.5149129505912265,
          -0.8559027787490496,
          -1.2359804048231446,
          2.073959092442634,
          0.6912579520973061,
          -1.108283786227255,
          0.16942813801626458,
          -2.781043939921188,
          0.0885804145925267,
          -1.756318606323291,
          1.274483140059975,
          0.8438741973237249,
          1.043238681028487,
          0.8742390843303314,
          1.4704877215499943,
          -0.6540245721736407,
          -1.1275658316510941,
          0.8367878573651504,
          -0.7350001997710474,
          -0.11503001732679545,
          -0.1920425691420273,
          1.3367611859539756,
          0.31544010241881365,
          0.30833485067338146,
          -0.30446858143129724,
          0.09901607880407506,
          0.3280088371532466,
          0.3003499482732641,
          0.27812375549087964,
          -0.6621938785792102,
          0.5884359898684891,
          -1.4687335662247434,
          1.5961345007591994,
          -0.2519890600562586,
          1.5557835869903025,
          0.04462193969423287,
          0.15083076444693133,
          0.4082980181436096,
          -0.678370760026145,
          -0.0750391155180131,
          -1.0668798705652038,
          -0.9875792933502123,
          -2.7515517426231964,
          1.6668491718400256,
          -2.011343087200451,
          0.22068583475438497,
          1.0427267249140537,
          0.8666554855258551,
          1.4876746522797113,
          -0.12935479445954817,
          0.544861458818753,
          0.2590464861926635,
          -0.29858348018470654,
          1.0157638005717105,
          -1.2125999335057973,
          -0.7869056414224349
         ],
         "xaxis": "x21",
         "y": [
          -1.8839552638761043,
          -1.4222817243492196,
          0.2439336106390916,
          -0.3022115945065196,
          -1.1116255926474479,
          -0.13846855609245293,
          -0.6352316093943358,
          -1.6741868974608256,
          -1.0874216392138512,
          -1.727874886025039,
          0.6068689036503123,
          1.606811739024369,
          -0.7544366227941612,
          2.0380068491611185,
          -0.41478932093402,
          0.7142095505760002,
          -0.017473896869972794,
          -0.854025343130081,
          0.17112312466754392,
          2.5949210831298983,
          -0.3368952398061639,
          -0.5018141764171291,
          -0.2291538464895462,
          1.7865692974483998,
          -0.5194435804480518,
          0.06767539551418716,
          -0.09300004854212413,
          -1.2127175883760892,
          1.942643225757587,
          0.8878018149978713,
          -1.1809781153260683,
          0.2575919645669953,
          -0.6769032747176147,
          0.01014174877601857,
          2.885642130181955,
          -0.7049165847816975,
          -0.4967452753515838,
          -0.15303974924473007,
          1.62343094257325,
          0.30504135057356546,
          0.8135619495047793,
          0.13859734831440887,
          0.9409094898287858,
          -2.106150798000945,
          -0.9727829821770161,
          -0.49535544612192495,
          -1.3610308308674985,
          -1.8962982399982888,
          -0.7253845761849583,
          -0.7168960746976729,
          0.37029744211770654,
          0.8598123725308865,
          0.8461573465522495,
          -0.6046059434358252,
          -0.10992922641504047,
          -2.0891817672460156,
          -0.4063293893196075,
          0.2757867175136207,
          0.8774299519146228,
          -2.2757649437521903,
          -0.45757232015356514,
          -0.17936223143712166,
          0.17476001282787101,
          0.9290796655113206,
          -1.8732214794720277,
          1.242753534277087,
          0.1066039488907477,
          0.9433387503335581,
          1.6896852590146096,
          1.0510034273696693,
          1.6134414015773315,
          -1.8868368147054095,
          0.04411536657854227,
          1.4055080886554139,
          -0.4794134388164445,
          -0.8810855398463338,
          1.5117001240378032,
          -0.22294664515737564,
          -0.1304669186370773,
          0.37964353796601175,
          -0.5790014297236573,
          -0.6127310043576752,
          1.2031065883968466,
          0.16998909148348326,
          -0.06292258556163698,
          0.5494619741500407,
          -0.18506065027833485,
          -0.18448527937520084,
          -1.4254380406342864,
          -1.7079349491429474,
          -0.9371196134892642,
          0.7528973069243526,
          0.01649536172771896,
          0.7025745920667116,
          -1.5521217053670775,
          1.646999567576793,
          0.7663500834926468,
          -0.06438797934787864,
          -0.2584312528743698,
          0.300277201635679
         ],
         "yaxis": "y21"
        },
        {
         "line": {
          "color": "rgba(128, 128, 128, 1.0)",
          "dash": "solid",
          "shape": "linear",
          "width": 1.3
         },
         "marker": {
          "size": 2,
          "symbol": "circle"
         },
         "mode": "markers",
         "name": "E",
         "text": "",
         "type": "scatter",
         "x": [
          1.2656119006442414,
          0.11172189872330608,
          2.4441405083498084,
          0.021263530711874312,
          -0.09762074893880836,
          -2.841439832791632,
          0.3606689299126568,
          0.6100067499256379,
          0.46938226746429257,
          1.0409351529187922,
          -0.10530897127620471,
          -0.7839565480168238,
          1.312981092013129,
          0.9168981441738603,
          -0.45747230576020353,
          1.019246343752088,
          1.035506744391563,
          -0.2017921322897468,
          1.541948116644562,
          -0.8547194343811696,
          -0.5159114150487076,
          0.6205665175937206,
          -1.4708434724308213,
          -0.7028787223375108,
          0.4566743660520509,
          0.5175867306902976,
          2.307306044925076,
          0.6335984216611076,
          -1.169581749814845,
          -0.8049516945379682,
          0.8376752575918941,
          -0.7965999170117269,
          1.5701411435733117,
          0.010738407292215393,
          -1.9476656494682059,
          0.7994896822584975,
          0.9916380277779536,
          -0.8259760625515664,
          -0.7750424611682585,
          -1.000212958965001,
          -0.002153372965835309,
          1.1241098204562403,
          -0.8933357174684814,
          0.14031630340664777,
          0.7796311582424318,
          -2.545378779470004,
          -0.43196973909652,
          -0.11648151266855052,
          0.4066225349475821,
          1.5668326084368156,
          0.0285716881764873,
          1.3441761736057165,
          -0.5523062721586132,
          -0.7157409903930229,
          0.7327498495190612,
          0.30060721324231693,
          0.7133267785007691,
          0.19911508044327778,
          -0.19545960190474662,
          0.6853459741633252,
          -2.127835130345152,
          2.0218196475959336,
          2.1780440617017196,
          2.224401011317823,
          1.165437639520588,
          -0.14759125561131795,
          -0.8113337078873021,
          1.2284972728337857,
          -0.1894385534744078,
          -0.004967028126192879,
          -0.9774278378969505,
          0.9833612559553154,
          -0.23714912708878444,
          0.8726089987499858,
          -0.8389751407305852,
          0.3909661637510026,
          -1.1694495652685963,
          -1.9807748615515484,
          0.4096619399418116,
          1.1594638854247026,
          -1.0171361899301976,
          -1.0048963714697148,
          -0.36924529104358444,
          0.1286784085603135,
          0.7038172729883474,
          -0.9919135098509365,
          -0.29941507106034404,
          0.6134501808248138,
          -0.5951458647500463,
          0.254523959598943,
          0.24629150821694917,
          -1.3603994825182804,
          0.4749977182782207,
          -1.9947392736919967,
          3.508885086749131,
          0.9521474983011023,
          -0.421561079901927,
          1.686899295360436,
          -0.03997823528199046,
          -0.22909054223546957
         ],
         "xaxis": "x22",
         "y": [
          -1.8839552638761043,
          -1.4222817243492196,
          0.2439336106390916,
          -0.3022115945065196,
          -1.1116255926474479,
          -0.13846855609245293,
          -0.6352316093943358,
          -1.6741868974608256,
          -1.0874216392138512,
          -1.727874886025039,
          0.6068689036503123,
          1.606811739024369,
          -0.7544366227941612,
          2.0380068491611185,
          -0.41478932093402,
          0.7142095505760002,
          -0.017473896869972794,
          -0.854025343130081,
          0.17112312466754392,
          2.5949210831298983,
          -0.3368952398061639,
          -0.5018141764171291,
          -0.2291538464895462,
          1.7865692974483998,
          -0.5194435804480518,
          0.06767539551418716,
          -0.09300004854212413,
          -1.2127175883760892,
          1.942643225757587,
          0.8878018149978713,
          -1.1809781153260683,
          0.2575919645669953,
          -0.6769032747176147,
          0.01014174877601857,
          2.885642130181955,
          -0.7049165847816975,
          -0.4967452753515838,
          -0.15303974924473007,
          1.62343094257325,
          0.30504135057356546,
          0.8135619495047793,
          0.13859734831440887,
          0.9409094898287858,
          -2.106150798000945,
          -0.9727829821770161,
          -0.49535544612192495,
          -1.3610308308674985,
          -1.8962982399982888,
          -0.7253845761849583,
          -0.7168960746976729,
          0.37029744211770654,
          0.8598123725308865,
          0.8461573465522495,
          -0.6046059434358252,
          -0.10992922641504047,
          -2.0891817672460156,
          -0.4063293893196075,
          0.2757867175136207,
          0.8774299519146228,
          -2.2757649437521903,
          -0.45757232015356514,
          -0.17936223143712166,
          0.17476001282787101,
          0.9290796655113206,
          -1.8732214794720277,
          1.242753534277087,
          0.1066039488907477,
          0.9433387503335581,
          1.6896852590146096,
          1.0510034273696693,
          1.6134414015773315,
          -1.8868368147054095,
          0.04411536657854227,
          1.4055080886554139,
          -0.4794134388164445,
          -0.8810855398463338,
          1.5117001240378032,
          -0.22294664515737564,
          -0.1304669186370773,
          0.37964353796601175,
          -0.5790014297236573,
          -0.6127310043576752,
          1.2031065883968466,
          0.16998909148348326,
          -0.06292258556163698,
          0.5494619741500407,
          -0.18506065027833485,
          -0.18448527937520084,
          -1.4254380406342864,
          -1.7079349491429474,
          -0.9371196134892642,
          0.7528973069243526,
          0.01649536172771896,
          0.7025745920667116,
          -1.5521217053670775,
          1.646999567576793,
          0.7663500834926468,
          -0.06438797934787864,
          -0.2584312528743698,
          0.300277201635679
         ],
         "yaxis": "y22"
        },
        {
         "line": {
          "color": "rgba(128, 128, 128, 1.0)",
          "dash": "solid",
          "shape": "linear",
          "width": 1.3
         },
         "marker": {
          "size": 2,
          "symbol": "circle"
         },
         "mode": "markers",
         "name": "E",
         "text": "",
         "type": "scatter",
         "x": [
          0.8798245268512644,
          1.3570283033026354,
          1.9749121492940394,
          -1.053528469740966,
          -1.560386785340817,
          1.1388140116813792,
          0.18974961491421344,
          -0.5478264985107293,
          -1.1539249337613273,
          0.8874089996735028,
          -0.05691535188208471,
          0.7770129188124023,
          0.15309817166302805,
          0.16303265459883862,
          -1.4589565959752056,
          -1.7568132075093177,
          2.0863651523643836,
          -0.5709529842718767,
          0.8171735177928228,
          -0.9529735238883316,
          -1.4435332935187561,
          0.5291322365209097,
          0.590287111313805,
          2.0760558580311894,
          2.770519340679483,
          -1.6743154464994718,
          0.9909732859885614,
          1.4782185687998004,
          -0.09278257147140048,
          -0.20689856021378225,
          -0.060082151233758624,
          -0.4549282575190898,
          -2.798225397178623,
          -0.006120247766301646,
          -1.3445715700628214,
          -1.4466365769851819,
          0.2133185589128615,
          -0.32532507006367706,
          1.6286082407494962,
          0.3665395111067651,
          -0.8570393860081226,
          -0.5330012851626166,
          -0.7330412728606085,
          0.39520030272126844,
          -0.328970288722901,
          -2.291935837607325,
          -2.219382875606811,
          1.0050207754278548,
          0.8967059681804674,
          0.7728364986156984,
          -0.4455073981285349,
          -0.7256203081566854,
          -0.1305693944777659,
          -1.3713800857013108,
          -1.8091829986953307,
          -0.23298256037994072,
          -1.8533887856146967,
          0.1721245840219928,
          -1.2813291019196724,
          0.43920160088386334,
          1.2497325365573007,
          -0.11020114414414621,
          0.005641545615314567,
          1.0288602893831988,
          0.4220034532490604,
          -1.2565242509824988,
          -2.0769825586982384,
          -0.03699527667130005,
          1.523715050790172,
          2.0276688810134633,
          -0.06060921744804393,
          -0.16764490626620826,
          -0.2254354082608133,
          0.12847522766802005,
          0.377071749142011,
          -1.2976063331996661,
          -0.6617309172668501,
          0.37072944613045744,
          0.7758699379596998,
          -0.6732095691953305,
          0.9252587961467202,
          0.9267484968797207,
          1.105761853017902,
          -2.444709796114457,
          0.07499096243692296,
          0.5693211122386654,
          -0.652432465524865,
          0.6588139565638953,
          0.018531855504759765,
          -1.0137255385987984,
          1.2993924328191087,
          -1.4653956133450676,
          0.6497028563590997,
          1.8499967179996188,
          1.946063550070373,
          -0.8016185890292232,
          1.0382047761068196,
          -0.3194117889309226,
          0.33599136356301956,
          0.7741509723290858
         ],
         "xaxis": "x23",
         "y": [
          -1.8839552638761043,
          -1.4222817243492196,
          0.2439336106390916,
          -0.3022115945065196,
          -1.1116255926474479,
          -0.13846855609245293,
          -0.6352316093943358,
          -1.6741868974608256,
          -1.0874216392138512,
          -1.727874886025039,
          0.6068689036503123,
          1.606811739024369,
          -0.7544366227941612,
          2.0380068491611185,
          -0.41478932093402,
          0.7142095505760002,
          -0.017473896869972794,
          -0.854025343130081,
          0.17112312466754392,
          2.5949210831298983,
          -0.3368952398061639,
          -0.5018141764171291,
          -0.2291538464895462,
          1.7865692974483998,
          -0.5194435804480518,
          0.06767539551418716,
          -0.09300004854212413,
          -1.2127175883760892,
          1.942643225757587,
          0.8878018149978713,
          -1.1809781153260683,
          0.2575919645669953,
          -0.6769032747176147,
          0.01014174877601857,
          2.885642130181955,
          -0.7049165847816975,
          -0.4967452753515838,
          -0.15303974924473007,
          1.62343094257325,
          0.30504135057356546,
          0.8135619495047793,
          0.13859734831440887,
          0.9409094898287858,
          -2.106150798000945,
          -0.9727829821770161,
          -0.49535544612192495,
          -1.3610308308674985,
          -1.8962982399982888,
          -0.7253845761849583,
          -0.7168960746976729,
          0.37029744211770654,
          0.8598123725308865,
          0.8461573465522495,
          -0.6046059434358252,
          -0.10992922641504047,
          -2.0891817672460156,
          -0.4063293893196075,
          0.2757867175136207,
          0.8774299519146228,
          -2.2757649437521903,
          -0.45757232015356514,
          -0.17936223143712166,
          0.17476001282787101,
          0.9290796655113206,
          -1.8732214794720277,
          1.242753534277087,
          0.1066039488907477,
          0.9433387503335581,
          1.6896852590146096,
          1.0510034273696693,
          1.6134414015773315,
          -1.8868368147054095,
          0.04411536657854227,
          1.4055080886554139,
          -0.4794134388164445,
          -0.8810855398463338,
          1.5117001240378032,
          -0.22294664515737564,
          -0.1304669186370773,
          0.37964353796601175,
          -0.5790014297236573,
          -0.6127310043576752,
          1.2031065883968466,
          0.16998909148348326,
          -0.06292258556163698,
          0.5494619741500407,
          -0.18506065027833485,
          -0.18448527937520084,
          -1.4254380406342864,
          -1.7079349491429474,
          -0.9371196134892642,
          0.7528973069243526,
          0.01649536172771896,
          0.7025745920667116,
          -1.5521217053670775,
          1.646999567576793,
          0.7663500834926468,
          -0.06438797934787864,
          -0.2584312528743698,
          0.300277201635679
         ],
         "yaxis": "y23"
        },
        {
         "line": {
          "color": "rgba(128, 128, 128, 1.0)",
          "dash": "solid",
          "shape": "linear",
          "width": 1.3
         },
         "marker": {
          "size": 2,
          "symbol": "circle"
         },
         "mode": "markers",
         "name": "E",
         "text": "",
         "type": "scatter",
         "x": [
          -1.9198483031724256,
          -0.24329183540613608,
          0.6419997062319316,
          1.3521182772765474,
          0.5953524145895086,
          -0.3552352893647105,
          1.0915339646314302,
          0.6475280944502119,
          -0.774851217596859,
          -0.39637688379115565,
          -0.4230845617672878,
          0.22959960188263315,
          1.6948841348667674,
          1.1446841575735427,
          -2.2080553735626602,
          -0.30308059602206633,
          1.0806566946819762,
          -1.1216001403815672,
          -0.12520775316480504,
          1.3466925190085772,
          0.9462059084151903,
          0.8985744305856347,
          -1.64358228609394,
          0.6069791243187228,
          0.4223824309838147,
          0.8423595723635103,
          2.3980901509690193,
          -0.6415070968039709,
          -0.9975940538503272,
          -0.11550689048261797,
          2.0020036202933498,
          1.3662311734044508,
          0.479460223478841,
          0.5092066242214716,
          -1.5629385459288747,
          0.628865645676127,
          -0.7634899023056374,
          1.0248616097292713,
          1.6595211982791724,
          -2.0061602520171813,
          -0.7186614432370061,
          -0.4742543791027465,
          1.307551183314467,
          1.1743804854843325,
          0.7052145371823973,
          0.4799543593091343,
          -0.7009216406650326,
          -0.6746932653622134,
          -1.100313397740983,
          1.439377653494364,
          -0.31797347028181755,
          -0.874593483987904,
          1.909864020081642,
          1.3555632985489197,
          -1.5303080609636381,
          1.233317462598353,
          -0.06212854456042669,
          -1.83988537294752,
          0.5529455365082178,
          2.6805845051206223,
          -1.085617407002373,
          1.3827589034085064,
          1.4931540986489353,
          -1.830583458116591,
          2.2873533003201194,
          0.4538291090971322,
          -1.4015980942710253,
          -2.101484782143447,
          0.3850412422960206,
          -0.28960698710359245,
          -0.4010520642042657,
          1.2987085019055833,
          -0.6958314981432985,
          1.1722585020874166,
          -0.7857462390210691,
          1.5046211800677642,
          1.1521614492395316,
          1.104130661059711,
          -0.3180270974434549,
          -0.5170270701278834,
          -1.926258142950692,
          0.9116496592019908,
          0.16343145846718582,
          0.829446465394839,
          0.6912702589585954,
          -0.5780875528080383,
          -0.19423361876038497,
          -1.1404559525272475,
          0.36132644570637024,
          -0.06963216123953414,
          -0.21478317152142276,
          -2.1383624044570757,
          1.3604530205933243,
          -0.02833867735545919,
          1.0995634743246747,
          0.6372366447919425,
          -0.42141871269977116,
          0.7504607745939308,
          -0.4335204360951008,
          0.6529644865979116
         ],
         "xaxis": "x24",
         "y": [
          -1.8839552638761043,
          -1.4222817243492196,
          0.2439336106390916,
          -0.3022115945065196,
          -1.1116255926474479,
          -0.13846855609245293,
          -0.6352316093943358,
          -1.6741868974608256,
          -1.0874216392138512,
          -1.727874886025039,
          0.6068689036503123,
          1.606811739024369,
          -0.7544366227941612,
          2.0380068491611185,
          -0.41478932093402,
          0.7142095505760002,
          -0.017473896869972794,
          -0.854025343130081,
          0.17112312466754392,
          2.5949210831298983,
          -0.3368952398061639,
          -0.5018141764171291,
          -0.2291538464895462,
          1.7865692974483998,
          -0.5194435804480518,
          0.06767539551418716,
          -0.09300004854212413,
          -1.2127175883760892,
          1.942643225757587,
          0.8878018149978713,
          -1.1809781153260683,
          0.2575919645669953,
          -0.6769032747176147,
          0.01014174877601857,
          2.885642130181955,
          -0.7049165847816975,
          -0.4967452753515838,
          -0.15303974924473007,
          1.62343094257325,
          0.30504135057356546,
          0.8135619495047793,
          0.13859734831440887,
          0.9409094898287858,
          -2.106150798000945,
          -0.9727829821770161,
          -0.49535544612192495,
          -1.3610308308674985,
          -1.8962982399982888,
          -0.7253845761849583,
          -0.7168960746976729,
          0.37029744211770654,
          0.8598123725308865,
          0.8461573465522495,
          -0.6046059434358252,
          -0.10992922641504047,
          -2.0891817672460156,
          -0.4063293893196075,
          0.2757867175136207,
          0.8774299519146228,
          -2.2757649437521903,
          -0.45757232015356514,
          -0.17936223143712166,
          0.17476001282787101,
          0.9290796655113206,
          -1.8732214794720277,
          1.242753534277087,
          0.1066039488907477,
          0.9433387503335581,
          1.6896852590146096,
          1.0510034273696693,
          1.6134414015773315,
          -1.8868368147054095,
          0.04411536657854227,
          1.4055080886554139,
          -0.4794134388164445,
          -0.8810855398463338,
          1.5117001240378032,
          -0.22294664515737564,
          -0.1304669186370773,
          0.37964353796601175,
          -0.5790014297236573,
          -0.6127310043576752,
          1.2031065883968466,
          0.16998909148348326,
          -0.06292258556163698,
          0.5494619741500407,
          -0.18506065027833485,
          -0.18448527937520084,
          -1.4254380406342864,
          -1.7079349491429474,
          -0.9371196134892642,
          0.7528973069243526,
          0.01649536172771896,
          0.7025745920667116,
          -1.5521217053670775,
          1.646999567576793,
          0.7663500834926468,
          -0.06438797934787864,
          -0.2584312528743698,
          0.300277201635679
         ],
         "yaxis": "y24"
        },
        {
         "histfunc": "count",
         "histnorm": "",
         "marker": {
          "color": "rgba(219, 64, 82, 1.0)",
          "line": {
           "color": "#4D5663",
           "width": 1.3
          }
         },
         "name": "E",
         "nbinsx": 10,
         "opacity": 0.8,
         "orientation": "v",
         "type": "histogram",
         "x": [
          -1.8839552638761043,
          -1.4222817243492196,
          0.2439336106390916,
          -0.3022115945065196,
          -1.1116255926474479,
          -0.13846855609245293,
          -0.6352316093943358,
          -1.6741868974608256,
          -1.0874216392138512,
          -1.727874886025039,
          0.6068689036503123,
          1.606811739024369,
          -0.7544366227941612,
          2.0380068491611185,
          -0.41478932093402,
          0.7142095505760002,
          -0.017473896869972794,
          -0.854025343130081,
          0.17112312466754392,
          2.5949210831298983,
          -0.3368952398061639,
          -0.5018141764171291,
          -0.2291538464895462,
          1.7865692974483998,
          -0.5194435804480518,
          0.06767539551418716,
          -0.09300004854212413,
          -1.2127175883760892,
          1.942643225757587,
          0.8878018149978713,
          -1.1809781153260683,
          0.2575919645669953,
          -0.6769032747176147,
          0.01014174877601857,
          2.885642130181955,
          -0.7049165847816975,
          -0.4967452753515838,
          -0.15303974924473007,
          1.62343094257325,
          0.30504135057356546,
          0.8135619495047793,
          0.13859734831440887,
          0.9409094898287858,
          -2.106150798000945,
          -0.9727829821770161,
          -0.49535544612192495,
          -1.3610308308674985,
          -1.8962982399982888,
          -0.7253845761849583,
          -0.7168960746976729,
          0.37029744211770654,
          0.8598123725308865,
          0.8461573465522495,
          -0.6046059434358252,
          -0.10992922641504047,
          -2.0891817672460156,
          -0.4063293893196075,
          0.2757867175136207,
          0.8774299519146228,
          -2.2757649437521903,
          -0.45757232015356514,
          -0.17936223143712166,
          0.17476001282787101,
          0.9290796655113206,
          -1.8732214794720277,
          1.242753534277087,
          0.1066039488907477,
          0.9433387503335581,
          1.6896852590146096,
          1.0510034273696693,
          1.6134414015773315,
          -1.8868368147054095,
          0.04411536657854227,
          1.4055080886554139,
          -0.4794134388164445,
          -0.8810855398463338,
          1.5117001240378032,
          -0.22294664515737564,
          -0.1304669186370773,
          0.37964353796601175,
          -0.5790014297236573,
          -0.6127310043576752,
          1.2031065883968466,
          0.16998909148348326,
          -0.06292258556163698,
          0.5494619741500407,
          -0.18506065027833485,
          -0.18448527937520084,
          -1.4254380406342864,
          -1.7079349491429474,
          -0.9371196134892642,
          0.7528973069243526,
          0.01649536172771896,
          0.7025745920667116,
          -1.5521217053670775,
          1.646999567576793,
          0.7663500834926468,
          -0.06438797934787864,
          -0.2584312528743698,
          0.300277201635679
         ],
         "xaxis": "x25",
         "yaxis": "y25"
        }
       ],
       "layout": {
        "autosize": true,
        "bargap": 0.02,
        "legend": {
         "bgcolor": "#F5F6F9",
         "font": {
          "color": "#4D5663"
         }
        },
        "paper_bgcolor": "#F5F6F9",
        "plot_bgcolor": "#F5F6F9",
        "showlegend": false,
        "template": {
         "data": {
          "bar": [
           {
            "error_x": {
             "color": "#2a3f5f"
            },
            "error_y": {
             "color": "#2a3f5f"
            },
            "marker": {
             "line": {
              "color": "#E5ECF6",
              "width": 0.5
             },
             "pattern": {
              "fillmode": "overlay",
              "size": 10,
              "solidity": 0.2
             }
            },
            "type": "bar"
           }
          ],
          "barpolar": [
           {
            "marker": {
             "line": {
              "color": "#E5ECF6",
              "width": 0.5
             },
             "pattern": {
              "fillmode": "overlay",
              "size": 10,
              "solidity": 0.2
             }
            },
            "type": "barpolar"
           }
          ],
          "carpet": [
           {
            "aaxis": {
             "endlinecolor": "#2a3f5f",
             "gridcolor": "white",
             "linecolor": "white",
             "minorgridcolor": "white",
             "startlinecolor": "#2a3f5f"
            },
            "baxis": {
             "endlinecolor": "#2a3f5f",
             "gridcolor": "white",
             "linecolor": "white",
             "minorgridcolor": "white",
             "startlinecolor": "#2a3f5f"
            },
            "type": "carpet"
           }
          ],
          "choropleth": [
           {
            "colorbar": {
             "outlinewidth": 0,
             "ticks": ""
            },
            "type": "choropleth"
           }
          ],
          "contour": [
           {
            "colorbar": {
             "outlinewidth": 0,
             "ticks": ""
            },
            "colorscale": [
             [
              0,
              "#0d0887"
             ],
             [
              0.1111111111111111,
              "#46039f"
             ],
             [
              0.2222222222222222,
              "#7201a8"
             ],
             [
              0.3333333333333333,
              "#9c179e"
             ],
             [
              0.4444444444444444,
              "#bd3786"
             ],
             [
              0.5555555555555556,
              "#d8576b"
             ],
             [
              0.6666666666666666,
              "#ed7953"
             ],
             [
              0.7777777777777778,
              "#fb9f3a"
             ],
             [
              0.8888888888888888,
              "#fdca26"
             ],
             [
              1,
              "#f0f921"
             ]
            ],
            "type": "contour"
           }
          ],
          "contourcarpet": [
           {
            "colorbar": {
             "outlinewidth": 0,
             "ticks": ""
            },
            "type": "contourcarpet"
           }
          ],
          "heatmap": [
           {
            "colorbar": {
             "outlinewidth": 0,
             "ticks": ""
            },
            "colorscale": [
             [
              0,
              "#0d0887"
             ],
             [
              0.1111111111111111,
              "#46039f"
             ],
             [
              0.2222222222222222,
              "#7201a8"
             ],
             [
              0.3333333333333333,
              "#9c179e"
             ],
             [
              0.4444444444444444,
              "#bd3786"
             ],
             [
              0.5555555555555556,
              "#d8576b"
             ],
             [
              0.6666666666666666,
              "#ed7953"
             ],
             [
              0.7777777777777778,
              "#fb9f3a"
             ],
             [
              0.8888888888888888,
              "#fdca26"
             ],
             [
              1,
              "#f0f921"
             ]
            ],
            "type": "heatmap"
           }
          ],
          "heatmapgl": [
           {
            "colorbar": {
             "outlinewidth": 0,
             "ticks": ""
            },
            "colorscale": [
             [
              0,
              "#0d0887"
             ],
             [
              0.1111111111111111,
              "#46039f"
             ],
             [
              0.2222222222222222,
              "#7201a8"
             ],
             [
              0.3333333333333333,
              "#9c179e"
             ],
             [
              0.4444444444444444,
              "#bd3786"
             ],
             [
              0.5555555555555556,
              "#d8576b"
             ],
             [
              0.6666666666666666,
              "#ed7953"
             ],
             [
              0.7777777777777778,
              "#fb9f3a"
             ],
             [
              0.8888888888888888,
              "#fdca26"
             ],
             [
              1,
              "#f0f921"
             ]
            ],
            "type": "heatmapgl"
           }
          ],
          "histogram": [
           {
            "marker": {
             "pattern": {
              "fillmode": "overlay",
              "size": 10,
              "solidity": 0.2
             }
            },
            "type": "histogram"
           }
          ],
          "histogram2d": [
           {
            "colorbar": {
             "outlinewidth": 0,
             "ticks": ""
            },
            "colorscale": [
             [
              0,
              "#0d0887"
             ],
             [
              0.1111111111111111,
              "#46039f"
             ],
             [
              0.2222222222222222,
              "#7201a8"
             ],
             [
              0.3333333333333333,
              "#9c179e"
             ],
             [
              0.4444444444444444,
              "#bd3786"
             ],
             [
              0.5555555555555556,
              "#d8576b"
             ],
             [
              0.6666666666666666,
              "#ed7953"
             ],
             [
              0.7777777777777778,
              "#fb9f3a"
             ],
             [
              0.8888888888888888,
              "#fdca26"
             ],
             [
              1,
              "#f0f921"
             ]
            ],
            "type": "histogram2d"
           }
          ],
          "histogram2dcontour": [
           {
            "colorbar": {
             "outlinewidth": 0,
             "ticks": ""
            },
            "colorscale": [
             [
              0,
              "#0d0887"
             ],
             [
              0.1111111111111111,
              "#46039f"
             ],
             [
              0.2222222222222222,
              "#7201a8"
             ],
             [
              0.3333333333333333,
              "#9c179e"
             ],
             [
              0.4444444444444444,
              "#bd3786"
             ],
             [
              0.5555555555555556,
              "#d8576b"
             ],
             [
              0.6666666666666666,
              "#ed7953"
             ],
             [
              0.7777777777777778,
              "#fb9f3a"
             ],
             [
              0.8888888888888888,
              "#fdca26"
             ],
             [
              1,
              "#f0f921"
             ]
            ],
            "type": "histogram2dcontour"
           }
          ],
          "mesh3d": [
           {
            "colorbar": {
             "outlinewidth": 0,
             "ticks": ""
            },
            "type": "mesh3d"
           }
          ],
          "parcoords": [
           {
            "line": {
             "colorbar": {
              "outlinewidth": 0,
              "ticks": ""
             }
            },
            "type": "parcoords"
           }
          ],
          "pie": [
           {
            "automargin": true,
            "type": "pie"
           }
          ],
          "scatter": [
           {
            "fillpattern": {
             "fillmode": "overlay",
             "size": 10,
             "solidity": 0.2
            },
            "type": "scatter"
           }
          ],
          "scatter3d": [
           {
            "line": {
             "colorbar": {
              "outlinewidth": 0,
              "ticks": ""
             }
            },
            "marker": {
             "colorbar": {
              "outlinewidth": 0,
              "ticks": ""
             }
            },
            "type": "scatter3d"
           }
          ],
          "scattercarpet": [
           {
            "marker": {
             "colorbar": {
              "outlinewidth": 0,
              "ticks": ""
             }
            },
            "type": "scattercarpet"
           }
          ],
          "scattergeo": [
           {
            "marker": {
             "colorbar": {
              "outlinewidth": 0,
              "ticks": ""
             }
            },
            "type": "scattergeo"
           }
          ],
          "scattergl": [
           {
            "marker": {
             "colorbar": {
              "outlinewidth": 0,
              "ticks": ""
             }
            },
            "type": "scattergl"
           }
          ],
          "scattermapbox": [
           {
            "marker": {
             "colorbar": {
              "outlinewidth": 0,
              "ticks": ""
             }
            },
            "type": "scattermapbox"
           }
          ],
          "scatterpolar": [
           {
            "marker": {
             "colorbar": {
              "outlinewidth": 0,
              "ticks": ""
             }
            },
            "type": "scatterpolar"
           }
          ],
          "scatterpolargl": [
           {
            "marker": {
             "colorbar": {
              "outlinewidth": 0,
              "ticks": ""
             }
            },
            "type": "scatterpolargl"
           }
          ],
          "scatterternary": [
           {
            "marker": {
             "colorbar": {
              "outlinewidth": 0,
              "ticks": ""
             }
            },
            "type": "scatterternary"
           }
          ],
          "surface": [
           {
            "colorbar": {
             "outlinewidth": 0,
             "ticks": ""
            },
            "colorscale": [
             [
              0,
              "#0d0887"
             ],
             [
              0.1111111111111111,
              "#46039f"
             ],
             [
              0.2222222222222222,
              "#7201a8"
             ],
             [
              0.3333333333333333,
              "#9c179e"
             ],
             [
              0.4444444444444444,
              "#bd3786"
             ],
             [
              0.5555555555555556,
              "#d8576b"
             ],
             [
              0.6666666666666666,
              "#ed7953"
             ],
             [
              0.7777777777777778,
              "#fb9f3a"
             ],
             [
              0.8888888888888888,
              "#fdca26"
             ],
             [
              1,
              "#f0f921"
             ]
            ],
            "type": "surface"
           }
          ],
          "table": [
           {
            "cells": {
             "fill": {
              "color": "#EBF0F8"
             },
             "line": {
              "color": "white"
             }
            },
            "header": {
             "fill": {
              "color": "#C8D4E3"
             },
             "line": {
              "color": "white"
             }
            },
            "type": "table"
           }
          ]
         },
         "layout": {
          "annotationdefaults": {
           "arrowcolor": "#2a3f5f",
           "arrowhead": 0,
           "arrowwidth": 1
          },
          "autotypenumbers": "strict",
          "coloraxis": {
           "colorbar": {
            "outlinewidth": 0,
            "ticks": ""
           }
          },
          "colorscale": {
           "diverging": [
            [
             0,
             "#8e0152"
            ],
            [
             0.1,
             "#c51b7d"
            ],
            [
             0.2,
             "#de77ae"
            ],
            [
             0.3,
             "#f1b6da"
            ],
            [
             0.4,
             "#fde0ef"
            ],
            [
             0.5,
             "#f7f7f7"
            ],
            [
             0.6,
             "#e6f5d0"
            ],
            [
             0.7,
             "#b8e186"
            ],
            [
             0.8,
             "#7fbc41"
            ],
            [
             0.9,
             "#4d9221"
            ],
            [
             1,
             "#276419"
            ]
           ],
           "sequential": [
            [
             0,
             "#0d0887"
            ],
            [
             0.1111111111111111,
             "#46039f"
            ],
            [
             0.2222222222222222,
             "#7201a8"
            ],
            [
             0.3333333333333333,
             "#9c179e"
            ],
            [
             0.4444444444444444,
             "#bd3786"
            ],
            [
             0.5555555555555556,
             "#d8576b"
            ],
            [
             0.6666666666666666,
             "#ed7953"
            ],
            [
             0.7777777777777778,
             "#fb9f3a"
            ],
            [
             0.8888888888888888,
             "#fdca26"
            ],
            [
             1,
             "#f0f921"
            ]
           ],
           "sequentialminus": [
            [
             0,
             "#0d0887"
            ],
            [
             0.1111111111111111,
             "#46039f"
            ],
            [
             0.2222222222222222,
             "#7201a8"
            ],
            [
             0.3333333333333333,
             "#9c179e"
            ],
            [
             0.4444444444444444,
             "#bd3786"
            ],
            [
             0.5555555555555556,
             "#d8576b"
            ],
            [
             0.6666666666666666,
             "#ed7953"
            ],
            [
             0.7777777777777778,
             "#fb9f3a"
            ],
            [
             0.8888888888888888,
             "#fdca26"
            ],
            [
             1,
             "#f0f921"
            ]
           ]
          },
          "colorway": [
           "#636efa",
           "#EF553B",
           "#00cc96",
           "#ab63fa",
           "#FFA15A",
           "#19d3f3",
           "#FF6692",
           "#B6E880",
           "#FF97FF",
           "#FECB52"
          ],
          "font": {
           "color": "#2a3f5f"
          },
          "geo": {
           "bgcolor": "white",
           "lakecolor": "white",
           "landcolor": "#E5ECF6",
           "showlakes": true,
           "showland": true,
           "subunitcolor": "white"
          },
          "hoverlabel": {
           "align": "left"
          },
          "hovermode": "closest",
          "mapbox": {
           "style": "light"
          },
          "paper_bgcolor": "white",
          "plot_bgcolor": "#E5ECF6",
          "polar": {
           "angularaxis": {
            "gridcolor": "white",
            "linecolor": "white",
            "ticks": ""
           },
           "bgcolor": "#E5ECF6",
           "radialaxis": {
            "gridcolor": "white",
            "linecolor": "white",
            "ticks": ""
           }
          },
          "scene": {
           "xaxis": {
            "backgroundcolor": "#E5ECF6",
            "gridcolor": "white",
            "gridwidth": 2,
            "linecolor": "white",
            "showbackground": true,
            "ticks": "",
            "zerolinecolor": "white"
           },
           "yaxis": {
            "backgroundcolor": "#E5ECF6",
            "gridcolor": "white",
            "gridwidth": 2,
            "linecolor": "white",
            "showbackground": true,
            "ticks": "",
            "zerolinecolor": "white"
           },
           "zaxis": {
            "backgroundcolor": "#E5ECF6",
            "gridcolor": "white",
            "gridwidth": 2,
            "linecolor": "white",
            "showbackground": true,
            "ticks": "",
            "zerolinecolor": "white"
           }
          },
          "shapedefaults": {
           "line": {
            "color": "#2a3f5f"
           }
          },
          "ternary": {
           "aaxis": {
            "gridcolor": "white",
            "linecolor": "white",
            "ticks": ""
           },
           "baxis": {
            "gridcolor": "white",
            "linecolor": "white",
            "ticks": ""
           },
           "bgcolor": "#E5ECF6",
           "caxis": {
            "gridcolor": "white",
            "linecolor": "white",
            "ticks": ""
           }
          },
          "title": {
           "x": 0.05
          },
          "xaxis": {
           "automargin": true,
           "gridcolor": "white",
           "linecolor": "white",
           "ticks": "",
           "title": {
            "standoff": 15
           },
           "zerolinecolor": "white",
           "zerolinewidth": 2
          },
          "yaxis": {
           "automargin": true,
           "gridcolor": "white",
           "linecolor": "white",
           "ticks": "",
           "title": {
            "standoff": 15
           },
           "zerolinecolor": "white",
           "zerolinewidth": 2
          }
         }
        },
        "title": {
         "font": {
          "color": "#4D5663"
         }
        },
        "xaxis": {
         "anchor": "y",
         "autorange": true,
         "domain": [
          0,
          0.16
         ],
         "gridcolor": "#E1E5ED",
         "range": [
          -3,
          2.5
         ],
         "showgrid": false,
         "tickfont": {
          "color": "#4D5663"
         },
         "title": {
          "font": {
           "color": "#4D5663"
          },
          "text": ""
         },
         "type": "linear",
         "zerolinecolor": "#E1E5ED"
        },
        "xaxis10": {
         "anchor": "y10",
         "autorange": true,
         "domain": [
          0.8400000000000001,
          1
         ],
         "gridcolor": "#E1E5ED",
         "range": [
          -2.694918738267591,
          3.3047959246973555
         ],
         "showgrid": false,
         "tickfont": {
          "color": "#4D5663"
         },
         "title": {
          "font": {
           "color": "#4D5663"
          },
          "text": ""
         },
         "type": "linear",
         "zerolinecolor": "#E1E5ED"
        },
        "xaxis11": {
         "anchor": "y11",
         "autorange": true,
         "domain": [
          0,
          0.16
         ],
         "gridcolor": "#E1E5ED",
         "range": [
          -3.185970861382207,
          2.610102131175823
         ],
         "showgrid": false,
         "tickfont": {
          "color": "#4D5663"
         },
         "title": {
          "font": {
           "color": "#4D5663"
          },
          "text": ""
         },
         "type": "linear",
         "zerolinecolor": "#E1E5ED"
        },
        "xaxis12": {
         "anchor": "y12",
         "autorange": true,
         "domain": [
          0.21000000000000002,
          0.37
         ],
         "gridcolor": "#E1E5ED",
         "range": [
          -3.3571447071220266,
          4.024589961079525
         ],
         "showgrid": false,
         "tickfont": {
          "color": "#4D5663"
         },
         "title": {
          "font": {
           "color": "#4D5663"
          },
          "text": ""
         },
         "type": "linear",
         "zerolinecolor": "#E1E5ED"
        },
        "xaxis13": {
         "anchor": "y13",
         "autorange": true,
         "domain": [
          0.42000000000000004,
          0.5800000000000001
         ],
         "gridcolor": "#E1E5ED",
         "range": [
          -3,
          3
         ],
         "showgrid": false,
         "tickfont": {
          "color": "#4D5663"
         },
         "title": {
          "font": {
           "color": "#4D5663"
          },
          "text": ""
         },
         "type": "linear",
         "zerolinecolor": "#E1E5ED"
        },
        "xaxis14": {
         "anchor": "y14",
         "autorange": true,
         "domain": [
          0.63,
          0.79
         ],
         "gridcolor": "#E1E5ED",
         "range": [
          -2.605057959450066,
          3.077587091008028
         ],
         "showgrid": false,
         "tickfont": {
          "color": "#4D5663"
         },
         "title": {
          "font": {
           "color": "#4D5663"
          },
          "text": ""
         },
         "type": "linear",
         "zerolinecolor": "#E1E5ED"
        },
        "xaxis15": {
         "anchor": "y15",
         "autorange": true,
         "domain": [
          0.8400000000000001,
          1
         ],
         "gridcolor": "#E1E5ED",
         "range": [
          -2.694918738267591,
          3.3047959246973555
         ],
         "showgrid": false,
         "tickfont": {
          "color": "#4D5663"
         },
         "title": {
          "font": {
           "color": "#4D5663"
          },
          "text": ""
         },
         "type": "linear",
         "zerolinecolor": "#E1E5ED"
        },
        "xaxis16": {
         "anchor": "y16",
         "autorange": true,
         "domain": [
          0,
          0.16
         ],
         "gridcolor": "#E1E5ED",
         "range": [
          -3.185970861382207,
          2.610102131175823
         ],
         "showgrid": false,
         "tickfont": {
          "color": "#4D5663"
         },
         "title": {
          "font": {
           "color": "#4D5663"
          },
          "text": ""
         },
         "type": "linear",
         "zerolinecolor": "#E1E5ED"
        },
        "xaxis17": {
         "anchor": "y17",
         "autorange": true,
         "domain": [
          0.21000000000000002,
          0.37
         ],
         "gridcolor": "#E1E5ED",
         "range": [
          -3.3571447071220266,
          4.024589961079525
         ],
         "showgrid": false,
         "tickfont": {
          "color": "#4D5663"
         },
         "title": {
          "font": {
           "color": "#4D5663"
          },
          "text": ""
         },
         "type": "linear",
         "zerolinecolor": "#E1E5ED"
        },
        "xaxis18": {
         "anchor": "y18",
         "autorange": true,
         "domain": [
          0.42000000000000004,
          0.5800000000000001
         ],
         "gridcolor": "#E1E5ED",
         "range": [
          -3.25045876186492,
          3.2227527053657803
         ],
         "showgrid": false,
         "tickfont": {
          "color": "#4D5663"
         },
         "title": {
          "font": {
           "color": "#4D5663"
          },
          "text": ""
         },
         "type": "linear",
         "zerolinecolor": "#E1E5ED"
        },
        "xaxis19": {
         "anchor": "y19",
         "autorange": true,
         "domain": [
          0.63,
          0.79
         ],
         "gridcolor": "#E1E5ED",
         "range": [
          -2.5,
          3
         ],
         "showgrid": false,
         "tickfont": {
          "color": "#4D5663"
         },
         "title": {
          "font": {
           "color": "#4D5663"
          },
          "text": ""
         },
         "type": "linear",
         "zerolinecolor": "#E1E5ED"
        },
        "xaxis2": {
         "anchor": "y2",
         "autorange": true,
         "domain": [
          0.21000000000000002,
          0.37
         ],
         "gridcolor": "#E1E5ED",
         "range": [
          -3.3571447071220266,
          4.024589961079525
         ],
         "showgrid": false,
         "tickfont": {
          "color": "#4D5663"
         },
         "title": {
          "font": {
           "color": "#4D5663"
          },
          "text": ""
         },
         "type": "linear",
         "zerolinecolor": "#E1E5ED"
        },
        "xaxis20": {
         "anchor": "y20",
         "autorange": true,
         "domain": [
          0.8400000000000001,
          1
         ],
         "gridcolor": "#E1E5ED",
         "range": [
          -2.694918738267591,
          3.3047959246973555
         ],
         "showgrid": false,
         "tickfont": {
          "color": "#4D5663"
         },
         "title": {
          "font": {
           "color": "#4D5663"
          },
          "text": ""
         },
         "type": "linear",
         "zerolinecolor": "#E1E5ED"
        },
        "xaxis21": {
         "anchor": "y21",
         "autorange": true,
         "domain": [
          0,
          0.16
         ],
         "gridcolor": "#E1E5ED",
         "range": [
          -3.185970861382207,
          2.610102131175823
         ],
         "showgrid": false,
         "tickfont": {
          "color": "#4D5663"
         },
         "title": {
          "font": {
           "color": "#4D5663"
          },
          "text": ""
         },
         "type": "linear",
         "zerolinecolor": "#E1E5ED"
        },
        "xaxis22": {
         "anchor": "y22",
         "autorange": true,
         "domain": [
          0.21000000000000002,
          0.37
         ],
         "gridcolor": "#E1E5ED",
         "range": [
          -3.3571447071220266,
          4.024589961079525
         ],
         "showgrid": false,
         "tickfont": {
          "color": "#4D5663"
         },
         "title": {
          "font": {
           "color": "#4D5663"
          },
          "text": ""
         },
         "type": "linear",
         "zerolinecolor": "#E1E5ED"
        },
        "xaxis23": {
         "anchor": "y23",
         "autorange": true,
         "domain": [
          0.42000000000000004,
          0.5800000000000001
         ],
         "gridcolor": "#E1E5ED",
         "range": [
          -3.25045876186492,
          3.2227527053657803
         ],
         "showgrid": false,
         "tickfont": {
          "color": "#4D5663"
         },
         "title": {
          "font": {
           "color": "#4D5663"
          },
          "text": ""
         },
         "type": "linear",
         "zerolinecolor": "#E1E5ED"
        },
        "xaxis24": {
         "anchor": "y24",
         "autorange": true,
         "domain": [
          0.63,
          0.79
         ],
         "gridcolor": "#E1E5ED",
         "range": [
          -2.605057959450066,
          3.077587091008028
         ],
         "showgrid": false,
         "tickfont": {
          "color": "#4D5663"
         },
         "title": {
          "font": {
           "color": "#4D5663"
          },
          "text": ""
         },
         "type": "linear",
         "zerolinecolor": "#E1E5ED"
        },
        "xaxis25": {
         "anchor": "y25",
         "autorange": true,
         "domain": [
          0.8400000000000001,
          1
         ],
         "gridcolor": "#E1E5ED",
         "range": [
          -3,
          3
         ],
         "showgrid": false,
         "tickfont": {
          "color": "#4D5663"
         },
         "title": {
          "font": {
           "color": "#4D5663"
          },
          "text": ""
         },
         "type": "linear",
         "zerolinecolor": "#E1E5ED"
        },
        "xaxis3": {
         "anchor": "y3",
         "autorange": true,
         "domain": [
          0.42000000000000004,
          0.5800000000000001
         ],
         "gridcolor": "#E1E5ED",
         "range": [
          -3.25045876186492,
          3.2227527053657803
         ],
         "showgrid": false,
         "tickfont": {
          "color": "#4D5663"
         },
         "title": {
          "font": {
           "color": "#4D5663"
          },
          "text": ""
         },
         "type": "linear",
         "zerolinecolor": "#E1E5ED"
        },
        "xaxis4": {
         "anchor": "y4",
         "autorange": true,
         "domain": [
          0.63,
          0.79
         ],
         "gridcolor": "#E1E5ED",
         "range": [
          -2.605057959450066,
          3.077587091008028
         ],
         "showgrid": false,
         "tickfont": {
          "color": "#4D5663"
         },
         "title": {
          "font": {
           "color": "#4D5663"
          },
          "text": ""
         },
         "type": "linear",
         "zerolinecolor": "#E1E5ED"
        },
        "xaxis5": {
         "anchor": "y5",
         "autorange": true,
         "domain": [
          0.8400000000000001,
          1
         ],
         "gridcolor": "#E1E5ED",
         "range": [
          -2.694918738267591,
          3.3047959246973555
         ],
         "showgrid": false,
         "tickfont": {
          "color": "#4D5663"
         },
         "title": {
          "font": {
           "color": "#4D5663"
          },
          "text": ""
         },
         "type": "linear",
         "zerolinecolor": "#E1E5ED"
        },
        "xaxis6": {
         "anchor": "y6",
         "autorange": true,
         "domain": [
          0,
          0.16
         ],
         "gridcolor": "#E1E5ED",
         "range": [
          -3.185970861382207,
          2.610102131175823
         ],
         "showgrid": false,
         "tickfont": {
          "color": "#4D5663"
         },
         "title": {
          "font": {
           "color": "#4D5663"
          },
          "text": ""
         },
         "type": "linear",
         "zerolinecolor": "#E1E5ED"
        },
        "xaxis7": {
         "anchor": "y7",
         "autorange": true,
         "domain": [
          0.21000000000000002,
          0.37
         ],
         "gridcolor": "#E1E5ED",
         "range": [
          -3,
          4
         ],
         "showgrid": false,
         "tickfont": {
          "color": "#4D5663"
         },
         "title": {
          "font": {
           "color": "#4D5663"
          },
          "text": ""
         },
         "type": "linear",
         "zerolinecolor": "#E1E5ED"
        },
        "xaxis8": {
         "anchor": "y8",
         "autorange": true,
         "domain": [
          0.42000000000000004,
          0.5800000000000001
         ],
         "gridcolor": "#E1E5ED",
         "range": [
          -3.25045876186492,
          3.2227527053657803
         ],
         "showgrid": false,
         "tickfont": {
          "color": "#4D5663"
         },
         "title": {
          "font": {
           "color": "#4D5663"
          },
          "text": ""
         },
         "type": "linear",
         "zerolinecolor": "#E1E5ED"
        },
        "xaxis9": {
         "anchor": "y9",
         "autorange": true,
         "domain": [
          0.63,
          0.79
         ],
         "gridcolor": "#E1E5ED",
         "range": [
          -2.605057959450066,
          3.077587091008028
         ],
         "showgrid": false,
         "tickfont": {
          "color": "#4D5663"
         },
         "title": {
          "font": {
           "color": "#4D5663"
          },
          "text": ""
         },
         "type": "linear",
         "zerolinecolor": "#E1E5ED"
        },
        "yaxis": {
         "anchor": "x",
         "autorange": true,
         "domain": [
          0.856,
          1
         ],
         "gridcolor": "#E1E5ED",
         "range": [
          0,
          21.05263157894737
         ],
         "showgrid": false,
         "tickfont": {
          "color": "#4D5663"
         },
         "title": {
          "font": {
           "color": "#4D5663"
          },
          "text": ""
         },
         "zerolinecolor": "#E1E5ED"
        },
        "yaxis10": {
         "anchor": "x10",
         "autorange": true,
         "domain": [
          0.6419999999999999,
          0.7859999999999999
         ],
         "gridcolor": "#E1E5ED",
         "range": [
          -4.415827866860602,
          5.083273120818101
         ],
         "showgrid": false,
         "tickfont": {
          "color": "#4D5663"
         },
         "title": {
          "font": {
           "color": "#4D5663"
          },
          "text": ""
         },
         "type": "linear",
         "zerolinecolor": "#E1E5ED"
        },
        "yaxis11": {
         "anchor": "x11",
         "autorange": true,
         "domain": [
          0.428,
          0.572
         ],
         "gridcolor": "#E1E5ED",
         "range": [
          -4.17884216736782,
          4.151136110868681
         ],
         "showgrid": false,
         "tickfont": {
          "color": "#4D5663"
         },
         "title": {
          "font": {
           "color": "#4D5663"
          },
          "text": ""
         },
         "type": "linear",
         "zerolinecolor": "#E1E5ED"
        },
        "yaxis12": {
         "anchor": "x12",
         "autorange": true,
         "domain": [
          0.428,
          0.572
         ],
         "gridcolor": "#E1E5ED",
         "range": [
          -4.17884216736782,
          4.151136110868681
         ],
         "showgrid": false,
         "tickfont": {
          "color": "#4D5663"
         },
         "title": {
          "font": {
           "color": "#4D5663"
          },
          "text": ""
         },
         "type": "linear",
         "zerolinecolor": "#E1E5ED"
        },
        "yaxis13": {
         "anchor": "x13",
         "autorange": true,
         "domain": [
          0.428,
          0.572
         ],
         "gridcolor": "#E1E5ED",
         "range": [
          0,
          33.68421052631579
         ],
         "showgrid": false,
         "tickfont": {
          "color": "#4D5663"
         },
         "title": {
          "font": {
           "color": "#4D5663"
          },
          "text": ""
         },
         "zerolinecolor": "#E1E5ED"
        },
        "yaxis14": {
         "anchor": "x14",
         "autorange": true,
         "domain": [
          0.428,
          0.572
         ],
         "gridcolor": "#E1E5ED",
         "range": [
          -4.17884216736782,
          4.151136110868681
         ],
         "showgrid": false,
         "tickfont": {
          "color": "#4D5663"
         },
         "title": {
          "font": {
           "color": "#4D5663"
          },
          "text": ""
         },
         "type": "linear",
         "zerolinecolor": "#E1E5ED"
        },
        "yaxis15": {
         "anchor": "x15",
         "autorange": true,
         "domain": [
          0.428,
          0.572
         ],
         "gridcolor": "#E1E5ED",
         "range": [
          -4.17884216736782,
          4.151136110868681
         ],
         "showgrid": false,
         "tickfont": {
          "color": "#4D5663"
         },
         "title": {
          "font": {
           "color": "#4D5663"
          },
          "text": ""
         },
         "type": "linear",
         "zerolinecolor": "#E1E5ED"
        },
        "yaxis16": {
         "anchor": "x16",
         "autorange": true,
         "domain": [
          0.214,
          0.358
         ],
         "gridcolor": "#E1E5ED",
         "range": [
          -3.4200588891918953,
          3.892588020749857
         ],
         "showgrid": false,
         "tickfont": {
          "color": "#4D5663"
         },
         "title": {
          "font": {
           "color": "#4D5663"
          },
          "text": ""
         },
         "type": "linear",
         "zerolinecolor": "#E1E5ED"
        },
        "yaxis17": {
         "anchor": "x17",
         "autorange": true,
         "domain": [
          0.214,
          0.358
         ],
         "gridcolor": "#E1E5ED",
         "range": [
          -3.4200588891918953,
          3.892588020749857
         ],
         "showgrid": false,
         "tickfont": {
          "color": "#4D5663"
         },
         "title": {
          "font": {
           "color": "#4D5663"
          },
          "text": ""
         },
         "type": "linear",
         "zerolinecolor": "#E1E5ED"
        },
        "yaxis18": {
         "anchor": "x18",
         "autorange": true,
         "domain": [
          0.214,
          0.358
         ],
         "gridcolor": "#E1E5ED",
         "range": [
          -3.4200588891918953,
          3.892588020749857
         ],
         "showgrid": false,
         "tickfont": {
          "color": "#4D5663"
         },
         "title": {
          "font": {
           "color": "#4D5663"
          },
          "text": ""
         },
         "type": "linear",
         "zerolinecolor": "#E1E5ED"
        },
        "yaxis19": {
         "anchor": "x19",
         "autorange": true,
         "domain": [
          0.214,
          0.358
         ],
         "gridcolor": "#E1E5ED",
         "range": [
          0,
          21.05263157894737
         ],
         "showgrid": false,
         "tickfont": {
          "color": "#4D5663"
         },
         "title": {
          "font": {
           "color": "#4D5663"
          },
          "text": ""
         },
         "zerolinecolor": "#E1E5ED"
        },
        "yaxis2": {
         "anchor": "x2",
         "autorange": true,
         "domain": [
          0.856,
          1
         ],
         "gridcolor": "#E1E5ED",
         "range": [
          -4.0172395462713855,
          3.4413708160650014
         ],
         "showgrid": false,
         "tickfont": {
          "color": "#4D5663"
         },
         "title": {
          "font": {
           "color": "#4D5663"
          },
          "text": ""
         },
         "type": "linear",
         "zerolinecolor": "#E1E5ED"
        },
        "yaxis20": {
         "anchor": "x20",
         "autorange": true,
         "domain": [
          0.214,
          0.358
         ],
         "gridcolor": "#E1E5ED",
         "range": [
          -3.4200588891918953,
          3.892588020749857
         ],
         "showgrid": false,
         "tickfont": {
          "color": "#4D5663"
         },
         "title": {
          "font": {
           "color": "#4D5663"
          },
          "text": ""
         },
         "type": "linear",
         "zerolinecolor": "#E1E5ED"
        },
        "yaxis21": {
         "anchor": "x21",
         "autorange": true,
         "domain": [
          0,
          0.144
         ],
         "gridcolor": "#E1E5ED",
         "range": [
          -3.5553935673452814,
          4.165270753775046
         ],
         "showgrid": false,
         "tickfont": {
          "color": "#4D5663"
         },
         "title": {
          "font": {
           "color": "#4D5663"
          },
          "text": ""
         },
         "type": "linear",
         "zerolinecolor": "#E1E5ED"
        },
        "yaxis22": {
         "anchor": "x22",
         "autorange": true,
         "domain": [
          0,
          0.144
         ],
         "gridcolor": "#E1E5ED",
         "range": [
          -3.5553935673452814,
          4.165270753775046
         ],
         "showgrid": false,
         "tickfont": {
          "color": "#4D5663"
         },
         "title": {
          "font": {
           "color": "#4D5663"
          },
          "text": ""
         },
         "type": "linear",
         "zerolinecolor": "#E1E5ED"
        },
        "yaxis23": {
         "anchor": "x23",
         "autorange": true,
         "domain": [
          0,
          0.144
         ],
         "gridcolor": "#E1E5ED",
         "range": [
          -3.5553935673452814,
          4.165270753775046
         ],
         "showgrid": false,
         "tickfont": {
          "color": "#4D5663"
         },
         "title": {
          "font": {
           "color": "#4D5663"
          },
          "text": ""
         },
         "type": "linear",
         "zerolinecolor": "#E1E5ED"
        },
        "yaxis24": {
         "anchor": "x24",
         "autorange": true,
         "domain": [
          0,
          0.144
         ],
         "gridcolor": "#E1E5ED",
         "range": [
          -3.5553935673452814,
          4.165270753775046
         ],
         "showgrid": false,
         "tickfont": {
          "color": "#4D5663"
         },
         "title": {
          "font": {
           "color": "#4D5663"
          },
          "text": ""
         },
         "type": "linear",
         "zerolinecolor": "#E1E5ED"
        },
        "yaxis25": {
         "anchor": "x25",
         "autorange": true,
         "domain": [
          0,
          0.144
         ],
         "gridcolor": "#E1E5ED",
         "range": [
          0,
          38.94736842105263
         ],
         "showgrid": false,
         "tickfont": {
          "color": "#4D5663"
         },
         "title": {
          "font": {
           "color": "#4D5663"
          },
          "text": ""
         },
         "zerolinecolor": "#E1E5ED"
        },
        "yaxis3": {
         "anchor": "x3",
         "autorange": true,
         "domain": [
          0.856,
          1
         ],
         "gridcolor": "#E1E5ED",
         "range": [
          -4.0172395462713855,
          3.4413708160650014
         ],
         "showgrid": false,
         "tickfont": {
          "color": "#4D5663"
         },
         "title": {
          "font": {
           "color": "#4D5663"
          },
          "text": ""
         },
         "type": "linear",
         "zerolinecolor": "#E1E5ED"
        },
        "yaxis4": {
         "anchor": "x4",
         "autorange": true,
         "domain": [
          0.856,
          1
         ],
         "gridcolor": "#E1E5ED",
         "range": [
          -4.0172395462713855,
          3.4413708160650014
         ],
         "showgrid": false,
         "tickfont": {
          "color": "#4D5663"
         },
         "title": {
          "font": {
           "color": "#4D5663"
          },
          "text": ""
         },
         "type": "linear",
         "zerolinecolor": "#E1E5ED"
        },
        "yaxis5": {
         "anchor": "x5",
         "autorange": true,
         "domain": [
          0.856,
          1
         ],
         "gridcolor": "#E1E5ED",
         "range": [
          -4.0172395462713855,
          3.4413708160650014
         ],
         "showgrid": false,
         "tickfont": {
          "color": "#4D5663"
         },
         "title": {
          "font": {
           "color": "#4D5663"
          },
          "text": ""
         },
         "type": "linear",
         "zerolinecolor": "#E1E5ED"
        },
        "yaxis6": {
         "anchor": "x6",
         "autorange": true,
         "domain": [
          0.6419999999999999,
          0.7859999999999999
         ],
         "gridcolor": "#E1E5ED",
         "range": [
          -4.415827866860602,
          5.083273120818101
         ],
         "showgrid": false,
         "tickfont": {
          "color": "#4D5663"
         },
         "title": {
          "font": {
           "color": "#4D5663"
          },
          "text": ""
         },
         "type": "linear",
         "zerolinecolor": "#E1E5ED"
        },
        "yaxis7": {
         "anchor": "x7",
         "autorange": true,
         "domain": [
          0.6419999999999999,
          0.7859999999999999
         ],
         "gridcolor": "#E1E5ED",
         "range": [
          0,
          35.78947368421053
         ],
         "showgrid": false,
         "tickfont": {
          "color": "#4D5663"
         },
         "title": {
          "font": {
           "color": "#4D5663"
          },
          "text": ""
         },
         "zerolinecolor": "#E1E5ED"
        },
        "yaxis8": {
         "anchor": "x8",
         "autorange": true,
         "domain": [
          0.6419999999999999,
          0.7859999999999999
         ],
         "gridcolor": "#E1E5ED",
         "range": [
          -4.415827866860602,
          5.083273120818101
         ],
         "showgrid": false,
         "tickfont": {
          "color": "#4D5663"
         },
         "title": {
          "font": {
           "color": "#4D5663"
          },
          "text": ""
         },
         "type": "linear",
         "zerolinecolor": "#E1E5ED"
        },
        "yaxis9": {
         "anchor": "x9",
         "autorange": true,
         "domain": [
          0.6419999999999999,
          0.7859999999999999
         ],
         "gridcolor": "#E1E5ED",
         "range": [
          -4.415827866860602,
          5.083273120818101
         ],
         "showgrid": false,
         "tickfont": {
          "color": "#4D5663"
         },
         "title": {
          "font": {
           "color": "#4D5663"
          },
          "text": ""
         },
         "type": "linear",
         "zerolinecolor": "#E1E5ED"
        }
       }
      },
      "image/png": "[encoded data removed]",
      "text/html": [
       "<div>                            <div id=\"c563ee71-2f71-40ad-8062-b3b280533600\" class=\"plotly-graph-div\" style=\"height:525px; width:100%;\"></div>            <script type=\"text/javascript\">                require([\"plotly\"], function(Plotly) {                    window.PLOTLYENV=window.PLOTLYENV || {};\n",
       "                    window.PLOTLYENV.BASE_URL='https://plot.ly';                                    if (document.getElementById(\"c563ee71-2f71-40ad-8062-b3b280533600\")) {                    Plotly.newPlot(                        \"c563ee71-2f71-40ad-8062-b3b280533600\",                        [{\"histfunc\":\"count\",\"histnorm\":\"\",\"marker\":{\"color\":\"rgba(255, 153, 51, 1.0)\",\"line\":{\"color\":\"#4D5663\",\"width\":1.3}},\"name\":\"A\",\"nbinsx\":10,\"opacity\":0.8,\"orientation\":\"v\",\"x\":[-0.3335804497762339,0.00841020770573747,-0.2452486455726726,1.7550835292323625,-0.4124142608843169,0.08397452866741234,-1.3865662695296521,-0.5536159230768968,-0.6159733733331406,0.5351203760401979,0.6219906888015769,2.0936218973984544,0.44108665014911896,-0.416230235006025,0.9331183949846429,-0.7216605612758971,1.3390572677191115,0.6496069974394884,-0.7901367515093446,-0.3422059764483797,0.5373701215532392,1.7747753169553424,0.419529041757397,-0.10904889995774433,-2.0263048218045543,0.21622836105376003,-0.821922543917067,1.842131241717987,-1.265365165032051,0.8479452711578469,0.6156098386466577,0.15867622180468346,-1.238977024083961,0.7335419753028098,0.0512616782988629,1.4495571762852764,-0.4496751518589838,-0.330172000624211,-0.8929792515250653,2.205175209714804,-0.4538635156588506,2.2037334537380286,0.7417458154644216,-0.01924531610158195,0.5149129505912265,-0.8559027787490496,-1.2359804048231446,2.073959092442634,0.6912579520973061,-1.108283786227255,0.16942813801626458,-2.781043939921188,0.0885804145925267,-1.756318606323291,1.274483140059975,0.8438741973237249,1.043238681028487,0.8742390843303314,1.4704877215499943,-0.6540245721736407,-1.1275658316510941,0.8367878573651504,-0.7350001997710474,-0.11503001732679545,-0.1920425691420273,1.3367611859539756,0.31544010241881365,0.30833485067338146,-0.30446858143129724,0.09901607880407506,0.3280088371532466,0.3003499482732641,0.27812375549087964,-0.6621938785792102,0.5884359898684891,-1.4687335662247434,1.5961345007591994,-0.2519890600562586,1.5557835869903025,0.04462193969423287,0.15083076444693133,0.4082980181436096,-0.678370760026145,-0.0750391155180131,-1.0668798705652038,-0.9875792933502123,-2.7515517426231964,1.6668491718400256,-2.011343087200451,0.22068583475438497,1.0427267249140537,0.8666554855258551,1.4876746522797113,-0.12935479445954817,0.544861458818753,0.2590464861926635,-0.29858348018470654,1.0157638005717105,-1.2125999335057973,-0.7869056414224349],\"xaxis\":\"x\",\"yaxis\":\"y\",\"type\":\"histogram\"},{\"line\":{\"color\":\"rgba(128, 128, 128, 1.0)\",\"dash\":\"solid\",\"shape\":\"linear\",\"width\":1.3},\"marker\":{\"size\":2,\"symbol\":\"circle\"},\"mode\":\"markers\",\"name\":\"A\",\"text\":\"\",\"x\":[1.2656119006442414,0.11172189872330608,2.4441405083498084,0.021263530711874312,-0.09762074893880836,-2.841439832791632,0.3606689299126568,0.6100067499256379,0.46938226746429257,1.0409351529187922,-0.10530897127620471,-0.7839565480168238,1.312981092013129,0.9168981441738603,-0.45747230576020353,1.019246343752088,1.035506744391563,-0.2017921322897468,1.541948116644562,-0.8547194343811696,-0.5159114150487076,0.6205665175937206,-1.4708434724308213,-0.7028787223375108,0.4566743660520509,0.5175867306902976,2.307306044925076,0.6335984216611076,-1.169581749814845,-0.8049516945379682,0.8376752575918941,-0.7965999170117269,1.5701411435733117,0.010738407292215393,-1.9476656494682059,0.7994896822584975,0.9916380277779536,-0.8259760625515664,-0.7750424611682585,-1.000212958965001,-0.002153372965835309,1.1241098204562403,-0.8933357174684814,0.14031630340664777,0.7796311582424318,-2.545378779470004,-0.43196973909652,-0.11648151266855052,0.4066225349475821,1.5668326084368156,0.0285716881764873,1.3441761736057165,-0.5523062721586132,-0.7157409903930229,0.7327498495190612,0.30060721324231693,0.7133267785007691,0.19911508044327778,-0.19545960190474662,0.6853459741633252,-2.127835130345152,2.0218196475959336,2.1780440617017196,2.224401011317823,1.165437639520588,-0.14759125561131795,-0.8113337078873021,1.2284972728337857,-0.1894385534744078,-0.004967028126192879,-0.9774278378969505,0.9833612559553154,-0.23714912708878444,0.8726089987499858,-0.8389751407305852,0.3909661637510026,-1.1694495652685963,-1.9807748615515484,0.4096619399418116,1.1594638854247026,-1.0171361899301976,-1.0048963714697148,-0.36924529104358444,0.1286784085603135,0.7038172729883474,-0.9919135098509365,-0.29941507106034404,0.6134501808248138,-0.5951458647500463,0.254523959598943,0.24629150821694917,-1.3603994825182804,0.4749977182782207,-1.9947392736919967,3.508885086749131,0.9521474983011023,-0.421561079901927,1.686899295360436,-0.03997823528199046,-0.22909054223546957],\"xaxis\":\"x2\",\"y\":[-0.3335804497762339,0.00841020770573747,-0.2452486455726726,1.7550835292323625,-0.4124142608843169,0.08397452866741234,-1.3865662695296521,-0.5536159230768968,-0.6159733733331406,0.5351203760401979,0.6219906888015769,2.0936218973984544,0.44108665014911896,-0.416230235006025,0.9331183949846429,-0.7216605612758971,1.3390572677191115,0.6496069974394884,-0.7901367515093446,-0.3422059764483797,0.5373701215532392,1.7747753169553424,0.419529041757397,-0.10904889995774433,-2.0263048218045543,0.21622836105376003,-0.821922543917067,1.842131241717987,-1.265365165032051,0.8479452711578469,0.6156098386466577,0.15867622180468346,-1.238977024083961,0.7335419753028098,0.0512616782988629,1.4495571762852764,-0.4496751518589838,-0.330172000624211,-0.8929792515250653,2.205175209714804,-0.4538635156588506,2.2037334537380286,0.7417458154644216,-0.01924531610158195,0.5149129505912265,-0.8559027787490496,-1.2359804048231446,2.073959092442634,0.6912579520973061,-1.108283786227255,0.16942813801626458,-2.781043939921188,0.0885804145925267,-1.756318606323291,1.274483140059975,0.8438741973237249,1.043238681028487,0.8742390843303314,1.4704877215499943,-0.6540245721736407,-1.1275658316510941,0.8367878573651504,-0.7350001997710474,-0.11503001732679545,-0.1920425691420273,1.3367611859539756,0.31544010241881365,0.30833485067338146,-0.30446858143129724,0.09901607880407506,0.3280088371532466,0.3003499482732641,0.27812375549087964,-0.6621938785792102,0.5884359898684891,-1.4687335662247434,1.5961345007591994,-0.2519890600562586,1.5557835869903025,0.04462193969423287,0.15083076444693133,0.4082980181436096,-0.678370760026145,-0.0750391155180131,-1.0668798705652038,-0.9875792933502123,-2.7515517426231964,1.6668491718400256,-2.011343087200451,0.22068583475438497,1.0427267249140537,0.8666554855258551,1.4876746522797113,-0.12935479445954817,0.544861458818753,0.2590464861926635,-0.29858348018470654,1.0157638005717105,-1.2125999335057973,-0.7869056414224349],\"yaxis\":\"y2\",\"type\":\"scatter\"},{\"line\":{\"color\":\"rgba(128, 128, 128, 1.0)\",\"dash\":\"solid\",\"shape\":\"linear\",\"width\":1.3},\"marker\":{\"size\":2,\"symbol\":\"circle\"},\"mode\":\"markers\",\"name\":\"A\",\"text\":\"\",\"x\":[0.8798245268512644,1.3570283033026354,1.9749121492940394,-1.053528469740966,-1.560386785340817,1.1388140116813792,0.18974961491421344,-0.5478264985107293,-1.1539249337613273,0.8874089996735028,-0.05691535188208471,0.7770129188124023,0.15309817166302805,0.16303265459883862,-1.4589565959752056,-1.7568132075093177,2.0863651523643836,-0.5709529842718767,0.8171735177928228,-0.9529735238883316,-1.4435332935187561,0.5291322365209097,0.590287111313805,2.0760558580311894,2.770519340679483,-1.6743154464994718,0.9909732859885614,1.4782185687998004,-0.09278257147140048,-0.20689856021378225,-0.060082151233758624,-0.4549282575190898,-2.798225397178623,-0.006120247766301646,-1.3445715700628214,-1.4466365769851819,0.2133185589128615,-0.32532507006367706,1.6286082407494962,0.3665395111067651,-0.8570393860081226,-0.5330012851626166,-0.7330412728606085,0.39520030272126844,-0.328970288722901,-2.291935837607325,-2.219382875606811,1.0050207754278548,0.8967059681804674,0.7728364986156984,-0.4455073981285349,-0.7256203081566854,-0.1305693944777659,-1.3713800857013108,-1.8091829986953307,-0.23298256037994072,-1.8533887856146967,0.1721245840219928,-1.2813291019196724,0.43920160088386334,1.2497325365573007,-0.11020114414414621,0.005641545615314567,1.0288602893831988,0.4220034532490604,-1.2565242509824988,-2.0769825586982384,-0.03699527667130005,1.523715050790172,2.0276688810134633,-0.06060921744804393,-0.16764490626620826,-0.2254354082608133,0.12847522766802005,0.377071749142011,-1.2976063331996661,-0.6617309172668501,0.37072944613045744,0.7758699379596998,-0.6732095691953305,0.9252587961467202,0.9267484968797207,1.105761853017902,-2.444709796114457,0.07499096243692296,0.5693211122386654,-0.652432465524865,0.6588139565638953,0.018531855504759765,-1.0137255385987984,1.2993924328191087,-1.4653956133450676,0.6497028563590997,1.8499967179996188,1.946063550070373,-0.8016185890292232,1.0382047761068196,-0.3194117889309226,0.33599136356301956,0.7741509723290858],\"xaxis\":\"x3\",\"y\":[-0.3335804497762339,0.00841020770573747,-0.2452486455726726,1.7550835292323625,-0.4124142608843169,0.08397452866741234,-1.3865662695296521,-0.5536159230768968,-0.6159733733331406,0.5351203760401979,0.6219906888015769,2.0936218973984544,0.44108665014911896,-0.416230235006025,0.9331183949846429,-0.7216605612758971,1.3390572677191115,0.6496069974394884,-0.7901367515093446,-0.3422059764483797,0.5373701215532392,1.7747753169553424,0.419529041757397,-0.10904889995774433,-2.0263048218045543,0.21622836105376003,-0.821922543917067,1.842131241717987,-1.265365165032051,0.8479452711578469,0.6156098386466577,0.15867622180468346,-1.238977024083961,0.7335419753028098,0.0512616782988629,1.4495571762852764,-0.4496751518589838,-0.330172000624211,-0.8929792515250653,2.205175209714804,-0.4538635156588506,2.2037334537380286,0.7417458154644216,-0.01924531610158195,0.5149129505912265,-0.8559027787490496,-1.2359804048231446,2.073959092442634,0.6912579520973061,-1.108283786227255,0.16942813801626458,-2.781043939921188,0.0885804145925267,-1.756318606323291,1.274483140059975,0.8438741973237249,1.043238681028487,0.8742390843303314,1.4704877215499943,-0.6540245721736407,-1.1275658316510941,0.8367878573651504,-0.7350001997710474,-0.11503001732679545,-0.1920425691420273,1.3367611859539756,0.31544010241881365,0.30833485067338146,-0.30446858143129724,0.09901607880407506,0.3280088371532466,0.3003499482732641,0.27812375549087964,-0.6621938785792102,0.5884359898684891,-1.4687335662247434,1.5961345007591994,-0.2519890600562586,1.5557835869903025,0.04462193969423287,0.15083076444693133,0.4082980181436096,-0.678370760026145,-0.0750391155180131,-1.0668798705652038,-0.9875792933502123,-2.7515517426231964,1.6668491718400256,-2.011343087200451,0.22068583475438497,1.0427267249140537,0.8666554855258551,1.4876746522797113,-0.12935479445954817,0.544861458818753,0.2590464861926635,-0.29858348018470654,1.0157638005717105,-1.2125999335057973,-0.7869056414224349],\"yaxis\":\"y3\",\"type\":\"scatter\"},{\"line\":{\"color\":\"rgba(128, 128, 128, 1.0)\",\"dash\":\"solid\",\"shape\":\"linear\",\"width\":1.3},\"marker\":{\"size\":2,\"symbol\":\"circle\"},\"mode\":\"markers\",\"name\":\"A\",\"text\":\"\",\"x\":[-1.9198483031724256,-0.24329183540613608,0.6419997062319316,1.3521182772765474,0.5953524145895086,-0.3552352893647105,1.0915339646314302,0.6475280944502119,-0.774851217596859,-0.39637688379115565,-0.4230845617672878,0.22959960188263315,1.6948841348667674,1.1446841575735427,-2.2080553735626602,-0.30308059602206633,1.0806566946819762,-1.1216001403815672,-0.12520775316480504,1.3466925190085772,0.9462059084151903,0.8985744305856347,-1.64358228609394,0.6069791243187228,0.4223824309838147,0.8423595723635103,2.3980901509690193,-0.6415070968039709,-0.9975940538503272,-0.11550689048261797,2.0020036202933498,1.3662311734044508,0.479460223478841,0.5092066242214716,-1.5629385459288747,0.628865645676127,-0.7634899023056374,1.0248616097292713,1.6595211982791724,-2.0061602520171813,-0.7186614432370061,-0.4742543791027465,1.307551183314467,1.1743804854843325,0.7052145371823973,0.4799543593091343,-0.7009216406650326,-0.6746932653622134,-1.100313397740983,1.439377653494364,-0.31797347028181755,-0.874593483987904,1.909864020081642,1.3555632985489197,-1.5303080609636381,1.233317462598353,-0.06212854456042669,-1.83988537294752,0.5529455365082178,2.6805845051206223,-1.085617407002373,1.3827589034085064,1.4931540986489353,-1.830583458116591,2.2873533003201194,0.4538291090971322,-1.4015980942710253,-2.101484782143447,0.3850412422960206,-0.28960698710359245,-0.4010520642042657,1.2987085019055833,-0.6958314981432985,1.1722585020874166,-0.7857462390210691,1.5046211800677642,1.1521614492395316,1.104130661059711,-0.3180270974434549,-0.5170270701278834,-1.926258142950692,0.9116496592019908,0.16343145846718582,0.829446465394839,0.6912702589585954,-0.5780875528080383,-0.19423361876038497,-1.1404559525272475,0.36132644570637024,-0.06963216123953414,-0.21478317152142276,-2.1383624044570757,1.3604530205933243,-0.02833867735545919,1.0995634743246747,0.6372366447919425,-0.42141871269977116,0.7504607745939308,-0.4335204360951008,0.6529644865979116],\"xaxis\":\"x4\",\"y\":[-0.3335804497762339,0.00841020770573747,-0.2452486455726726,1.7550835292323625,-0.4124142608843169,0.08397452866741234,-1.3865662695296521,-0.5536159230768968,-0.6159733733331406,0.5351203760401979,0.6219906888015769,2.0936218973984544,0.44108665014911896,-0.416230235006025,0.9331183949846429,-0.7216605612758971,1.3390572677191115,0.6496069974394884,-0.7901367515093446,-0.3422059764483797,0.5373701215532392,1.7747753169553424,0.419529041757397,-0.10904889995774433,-2.0263048218045543,0.21622836105376003,-0.821922543917067,1.842131241717987,-1.265365165032051,0.8479452711578469,0.6156098386466577,0.15867622180468346,-1.238977024083961,0.7335419753028098,0.0512616782988629,1.4495571762852764,-0.4496751518589838,-0.330172000624211,-0.8929792515250653,2.205175209714804,-0.4538635156588506,2.2037334537380286,0.7417458154644216,-0.01924531610158195,0.5149129505912265,-0.8559027787490496,-1.2359804048231446,2.073959092442634,0.6912579520973061,-1.108283786227255,0.16942813801626458,-2.781043939921188,0.0885804145925267,-1.756318606323291,1.274483140059975,0.8438741973237249,1.043238681028487,0.8742390843303314,1.4704877215499943,-0.6540245721736407,-1.1275658316510941,0.8367878573651504,-0.7350001997710474,-0.11503001732679545,-0.1920425691420273,1.3367611859539756,0.31544010241881365,0.30833485067338146,-0.30446858143129724,0.09901607880407506,0.3280088371532466,0.3003499482732641,0.27812375549087964,-0.6621938785792102,0.5884359898684891,-1.4687335662247434,1.5961345007591994,-0.2519890600562586,1.5557835869903025,0.04462193969423287,0.15083076444693133,0.4082980181436096,-0.678370760026145,-0.0750391155180131,-1.0668798705652038,-0.9875792933502123,-2.7515517426231964,1.6668491718400256,-2.011343087200451,0.22068583475438497,1.0427267249140537,0.8666554855258551,1.4876746522797113,-0.12935479445954817,0.544861458818753,0.2590464861926635,-0.29858348018470654,1.0157638005717105,-1.2125999335057973,-0.7869056414224349],\"yaxis\":\"y4\",\"type\":\"scatter\"},{\"line\":{\"color\":\"rgba(128, 128, 128, 1.0)\",\"dash\":\"solid\",\"shape\":\"linear\",\"width\":1.3},\"marker\":{\"size\":2,\"symbol\":\"circle\"},\"mode\":\"markers\",\"name\":\"A\",\"text\":\"\",\"x\":[-1.8839552638761043,-1.4222817243492196,0.2439336106390916,-0.3022115945065196,-1.1116255926474479,-0.13846855609245293,-0.6352316093943358,-1.6741868974608256,-1.0874216392138512,-1.727874886025039,0.6068689036503123,1.606811739024369,-0.7544366227941612,2.0380068491611185,-0.41478932093402,0.7142095505760002,-0.017473896869972794,-0.854025343130081,0.17112312466754392,2.5949210831298983,-0.3368952398061639,-0.5018141764171291,-0.2291538464895462,1.7865692974483998,-0.5194435804480518,0.06767539551418716,-0.09300004854212413,-1.2127175883760892,1.942643225757587,0.8878018149978713,-1.1809781153260683,0.2575919645669953,-0.6769032747176147,0.01014174877601857,2.885642130181955,-0.7049165847816975,-0.4967452753515838,-0.15303974924473007,1.62343094257325,0.30504135057356546,0.8135619495047793,0.13859734831440887,0.9409094898287858,-2.106150798000945,-0.9727829821770161,-0.49535544612192495,-1.3610308308674985,-1.8962982399982888,-0.7253845761849583,-0.7168960746976729,0.37029744211770654,0.8598123725308865,0.8461573465522495,-0.6046059434358252,-0.10992922641504047,-2.0891817672460156,-0.4063293893196075,0.2757867175136207,0.8774299519146228,-2.2757649437521903,-0.45757232015356514,-0.17936223143712166,0.17476001282787101,0.9290796655113206,-1.8732214794720277,1.242753534277087,0.1066039488907477,0.9433387503335581,1.6896852590146096,1.0510034273696693,1.6134414015773315,-1.8868368147054095,0.04411536657854227,1.4055080886554139,-0.4794134388164445,-0.8810855398463338,1.5117001240378032,-0.22294664515737564,-0.1304669186370773,0.37964353796601175,-0.5790014297236573,-0.6127310043576752,1.2031065883968466,0.16998909148348326,-0.06292258556163698,0.5494619741500407,-0.18506065027833485,-0.18448527937520084,-1.4254380406342864,-1.7079349491429474,-0.9371196134892642,0.7528973069243526,0.01649536172771896,0.7025745920667116,-1.5521217053670775,1.646999567576793,0.7663500834926468,-0.06438797934787864,-0.2584312528743698,0.300277201635679],\"xaxis\":\"x5\",\"y\":[-0.3335804497762339,0.00841020770573747,-0.2452486455726726,1.7550835292323625,-0.4124142608843169,0.08397452866741234,-1.3865662695296521,-0.5536159230768968,-0.6159733733331406,0.5351203760401979,0.6219906888015769,2.0936218973984544,0.44108665014911896,-0.416230235006025,0.9331183949846429,-0.7216605612758971,1.3390572677191115,0.6496069974394884,-0.7901367515093446,-0.3422059764483797,0.5373701215532392,1.7747753169553424,0.419529041757397,-0.10904889995774433,-2.0263048218045543,0.21622836105376003,-0.821922543917067,1.842131241717987,-1.265365165032051,0.8479452711578469,0.6156098386466577,0.15867622180468346,-1.238977024083961,0.7335419753028098,0.0512616782988629,1.4495571762852764,-0.4496751518589838,-0.330172000624211,-0.8929792515250653,2.205175209714804,-0.4538635156588506,2.2037334537380286,0.7417458154644216,-0.01924531610158195,0.5149129505912265,-0.8559027787490496,-1.2359804048231446,2.073959092442634,0.6912579520973061,-1.108283786227255,0.16942813801626458,-2.781043939921188,0.0885804145925267,-1.756318606323291,1.274483140059975,0.8438741973237249,1.043238681028487,0.8742390843303314,1.4704877215499943,-0.6540245721736407,-1.1275658316510941,0.8367878573651504,-0.7350001997710474,-0.11503001732679545,-0.1920425691420273,1.3367611859539756,0.31544010241881365,0.30833485067338146,-0.30446858143129724,0.09901607880407506,0.3280088371532466,0.3003499482732641,0.27812375549087964,-0.6621938785792102,0.5884359898684891,-1.4687335662247434,1.5961345007591994,-0.2519890600562586,1.5557835869903025,0.04462193969423287,0.15083076444693133,0.4082980181436096,-0.678370760026145,-0.0750391155180131,-1.0668798705652038,-0.9875792933502123,-2.7515517426231964,1.6668491718400256,-2.011343087200451,0.22068583475438497,1.0427267249140537,0.8666554855258551,1.4876746522797113,-0.12935479445954817,0.544861458818753,0.2590464861926635,-0.29858348018470654,1.0157638005717105,-1.2125999335057973,-0.7869056414224349],\"yaxis\":\"y5\",\"type\":\"scatter\"},{\"line\":{\"color\":\"rgba(128, 128, 128, 1.0)\",\"dash\":\"solid\",\"shape\":\"linear\",\"width\":1.3},\"marker\":{\"size\":2,\"symbol\":\"circle\"},\"mode\":\"markers\",\"name\":\"B\",\"text\":\"\",\"x\":[-0.3335804497762339,0.00841020770573747,-0.2452486455726726,1.7550835292323625,-0.4124142608843169,0.08397452866741234,-1.3865662695296521,-0.5536159230768968,-0.6159733733331406,0.5351203760401979,0.6219906888015769,2.0936218973984544,0.44108665014911896,-0.416230235006025,0.9331183949846429,-0.7216605612758971,1.3390572677191115,0.6496069974394884,-0.7901367515093446,-0.3422059764483797,0.5373701215532392,1.7747753169553424,0.419529041757397,-0.10904889995774433,-2.0263048218045543,0.21622836105376003,-0.821922543917067,1.842131241717987,-1.265365165032051,0.8479452711578469,0.6156098386466577,0.15867622180468346,-1.238977024083961,0.7335419753028098,0.0512616782988629,1.4495571762852764,-0.4496751518589838,-0.330172000624211,-0.8929792515250653,2.205175209714804,-0.4538635156588506,2.2037334537380286,0.7417458154644216,-0.01924531610158195,0.5149129505912265,-0.8559027787490496,-1.2359804048231446,2.073959092442634,0.6912579520973061,-1.108283786227255,0.16942813801626458,-2.781043939921188,0.0885804145925267,-1.756318606323291,1.274483140059975,0.8438741973237249,1.043238681028487,0.8742390843303314,1.4704877215499943,-0.6540245721736407,-1.1275658316510941,0.8367878573651504,-0.7350001997710474,-0.11503001732679545,-0.1920425691420273,1.3367611859539756,0.31544010241881365,0.30833485067338146,-0.30446858143129724,0.09901607880407506,0.3280088371532466,0.3003499482732641,0.27812375549087964,-0.6621938785792102,0.5884359898684891,-1.4687335662247434,1.5961345007591994,-0.2519890600562586,1.5557835869903025,0.04462193969423287,0.15083076444693133,0.4082980181436096,-0.678370760026145,-0.0750391155180131,-1.0668798705652038,-0.9875792933502123,-2.7515517426231964,1.6668491718400256,-2.011343087200451,0.22068583475438497,1.0427267249140537,0.8666554855258551,1.4876746522797113,-0.12935479445954817,0.544861458818753,0.2590464861926635,-0.29858348018470654,1.0157638005717105,-1.2125999335057973,-0.7869056414224349],\"xaxis\":\"x6\",\"y\":[1.2656119006442414,0.11172189872330608,2.4441405083498084,0.021263530711874312,-0.09762074893880836,-2.841439832791632,0.3606689299126568,0.6100067499256379,0.46938226746429257,1.0409351529187922,-0.10530897127620471,-0.7839565480168238,1.312981092013129,0.9168981441738603,-0.45747230576020353,1.019246343752088,1.035506744391563,-0.2017921322897468,1.541948116644562,-0.8547194343811696,-0.5159114150487076,0.6205665175937206,-1.4708434724308213,-0.7028787223375108,0.4566743660520509,0.5175867306902976,2.307306044925076,0.6335984216611076,-1.169581749814845,-0.8049516945379682,0.8376752575918941,-0.7965999170117269,1.5701411435733117,0.010738407292215393,-1.9476656494682059,0.7994896822584975,0.9916380277779536,-0.8259760625515664,-0.7750424611682585,-1.000212958965001,-0.002153372965835309,1.1241098204562403,-0.8933357174684814,0.14031630340664777,0.7796311582424318,-2.545378779470004,-0.43196973909652,-0.11648151266855052,0.4066225349475821,1.5668326084368156,0.0285716881764873,1.3441761736057165,-0.5523062721586132,-0.7157409903930229,0.7327498495190612,0.30060721324231693,0.7133267785007691,0.19911508044327778,-0.19545960190474662,0.6853459741633252,-2.127835130345152,2.0218196475959336,2.1780440617017196,2.224401011317823,1.165437639520588,-0.14759125561131795,-0.8113337078873021,1.2284972728337857,-0.1894385534744078,-0.004967028126192879,-0.9774278378969505,0.9833612559553154,-0.23714912708878444,0.8726089987499858,-0.8389751407305852,0.3909661637510026,-1.1694495652685963,-1.9807748615515484,0.4096619399418116,1.1594638854247026,-1.0171361899301976,-1.0048963714697148,-0.36924529104358444,0.1286784085603135,0.7038172729883474,-0.9919135098509365,-0.29941507106034404,0.6134501808248138,-0.5951458647500463,0.254523959598943,0.24629150821694917,-1.3603994825182804,0.4749977182782207,-1.9947392736919967,3.508885086749131,0.9521474983011023,-0.421561079901927,1.686899295360436,-0.03997823528199046,-0.22909054223546957],\"yaxis\":\"y6\",\"type\":\"scatter\"},{\"histfunc\":\"count\",\"histnorm\":\"\",\"marker\":{\"color\":\"rgba(55, 128, 191, 1.0)\",\"line\":{\"color\":\"#4D5663\",\"width\":1.3}},\"name\":\"B\",\"nbinsx\":10,\"opacity\":0.8,\"orientation\":\"v\",\"x\":[1.2656119006442414,0.11172189872330608,2.4441405083498084,0.021263530711874312,-0.09762074893880836,-2.841439832791632,0.3606689299126568,0.6100067499256379,0.46938226746429257,1.0409351529187922,-0.10530897127620471,-0.7839565480168238,1.312981092013129,0.9168981441738603,-0.45747230576020353,1.019246343752088,1.035506744391563,-0.2017921322897468,1.541948116644562,-0.8547194343811696,-0.5159114150487076,0.6205665175937206,-1.4708434724308213,-0.7028787223375108,0.4566743660520509,0.5175867306902976,2.307306044925076,0.6335984216611076,-1.169581749814845,-0.8049516945379682,0.8376752575918941,-0.7965999170117269,1.5701411435733117,0.010738407292215393,-1.9476656494682059,0.7994896822584975,0.9916380277779536,-0.8259760625515664,-0.7750424611682585,-1.000212958965001,-0.002153372965835309,1.1241098204562403,-0.8933357174684814,0.14031630340664777,0.7796311582424318,-2.545378779470004,-0.43196973909652,-0.11648151266855052,0.4066225349475821,1.5668326084368156,0.0285716881764873,1.3441761736057165,-0.5523062721586132,-0.7157409903930229,0.7327498495190612,0.30060721324231693,0.7133267785007691,0.19911508044327778,-0.19545960190474662,0.6853459741633252,-2.127835130345152,2.0218196475959336,2.1780440617017196,2.224401011317823,1.165437639520588,-0.14759125561131795,-0.8113337078873021,1.2284972728337857,-0.1894385534744078,-0.004967028126192879,-0.9774278378969505,0.9833612559553154,-0.23714912708878444,0.8726089987499858,-0.8389751407305852,0.3909661637510026,-1.1694495652685963,-1.9807748615515484,0.4096619399418116,1.1594638854247026,-1.0171361899301976,-1.0048963714697148,-0.36924529104358444,0.1286784085603135,0.7038172729883474,-0.9919135098509365,-0.29941507106034404,0.6134501808248138,-0.5951458647500463,0.254523959598943,0.24629150821694917,-1.3603994825182804,0.4749977182782207,-1.9947392736919967,3.508885086749131,0.9521474983011023,-0.421561079901927,1.686899295360436,-0.03997823528199046,-0.22909054223546957],\"xaxis\":\"x7\",\"yaxis\":\"y7\",\"type\":\"histogram\"},{\"line\":{\"color\":\"rgba(128, 128, 128, 1.0)\",\"dash\":\"solid\",\"shape\":\"linear\",\"width\":1.3},\"marker\":{\"size\":2,\"symbol\":\"circle\"},\"mode\":\"markers\",\"name\":\"B\",\"text\":\"\",\"x\":[0.8798245268512644,1.3570283033026354,1.9749121492940394,-1.053528469740966,-1.560386785340817,1.1388140116813792,0.18974961491421344,-0.5478264985107293,-1.1539249337613273,0.8874089996735028,-0.05691535188208471,0.7770129188124023,0.15309817166302805,0.16303265459883862,-1.4589565959752056,-1.7568132075093177,2.0863651523643836,-0.5709529842718767,0.8171735177928228,-0.9529735238883316,-1.4435332935187561,0.5291322365209097,0.590287111313805,2.0760558580311894,2.770519340679483,-1.6743154464994718,0.9909732859885614,1.4782185687998004,-0.09278257147140048,-0.20689856021378225,-0.060082151233758624,-0.4549282575190898,-2.798225397178623,-0.006120247766301646,-1.3445715700628214,-1.4466365769851819,0.2133185589128615,-0.32532507006367706,1.6286082407494962,0.3665395111067651,-0.8570393860081226,-0.5330012851626166,-0.7330412728606085,0.39520030272126844,-0.328970288722901,-2.291935837607325,-2.219382875606811,1.0050207754278548,0.8967059681804674,0.7728364986156984,-0.4455073981285349,-0.7256203081566854,-0.1305693944777659,-1.3713800857013108,-1.8091829986953307,-0.23298256037994072,-1.8533887856146967,0.1721245840219928,-1.2813291019196724,0.43920160088386334,1.2497325365573007,-0.11020114414414621,0.005641545615314567,1.0288602893831988,0.4220034532490604,-1.2565242509824988,-2.0769825586982384,-0.03699527667130005,1.523715050790172,2.0276688810134633,-0.06060921744804393,-0.16764490626620826,-0.2254354082608133,0.12847522766802005,0.377071749142011,-1.2976063331996661,-0.6617309172668501,0.37072944613045744,0.7758699379596998,-0.6732095691953305,0.9252587961467202,0.9267484968797207,1.105761853017902,-2.444709796114457,0.07499096243692296,0.5693211122386654,-0.652432465524865,0.6588139565638953,0.018531855504759765,-1.0137255385987984,1.2993924328191087,-1.4653956133450676,0.6497028563590997,1.8499967179996188,1.946063550070373,-0.8016185890292232,1.0382047761068196,-0.3194117889309226,0.33599136356301956,0.7741509723290858],\"xaxis\":\"x8\",\"y\":[1.2656119006442414,0.11172189872330608,2.4441405083498084,0.021263530711874312,-0.09762074893880836,-2.841439832791632,0.3606689299126568,0.6100067499256379,0.46938226746429257,1.0409351529187922,-0.10530897127620471,-0.7839565480168238,1.312981092013129,0.9168981441738603,-0.45747230576020353,1.019246343752088,1.035506744391563,-0.2017921322897468,1.541948116644562,-0.8547194343811696,-0.5159114150487076,0.6205665175937206,-1.4708434724308213,-0.7028787223375108,0.4566743660520509,0.5175867306902976,2.307306044925076,0.6335984216611076,-1.169581749814845,-0.8049516945379682,0.8376752575918941,-0.7965999170117269,1.5701411435733117,0.010738407292215393,-1.9476656494682059,0.7994896822584975,0.9916380277779536,-0.8259760625515664,-0.7750424611682585,-1.000212958965001,-0.002153372965835309,1.1241098204562403,-0.8933357174684814,0.14031630340664777,0.7796311582424318,-2.545378779470004,-0.43196973909652,-0.11648151266855052,0.4066225349475821,1.5668326084368156,0.0285716881764873,1.3441761736057165,-0.5523062721586132,-0.7157409903930229,0.7327498495190612,0.30060721324231693,0.7133267785007691,0.19911508044327778,-0.19545960190474662,0.6853459741633252,-2.127835130345152,2.0218196475959336,2.1780440617017196,2.224401011317823,1.165437639520588,-0.14759125561131795,-0.8113337078873021,1.2284972728337857,-0.1894385534744078,-0.004967028126192879,-0.9774278378969505,0.9833612559553154,-0.23714912708878444,0.8726089987499858,-0.8389751407305852,0.3909661637510026,-1.1694495652685963,-1.9807748615515484,0.4096619399418116,1.1594638854247026,-1.0171361899301976,-1.0048963714697148,-0.36924529104358444,0.1286784085603135,0.7038172729883474,-0.9919135098509365,-0.29941507106034404,0.6134501808248138,-0.5951458647500463,0.254523959598943,0.24629150821694917,-1.3603994825182804,0.4749977182782207,-1.9947392736919967,3.508885086749131,0.9521474983011023,-0.421561079901927,1.686899295360436,-0.03997823528199046,-0.22909054223546957],\"yaxis\":\"y8\",\"type\":\"scatter\"},{\"line\":{\"color\":\"rgba(128, 128, 128, 1.0)\",\"dash\":\"solid\",\"shape\":\"linear\",\"width\":1.3},\"marker\":{\"size\":2,\"symbol\":\"circle\"},\"mode\":\"markers\",\"name\":\"B\",\"text\":\"\",\"x\":[-1.9198483031724256,-0.24329183540613608,0.6419997062319316,1.3521182772765474,0.5953524145895086,-0.3552352893647105,1.0915339646314302,0.6475280944502119,-0.774851217596859,-0.39637688379115565,-0.4230845617672878,0.22959960188263315,1.6948841348667674,1.1446841575735427,-2.2080553735626602,-0.30308059602206633,1.0806566946819762,-1.1216001403815672,-0.12520775316480504,1.3466925190085772,0.9462059084151903,0.8985744305856347,-1.64358228609394,0.6069791243187228,0.4223824309838147,0.8423595723635103,2.3980901509690193,-0.6415070968039709,-0.9975940538503272,-0.11550689048261797,2.0020036202933498,1.3662311734044508,0.479460223478841,0.5092066242214716,-1.5629385459288747,0.628865645676127,-0.7634899023056374,1.0248616097292713,1.6595211982791724,-2.0061602520171813,-0.7186614432370061,-0.4742543791027465,1.307551183314467,1.1743804854843325,0.7052145371823973,0.4799543593091343,-0.7009216406650326,-0.6746932653622134,-1.100313397740983,1.439377653494364,-0.31797347028181755,-0.874593483987904,1.909864020081642,1.3555632985489197,-1.5303080609636381,1.233317462598353,-0.06212854456042669,-1.83988537294752,0.5529455365082178,2.6805845051206223,-1.085617407002373,1.3827589034085064,1.4931540986489353,-1.830583458116591,2.2873533003201194,0.4538291090971322,-1.4015980942710253,-2.101484782143447,0.3850412422960206,-0.28960698710359245,-0.4010520642042657,1.2987085019055833,-0.6958314981432985,1.1722585020874166,-0.7857462390210691,1.5046211800677642,1.1521614492395316,1.104130661059711,-0.3180270974434549,-0.5170270701278834,-1.926258142950692,0.9116496592019908,0.16343145846718582,0.829446465394839,0.6912702589585954,-0.5780875528080383,-0.19423361876038497,-1.1404559525272475,0.36132644570637024,-0.06963216123953414,-0.21478317152142276,-2.1383624044570757,1.3604530205933243,-0.02833867735545919,1.0995634743246747,0.6372366447919425,-0.42141871269977116,0.7504607745939308,-0.4335204360951008,0.6529644865979116],\"xaxis\":\"x9\",\"y\":[1.2656119006442414,0.11172189872330608,2.4441405083498084,0.021263530711874312,-0.09762074893880836,-2.841439832791632,0.3606689299126568,0.6100067499256379,0.46938226746429257,1.0409351529187922,-0.10530897127620471,-0.7839565480168238,1.312981092013129,0.9168981441738603,-0.45747230576020353,1.019246343752088,1.035506744391563,-0.2017921322897468,1.541948116644562,-0.8547194343811696,-0.5159114150487076,0.6205665175937206,-1.4708434724308213,-0.7028787223375108,0.4566743660520509,0.5175867306902976,2.307306044925076,0.6335984216611076,-1.169581749814845,-0.8049516945379682,0.8376752575918941,-0.7965999170117269,1.5701411435733117,0.010738407292215393,-1.9476656494682059,0.7994896822584975,0.9916380277779536,-0.8259760625515664,-0.7750424611682585,-1.000212958965001,-0.002153372965835309,1.1241098204562403,-0.8933357174684814,0.14031630340664777,0.7796311582424318,-2.545378779470004,-0.43196973909652,-0.11648151266855052,0.4066225349475821,1.5668326084368156,0.0285716881764873,1.3441761736057165,-0.5523062721586132,-0.7157409903930229,0.7327498495190612,0.30060721324231693,0.7133267785007691,0.19911508044327778,-0.19545960190474662,0.6853459741633252,-2.127835130345152,2.0218196475959336,2.1780440617017196,2.224401011317823,1.165437639520588,-0.14759125561131795,-0.8113337078873021,1.2284972728337857,-0.1894385534744078,-0.004967028126192879,-0.9774278378969505,0.9833612559553154,-0.23714912708878444,0.8726089987499858,-0.8389751407305852,0.3909661637510026,-1.1694495652685963,-1.9807748615515484,0.4096619399418116,1.1594638854247026,-1.0171361899301976,-1.0048963714697148,-0.36924529104358444,0.1286784085603135,0.7038172729883474,-0.9919135098509365,-0.29941507106034404,0.6134501808248138,-0.5951458647500463,0.254523959598943,0.24629150821694917,-1.3603994825182804,0.4749977182782207,-1.9947392736919967,3.508885086749131,0.9521474983011023,-0.421561079901927,1.686899295360436,-0.03997823528199046,-0.22909054223546957],\"yaxis\":\"y9\",\"type\":\"scatter\"},{\"line\":{\"color\":\"rgba(128, 128, 128, 1.0)\",\"dash\":\"solid\",\"shape\":\"linear\",\"width\":1.3},\"marker\":{\"size\":2,\"symbol\":\"circle\"},\"mode\":\"markers\",\"name\":\"B\",\"text\":\"\",\"x\":[-1.8839552638761043,-1.4222817243492196,0.2439336106390916,-0.3022115945065196,-1.1116255926474479,-0.13846855609245293,-0.6352316093943358,-1.6741868974608256,-1.0874216392138512,-1.727874886025039,0.6068689036503123,1.606811739024369,-0.7544366227941612,2.0380068491611185,-0.41478932093402,0.7142095505760002,-0.017473896869972794,-0.854025343130081,0.17112312466754392,2.5949210831298983,-0.3368952398061639,-0.5018141764171291,-0.2291538464895462,1.7865692974483998,-0.5194435804480518,0.06767539551418716,-0.09300004854212413,-1.2127175883760892,1.942643225757587,0.8878018149978713,-1.1809781153260683,0.2575919645669953,-0.6769032747176147,0.01014174877601857,2.885642130181955,-0.7049165847816975,-0.4967452753515838,-0.15303974924473007,1.62343094257325,0.30504135057356546,0.8135619495047793,0.13859734831440887,0.9409094898287858,-2.106150798000945,-0.9727829821770161,-0.49535544612192495,-1.3610308308674985,-1.8962982399982888,-0.7253845761849583,-0.7168960746976729,0.37029744211770654,0.8598123725308865,0.8461573465522495,-0.6046059434358252,-0.10992922641504047,-2.0891817672460156,-0.4063293893196075,0.2757867175136207,0.8774299519146228,-2.2757649437521903,-0.45757232015356514,-0.17936223143712166,0.17476001282787101,0.9290796655113206,-1.8732214794720277,1.242753534277087,0.1066039488907477,0.9433387503335581,1.6896852590146096,1.0510034273696693,1.6134414015773315,-1.8868368147054095,0.04411536657854227,1.4055080886554139,-0.4794134388164445,-0.8810855398463338,1.5117001240378032,-0.22294664515737564,-0.1304669186370773,0.37964353796601175,-0.5790014297236573,-0.6127310043576752,1.2031065883968466,0.16998909148348326,-0.06292258556163698,0.5494619741500407,-0.18506065027833485,-0.18448527937520084,-1.4254380406342864,-1.7079349491429474,-0.9371196134892642,0.7528973069243526,0.01649536172771896,0.7025745920667116,-1.5521217053670775,1.646999567576793,0.7663500834926468,-0.06438797934787864,-0.2584312528743698,0.300277201635679],\"xaxis\":\"x10\",\"y\":[1.2656119006442414,0.11172189872330608,2.4441405083498084,0.021263530711874312,-0.09762074893880836,-2.841439832791632,0.3606689299126568,0.6100067499256379,0.46938226746429257,1.0409351529187922,-0.10530897127620471,-0.7839565480168238,1.312981092013129,0.9168981441738603,-0.45747230576020353,1.019246343752088,1.035506744391563,-0.2017921322897468,1.541948116644562,-0.8547194343811696,-0.5159114150487076,0.6205665175937206,-1.4708434724308213,-0.7028787223375108,0.4566743660520509,0.5175867306902976,2.307306044925076,0.6335984216611076,-1.169581749814845,-0.8049516945379682,0.8376752575918941,-0.7965999170117269,1.5701411435733117,0.010738407292215393,-1.9476656494682059,0.7994896822584975,0.9916380277779536,-0.8259760625515664,-0.7750424611682585,-1.000212958965001,-0.002153372965835309,1.1241098204562403,-0.8933357174684814,0.14031630340664777,0.7796311582424318,-2.545378779470004,-0.43196973909652,-0.11648151266855052,0.4066225349475821,1.5668326084368156,0.0285716881764873,1.3441761736057165,-0.5523062721586132,-0.7157409903930229,0.7327498495190612,0.30060721324231693,0.7133267785007691,0.19911508044327778,-0.19545960190474662,0.6853459741633252,-2.127835130345152,2.0218196475959336,2.1780440617017196,2.224401011317823,1.165437639520588,-0.14759125561131795,-0.8113337078873021,1.2284972728337857,-0.1894385534744078,-0.004967028126192879,-0.9774278378969505,0.9833612559553154,-0.23714912708878444,0.8726089987499858,-0.8389751407305852,0.3909661637510026,-1.1694495652685963,-1.9807748615515484,0.4096619399418116,1.1594638854247026,-1.0171361899301976,-1.0048963714697148,-0.36924529104358444,0.1286784085603135,0.7038172729883474,-0.9919135098509365,-0.29941507106034404,0.6134501808248138,-0.5951458647500463,0.254523959598943,0.24629150821694917,-1.3603994825182804,0.4749977182782207,-1.9947392736919967,3.508885086749131,0.9521474983011023,-0.421561079901927,1.686899295360436,-0.03997823528199046,-0.22909054223546957],\"yaxis\":\"y10\",\"type\":\"scatter\"},{\"line\":{\"color\":\"rgba(128, 128, 128, 1.0)\",\"dash\":\"solid\",\"shape\":\"linear\",\"width\":1.3},\"marker\":{\"size\":2,\"symbol\":\"circle\"},\"mode\":\"markers\",\"name\":\"C\",\"text\":\"\",\"x\":[-0.3335804497762339,0.00841020770573747,-0.2452486455726726,1.7550835292323625,-0.4124142608843169,0.08397452866741234,-1.3865662695296521,-0.5536159230768968,-0.6159733733331406,0.5351203760401979,0.6219906888015769,2.0936218973984544,0.44108665014911896,-0.416230235006025,0.9331183949846429,-0.7216605612758971,1.3390572677191115,0.6496069974394884,-0.7901367515093446,-0.3422059764483797,0.5373701215532392,1.7747753169553424,0.419529041757397,-0.10904889995774433,-2.0263048218045543,0.21622836105376003,-0.821922543917067,1.842131241717987,-1.265365165032051,0.8479452711578469,0.6156098386466577,0.15867622180468346,-1.238977024083961,0.7335419753028098,0.0512616782988629,1.4495571762852764,-0.4496751518589838,-0.330172000624211,-0.8929792515250653,2.205175209714804,-0.4538635156588506,2.2037334537380286,0.7417458154644216,-0.01924531610158195,0.5149129505912265,-0.8559027787490496,-1.2359804048231446,2.073959092442634,0.6912579520973061,-1.108283786227255,0.16942813801626458,-2.781043939921188,0.0885804145925267,-1.756318606323291,1.274483140059975,0.8438741973237249,1.043238681028487,0.8742390843303314,1.4704877215499943,-0.6540245721736407,-1.1275658316510941,0.8367878573651504,-0.7350001997710474,-0.11503001732679545,-0.1920425691420273,1.3367611859539756,0.31544010241881365,0.30833485067338146,-0.30446858143129724,0.09901607880407506,0.3280088371532466,0.3003499482732641,0.27812375549087964,-0.6621938785792102,0.5884359898684891,-1.4687335662247434,1.5961345007591994,-0.2519890600562586,1.5557835869903025,0.04462193969423287,0.15083076444693133,0.4082980181436096,-0.678370760026145,-0.0750391155180131,-1.0668798705652038,-0.9875792933502123,-2.7515517426231964,1.6668491718400256,-2.011343087200451,0.22068583475438497,1.0427267249140537,0.8666554855258551,1.4876746522797113,-0.12935479445954817,0.544861458818753,0.2590464861926635,-0.29858348018470654,1.0157638005717105,-1.2125999335057973,-0.7869056414224349],\"xaxis\":\"x11\",\"y\":[0.8798245268512644,1.3570283033026354,1.9749121492940394,-1.053528469740966,-1.560386785340817,1.1388140116813792,0.18974961491421344,-0.5478264985107293,-1.1539249337613273,0.8874089996735028,-0.05691535188208471,0.7770129188124023,0.15309817166302805,0.16303265459883862,-1.4589565959752056,-1.7568132075093177,2.0863651523643836,-0.5709529842718767,0.8171735177928228,-0.9529735238883316,-1.4435332935187561,0.5291322365209097,0.590287111313805,2.0760558580311894,2.770519340679483,-1.6743154464994718,0.9909732859885614,1.4782185687998004,-0.09278257147140048,-0.20689856021378225,-0.060082151233758624,-0.4549282575190898,-2.798225397178623,-0.006120247766301646,-1.3445715700628214,-1.4466365769851819,0.2133185589128615,-0.32532507006367706,1.6286082407494962,0.3665395111067651,-0.8570393860081226,-0.5330012851626166,-0.7330412728606085,0.39520030272126844,-0.328970288722901,-2.291935837607325,-2.219382875606811,1.0050207754278548,0.8967059681804674,0.7728364986156984,-0.4455073981285349,-0.7256203081566854,-0.1305693944777659,-1.3713800857013108,-1.8091829986953307,-0.23298256037994072,-1.8533887856146967,0.1721245840219928,-1.2813291019196724,0.43920160088386334,1.2497325365573007,-0.11020114414414621,0.005641545615314567,1.0288602893831988,0.4220034532490604,-1.2565242509824988,-2.0769825586982384,-0.03699527667130005,1.523715050790172,2.0276688810134633,-0.06060921744804393,-0.16764490626620826,-0.2254354082608133,0.12847522766802005,0.377071749142011,-1.2976063331996661,-0.6617309172668501,0.37072944613045744,0.7758699379596998,-0.6732095691953305,0.9252587961467202,0.9267484968797207,1.105761853017902,-2.444709796114457,0.07499096243692296,0.5693211122386654,-0.652432465524865,0.6588139565638953,0.018531855504759765,-1.0137255385987984,1.2993924328191087,-1.4653956133450676,0.6497028563590997,1.8499967179996188,1.946063550070373,-0.8016185890292232,1.0382047761068196,-0.3194117889309226,0.33599136356301956,0.7741509723290858],\"yaxis\":\"y11\",\"type\":\"scatter\"},{\"line\":{\"color\":\"rgba(128, 128, 128, 1.0)\",\"dash\":\"solid\",\"shape\":\"linear\",\"width\":1.3},\"marker\":{\"size\":2,\"symbol\":\"circle\"},\"mode\":\"markers\",\"name\":\"C\",\"text\":\"\",\"x\":[1.2656119006442414,0.11172189872330608,2.4441405083498084,0.021263530711874312,-0.09762074893880836,-2.841439832791632,0.3606689299126568,0.6100067499256379,0.46938226746429257,1.0409351529187922,-0.10530897127620471,-0.7839565480168238,1.312981092013129,0.9168981441738603,-0.45747230576020353,1.019246343752088,1.035506744391563,-0.2017921322897468,1.541948116644562,-0.8547194343811696,-0.5159114150487076,0.6205665175937206,-1.4708434724308213,-0.7028787223375108,0.4566743660520509,0.5175867306902976,2.307306044925076,0.6335984216611076,-1.169581749814845,-0.8049516945379682,0.8376752575918941,-0.7965999170117269,1.5701411435733117,0.010738407292215393,-1.9476656494682059,0.7994896822584975,0.9916380277779536,-0.8259760625515664,-0.7750424611682585,-1.000212958965001,-0.002153372965835309,1.1241098204562403,-0.8933357174684814,0.14031630340664777,0.7796311582424318,-2.545378779470004,-0.43196973909652,-0.11648151266855052,0.4066225349475821,1.5668326084368156,0.0285716881764873,1.3441761736057165,-0.5523062721586132,-0.7157409903930229,0.7327498495190612,0.30060721324231693,0.7133267785007691,0.19911508044327778,-0.19545960190474662,0.6853459741633252,-2.127835130345152,2.0218196475959336,2.1780440617017196,2.224401011317823,1.165437639520588,-0.14759125561131795,-0.8113337078873021,1.2284972728337857,-0.1894385534744078,-0.004967028126192879,-0.9774278378969505,0.9833612559553154,-0.23714912708878444,0.8726089987499858,-0.8389751407305852,0.3909661637510026,-1.1694495652685963,-1.9807748615515484,0.4096619399418116,1.1594638854247026,-1.0171361899301976,-1.0048963714697148,-0.36924529104358444,0.1286784085603135,0.7038172729883474,-0.9919135098509365,-0.29941507106034404,0.6134501808248138,-0.5951458647500463,0.254523959598943,0.24629150821694917,-1.3603994825182804,0.4749977182782207,-1.9947392736919967,3.508885086749131,0.9521474983011023,-0.421561079901927,1.686899295360436,-0.03997823528199046,-0.22909054223546957],\"xaxis\":\"x12\",\"y\":[0.8798245268512644,1.3570283033026354,1.9749121492940394,-1.053528469740966,-1.560386785340817,1.1388140116813792,0.18974961491421344,-0.5478264985107293,-1.1539249337613273,0.8874089996735028,-0.05691535188208471,0.7770129188124023,0.15309817166302805,0.16303265459883862,-1.4589565959752056,-1.7568132075093177,2.0863651523643836,-0.5709529842718767,0.8171735177928228,-0.9529735238883316,-1.4435332935187561,0.5291322365209097,0.590287111313805,2.0760558580311894,2.770519340679483,-1.6743154464994718,0.9909732859885614,1.4782185687998004,-0.09278257147140048,-0.20689856021378225,-0.060082151233758624,-0.4549282575190898,-2.798225397178623,-0.006120247766301646,-1.3445715700628214,-1.4466365769851819,0.2133185589128615,-0.32532507006367706,1.6286082407494962,0.3665395111067651,-0.8570393860081226,-0.5330012851626166,-0.7330412728606085,0.39520030272126844,-0.328970288722901,-2.291935837607325,-2.219382875606811,1.0050207754278548,0.8967059681804674,0.7728364986156984,-0.4455073981285349,-0.7256203081566854,-0.1305693944777659,-1.3713800857013108,-1.8091829986953307,-0.23298256037994072,-1.8533887856146967,0.1721245840219928,-1.2813291019196724,0.43920160088386334,1.2497325365573007,-0.11020114414414621,0.005641545615314567,1.0288602893831988,0.4220034532490604,-1.2565242509824988,-2.0769825586982384,-0.03699527667130005,1.523715050790172,2.0276688810134633,-0.06060921744804393,-0.16764490626620826,-0.2254354082608133,0.12847522766802005,0.377071749142011,-1.2976063331996661,-0.6617309172668501,0.37072944613045744,0.7758699379596998,-0.6732095691953305,0.9252587961467202,0.9267484968797207,1.105761853017902,-2.444709796114457,0.07499096243692296,0.5693211122386654,-0.652432465524865,0.6588139565638953,0.018531855504759765,-1.0137255385987984,1.2993924328191087,-1.4653956133450676,0.6497028563590997,1.8499967179996188,1.946063550070373,-0.8016185890292232,1.0382047761068196,-0.3194117889309226,0.33599136356301956,0.7741509723290858],\"yaxis\":\"y12\",\"type\":\"scatter\"},{\"histfunc\":\"count\",\"histnorm\":\"\",\"marker\":{\"color\":\"rgba(50, 171, 96, 1.0)\",\"line\":{\"color\":\"#4D5663\",\"width\":1.3}},\"name\":\"C\",\"nbinsx\":10,\"opacity\":0.8,\"orientation\":\"v\",\"x\":[0.8798245268512644,1.3570283033026354,1.9749121492940394,-1.053528469740966,-1.560386785340817,1.1388140116813792,0.18974961491421344,-0.5478264985107293,-1.1539249337613273,0.8874089996735028,-0.05691535188208471,0.7770129188124023,0.15309817166302805,0.16303265459883862,-1.4589565959752056,-1.7568132075093177,2.0863651523643836,-0.5709529842718767,0.8171735177928228,-0.9529735238883316,-1.4435332935187561,0.5291322365209097,0.590287111313805,2.0760558580311894,2.770519340679483,-1.6743154464994718,0.9909732859885614,1.4782185687998004,-0.09278257147140048,-0.20689856021378225,-0.060082151233758624,-0.4549282575190898,-2.798225397178623,-0.006120247766301646,-1.3445715700628214,-1.4466365769851819,0.2133185589128615,-0.32532507006367706,1.6286082407494962,0.3665395111067651,-0.8570393860081226,-0.5330012851626166,-0.7330412728606085,0.39520030272126844,-0.328970288722901,-2.291935837607325,-2.219382875606811,1.0050207754278548,0.8967059681804674,0.7728364986156984,-0.4455073981285349,-0.7256203081566854,-0.1305693944777659,-1.3713800857013108,-1.8091829986953307,-0.23298256037994072,-1.8533887856146967,0.1721245840219928,-1.2813291019196724,0.43920160088386334,1.2497325365573007,-0.11020114414414621,0.005641545615314567,1.0288602893831988,0.4220034532490604,-1.2565242509824988,-2.0769825586982384,-0.03699527667130005,1.523715050790172,2.0276688810134633,-0.06060921744804393,-0.16764490626620826,-0.2254354082608133,0.12847522766802005,0.377071749142011,-1.2976063331996661,-0.6617309172668501,0.37072944613045744,0.7758699379596998,-0.6732095691953305,0.9252587961467202,0.9267484968797207,1.105761853017902,-2.444709796114457,0.07499096243692296,0.5693211122386654,-0.652432465524865,0.6588139565638953,0.018531855504759765,-1.0137255385987984,1.2993924328191087,-1.4653956133450676,0.6497028563590997,1.8499967179996188,1.946063550070373,-0.8016185890292232,1.0382047761068196,-0.3194117889309226,0.33599136356301956,0.7741509723290858],\"xaxis\":\"x13\",\"yaxis\":\"y13\",\"type\":\"histogram\"},{\"line\":{\"color\":\"rgba(128, 128, 128, 1.0)\",\"dash\":\"solid\",\"shape\":\"linear\",\"width\":1.3},\"marker\":{\"size\":2,\"symbol\":\"circle\"},\"mode\":\"markers\",\"name\":\"C\",\"text\":\"\",\"x\":[-1.9198483031724256,-0.24329183540613608,0.6419997062319316,1.3521182772765474,0.5953524145895086,-0.3552352893647105,1.0915339646314302,0.6475280944502119,-0.774851217596859,-0.39637688379115565,-0.4230845617672878,0.22959960188263315,1.6948841348667674,1.1446841575735427,-2.2080553735626602,-0.30308059602206633,1.0806566946819762,-1.1216001403815672,-0.12520775316480504,1.3466925190085772,0.9462059084151903,0.8985744305856347,-1.64358228609394,0.6069791243187228,0.4223824309838147,0.8423595723635103,2.3980901509690193,-0.6415070968039709,-0.9975940538503272,-0.11550689048261797,2.0020036202933498,1.3662311734044508,0.479460223478841,0.5092066242214716,-1.5629385459288747,0.628865645676127,-0.7634899023056374,1.0248616097292713,1.6595211982791724,-2.0061602520171813,-0.7186614432370061,-0.4742543791027465,1.307551183314467,1.1743804854843325,0.7052145371823973,0.4799543593091343,-0.7009216406650326,-0.6746932653622134,-1.100313397740983,1.439377653494364,-0.31797347028181755,-0.874593483987904,1.909864020081642,1.3555632985489197,-1.5303080609636381,1.233317462598353,-0.06212854456042669,-1.83988537294752,0.5529455365082178,2.6805845051206223,-1.085617407002373,1.3827589034085064,1.4931540986489353,-1.830583458116591,2.2873533003201194,0.4538291090971322,-1.4015980942710253,-2.101484782143447,0.3850412422960206,-0.28960698710359245,-0.4010520642042657,1.2987085019055833,-0.6958314981432985,1.1722585020874166,-0.7857462390210691,1.5046211800677642,1.1521614492395316,1.104130661059711,-0.3180270974434549,-0.5170270701278834,-1.926258142950692,0.9116496592019908,0.16343145846718582,0.829446465394839,0.6912702589585954,-0.5780875528080383,-0.19423361876038497,-1.1404559525272475,0.36132644570637024,-0.06963216123953414,-0.21478317152142276,-2.1383624044570757,1.3604530205933243,-0.02833867735545919,1.0995634743246747,0.6372366447919425,-0.42141871269977116,0.7504607745939308,-0.4335204360951008,0.6529644865979116],\"xaxis\":\"x14\",\"y\":[0.8798245268512644,1.3570283033026354,1.9749121492940394,-1.053528469740966,-1.560386785340817,1.1388140116813792,0.18974961491421344,-0.5478264985107293,-1.1539249337613273,0.8874089996735028,-0.05691535188208471,0.7770129188124023,0.15309817166302805,0.16303265459883862,-1.4589565959752056,-1.7568132075093177,2.0863651523643836,-0.5709529842718767,0.8171735177928228,-0.9529735238883316,-1.4435332935187561,0.5291322365209097,0.590287111313805,2.0760558580311894,2.770519340679483,-1.6743154464994718,0.9909732859885614,1.4782185687998004,-0.09278257147140048,-0.20689856021378225,-0.060082151233758624,-0.4549282575190898,-2.798225397178623,-0.006120247766301646,-1.3445715700628214,-1.4466365769851819,0.2133185589128615,-0.32532507006367706,1.6286082407494962,0.3665395111067651,-0.8570393860081226,-0.5330012851626166,-0.7330412728606085,0.39520030272126844,-0.328970288722901,-2.291935837607325,-2.219382875606811,1.0050207754278548,0.8967059681804674,0.7728364986156984,-0.4455073981285349,-0.7256203081566854,-0.1305693944777659,-1.3713800857013108,-1.8091829986953307,-0.23298256037994072,-1.8533887856146967,0.1721245840219928,-1.2813291019196724,0.43920160088386334,1.2497325365573007,-0.11020114414414621,0.005641545615314567,1.0288602893831988,0.4220034532490604,-1.2565242509824988,-2.0769825586982384,-0.03699527667130005,1.523715050790172,2.0276688810134633,-0.06060921744804393,-0.16764490626620826,-0.2254354082608133,0.12847522766802005,0.377071749142011,-1.2976063331996661,-0.6617309172668501,0.37072944613045744,0.7758699379596998,-0.6732095691953305,0.9252587961467202,0.9267484968797207,1.105761853017902,-2.444709796114457,0.07499096243692296,0.5693211122386654,-0.652432465524865,0.6588139565638953,0.018531855504759765,-1.0137255385987984,1.2993924328191087,-1.4653956133450676,0.6497028563590997,1.8499967179996188,1.946063550070373,-0.8016185890292232,1.0382047761068196,-0.3194117889309226,0.33599136356301956,0.7741509723290858],\"yaxis\":\"y14\",\"type\":\"scatter\"},{\"line\":{\"color\":\"rgba(128, 128, 128, 1.0)\",\"dash\":\"solid\",\"shape\":\"linear\",\"width\":1.3},\"marker\":{\"size\":2,\"symbol\":\"circle\"},\"mode\":\"markers\",\"name\":\"C\",\"text\":\"\",\"x\":[-1.8839552638761043,-1.4222817243492196,0.2439336106390916,-0.3022115945065196,-1.1116255926474479,-0.13846855609245293,-0.6352316093943358,-1.6741868974608256,-1.0874216392138512,-1.727874886025039,0.6068689036503123,1.606811739024369,-0.7544366227941612,2.0380068491611185,-0.41478932093402,0.7142095505760002,-0.017473896869972794,-0.854025343130081,0.17112312466754392,2.5949210831298983,-0.3368952398061639,-0.5018141764171291,-0.2291538464895462,1.7865692974483998,-0.5194435804480518,0.06767539551418716,-0.09300004854212413,-1.2127175883760892,1.942643225757587,0.8878018149978713,-1.1809781153260683,0.2575919645669953,-0.6769032747176147,0.01014174877601857,2.885642130181955,-0.7049165847816975,-0.4967452753515838,-0.15303974924473007,1.62343094257325,0.30504135057356546,0.8135619495047793,0.13859734831440887,0.9409094898287858,-2.106150798000945,-0.9727829821770161,-0.49535544612192495,-1.3610308308674985,-1.8962982399982888,-0.7253845761849583,-0.7168960746976729,0.37029744211770654,0.8598123725308865,0.8461573465522495,-0.6046059434358252,-0.10992922641504047,-2.0891817672460156,-0.4063293893196075,0.2757867175136207,0.8774299519146228,-2.2757649437521903,-0.45757232015356514,-0.17936223143712166,0.17476001282787101,0.9290796655113206,-1.8732214794720277,1.242753534277087,0.1066039488907477,0.9433387503335581,1.6896852590146096,1.0510034273696693,1.6134414015773315,-1.8868368147054095,0.04411536657854227,1.4055080886554139,-0.4794134388164445,-0.8810855398463338,1.5117001240378032,-0.22294664515737564,-0.1304669186370773,0.37964353796601175,-0.5790014297236573,-0.6127310043576752,1.2031065883968466,0.16998909148348326,-0.06292258556163698,0.5494619741500407,-0.18506065027833485,-0.18448527937520084,-1.4254380406342864,-1.7079349491429474,-0.9371196134892642,0.7528973069243526,0.01649536172771896,0.7025745920667116,-1.5521217053670775,1.646999567576793,0.7663500834926468,-0.06438797934787864,-0.2584312528743698,0.300277201635679],\"xaxis\":\"x15\",\"y\":[0.8798245268512644,1.3570283033026354,1.9749121492940394,-1.053528469740966,-1.560386785340817,1.1388140116813792,0.18974961491421344,-0.5478264985107293,-1.1539249337613273,0.8874089996735028,-0.05691535188208471,0.7770129188124023,0.15309817166302805,0.16303265459883862,-1.4589565959752056,-1.7568132075093177,2.0863651523643836,-0.5709529842718767,0.8171735177928228,-0.9529735238883316,-1.4435332935187561,0.5291322365209097,0.590287111313805,2.0760558580311894,2.770519340679483,-1.6743154464994718,0.9909732859885614,1.4782185687998004,-0.09278257147140048,-0.20689856021378225,-0.060082151233758624,-0.4549282575190898,-2.798225397178623,-0.006120247766301646,-1.3445715700628214,-1.4466365769851819,0.2133185589128615,-0.32532507006367706,1.6286082407494962,0.3665395111067651,-0.8570393860081226,-0.5330012851626166,-0.7330412728606085,0.39520030272126844,-0.328970288722901,-2.291935837607325,-2.219382875606811,1.0050207754278548,0.8967059681804674,0.7728364986156984,-0.4455073981285349,-0.7256203081566854,-0.1305693944777659,-1.3713800857013108,-1.8091829986953307,-0.23298256037994072,-1.8533887856146967,0.1721245840219928,-1.2813291019196724,0.43920160088386334,1.2497325365573007,-0.11020114414414621,0.005641545615314567,1.0288602893831988,0.4220034532490604,-1.2565242509824988,-2.0769825586982384,-0.03699527667130005,1.523715050790172,2.0276688810134633,-0.06060921744804393,-0.16764490626620826,-0.2254354082608133,0.12847522766802005,0.377071749142011,-1.2976063331996661,-0.6617309172668501,0.37072944613045744,0.7758699379596998,-0.6732095691953305,0.9252587961467202,0.9267484968797207,1.105761853017902,-2.444709796114457,0.07499096243692296,0.5693211122386654,-0.652432465524865,0.6588139565638953,0.018531855504759765,-1.0137255385987984,1.2993924328191087,-1.4653956133450676,0.6497028563590997,1.8499967179996188,1.946063550070373,-0.8016185890292232,1.0382047761068196,-0.3194117889309226,0.33599136356301956,0.7741509723290858],\"yaxis\":\"y15\",\"type\":\"scatter\"},{\"line\":{\"color\":\"rgba(128, 128, 128, 1.0)\",\"dash\":\"solid\",\"shape\":\"linear\",\"width\":1.3},\"marker\":{\"size\":2,\"symbol\":\"circle\"},\"mode\":\"markers\",\"name\":\"D\",\"text\":\"\",\"x\":[-0.3335804497762339,0.00841020770573747,-0.2452486455726726,1.7550835292323625,-0.4124142608843169,0.08397452866741234,-1.3865662695296521,-0.5536159230768968,-0.6159733733331406,0.5351203760401979,0.6219906888015769,2.0936218973984544,0.44108665014911896,-0.416230235006025,0.9331183949846429,-0.7216605612758971,1.3390572677191115,0.6496069974394884,-0.7901367515093446,-0.3422059764483797,0.5373701215532392,1.7747753169553424,0.419529041757397,-0.10904889995774433,-2.0263048218045543,0.21622836105376003,-0.821922543917067,1.842131241717987,-1.265365165032051,0.8479452711578469,0.6156098386466577,0.15867622180468346,-1.238977024083961,0.7335419753028098,0.0512616782988629,1.4495571762852764,-0.4496751518589838,-0.330172000624211,-0.8929792515250653,2.205175209714804,-0.4538635156588506,2.2037334537380286,0.7417458154644216,-0.01924531610158195,0.5149129505912265,-0.8559027787490496,-1.2359804048231446,2.073959092442634,0.6912579520973061,-1.108283786227255,0.16942813801626458,-2.781043939921188,0.0885804145925267,-1.756318606323291,1.274483140059975,0.8438741973237249,1.043238681028487,0.8742390843303314,1.4704877215499943,-0.6540245721736407,-1.1275658316510941,0.8367878573651504,-0.7350001997710474,-0.11503001732679545,-0.1920425691420273,1.3367611859539756,0.31544010241881365,0.30833485067338146,-0.30446858143129724,0.09901607880407506,0.3280088371532466,0.3003499482732641,0.27812375549087964,-0.6621938785792102,0.5884359898684891,-1.4687335662247434,1.5961345007591994,-0.2519890600562586,1.5557835869903025,0.04462193969423287,0.15083076444693133,0.4082980181436096,-0.678370760026145,-0.0750391155180131,-1.0668798705652038,-0.9875792933502123,-2.7515517426231964,1.6668491718400256,-2.011343087200451,0.22068583475438497,1.0427267249140537,0.8666554855258551,1.4876746522797113,-0.12935479445954817,0.544861458818753,0.2590464861926635,-0.29858348018470654,1.0157638005717105,-1.2125999335057973,-0.7869056414224349],\"xaxis\":\"x16\",\"y\":[-1.9198483031724256,-0.24329183540613608,0.6419997062319316,1.3521182772765474,0.5953524145895086,-0.3552352893647105,1.0915339646314302,0.6475280944502119,-0.774851217596859,-0.39637688379115565,-0.4230845617672878,0.22959960188263315,1.6948841348667674,1.1446841575735427,-2.2080553735626602,-0.30308059602206633,1.0806566946819762,-1.1216001403815672,-0.12520775316480504,1.3466925190085772,0.9462059084151903,0.8985744305856347,-1.64358228609394,0.6069791243187228,0.4223824309838147,0.8423595723635103,2.3980901509690193,-0.6415070968039709,-0.9975940538503272,-0.11550689048261797,2.0020036202933498,1.3662311734044508,0.479460223478841,0.5092066242214716,-1.5629385459288747,0.628865645676127,-0.7634899023056374,1.0248616097292713,1.6595211982791724,-2.0061602520171813,-0.7186614432370061,-0.4742543791027465,1.307551183314467,1.1743804854843325,0.7052145371823973,0.4799543593091343,-0.7009216406650326,-0.6746932653622134,-1.100313397740983,1.439377653494364,-0.31797347028181755,-0.874593483987904,1.909864020081642,1.3555632985489197,-1.5303080609636381,1.233317462598353,-0.06212854456042669,-1.83988537294752,0.5529455365082178,2.6805845051206223,-1.085617407002373,1.3827589034085064,1.4931540986489353,-1.830583458116591,2.2873533003201194,0.4538291090971322,-1.4015980942710253,-2.101484782143447,0.3850412422960206,-0.28960698710359245,-0.4010520642042657,1.2987085019055833,-0.6958314981432985,1.1722585020874166,-0.7857462390210691,1.5046211800677642,1.1521614492395316,1.104130661059711,-0.3180270974434549,-0.5170270701278834,-1.926258142950692,0.9116496592019908,0.16343145846718582,0.829446465394839,0.6912702589585954,-0.5780875528080383,-0.19423361876038497,-1.1404559525272475,0.36132644570637024,-0.06963216123953414,-0.21478317152142276,-2.1383624044570757,1.3604530205933243,-0.02833867735545919,1.0995634743246747,0.6372366447919425,-0.42141871269977116,0.7504607745939308,-0.4335204360951008,0.6529644865979116],\"yaxis\":\"y16\",\"type\":\"scatter\"},{\"line\":{\"color\":\"rgba(128, 128, 128, 1.0)\",\"dash\":\"solid\",\"shape\":\"linear\",\"width\":1.3},\"marker\":{\"size\":2,\"symbol\":\"circle\"},\"mode\":\"markers\",\"name\":\"D\",\"text\":\"\",\"x\":[1.2656119006442414,0.11172189872330608,2.4441405083498084,0.021263530711874312,-0.09762074893880836,-2.841439832791632,0.3606689299126568,0.6100067499256379,0.46938226746429257,1.0409351529187922,-0.10530897127620471,-0.7839565480168238,1.312981092013129,0.9168981441738603,-0.45747230576020353,1.019246343752088,1.035506744391563,-0.2017921322897468,1.541948116644562,-0.8547194343811696,-0.5159114150487076,0.6205665175937206,-1.4708434724308213,-0.7028787223375108,0.4566743660520509,0.5175867306902976,2.307306044925076,0.6335984216611076,-1.169581749814845,-0.8049516945379682,0.8376752575918941,-0.7965999170117269,1.5701411435733117,0.010738407292215393,-1.9476656494682059,0.7994896822584975,0.9916380277779536,-0.8259760625515664,-0.7750424611682585,-1.000212958965001,-0.002153372965835309,1.1241098204562403,-0.8933357174684814,0.14031630340664777,0.7796311582424318,-2.545378779470004,-0.43196973909652,-0.11648151266855052,0.4066225349475821,1.5668326084368156,0.0285716881764873,1.3441761736057165,-0.5523062721586132,-0.7157409903930229,0.7327498495190612,0.30060721324231693,0.7133267785007691,0.19911508044327778,-0.19545960190474662,0.6853459741633252,-2.127835130345152,2.0218196475959336,2.1780440617017196,2.224401011317823,1.165437639520588,-0.14759125561131795,-0.8113337078873021,1.2284972728337857,-0.1894385534744078,-0.004967028126192879,-0.9774278378969505,0.9833612559553154,-0.23714912708878444,0.8726089987499858,-0.8389751407305852,0.3909661637510026,-1.1694495652685963,-1.9807748615515484,0.4096619399418116,1.1594638854247026,-1.0171361899301976,-1.0048963714697148,-0.36924529104358444,0.1286784085603135,0.7038172729883474,-0.9919135098509365,-0.29941507106034404,0.6134501808248138,-0.5951458647500463,0.254523959598943,0.24629150821694917,-1.3603994825182804,0.4749977182782207,-1.9947392736919967,3.508885086749131,0.9521474983011023,-0.421561079901927,1.686899295360436,-0.03997823528199046,-0.22909054223546957],\"xaxis\":\"x17\",\"y\":[-1.9198483031724256,-0.24329183540613608,0.6419997062319316,1.3521182772765474,0.5953524145895086,-0.3552352893647105,1.0915339646314302,0.6475280944502119,-0.774851217596859,-0.39637688379115565,-0.4230845617672878,0.22959960188263315,1.6948841348667674,1.1446841575735427,-2.2080553735626602,-0.30308059602206633,1.0806566946819762,-1.1216001403815672,-0.12520775316480504,1.3466925190085772,0.9462059084151903,0.8985744305856347,-1.64358228609394,0.6069791243187228,0.4223824309838147,0.8423595723635103,2.3980901509690193,-0.6415070968039709,-0.9975940538503272,-0.11550689048261797,2.0020036202933498,1.3662311734044508,0.479460223478841,0.5092066242214716,-1.5629385459288747,0.628865645676127,-0.7634899023056374,1.0248616097292713,1.6595211982791724,-2.0061602520171813,-0.7186614432370061,-0.4742543791027465,1.307551183314467,1.1743804854843325,0.7052145371823973,0.4799543593091343,-0.7009216406650326,-0.6746932653622134,-1.100313397740983,1.439377653494364,-0.31797347028181755,-0.874593483987904,1.909864020081642,1.3555632985489197,-1.5303080609636381,1.233317462598353,-0.06212854456042669,-1.83988537294752,0.5529455365082178,2.6805845051206223,-1.085617407002373,1.3827589034085064,1.4931540986489353,-1.830583458116591,2.2873533003201194,0.4538291090971322,-1.4015980942710253,-2.101484782143447,0.3850412422960206,-0.28960698710359245,-0.4010520642042657,1.2987085019055833,-0.6958314981432985,1.1722585020874166,-0.7857462390210691,1.5046211800677642,1.1521614492395316,1.104130661059711,-0.3180270974434549,-0.5170270701278834,-1.926258142950692,0.9116496592019908,0.16343145846718582,0.829446465394839,0.6912702589585954,-0.5780875528080383,-0.19423361876038497,-1.1404559525272475,0.36132644570637024,-0.06963216123953414,-0.21478317152142276,-2.1383624044570757,1.3604530205933243,-0.02833867735545919,1.0995634743246747,0.6372366447919425,-0.42141871269977116,0.7504607745939308,-0.4335204360951008,0.6529644865979116],\"yaxis\":\"y17\",\"type\":\"scatter\"},{\"line\":{\"color\":\"rgba(128, 128, 128, 1.0)\",\"dash\":\"solid\",\"shape\":\"linear\",\"width\":1.3},\"marker\":{\"size\":2,\"symbol\":\"circle\"},\"mode\":\"markers\",\"name\":\"D\",\"text\":\"\",\"x\":[0.8798245268512644,1.3570283033026354,1.9749121492940394,-1.053528469740966,-1.560386785340817,1.1388140116813792,0.18974961491421344,-0.5478264985107293,-1.1539249337613273,0.8874089996735028,-0.05691535188208471,0.7770129188124023,0.15309817166302805,0.16303265459883862,-1.4589565959752056,-1.7568132075093177,2.0863651523643836,-0.5709529842718767,0.8171735177928228,-0.9529735238883316,-1.4435332935187561,0.5291322365209097,0.590287111313805,2.0760558580311894,2.770519340679483,-1.6743154464994718,0.9909732859885614,1.4782185687998004,-0.09278257147140048,-0.20689856021378225,-0.060082151233758624,-0.4549282575190898,-2.798225397178623,-0.006120247766301646,-1.3445715700628214,-1.4466365769851819,0.2133185589128615,-0.32532507006367706,1.6286082407494962,0.3665395111067651,-0.8570393860081226,-0.5330012851626166,-0.7330412728606085,0.39520030272126844,-0.328970288722901,-2.291935837607325,-2.219382875606811,1.0050207754278548,0.8967059681804674,0.7728364986156984,-0.4455073981285349,-0.7256203081566854,-0.1305693944777659,-1.3713800857013108,-1.8091829986953307,-0.23298256037994072,-1.8533887856146967,0.1721245840219928,-1.2813291019196724,0.43920160088386334,1.2497325365573007,-0.11020114414414621,0.005641545615314567,1.0288602893831988,0.4220034532490604,-1.2565242509824988,-2.0769825586982384,-0.03699527667130005,1.523715050790172,2.0276688810134633,-0.06060921744804393,-0.16764490626620826,-0.2254354082608133,0.12847522766802005,0.377071749142011,-1.2976063331996661,-0.6617309172668501,0.37072944613045744,0.7758699379596998,-0.6732095691953305,0.9252587961467202,0.9267484968797207,1.105761853017902,-2.444709796114457,0.07499096243692296,0.5693211122386654,-0.652432465524865,0.6588139565638953,0.018531855504759765,-1.0137255385987984,1.2993924328191087,-1.4653956133450676,0.6497028563590997,1.8499967179996188,1.946063550070373,-0.8016185890292232,1.0382047761068196,-0.3194117889309226,0.33599136356301956,0.7741509723290858],\"xaxis\":\"x18\",\"y\":[-1.9198483031724256,-0.24329183540613608,0.6419997062319316,1.3521182772765474,0.5953524145895086,-0.3552352893647105,1.0915339646314302,0.6475280944502119,-0.774851217596859,-0.39637688379115565,-0.4230845617672878,0.22959960188263315,1.6948841348667674,1.1446841575735427,-2.2080553735626602,-0.30308059602206633,1.0806566946819762,-1.1216001403815672,-0.12520775316480504,1.3466925190085772,0.9462059084151903,0.8985744305856347,-1.64358228609394,0.6069791243187228,0.4223824309838147,0.8423595723635103,2.3980901509690193,-0.6415070968039709,-0.9975940538503272,-0.11550689048261797,2.0020036202933498,1.3662311734044508,0.479460223478841,0.5092066242214716,-1.5629385459288747,0.628865645676127,-0.7634899023056374,1.0248616097292713,1.6595211982791724,-2.0061602520171813,-0.7186614432370061,-0.4742543791027465,1.307551183314467,1.1743804854843325,0.7052145371823973,0.4799543593091343,-0.7009216406650326,-0.6746932653622134,-1.100313397740983,1.439377653494364,-0.31797347028181755,-0.874593483987904,1.909864020081642,1.3555632985489197,-1.5303080609636381,1.233317462598353,-0.06212854456042669,-1.83988537294752,0.5529455365082178,2.6805845051206223,-1.085617407002373,1.3827589034085064,1.4931540986489353,-1.830583458116591,2.2873533003201194,0.4538291090971322,-1.4015980942710253,-2.101484782143447,0.3850412422960206,-0.28960698710359245,-0.4010520642042657,1.2987085019055833,-0.6958314981432985,1.1722585020874166,-0.7857462390210691,1.5046211800677642,1.1521614492395316,1.104130661059711,-0.3180270974434549,-0.5170270701278834,-1.926258142950692,0.9116496592019908,0.16343145846718582,0.829446465394839,0.6912702589585954,-0.5780875528080383,-0.19423361876038497,-1.1404559525272475,0.36132644570637024,-0.06963216123953414,-0.21478317152142276,-2.1383624044570757,1.3604530205933243,-0.02833867735545919,1.0995634743246747,0.6372366447919425,-0.42141871269977116,0.7504607745939308,-0.4335204360951008,0.6529644865979116],\"yaxis\":\"y18\",\"type\":\"scatter\"},{\"histfunc\":\"count\",\"histnorm\":\"\",\"marker\":{\"color\":\"rgba(128, 0, 128, 1.0)\",\"line\":{\"color\":\"#4D5663\",\"width\":1.3}},\"name\":\"D\",\"nbinsx\":10,\"opacity\":0.8,\"orientation\":\"v\",\"x\":[-1.9198483031724256,-0.24329183540613608,0.6419997062319316,1.3521182772765474,0.5953524145895086,-0.3552352893647105,1.0915339646314302,0.6475280944502119,-0.774851217596859,-0.39637688379115565,-0.4230845617672878,0.22959960188263315,1.6948841348667674,1.1446841575735427,-2.2080553735626602,-0.30308059602206633,1.0806566946819762,-1.1216001403815672,-0.12520775316480504,1.3466925190085772,0.9462059084151903,0.8985744305856347,-1.64358228609394,0.6069791243187228,0.4223824309838147,0.8423595723635103,2.3980901509690193,-0.6415070968039709,-0.9975940538503272,-0.11550689048261797,2.0020036202933498,1.3662311734044508,0.479460223478841,0.5092066242214716,-1.5629385459288747,0.628865645676127,-0.7634899023056374,1.0248616097292713,1.6595211982791724,-2.0061602520171813,-0.7186614432370061,-0.4742543791027465,1.307551183314467,1.1743804854843325,0.7052145371823973,0.4799543593091343,-0.7009216406650326,-0.6746932653622134,-1.100313397740983,1.439377653494364,-0.31797347028181755,-0.874593483987904,1.909864020081642,1.3555632985489197,-1.5303080609636381,1.233317462598353,-0.06212854456042669,-1.83988537294752,0.5529455365082178,2.6805845051206223,-1.085617407002373,1.3827589034085064,1.4931540986489353,-1.830583458116591,2.2873533003201194,0.4538291090971322,-1.4015980942710253,-2.101484782143447,0.3850412422960206,-0.28960698710359245,-0.4010520642042657,1.2987085019055833,-0.6958314981432985,1.1722585020874166,-0.7857462390210691,1.5046211800677642,1.1521614492395316,1.104130661059711,-0.3180270974434549,-0.5170270701278834,-1.926258142950692,0.9116496592019908,0.16343145846718582,0.829446465394839,0.6912702589585954,-0.5780875528080383,-0.19423361876038497,-1.1404559525272475,0.36132644570637024,-0.06963216123953414,-0.21478317152142276,-2.1383624044570757,1.3604530205933243,-0.02833867735545919,1.0995634743246747,0.6372366447919425,-0.42141871269977116,0.7504607745939308,-0.4335204360951008,0.6529644865979116],\"xaxis\":\"x19\",\"yaxis\":\"y19\",\"type\":\"histogram\"},{\"line\":{\"color\":\"rgba(128, 128, 128, 1.0)\",\"dash\":\"solid\",\"shape\":\"linear\",\"width\":1.3},\"marker\":{\"size\":2,\"symbol\":\"circle\"},\"mode\":\"markers\",\"name\":\"D\",\"text\":\"\",\"x\":[-1.8839552638761043,-1.4222817243492196,0.2439336106390916,-0.3022115945065196,-1.1116255926474479,-0.13846855609245293,-0.6352316093943358,-1.6741868974608256,-1.0874216392138512,-1.727874886025039,0.6068689036503123,1.606811739024369,-0.7544366227941612,2.0380068491611185,-0.41478932093402,0.7142095505760002,-0.017473896869972794,-0.854025343130081,0.17112312466754392,2.5949210831298983,-0.3368952398061639,-0.5018141764171291,-0.2291538464895462,1.7865692974483998,-0.5194435804480518,0.06767539551418716,-0.09300004854212413,-1.2127175883760892,1.942643225757587,0.8878018149978713,-1.1809781153260683,0.2575919645669953,-0.6769032747176147,0.01014174877601857,2.885642130181955,-0.7049165847816975,-0.4967452753515838,-0.15303974924473007,1.62343094257325,0.30504135057356546,0.8135619495047793,0.13859734831440887,0.9409094898287858,-2.106150798000945,-0.9727829821770161,-0.49535544612192495,-1.3610308308674985,-1.8962982399982888,-0.7253845761849583,-0.7168960746976729,0.37029744211770654,0.8598123725308865,0.8461573465522495,-0.6046059434358252,-0.10992922641504047,-2.0891817672460156,-0.4063293893196075,0.2757867175136207,0.8774299519146228,-2.2757649437521903,-0.45757232015356514,-0.17936223143712166,0.17476001282787101,0.9290796655113206,-1.8732214794720277,1.242753534277087,0.1066039488907477,0.9433387503335581,1.6896852590146096,1.0510034273696693,1.6134414015773315,-1.8868368147054095,0.04411536657854227,1.4055080886554139,-0.4794134388164445,-0.8810855398463338,1.5117001240378032,-0.22294664515737564,-0.1304669186370773,0.37964353796601175,-0.5790014297236573,-0.6127310043576752,1.2031065883968466,0.16998909148348326,-0.06292258556163698,0.5494619741500407,-0.18506065027833485,-0.18448527937520084,-1.4254380406342864,-1.7079349491429474,-0.9371196134892642,0.7528973069243526,0.01649536172771896,0.7025745920667116,-1.5521217053670775,1.646999567576793,0.7663500834926468,-0.06438797934787864,-0.2584312528743698,0.300277201635679],\"xaxis\":\"x20\",\"y\":[-1.9198483031724256,-0.24329183540613608,0.6419997062319316,1.3521182772765474,0.5953524145895086,-0.3552352893647105,1.0915339646314302,0.6475280944502119,-0.774851217596859,-0.39637688379115565,-0.4230845617672878,0.22959960188263315,1.6948841348667674,1.1446841575735427,-2.2080553735626602,-0.30308059602206633,1.0806566946819762,-1.1216001403815672,-0.12520775316480504,1.3466925190085772,0.9462059084151903,0.8985744305856347,-1.64358228609394,0.6069791243187228,0.4223824309838147,0.8423595723635103,2.3980901509690193,-0.6415070968039709,-0.9975940538503272,-0.11550689048261797,2.0020036202933498,1.3662311734044508,0.479460223478841,0.5092066242214716,-1.5629385459288747,0.628865645676127,-0.7634899023056374,1.0248616097292713,1.6595211982791724,-2.0061602520171813,-0.7186614432370061,-0.4742543791027465,1.307551183314467,1.1743804854843325,0.7052145371823973,0.4799543593091343,-0.7009216406650326,-0.6746932653622134,-1.100313397740983,1.439377653494364,-0.31797347028181755,-0.874593483987904,1.909864020081642,1.3555632985489197,-1.5303080609636381,1.233317462598353,-0.06212854456042669,-1.83988537294752,0.5529455365082178,2.6805845051206223,-1.085617407002373,1.3827589034085064,1.4931540986489353,-1.830583458116591,2.2873533003201194,0.4538291090971322,-1.4015980942710253,-2.101484782143447,0.3850412422960206,-0.28960698710359245,-0.4010520642042657,1.2987085019055833,-0.6958314981432985,1.1722585020874166,-0.7857462390210691,1.5046211800677642,1.1521614492395316,1.104130661059711,-0.3180270974434549,-0.5170270701278834,-1.926258142950692,0.9116496592019908,0.16343145846718582,0.829446465394839,0.6912702589585954,-0.5780875528080383,-0.19423361876038497,-1.1404559525272475,0.36132644570637024,-0.06963216123953414,-0.21478317152142276,-2.1383624044570757,1.3604530205933243,-0.02833867735545919,1.0995634743246747,0.6372366447919425,-0.42141871269977116,0.7504607745939308,-0.4335204360951008,0.6529644865979116],\"yaxis\":\"y20\",\"type\":\"scatter\"},{\"line\":{\"color\":\"rgba(128, 128, 128, 1.0)\",\"dash\":\"solid\",\"shape\":\"linear\",\"width\":1.3},\"marker\":{\"size\":2,\"symbol\":\"circle\"},\"mode\":\"markers\",\"name\":\"E\",\"text\":\"\",\"x\":[-0.3335804497762339,0.00841020770573747,-0.2452486455726726,1.7550835292323625,-0.4124142608843169,0.08397452866741234,-1.3865662695296521,-0.5536159230768968,-0.6159733733331406,0.5351203760401979,0.6219906888015769,2.0936218973984544,0.44108665014911896,-0.416230235006025,0.9331183949846429,-0.7216605612758971,1.3390572677191115,0.6496069974394884,-0.7901367515093446,-0.3422059764483797,0.5373701215532392,1.7747753169553424,0.419529041757397,-0.10904889995774433,-2.0263048218045543,0.21622836105376003,-0.821922543917067,1.842131241717987,-1.265365165032051,0.8479452711578469,0.6156098386466577,0.15867622180468346,-1.238977024083961,0.7335419753028098,0.0512616782988629,1.4495571762852764,-0.4496751518589838,-0.330172000624211,-0.8929792515250653,2.205175209714804,-0.4538635156588506,2.2037334537380286,0.7417458154644216,-0.01924531610158195,0.5149129505912265,-0.8559027787490496,-1.2359804048231446,2.073959092442634,0.6912579520973061,-1.108283786227255,0.16942813801626458,-2.781043939921188,0.0885804145925267,-1.756318606323291,1.274483140059975,0.8438741973237249,1.043238681028487,0.8742390843303314,1.4704877215499943,-0.6540245721736407,-1.1275658316510941,0.8367878573651504,-0.7350001997710474,-0.11503001732679545,-0.1920425691420273,1.3367611859539756,0.31544010241881365,0.30833485067338146,-0.30446858143129724,0.09901607880407506,0.3280088371532466,0.3003499482732641,0.27812375549087964,-0.6621938785792102,0.5884359898684891,-1.4687335662247434,1.5961345007591994,-0.2519890600562586,1.5557835869903025,0.04462193969423287,0.15083076444693133,0.4082980181436096,-0.678370760026145,-0.0750391155180131,-1.0668798705652038,-0.9875792933502123,-2.7515517426231964,1.6668491718400256,-2.011343087200451,0.22068583475438497,1.0427267249140537,0.8666554855258551,1.4876746522797113,-0.12935479445954817,0.544861458818753,0.2590464861926635,-0.29858348018470654,1.0157638005717105,-1.2125999335057973,-0.7869056414224349],\"xaxis\":\"x21\",\"y\":[-1.8839552638761043,-1.4222817243492196,0.2439336106390916,-0.3022115945065196,-1.1116255926474479,-0.13846855609245293,-0.6352316093943358,-1.6741868974608256,-1.0874216392138512,-1.727874886025039,0.6068689036503123,1.606811739024369,-0.7544366227941612,2.0380068491611185,-0.41478932093402,0.7142095505760002,-0.017473896869972794,-0.854025343130081,0.17112312466754392,2.5949210831298983,-0.3368952398061639,-0.5018141764171291,-0.2291538464895462,1.7865692974483998,-0.5194435804480518,0.06767539551418716,-0.09300004854212413,-1.2127175883760892,1.942643225757587,0.8878018149978713,-1.1809781153260683,0.2575919645669953,-0.6769032747176147,0.01014174877601857,2.885642130181955,-0.7049165847816975,-0.4967452753515838,-0.15303974924473007,1.62343094257325,0.30504135057356546,0.8135619495047793,0.13859734831440887,0.9409094898287858,-2.106150798000945,-0.9727829821770161,-0.49535544612192495,-1.3610308308674985,-1.8962982399982888,-0.7253845761849583,-0.7168960746976729,0.37029744211770654,0.8598123725308865,0.8461573465522495,-0.6046059434358252,-0.10992922641504047,-2.0891817672460156,-0.4063293893196075,0.2757867175136207,0.8774299519146228,-2.2757649437521903,-0.45757232015356514,-0.17936223143712166,0.17476001282787101,0.9290796655113206,-1.8732214794720277,1.242753534277087,0.1066039488907477,0.9433387503335581,1.6896852590146096,1.0510034273696693,1.6134414015773315,-1.8868368147054095,0.04411536657854227,1.4055080886554139,-0.4794134388164445,-0.8810855398463338,1.5117001240378032,-0.22294664515737564,-0.1304669186370773,0.37964353796601175,-0.5790014297236573,-0.6127310043576752,1.2031065883968466,0.16998909148348326,-0.06292258556163698,0.5494619741500407,-0.18506065027833485,-0.18448527937520084,-1.4254380406342864,-1.7079349491429474,-0.9371196134892642,0.7528973069243526,0.01649536172771896,0.7025745920667116,-1.5521217053670775,1.646999567576793,0.7663500834926468,-0.06438797934787864,-0.2584312528743698,0.300277201635679],\"yaxis\":\"y21\",\"type\":\"scatter\"},{\"line\":{\"color\":\"rgba(128, 128, 128, 1.0)\",\"dash\":\"solid\",\"shape\":\"linear\",\"width\":1.3},\"marker\":{\"size\":2,\"symbol\":\"circle\"},\"mode\":\"markers\",\"name\":\"E\",\"text\":\"\",\"x\":[1.2656119006442414,0.11172189872330608,2.4441405083498084,0.021263530711874312,-0.09762074893880836,-2.841439832791632,0.3606689299126568,0.6100067499256379,0.46938226746429257,1.0409351529187922,-0.10530897127620471,-0.7839565480168238,1.312981092013129,0.9168981441738603,-0.45747230576020353,1.019246343752088,1.035506744391563,-0.2017921322897468,1.541948116644562,-0.8547194343811696,-0.5159114150487076,0.6205665175937206,-1.4708434724308213,-0.7028787223375108,0.4566743660520509,0.5175867306902976,2.307306044925076,0.6335984216611076,-1.169581749814845,-0.8049516945379682,0.8376752575918941,-0.7965999170117269,1.5701411435733117,0.010738407292215393,-1.9476656494682059,0.7994896822584975,0.9916380277779536,-0.8259760625515664,-0.7750424611682585,-1.000212958965001,-0.002153372965835309,1.1241098204562403,-0.8933357174684814,0.14031630340664777,0.7796311582424318,-2.545378779470004,-0.43196973909652,-0.11648151266855052,0.4066225349475821,1.5668326084368156,0.0285716881764873,1.3441761736057165,-0.5523062721586132,-0.7157409903930229,0.7327498495190612,0.30060721324231693,0.7133267785007691,0.19911508044327778,-0.19545960190474662,0.6853459741633252,-2.127835130345152,2.0218196475959336,2.1780440617017196,2.224401011317823,1.165437639520588,-0.14759125561131795,-0.8113337078873021,1.2284972728337857,-0.1894385534744078,-0.004967028126192879,-0.9774278378969505,0.9833612559553154,-0.23714912708878444,0.8726089987499858,-0.8389751407305852,0.3909661637510026,-1.1694495652685963,-1.9807748615515484,0.4096619399418116,1.1594638854247026,-1.0171361899301976,-1.0048963714697148,-0.36924529104358444,0.1286784085603135,0.7038172729883474,-0.9919135098509365,-0.29941507106034404,0.6134501808248138,-0.5951458647500463,0.254523959598943,0.24629150821694917,-1.3603994825182804,0.4749977182782207,-1.9947392736919967,3.508885086749131,0.9521474983011023,-0.421561079901927,1.686899295360436,-0.03997823528199046,-0.22909054223546957],\"xaxis\":\"x22\",\"y\":[-1.8839552638761043,-1.4222817243492196,0.2439336106390916,-0.3022115945065196,-1.1116255926474479,-0.13846855609245293,-0.6352316093943358,-1.6741868974608256,-1.0874216392138512,-1.727874886025039,0.6068689036503123,1.606811739024369,-0.7544366227941612,2.0380068491611185,-0.41478932093402,0.7142095505760002,-0.017473896869972794,-0.854025343130081,0.17112312466754392,2.5949210831298983,-0.3368952398061639,-0.5018141764171291,-0.2291538464895462,1.7865692974483998,-0.5194435804480518,0.06767539551418716,-0.09300004854212413,-1.2127175883760892,1.942643225757587,0.8878018149978713,-1.1809781153260683,0.2575919645669953,-0.6769032747176147,0.01014174877601857,2.885642130181955,-0.7049165847816975,-0.4967452753515838,-0.15303974924473007,1.62343094257325,0.30504135057356546,0.8135619495047793,0.13859734831440887,0.9409094898287858,-2.106150798000945,-0.9727829821770161,-0.49535544612192495,-1.3610308308674985,-1.8962982399982888,-0.7253845761849583,-0.7168960746976729,0.37029744211770654,0.8598123725308865,0.8461573465522495,-0.6046059434358252,-0.10992922641504047,-2.0891817672460156,-0.4063293893196075,0.2757867175136207,0.8774299519146228,-2.2757649437521903,-0.45757232015356514,-0.17936223143712166,0.17476001282787101,0.9290796655113206,-1.8732214794720277,1.242753534277087,0.1066039488907477,0.9433387503335581,1.6896852590146096,1.0510034273696693,1.6134414015773315,-1.8868368147054095,0.04411536657854227,1.4055080886554139,-0.4794134388164445,-0.8810855398463338,1.5117001240378032,-0.22294664515737564,-0.1304669186370773,0.37964353796601175,-0.5790014297236573,-0.6127310043576752,1.2031065883968466,0.16998909148348326,-0.06292258556163698,0.5494619741500407,-0.18506065027833485,-0.18448527937520084,-1.4254380406342864,-1.7079349491429474,-0.9371196134892642,0.7528973069243526,0.01649536172771896,0.7025745920667116,-1.5521217053670775,1.646999567576793,0.7663500834926468,-0.06438797934787864,-0.2584312528743698,0.300277201635679],\"yaxis\":\"y22\",\"type\":\"scatter\"},{\"line\":{\"color\":\"rgba(128, 128, 128, 1.0)\",\"dash\":\"solid\",\"shape\":\"linear\",\"width\":1.3},\"marker\":{\"size\":2,\"symbol\":\"circle\"},\"mode\":\"markers\",\"name\":\"E\",\"text\":\"\",\"x\":[0.8798245268512644,1.3570283033026354,1.9749121492940394,-1.053528469740966,-1.560386785340817,1.1388140116813792,0.18974961491421344,-0.5478264985107293,-1.1539249337613273,0.8874089996735028,-0.05691535188208471,0.7770129188124023,0.15309817166302805,0.16303265459883862,-1.4589565959752056,-1.7568132075093177,2.0863651523643836,-0.5709529842718767,0.8171735177928228,-0.9529735238883316,-1.4435332935187561,0.5291322365209097,0.590287111313805,2.0760558580311894,2.770519340679483,-1.6743154464994718,0.9909732859885614,1.4782185687998004,-0.09278257147140048,-0.20689856021378225,-0.060082151233758624,-0.4549282575190898,-2.798225397178623,-0.006120247766301646,-1.3445715700628214,-1.4466365769851819,0.2133185589128615,-0.32532507006367706,1.6286082407494962,0.3665395111067651,-0.8570393860081226,-0.5330012851626166,-0.7330412728606085,0.39520030272126844,-0.328970288722901,-2.291935837607325,-2.219382875606811,1.0050207754278548,0.8967059681804674,0.7728364986156984,-0.4455073981285349,-0.7256203081566854,-0.1305693944777659,-1.3713800857013108,-1.8091829986953307,-0.23298256037994072,-1.8533887856146967,0.1721245840219928,-1.2813291019196724,0.43920160088386334,1.2497325365573007,-0.11020114414414621,0.005641545615314567,1.0288602893831988,0.4220034532490604,-1.2565242509824988,-2.0769825586982384,-0.03699527667130005,1.523715050790172,2.0276688810134633,-0.06060921744804393,-0.16764490626620826,-0.2254354082608133,0.12847522766802005,0.377071749142011,-1.2976063331996661,-0.6617309172668501,0.37072944613045744,0.7758699379596998,-0.6732095691953305,0.9252587961467202,0.9267484968797207,1.105761853017902,-2.444709796114457,0.07499096243692296,0.5693211122386654,-0.652432465524865,0.6588139565638953,0.018531855504759765,-1.0137255385987984,1.2993924328191087,-1.4653956133450676,0.6497028563590997,1.8499967179996188,1.946063550070373,-0.8016185890292232,1.0382047761068196,-0.3194117889309226,0.33599136356301956,0.7741509723290858],\"xaxis\":\"x23\",\"y\":[-1.8839552638761043,-1.4222817243492196,0.2439336106390916,-0.3022115945065196,-1.1116255926474479,-0.13846855609245293,-0.6352316093943358,-1.6741868974608256,-1.0874216392138512,-1.727874886025039,0.6068689036503123,1.606811739024369,-0.7544366227941612,2.0380068491611185,-0.41478932093402,0.7142095505760002,-0.017473896869972794,-0.854025343130081,0.17112312466754392,2.5949210831298983,-0.3368952398061639,-0.5018141764171291,-0.2291538464895462,1.7865692974483998,-0.5194435804480518,0.06767539551418716,-0.09300004854212413,-1.2127175883760892,1.942643225757587,0.8878018149978713,-1.1809781153260683,0.2575919645669953,-0.6769032747176147,0.01014174877601857,2.885642130181955,-0.7049165847816975,-0.4967452753515838,-0.15303974924473007,1.62343094257325,0.30504135057356546,0.8135619495047793,0.13859734831440887,0.9409094898287858,-2.106150798000945,-0.9727829821770161,-0.49535544612192495,-1.3610308308674985,-1.8962982399982888,-0.7253845761849583,-0.7168960746976729,0.37029744211770654,0.8598123725308865,0.8461573465522495,-0.6046059434358252,-0.10992922641504047,-2.0891817672460156,-0.4063293893196075,0.2757867175136207,0.8774299519146228,-2.2757649437521903,-0.45757232015356514,-0.17936223143712166,0.17476001282787101,0.9290796655113206,-1.8732214794720277,1.242753534277087,0.1066039488907477,0.9433387503335581,1.6896852590146096,1.0510034273696693,1.6134414015773315,-1.8868368147054095,0.04411536657854227,1.4055080886554139,-0.4794134388164445,-0.8810855398463338,1.5117001240378032,-0.22294664515737564,-0.1304669186370773,0.37964353796601175,-0.5790014297236573,-0.6127310043576752,1.2031065883968466,0.16998909148348326,-0.06292258556163698,0.5494619741500407,-0.18506065027833485,-0.18448527937520084,-1.4254380406342864,-1.7079349491429474,-0.9371196134892642,0.7528973069243526,0.01649536172771896,0.7025745920667116,-1.5521217053670775,1.646999567576793,0.7663500834926468,-0.06438797934787864,-0.2584312528743698,0.300277201635679],\"yaxis\":\"y23\",\"type\":\"scatter\"},{\"line\":{\"color\":\"rgba(128, 128, 128, 1.0)\",\"dash\":\"solid\",\"shape\":\"linear\",\"width\":1.3},\"marker\":{\"size\":2,\"symbol\":\"circle\"},\"mode\":\"markers\",\"name\":\"E\",\"text\":\"\",\"x\":[-1.9198483031724256,-0.24329183540613608,0.6419997062319316,1.3521182772765474,0.5953524145895086,-0.3552352893647105,1.0915339646314302,0.6475280944502119,-0.774851217596859,-0.39637688379115565,-0.4230845617672878,0.22959960188263315,1.6948841348667674,1.1446841575735427,-2.2080553735626602,-0.30308059602206633,1.0806566946819762,-1.1216001403815672,-0.12520775316480504,1.3466925190085772,0.9462059084151903,0.8985744305856347,-1.64358228609394,0.6069791243187228,0.4223824309838147,0.8423595723635103,2.3980901509690193,-0.6415070968039709,-0.9975940538503272,-0.11550689048261797,2.0020036202933498,1.3662311734044508,0.479460223478841,0.5092066242214716,-1.5629385459288747,0.628865645676127,-0.7634899023056374,1.0248616097292713,1.6595211982791724,-2.0061602520171813,-0.7186614432370061,-0.4742543791027465,1.307551183314467,1.1743804854843325,0.7052145371823973,0.4799543593091343,-0.7009216406650326,-0.6746932653622134,-1.100313397740983,1.439377653494364,-0.31797347028181755,-0.874593483987904,1.909864020081642,1.3555632985489197,-1.5303080609636381,1.233317462598353,-0.06212854456042669,-1.83988537294752,0.5529455365082178,2.6805845051206223,-1.085617407002373,1.3827589034085064,1.4931540986489353,-1.830583458116591,2.2873533003201194,0.4538291090971322,-1.4015980942710253,-2.101484782143447,0.3850412422960206,-0.28960698710359245,-0.4010520642042657,1.2987085019055833,-0.6958314981432985,1.1722585020874166,-0.7857462390210691,1.5046211800677642,1.1521614492395316,1.104130661059711,-0.3180270974434549,-0.5170270701278834,-1.926258142950692,0.9116496592019908,0.16343145846718582,0.829446465394839,0.6912702589585954,-0.5780875528080383,-0.19423361876038497,-1.1404559525272475,0.36132644570637024,-0.06963216123953414,-0.21478317152142276,-2.1383624044570757,1.3604530205933243,-0.02833867735545919,1.0995634743246747,0.6372366447919425,-0.42141871269977116,0.7504607745939308,-0.4335204360951008,0.6529644865979116],\"xaxis\":\"x24\",\"y\":[-1.8839552638761043,-1.4222817243492196,0.2439336106390916,-0.3022115945065196,-1.1116255926474479,-0.13846855609245293,-0.6352316093943358,-1.6741868974608256,-1.0874216392138512,-1.727874886025039,0.6068689036503123,1.606811739024369,-0.7544366227941612,2.0380068491611185,-0.41478932093402,0.7142095505760002,-0.017473896869972794,-0.854025343130081,0.17112312466754392,2.5949210831298983,-0.3368952398061639,-0.5018141764171291,-0.2291538464895462,1.7865692974483998,-0.5194435804480518,0.06767539551418716,-0.09300004854212413,-1.2127175883760892,1.942643225757587,0.8878018149978713,-1.1809781153260683,0.2575919645669953,-0.6769032747176147,0.01014174877601857,2.885642130181955,-0.7049165847816975,-0.4967452753515838,-0.15303974924473007,1.62343094257325,0.30504135057356546,0.8135619495047793,0.13859734831440887,0.9409094898287858,-2.106150798000945,-0.9727829821770161,-0.49535544612192495,-1.3610308308674985,-1.8962982399982888,-0.7253845761849583,-0.7168960746976729,0.37029744211770654,0.8598123725308865,0.8461573465522495,-0.6046059434358252,-0.10992922641504047,-2.0891817672460156,-0.4063293893196075,0.2757867175136207,0.8774299519146228,-2.2757649437521903,-0.45757232015356514,-0.17936223143712166,0.17476001282787101,0.9290796655113206,-1.8732214794720277,1.242753534277087,0.1066039488907477,0.9433387503335581,1.6896852590146096,1.0510034273696693,1.6134414015773315,-1.8868368147054095,0.04411536657854227,1.4055080886554139,-0.4794134388164445,-0.8810855398463338,1.5117001240378032,-0.22294664515737564,-0.1304669186370773,0.37964353796601175,-0.5790014297236573,-0.6127310043576752,1.2031065883968466,0.16998909148348326,-0.06292258556163698,0.5494619741500407,-0.18506065027833485,-0.18448527937520084,-1.4254380406342864,-1.7079349491429474,-0.9371196134892642,0.7528973069243526,0.01649536172771896,0.7025745920667116,-1.5521217053670775,1.646999567576793,0.7663500834926468,-0.06438797934787864,-0.2584312528743698,0.300277201635679],\"yaxis\":\"y24\",\"type\":\"scatter\"},{\"histfunc\":\"count\",\"histnorm\":\"\",\"marker\":{\"color\":\"rgba(219, 64, 82, 1.0)\",\"line\":{\"color\":\"#4D5663\",\"width\":1.3}},\"name\":\"E\",\"nbinsx\":10,\"opacity\":0.8,\"orientation\":\"v\",\"x\":[-1.8839552638761043,-1.4222817243492196,0.2439336106390916,-0.3022115945065196,-1.1116255926474479,-0.13846855609245293,-0.6352316093943358,-1.6741868974608256,-1.0874216392138512,-1.727874886025039,0.6068689036503123,1.606811739024369,-0.7544366227941612,2.0380068491611185,-0.41478932093402,0.7142095505760002,-0.017473896869972794,-0.854025343130081,0.17112312466754392,2.5949210831298983,-0.3368952398061639,-0.5018141764171291,-0.2291538464895462,1.7865692974483998,-0.5194435804480518,0.06767539551418716,-0.09300004854212413,-1.2127175883760892,1.942643225757587,0.8878018149978713,-1.1809781153260683,0.2575919645669953,-0.6769032747176147,0.01014174877601857,2.885642130181955,-0.7049165847816975,-0.4967452753515838,-0.15303974924473007,1.62343094257325,0.30504135057356546,0.8135619495047793,0.13859734831440887,0.9409094898287858,-2.106150798000945,-0.9727829821770161,-0.49535544612192495,-1.3610308308674985,-1.8962982399982888,-0.7253845761849583,-0.7168960746976729,0.37029744211770654,0.8598123725308865,0.8461573465522495,-0.6046059434358252,-0.10992922641504047,-2.0891817672460156,-0.4063293893196075,0.2757867175136207,0.8774299519146228,-2.2757649437521903,-0.45757232015356514,-0.17936223143712166,0.17476001282787101,0.9290796655113206,-1.8732214794720277,1.242753534277087,0.1066039488907477,0.9433387503335581,1.6896852590146096,1.0510034273696693,1.6134414015773315,-1.8868368147054095,0.04411536657854227,1.4055080886554139,-0.4794134388164445,-0.8810855398463338,1.5117001240378032,-0.22294664515737564,-0.1304669186370773,0.37964353796601175,-0.5790014297236573,-0.6127310043576752,1.2031065883968466,0.16998909148348326,-0.06292258556163698,0.5494619741500407,-0.18506065027833485,-0.18448527937520084,-1.4254380406342864,-1.7079349491429474,-0.9371196134892642,0.7528973069243526,0.01649536172771896,0.7025745920667116,-1.5521217053670775,1.646999567576793,0.7663500834926468,-0.06438797934787864,-0.2584312528743698,0.300277201635679],\"xaxis\":\"x25\",\"yaxis\":\"y25\",\"type\":\"histogram\"}],                        {\"bargap\":0.02,\"legend\":{\"bgcolor\":\"#F5F6F9\",\"font\":{\"color\":\"#4D5663\"}},\"paper_bgcolor\":\"#F5F6F9\",\"plot_bgcolor\":\"#F5F6F9\",\"showlegend\":false,\"template\":{\"data\":{\"barpolar\":[{\"marker\":{\"line\":{\"color\":\"#E5ECF6\",\"width\":0.5},\"pattern\":{\"fillmode\":\"overlay\",\"size\":10,\"solidity\":0.2}},\"type\":\"barpolar\"}],\"bar\":[{\"error_x\":{\"color\":\"#2a3f5f\"},\"error_y\":{\"color\":\"#2a3f5f\"},\"marker\":{\"line\":{\"color\":\"#E5ECF6\",\"width\":0.5},\"pattern\":{\"fillmode\":\"overlay\",\"size\":10,\"solidity\":0.2}},\"type\":\"bar\"}],\"carpet\":[{\"aaxis\":{\"endlinecolor\":\"#2a3f5f\",\"gridcolor\":\"white\",\"linecolor\":\"white\",\"minorgridcolor\":\"white\",\"startlinecolor\":\"#2a3f5f\"},\"baxis\":{\"endlinecolor\":\"#2a3f5f\",\"gridcolor\":\"white\",\"linecolor\":\"white\",\"minorgridcolor\":\"white\",\"startlinecolor\":\"#2a3f5f\"},\"type\":\"carpet\"}],\"choropleth\":[{\"colorbar\":{\"outlinewidth\":0,\"ticks\":\"\"},\"type\":\"choropleth\"}],\"contourcarpet\":[{\"colorbar\":{\"outlinewidth\":0,\"ticks\":\"\"},\"type\":\"contourcarpet\"}],\"contour\":[{\"colorbar\":{\"outlinewidth\":0,\"ticks\":\"\"},\"colorscale\":[[0.0,\"#0d0887\"],[0.1111111111111111,\"#46039f\"],[0.2222222222222222,\"#7201a8\"],[0.3333333333333333,\"#9c179e\"],[0.4444444444444444,\"#bd3786\"],[0.5555555555555556,\"#d8576b\"],[0.6666666666666666,\"#ed7953\"],[0.7777777777777778,\"#fb9f3a\"],[0.8888888888888888,\"#fdca26\"],[1.0,\"#f0f921\"]],\"type\":\"contour\"}],\"heatmapgl\":[{\"colorbar\":{\"outlinewidth\":0,\"ticks\":\"\"},\"colorscale\":[[0.0,\"#0d0887\"],[0.1111111111111111,\"#46039f\"],[0.2222222222222222,\"#7201a8\"],[0.3333333333333333,\"#9c179e\"],[0.4444444444444444,\"#bd3786\"],[0.5555555555555556,\"#d8576b\"],[0.6666666666666666,\"#ed7953\"],[0.7777777777777778,\"#fb9f3a\"],[0.8888888888888888,\"#fdca26\"],[1.0,\"#f0f921\"]],\"type\":\"heatmapgl\"}],\"heatmap\":[{\"colorbar\":{\"outlinewidth\":0,\"ticks\":\"\"},\"colorscale\":[[0.0,\"#0d0887\"],[0.1111111111111111,\"#46039f\"],[0.2222222222222222,\"#7201a8\"],[0.3333333333333333,\"#9c179e\"],[0.4444444444444444,\"#bd3786\"],[0.5555555555555556,\"#d8576b\"],[0.6666666666666666,\"#ed7953\"],[0.7777777777777778,\"#fb9f3a\"],[0.8888888888888888,\"#fdca26\"],[1.0,\"#f0f921\"]],\"type\":\"heatmap\"}],\"histogram2dcontour\":[{\"colorbar\":{\"outlinewidth\":0,\"ticks\":\"\"},\"colorscale\":[[0.0,\"#0d0887\"],[0.1111111111111111,\"#46039f\"],[0.2222222222222222,\"#7201a8\"],[0.3333333333333333,\"#9c179e\"],[0.4444444444444444,\"#bd3786\"],[0.5555555555555556,\"#d8576b\"],[0.6666666666666666,\"#ed7953\"],[0.7777777777777778,\"#fb9f3a\"],[0.8888888888888888,\"#fdca26\"],[1.0,\"#f0f921\"]],\"type\":\"histogram2dcontour\"}],\"histogram2d\":[{\"colorbar\":{\"outlinewidth\":0,\"ticks\":\"\"},\"colorscale\":[[0.0,\"#0d0887\"],[0.1111111111111111,\"#46039f\"],[0.2222222222222222,\"#7201a8\"],[0.3333333333333333,\"#9c179e\"],[0.4444444444444444,\"#bd3786\"],[0.5555555555555556,\"#d8576b\"],[0.6666666666666666,\"#ed7953\"],[0.7777777777777778,\"#fb9f3a\"],[0.8888888888888888,\"#fdca26\"],[1.0,\"#f0f921\"]],\"type\":\"histogram2d\"}],\"histogram\":[{\"marker\":{\"pattern\":{\"fillmode\":\"overlay\",\"size\":10,\"solidity\":0.2}},\"type\":\"histogram\"}],\"mesh3d\":[{\"colorbar\":{\"outlinewidth\":0,\"ticks\":\"\"},\"type\":\"mesh3d\"}],\"parcoords\":[{\"line\":{\"colorbar\":{\"outlinewidth\":0,\"ticks\":\"\"}},\"type\":\"parcoords\"}],\"pie\":[{\"automargin\":true,\"type\":\"pie\"}],\"scatter3d\":[{\"line\":{\"colorbar\":{\"outlinewidth\":0,\"ticks\":\"\"}},\"marker\":{\"colorbar\":{\"outlinewidth\":0,\"ticks\":\"\"}},\"type\":\"scatter3d\"}],\"scattercarpet\":[{\"marker\":{\"colorbar\":{\"outlinewidth\":0,\"ticks\":\"\"}},\"type\":\"scattercarpet\"}],\"scattergeo\":[{\"marker\":{\"colorbar\":{\"outlinewidth\":0,\"ticks\":\"\"}},\"type\":\"scattergeo\"}],\"scattergl\":[{\"marker\":{\"colorbar\":{\"outlinewidth\":0,\"ticks\":\"\"}},\"type\":\"scattergl\"}],\"scattermapbox\":[{\"marker\":{\"colorbar\":{\"outlinewidth\":0,\"ticks\":\"\"}},\"type\":\"scattermapbox\"}],\"scatterpolargl\":[{\"marker\":{\"colorbar\":{\"outlinewidth\":0,\"ticks\":\"\"}},\"type\":\"scatterpolargl\"}],\"scatterpolar\":[{\"marker\":{\"colorbar\":{\"outlinewidth\":0,\"ticks\":\"\"}},\"type\":\"scatterpolar\"}],\"scatter\":[{\"fillpattern\":{\"fillmode\":\"overlay\",\"size\":10,\"solidity\":0.2},\"type\":\"scatter\"}],\"scatterternary\":[{\"marker\":{\"colorbar\":{\"outlinewidth\":0,\"ticks\":\"\"}},\"type\":\"scatterternary\"}],\"surface\":[{\"colorbar\":{\"outlinewidth\":0,\"ticks\":\"\"},\"colorscale\":[[0.0,\"#0d0887\"],[0.1111111111111111,\"#46039f\"],[0.2222222222222222,\"#7201a8\"],[0.3333333333333333,\"#9c179e\"],[0.4444444444444444,\"#bd3786\"],[0.5555555555555556,\"#d8576b\"],[0.6666666666666666,\"#ed7953\"],[0.7777777777777778,\"#fb9f3a\"],[0.8888888888888888,\"#fdca26\"],[1.0,\"#f0f921\"]],\"type\":\"surface\"}],\"table\":[{\"cells\":{\"fill\":{\"color\":\"#EBF0F8\"},\"line\":{\"color\":\"white\"}},\"header\":{\"fill\":{\"color\":\"#C8D4E3\"},\"line\":{\"color\":\"white\"}},\"type\":\"table\"}]},\"layout\":{\"annotationdefaults\":{\"arrowcolor\":\"#2a3f5f\",\"arrowhead\":0,\"arrowwidth\":1},\"autotypenumbers\":\"strict\",\"coloraxis\":{\"colorbar\":{\"outlinewidth\":0,\"ticks\":\"\"}},\"colorscale\":{\"diverging\":[[0,\"#8e0152\"],[0.1,\"#c51b7d\"],[0.2,\"#de77ae\"],[0.3,\"#f1b6da\"],[0.4,\"#fde0ef\"],[0.5,\"#f7f7f7\"],[0.6,\"#e6f5d0\"],[0.7,\"#b8e186\"],[0.8,\"#7fbc41\"],[0.9,\"#4d9221\"],[1,\"#276419\"]],\"sequential\":[[0.0,\"#0d0887\"],[0.1111111111111111,\"#46039f\"],[0.2222222222222222,\"#7201a8\"],[0.3333333333333333,\"#9c179e\"],[0.4444444444444444,\"#bd3786\"],[0.5555555555555556,\"#d8576b\"],[0.6666666666666666,\"#ed7953\"],[0.7777777777777778,\"#fb9f3a\"],[0.8888888888888888,\"#fdca26\"],[1.0,\"#f0f921\"]],\"sequentialminus\":[[0.0,\"#0d0887\"],[0.1111111111111111,\"#46039f\"],[0.2222222222222222,\"#7201a8\"],[0.3333333333333333,\"#9c179e\"],[0.4444444444444444,\"#bd3786\"],[0.5555555555555556,\"#d8576b\"],[0.6666666666666666,\"#ed7953\"],[0.7777777777777778,\"#fb9f3a\"],[0.8888888888888888,\"#fdca26\"],[1.0,\"#f0f921\"]]},\"colorway\":[\"#636efa\",\"#EF553B\",\"#00cc96\",\"#ab63fa\",\"#FFA15A\",\"#19d3f3\",\"#FF6692\",\"#B6E880\",\"#FF97FF\",\"#FECB52\"],\"font\":{\"color\":\"#2a3f5f\"},\"geo\":{\"bgcolor\":\"white\",\"lakecolor\":\"white\",\"landcolor\":\"#E5ECF6\",\"showlakes\":true,\"showland\":true,\"subunitcolor\":\"white\"},\"hoverlabel\":{\"align\":\"left\"},\"hovermode\":\"closest\",\"mapbox\":{\"style\":\"light\"},\"paper_bgcolor\":\"white\",\"plot_bgcolor\":\"#E5ECF6\",\"polar\":{\"angularaxis\":{\"gridcolor\":\"white\",\"linecolor\":\"white\",\"ticks\":\"\"},\"bgcolor\":\"#E5ECF6\",\"radialaxis\":{\"gridcolor\":\"white\",\"linecolor\":\"white\",\"ticks\":\"\"}},\"scene\":{\"xaxis\":{\"backgroundcolor\":\"#E5ECF6\",\"gridcolor\":\"white\",\"gridwidth\":2,\"linecolor\":\"white\",\"showbackground\":true,\"ticks\":\"\",\"zerolinecolor\":\"white\"},\"yaxis\":{\"backgroundcolor\":\"#E5ECF6\",\"gridcolor\":\"white\",\"gridwidth\":2,\"linecolor\":\"white\",\"showbackground\":true,\"ticks\":\"\",\"zerolinecolor\":\"white\"},\"zaxis\":{\"backgroundcolor\":\"#E5ECF6\",\"gridcolor\":\"white\",\"gridwidth\":2,\"linecolor\":\"white\",\"showbackground\":true,\"ticks\":\"\",\"zerolinecolor\":\"white\"}},\"shapedefaults\":{\"line\":{\"color\":\"#2a3f5f\"}},\"ternary\":{\"aaxis\":{\"gridcolor\":\"white\",\"linecolor\":\"white\",\"ticks\":\"\"},\"baxis\":{\"gridcolor\":\"white\",\"linecolor\":\"white\",\"ticks\":\"\"},\"bgcolor\":\"#E5ECF6\",\"caxis\":{\"gridcolor\":\"white\",\"linecolor\":\"white\",\"ticks\":\"\"}},\"title\":{\"x\":0.05},\"xaxis\":{\"automargin\":true,\"gridcolor\":\"white\",\"linecolor\":\"white\",\"ticks\":\"\",\"title\":{\"standoff\":15},\"zerolinecolor\":\"white\",\"zerolinewidth\":2},\"yaxis\":{\"automargin\":true,\"gridcolor\":\"white\",\"linecolor\":\"white\",\"ticks\":\"\",\"title\":{\"standoff\":15},\"zerolinecolor\":\"white\",\"zerolinewidth\":2}}},\"title\":{\"font\":{\"color\":\"#4D5663\"}},\"xaxis\":{\"anchor\":\"y\",\"domain\":[0.0,0.16],\"gridcolor\":\"#E1E5ED\",\"showgrid\":false,\"tickfont\":{\"color\":\"#4D5663\"},\"title\":{\"font\":{\"color\":\"#4D5663\"},\"text\":\"\"},\"zerolinecolor\":\"#E1E5ED\"},\"yaxis\":{\"anchor\":\"x\",\"domain\":[0.856,1.0],\"gridcolor\":\"#E1E5ED\",\"showgrid\":false,\"tickfont\":{\"color\":\"#4D5663\"},\"title\":{\"font\":{\"color\":\"#4D5663\"},\"text\":\"\"},\"zerolinecolor\":\"#E1E5ED\"},\"xaxis2\":{\"anchor\":\"y2\",\"domain\":[0.21000000000000002,0.37],\"gridcolor\":\"#E1E5ED\",\"showgrid\":false,\"tickfont\":{\"color\":\"#4D5663\"},\"title\":{\"font\":{\"color\":\"#4D5663\"},\"text\":\"\"},\"zerolinecolor\":\"#E1E5ED\"},\"yaxis2\":{\"anchor\":\"x2\",\"domain\":[0.856,1.0],\"gridcolor\":\"#E1E5ED\",\"showgrid\":false,\"tickfont\":{\"color\":\"#4D5663\"},\"title\":{\"font\":{\"color\":\"#4D5663\"},\"text\":\"\"},\"zerolinecolor\":\"#E1E5ED\"},\"xaxis3\":{\"anchor\":\"y3\",\"domain\":[0.42000000000000004,0.5800000000000001],\"gridcolor\":\"#E1E5ED\",\"showgrid\":false,\"tickfont\":{\"color\":\"#4D5663\"},\"title\":{\"font\":{\"color\":\"#4D5663\"},\"text\":\"\"},\"zerolinecolor\":\"#E1E5ED\"},\"yaxis3\":{\"anchor\":\"x3\",\"domain\":[0.856,1.0],\"gridcolor\":\"#E1E5ED\",\"showgrid\":false,\"tickfont\":{\"color\":\"#4D5663\"},\"title\":{\"font\":{\"color\":\"#4D5663\"},\"text\":\"\"},\"zerolinecolor\":\"#E1E5ED\"},\"xaxis4\":{\"anchor\":\"y4\",\"domain\":[0.63,0.79],\"gridcolor\":\"#E1E5ED\",\"showgrid\":false,\"tickfont\":{\"color\":\"#4D5663\"},\"title\":{\"font\":{\"color\":\"#4D5663\"},\"text\":\"\"},\"zerolinecolor\":\"#E1E5ED\"},\"yaxis4\":{\"anchor\":\"x4\",\"domain\":[0.856,1.0],\"gridcolor\":\"#E1E5ED\",\"showgrid\":false,\"tickfont\":{\"color\":\"#4D5663\"},\"title\":{\"font\":{\"color\":\"#4D5663\"},\"text\":\"\"},\"zerolinecolor\":\"#E1E5ED\"},\"xaxis5\":{\"anchor\":\"y5\",\"domain\":[0.8400000000000001,1.0],\"gridcolor\":\"#E1E5ED\",\"showgrid\":false,\"tickfont\":{\"color\":\"#4D5663\"},\"title\":{\"font\":{\"color\":\"#4D5663\"},\"text\":\"\"},\"zerolinecolor\":\"#E1E5ED\"},\"yaxis5\":{\"anchor\":\"x5\",\"domain\":[0.856,1.0],\"gridcolor\":\"#E1E5ED\",\"showgrid\":false,\"tickfont\":{\"color\":\"#4D5663\"},\"title\":{\"font\":{\"color\":\"#4D5663\"},\"text\":\"\"},\"zerolinecolor\":\"#E1E5ED\"},\"xaxis6\":{\"anchor\":\"y6\",\"domain\":[0.0,0.16],\"gridcolor\":\"#E1E5ED\",\"showgrid\":false,\"tickfont\":{\"color\":\"#4D5663\"},\"title\":{\"font\":{\"color\":\"#4D5663\"},\"text\":\"\"},\"zerolinecolor\":\"#E1E5ED\"},\"yaxis6\":{\"anchor\":\"x6\",\"domain\":[0.6419999999999999,0.7859999999999999],\"gridcolor\":\"#E1E5ED\",\"showgrid\":false,\"tickfont\":{\"color\":\"#4D5663\"},\"title\":{\"font\":{\"color\":\"#4D5663\"},\"text\":\"\"},\"zerolinecolor\":\"#E1E5ED\"},\"xaxis7\":{\"anchor\":\"y7\",\"domain\":[0.21000000000000002,0.37],\"gridcolor\":\"#E1E5ED\",\"showgrid\":false,\"tickfont\":{\"color\":\"#4D5663\"},\"title\":{\"font\":{\"color\":\"#4D5663\"},\"text\":\"\"},\"zerolinecolor\":\"#E1E5ED\"},\"yaxis7\":{\"anchor\":\"x7\",\"domain\":[0.6419999999999999,0.7859999999999999],\"gridcolor\":\"#E1E5ED\",\"showgrid\":false,\"tickfont\":{\"color\":\"#4D5663\"},\"title\":{\"font\":{\"color\":\"#4D5663\"},\"text\":\"\"},\"zerolinecolor\":\"#E1E5ED\"},\"xaxis8\":{\"anchor\":\"y8\",\"domain\":[0.42000000000000004,0.5800000000000001],\"gridcolor\":\"#E1E5ED\",\"showgrid\":false,\"tickfont\":{\"color\":\"#4D5663\"},\"title\":{\"font\":{\"color\":\"#4D5663\"},\"text\":\"\"},\"zerolinecolor\":\"#E1E5ED\"},\"yaxis8\":{\"anchor\":\"x8\",\"domain\":[0.6419999999999999,0.7859999999999999],\"gridcolor\":\"#E1E5ED\",\"showgrid\":false,\"tickfont\":{\"color\":\"#4D5663\"},\"title\":{\"font\":{\"color\":\"#4D5663\"},\"text\":\"\"},\"zerolinecolor\":\"#E1E5ED\"},\"xaxis9\":{\"anchor\":\"y9\",\"domain\":[0.63,0.79],\"gridcolor\":\"#E1E5ED\",\"showgrid\":false,\"tickfont\":{\"color\":\"#4D5663\"},\"title\":{\"font\":{\"color\":\"#4D5663\"},\"text\":\"\"},\"zerolinecolor\":\"#E1E5ED\"},\"yaxis9\":{\"anchor\":\"x9\",\"domain\":[0.6419999999999999,0.7859999999999999],\"gridcolor\":\"#E1E5ED\",\"showgrid\":false,\"tickfont\":{\"color\":\"#4D5663\"},\"title\":{\"font\":{\"color\":\"#4D5663\"},\"text\":\"\"},\"zerolinecolor\":\"#E1E5ED\"},\"xaxis10\":{\"anchor\":\"y10\",\"domain\":[0.8400000000000001,1.0],\"gridcolor\":\"#E1E5ED\",\"showgrid\":false,\"tickfont\":{\"color\":\"#4D5663\"},\"title\":{\"font\":{\"color\":\"#4D5663\"},\"text\":\"\"},\"zerolinecolor\":\"#E1E5ED\"},\"yaxis10\":{\"anchor\":\"x10\",\"domain\":[0.6419999999999999,0.7859999999999999],\"gridcolor\":\"#E1E5ED\",\"showgrid\":false,\"tickfont\":{\"color\":\"#4D5663\"},\"title\":{\"font\":{\"color\":\"#4D5663\"},\"text\":\"\"},\"zerolinecolor\":\"#E1E5ED\"},\"xaxis11\":{\"anchor\":\"y11\",\"domain\":[0.0,0.16],\"gridcolor\":\"#E1E5ED\",\"showgrid\":false,\"tickfont\":{\"color\":\"#4D5663\"},\"title\":{\"font\":{\"color\":\"#4D5663\"},\"text\":\"\"},\"zerolinecolor\":\"#E1E5ED\"},\"yaxis11\":{\"anchor\":\"x11\",\"domain\":[0.428,0.572],\"gridcolor\":\"#E1E5ED\",\"showgrid\":false,\"tickfont\":{\"color\":\"#4D5663\"},\"title\":{\"font\":{\"color\":\"#4D5663\"},\"text\":\"\"},\"zerolinecolor\":\"#E1E5ED\"},\"xaxis12\":{\"anchor\":\"y12\",\"domain\":[0.21000000000000002,0.37],\"gridcolor\":\"#E1E5ED\",\"showgrid\":false,\"tickfont\":{\"color\":\"#4D5663\"},\"title\":{\"font\":{\"color\":\"#4D5663\"},\"text\":\"\"},\"zerolinecolor\":\"#E1E5ED\"},\"yaxis12\":{\"anchor\":\"x12\",\"domain\":[0.428,0.572],\"gridcolor\":\"#E1E5ED\",\"showgrid\":false,\"tickfont\":{\"color\":\"#4D5663\"},\"title\":{\"font\":{\"color\":\"#4D5663\"},\"text\":\"\"},\"zerolinecolor\":\"#E1E5ED\"},\"xaxis13\":{\"anchor\":\"y13\",\"domain\":[0.42000000000000004,0.5800000000000001],\"gridcolor\":\"#E1E5ED\",\"showgrid\":false,\"tickfont\":{\"color\":\"#4D5663\"},\"title\":{\"font\":{\"color\":\"#4D5663\"},\"text\":\"\"},\"zerolinecolor\":\"#E1E5ED\"},\"yaxis13\":{\"anchor\":\"x13\",\"domain\":[0.428,0.572],\"gridcolor\":\"#E1E5ED\",\"showgrid\":false,\"tickfont\":{\"color\":\"#4D5663\"},\"title\":{\"font\":{\"color\":\"#4D5663\"},\"text\":\"\"},\"zerolinecolor\":\"#E1E5ED\"},\"xaxis14\":{\"anchor\":\"y14\",\"domain\":[0.63,0.79],\"gridcolor\":\"#E1E5ED\",\"showgrid\":false,\"tickfont\":{\"color\":\"#4D5663\"},\"title\":{\"font\":{\"color\":\"#4D5663\"},\"text\":\"\"},\"zerolinecolor\":\"#E1E5ED\"},\"yaxis14\":{\"anchor\":\"x14\",\"domain\":[0.428,0.572],\"gridcolor\":\"#E1E5ED\",\"showgrid\":false,\"tickfont\":{\"color\":\"#4D5663\"},\"title\":{\"font\":{\"color\":\"#4D5663\"},\"text\":\"\"},\"zerolinecolor\":\"#E1E5ED\"},\"xaxis15\":{\"anchor\":\"y15\",\"domain\":[0.8400000000000001,1.0],\"gridcolor\":\"#E1E5ED\",\"showgrid\":false,\"tickfont\":{\"color\":\"#4D5663\"},\"title\":{\"font\":{\"color\":\"#4D5663\"},\"text\":\"\"},\"zerolinecolor\":\"#E1E5ED\"},\"yaxis15\":{\"anchor\":\"x15\",\"domain\":[0.428,0.572],\"gridcolor\":\"#E1E5ED\",\"showgrid\":false,\"tickfont\":{\"color\":\"#4D5663\"},\"title\":{\"font\":{\"color\":\"#4D5663\"},\"text\":\"\"},\"zerolinecolor\":\"#E1E5ED\"},\"xaxis16\":{\"anchor\":\"y16\",\"domain\":[0.0,0.16],\"gridcolor\":\"#E1E5ED\",\"showgrid\":false,\"tickfont\":{\"color\":\"#4D5663\"},\"title\":{\"font\":{\"color\":\"#4D5663\"},\"text\":\"\"},\"zerolinecolor\":\"#E1E5ED\"},\"yaxis16\":{\"anchor\":\"x16\",\"domain\":[0.214,0.358],\"gridcolor\":\"#E1E5ED\",\"showgrid\":false,\"tickfont\":{\"color\":\"#4D5663\"},\"title\":{\"font\":{\"color\":\"#4D5663\"},\"text\":\"\"},\"zerolinecolor\":\"#E1E5ED\"},\"xaxis17\":{\"anchor\":\"y17\",\"domain\":[0.21000000000000002,0.37],\"gridcolor\":\"#E1E5ED\",\"showgrid\":false,\"tickfont\":{\"color\":\"#4D5663\"},\"title\":{\"font\":{\"color\":\"#4D5663\"},\"text\":\"\"},\"zerolinecolor\":\"#E1E5ED\"},\"yaxis17\":{\"anchor\":\"x17\",\"domain\":[0.214,0.358],\"gridcolor\":\"#E1E5ED\",\"showgrid\":false,\"tickfont\":{\"color\":\"#4D5663\"},\"title\":{\"font\":{\"color\":\"#4D5663\"},\"text\":\"\"},\"zerolinecolor\":\"#E1E5ED\"},\"xaxis18\":{\"anchor\":\"y18\",\"domain\":[0.42000000000000004,0.5800000000000001],\"gridcolor\":\"#E1E5ED\",\"showgrid\":false,\"tickfont\":{\"color\":\"#4D5663\"},\"title\":{\"font\":{\"color\":\"#4D5663\"},\"text\":\"\"},\"zerolinecolor\":\"#E1E5ED\"},\"yaxis18\":{\"anchor\":\"x18\",\"domain\":[0.214,0.358],\"gridcolor\":\"#E1E5ED\",\"showgrid\":false,\"tickfont\":{\"color\":\"#4D5663\"},\"title\":{\"font\":{\"color\":\"#4D5663\"},\"text\":\"\"},\"zerolinecolor\":\"#E1E5ED\"},\"xaxis19\":{\"anchor\":\"y19\",\"domain\":[0.63,0.79],\"gridcolor\":\"#E1E5ED\",\"showgrid\":false,\"tickfont\":{\"color\":\"#4D5663\"},\"title\":{\"font\":{\"color\":\"#4D5663\"},\"text\":\"\"},\"zerolinecolor\":\"#E1E5ED\"},\"yaxis19\":{\"anchor\":\"x19\",\"domain\":[0.214,0.358],\"gridcolor\":\"#E1E5ED\",\"showgrid\":false,\"tickfont\":{\"color\":\"#4D5663\"},\"title\":{\"font\":{\"color\":\"#4D5663\"},\"text\":\"\"},\"zerolinecolor\":\"#E1E5ED\"},\"xaxis20\":{\"anchor\":\"y20\",\"domain\":[0.8400000000000001,1.0],\"gridcolor\":\"#E1E5ED\",\"showgrid\":false,\"tickfont\":{\"color\":\"#4D5663\"},\"title\":{\"font\":{\"color\":\"#4D5663\"},\"text\":\"\"},\"zerolinecolor\":\"#E1E5ED\"},\"yaxis20\":{\"anchor\":\"x20\",\"domain\":[0.214,0.358],\"gridcolor\":\"#E1E5ED\",\"showgrid\":false,\"tickfont\":{\"color\":\"#4D5663\"},\"title\":{\"font\":{\"color\":\"#4D5663\"},\"text\":\"\"},\"zerolinecolor\":\"#E1E5ED\"},\"xaxis21\":{\"anchor\":\"y21\",\"domain\":[0.0,0.16],\"gridcolor\":\"#E1E5ED\",\"showgrid\":false,\"tickfont\":{\"color\":\"#4D5663\"},\"title\":{\"font\":{\"color\":\"#4D5663\"},\"text\":\"\"},\"zerolinecolor\":\"#E1E5ED\"},\"yaxis21\":{\"anchor\":\"x21\",\"domain\":[0.0,0.144],\"gridcolor\":\"#E1E5ED\",\"showgrid\":false,\"tickfont\":{\"color\":\"#4D5663\"},\"title\":{\"font\":{\"color\":\"#4D5663\"},\"text\":\"\"},\"zerolinecolor\":\"#E1E5ED\"},\"xaxis22\":{\"anchor\":\"y22\",\"domain\":[0.21000000000000002,0.37],\"gridcolor\":\"#E1E5ED\",\"showgrid\":false,\"tickfont\":{\"color\":\"#4D5663\"},\"title\":{\"font\":{\"color\":\"#4D5663\"},\"text\":\"\"},\"zerolinecolor\":\"#E1E5ED\"},\"yaxis22\":{\"anchor\":\"x22\",\"domain\":[0.0,0.144],\"gridcolor\":\"#E1E5ED\",\"showgrid\":false,\"tickfont\":{\"color\":\"#4D5663\"},\"title\":{\"font\":{\"color\":\"#4D5663\"},\"text\":\"\"},\"zerolinecolor\":\"#E1E5ED\"},\"xaxis23\":{\"anchor\":\"y23\",\"domain\":[0.42000000000000004,0.5800000000000001],\"gridcolor\":\"#E1E5ED\",\"showgrid\":false,\"tickfont\":{\"color\":\"#4D5663\"},\"title\":{\"font\":{\"color\":\"#4D5663\"},\"text\":\"\"},\"zerolinecolor\":\"#E1E5ED\"},\"yaxis23\":{\"anchor\":\"x23\",\"domain\":[0.0,0.144],\"gridcolor\":\"#E1E5ED\",\"showgrid\":false,\"tickfont\":{\"color\":\"#4D5663\"},\"title\":{\"font\":{\"color\":\"#4D5663\"},\"text\":\"\"},\"zerolinecolor\":\"#E1E5ED\"},\"xaxis24\":{\"anchor\":\"y24\",\"domain\":[0.63,0.79],\"gridcolor\":\"#E1E5ED\",\"showgrid\":false,\"tickfont\":{\"color\":\"#4D5663\"},\"title\":{\"font\":{\"color\":\"#4D5663\"},\"text\":\"\"},\"zerolinecolor\":\"#E1E5ED\"},\"yaxis24\":{\"anchor\":\"x24\",\"domain\":[0.0,0.144],\"gridcolor\":\"#E1E5ED\",\"showgrid\":false,\"tickfont\":{\"color\":\"#4D5663\"},\"title\":{\"font\":{\"color\":\"#4D5663\"},\"text\":\"\"},\"zerolinecolor\":\"#E1E5ED\"},\"xaxis25\":{\"anchor\":\"y25\",\"domain\":[0.8400000000000001,1.0],\"gridcolor\":\"#E1E5ED\",\"showgrid\":false,\"tickfont\":{\"color\":\"#4D5663\"},\"title\":{\"font\":{\"color\":\"#4D5663\"},\"text\":\"\"},\"zerolinecolor\":\"#E1E5ED\"},\"yaxis25\":{\"anchor\":\"x25\",\"domain\":[0.0,0.144],\"gridcolor\":\"#E1E5ED\",\"showgrid\":false,\"tickfont\":{\"color\":\"#4D5663\"},\"title\":{\"font\":{\"color\":\"#4D5663\"},\"text\":\"\"},\"zerolinecolor\":\"#E1E5ED\"}},                        {\"showLink\": true, \"linkText\": \"Export to plot.ly\", \"plotlyServerURL\": \"https://plot.ly\", \"responsive\": true}                    ).then(function(){\n",
       "                            \n",
       "var gd = document.getElementById('c563ee71-2f71-40ad-8062-b3b280533600');\n",
       "var x = new MutationObserver(function (mutations, observer) {{\n",
       "        var display = window.getComputedStyle(gd).display;\n",
       "        if (!display || display === 'none') {{\n",
       "            console.log([gd, 'removed!']);\n",
       "            Plotly.purge(gd);\n",
       "            observer.disconnect();\n",
       "        }}\n",
       "}});\n",
       "\n",
       "// Listen for the removal of the full notebook cells\n",
       "var notebookContainer = gd.closest('#notebook-container');\n",
       "if (notebookContainer) {{\n",
       "    x.observe(notebookContainer, {childList: true});\n",
       "}}\n",
       "\n",
       "// Listen for the clearing of the current output cell\n",
       "var outputEl = gd.closest('.output');\n",
       "if (outputEl) {{\n",
       "    x.observe(outputEl, {childList: true});\n",
       "}}\n",
       "\n",
       "                        })                };                });            </script>        </div>"
      ]
     },
     "metadata": {},
     "output_type": "display_data"
    }
   ],
   "source": [
    "df.scatter_matrix()"
   ]
  },
  {
   "cell_type": "code",
   "execution_count": null,
   "id": "cc7dbe1f-af32-4736-8ee8-c742363c37c3",
   "metadata": {},
   "outputs": [],
   "source": []
  }
 ],
 "metadata": {
  "kernelspec": {
   "display_name": "Python 3 (ipykernel)",
   "language": "python",
   "name": "python3"
  },
  "language_info": {
   "codemirror_mode": {
    "name": "ipython",
    "version": 3
   },
   "file_extension": ".py",
   "mimetype": "text/x-python",
   "name": "python",
   "nbconvert_exporter": "python",
   "pygments_lexer": "ipython3",
   "version": "3.12.4"
  }
 },
 "nbformat": 4,
 "nbformat_minor": 5
}
